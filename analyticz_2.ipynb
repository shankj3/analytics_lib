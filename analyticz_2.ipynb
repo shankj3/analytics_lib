{
 "cells": [
  {
   "cell_type": "code",
   "execution_count": 1,
   "metadata": {
    "collapsed": false
   },
   "outputs": [
    {
     "name": "stdout",
     "output_type": "stream",
     "text": [
      "Populating the interactive namespace from numpy and matplotlib\n"
     ]
    }
   ],
   "source": [
    "%pylab inline\n",
    "%load_ext autoreload"
   ]
  },
  {
   "cell_type": "code",
   "execution_count": 2,
   "metadata": {
    "collapsed": false
   },
   "outputs": [],
   "source": [
    "import pn_analyze"
   ]
  },
  {
   "cell_type": "code",
   "execution_count": 3,
   "metadata": {
    "collapsed": true
   },
   "outputs": [],
   "source": [
    "import cProfile"
   ]
  },
  {
   "cell_type": "code",
   "execution_count": 4,
   "metadata": {
    "collapsed": true
   },
   "outputs": [],
   "source": [
    "import os\n",
    "import time\n",
    "import socket\n",
    "import sqlite3\n",
    "import datetime\n",
    "\n",
    "from collections import OrderedDict,namedtuple\n",
    "\n",
    "import bokeh\n",
    "import matplotlib\n",
    "import pandas as pd\n",
    "import matplotlib.pyplot as plt\n",
    "\n",
    "from sqlalchemy import create_engine\n",
    "\n",
    "from bokeh.plotting import figure, output_notebook, show\n",
    "matplotlib.style.use('ggplot')"
   ]
  },
  {
   "cell_type": "code",
   "execution_count": 5,
   "metadata": {
    "collapsed": true
   },
   "outputs": [],
   "source": [
    "import pn_analyze, _data, _graphs"
   ]
  },
  {
   "cell_type": "code",
   "execution_count": 6,
   "metadata": {
    "collapsed": true
   },
   "outputs": [],
   "source": [
    "from bokeh.plotting import figure, show\n",
    "from bokeh.io import output_notebook\n",
    "from bokeh.charts import Bar, output_file, show\n",
    "import bokeh.charts as chart"
   ]
  },
  {
   "cell_type": "code",
   "execution_count": 7,
   "metadata": {
    "collapsed": true
   },
   "outputs": [],
   "source": [
    "DB_FILE_LOCATION='/home/jshank/ext/code/pynet_database.db'\n",
    "now = datetime.datetime.now()\n",
    "REGEX_PATTERN_GCI =  r'[A-Z]\\w{5,7}'\n",
    "TIMESTAMP_PARSE_DICT = {'case_timestamp': '%Y-%m-%dT%H:%M:%S.%fZ'}\n"
   ]
  },
  {
   "cell_type": "code",
   "execution_count": 8,
   "metadata": {
    "collapsed": false,
    "scrolled": true
   },
   "outputs": [
    {
     "data": {
      "text/html": [
       "\n",
       "    <div class=\"bk-root\">\n",
       "        <a href=\"http://bokeh.pydata.org\" target=\"_blank\" class=\"bk-logo bk-logo-small bk-logo-notebook\"></a>\n",
       "        <span id=\"46e3dc3f-4350-4c91-ab25-4d86a915ce9e\">Loading BokehJS ...</span>\n",
       "    </div>"
      ]
     },
     "metadata": {},
     "output_type": "display_data"
    },
    {
     "data": {
      "application/javascript": [
       "\n",
       "(function(global) {\n",
       "  function now() {\n",
       "    return new Date();\n",
       "  }\n",
       "\n",
       "  var force = \"1\";\n",
       "\n",
       "  if (typeof (window._bokeh_onload_callbacks) === \"undefined\" || force !== \"\") {\n",
       "    window._bokeh_onload_callbacks = [];\n",
       "    window._bokeh_is_loading = undefined;\n",
       "  }\n",
       "\n",
       "\n",
       "  \n",
       "  if (typeof (window._bokeh_timeout) === \"undefined\" || force !== \"\") {\n",
       "    window._bokeh_timeout = Date.now() + 5000;\n",
       "    window._bokeh_failed_load = false;\n",
       "  }\n",
       "\n",
       "  var NB_LOAD_WARNING = {'data': {'text/html':\n",
       "     \"<div style='background-color: #fdd'>\\n\"+\n",
       "     \"<p>\\n\"+\n",
       "     \"BokehJS does not appear to have successfully loaded. If loading BokehJS from CDN, this \\n\"+\n",
       "     \"may be due to a slow or bad network connection. Possible fixes:\\n\"+\n",
       "     \"</p>\\n\"+\n",
       "     \"<ul>\\n\"+\n",
       "     \"<li>re-rerun `output_notebook()` to attempt to load from CDN again, or</li>\\n\"+\n",
       "     \"<li>use INLINE resources instead, as so:</li>\\n\"+\n",
       "     \"</ul>\\n\"+\n",
       "     \"<code>\\n\"+\n",
       "     \"from bokeh.resources import INLINE\\n\"+\n",
       "     \"output_notebook(resources=INLINE)\\n\"+\n",
       "     \"</code>\\n\"+\n",
       "     \"</div>\"}};\n",
       "\n",
       "  function display_loaded() {\n",
       "    if (window.Bokeh !== undefined) {\n",
       "      Bokeh.$(\"#46e3dc3f-4350-4c91-ab25-4d86a915ce9e\").text(\"BokehJS successfully loaded.\");\n",
       "    } else if (Date.now() < window._bokeh_timeout) {\n",
       "      setTimeout(display_loaded, 100)\n",
       "    }\n",
       "  }\n",
       "\n",
       "  function run_callbacks() {\n",
       "    window._bokeh_onload_callbacks.forEach(function(callback) { callback() });\n",
       "    delete window._bokeh_onload_callbacks\n",
       "    console.info(\"Bokeh: all callbacks have finished\");\n",
       "  }\n",
       "\n",
       "  function load_libs(js_urls, callback) {\n",
       "    window._bokeh_onload_callbacks.push(callback);\n",
       "    if (window._bokeh_is_loading > 0) {\n",
       "      console.log(\"Bokeh: BokehJS is being loaded, scheduling callback at\", now());\n",
       "      return null;\n",
       "    }\n",
       "    if (js_urls == null || js_urls.length === 0) {\n",
       "      run_callbacks();\n",
       "      return null;\n",
       "    }\n",
       "    console.log(\"Bokeh: BokehJS not loaded, scheduling load and callback at\", now());\n",
       "    window._bokeh_is_loading = js_urls.length;\n",
       "    for (var i = 0; i < js_urls.length; i++) {\n",
       "      var url = js_urls[i];\n",
       "      var s = document.createElement('script');\n",
       "      s.src = url;\n",
       "      s.async = false;\n",
       "      s.onreadystatechange = s.onload = function() {\n",
       "        window._bokeh_is_loading--;\n",
       "        if (window._bokeh_is_loading === 0) {\n",
       "          console.log(\"Bokeh: all BokehJS libraries loaded\");\n",
       "          run_callbacks()\n",
       "        }\n",
       "      };\n",
       "      s.onerror = function() {\n",
       "        console.warn(\"failed to load library \" + url);\n",
       "      };\n",
       "      console.log(\"Bokeh: injecting script tag for BokehJS library: \", url);\n",
       "      document.getElementsByTagName(\"head\")[0].appendChild(s);\n",
       "    }\n",
       "  };var element = document.getElementById(\"46e3dc3f-4350-4c91-ab25-4d86a915ce9e\");\n",
       "  if (element == null) {\n",
       "    console.log(\"Bokeh: ERROR: autoload.js configured with elementid '46e3dc3f-4350-4c91-ab25-4d86a915ce9e' but no matching script tag was found. \")\n",
       "    return false;\n",
       "  }\n",
       "\n",
       "  var js_urls = ['https://cdn.pydata.org/bokeh/release/bokeh-0.12.3.min.js', 'https://cdn.pydata.org/bokeh/release/bokeh-widgets-0.12.3.min.js'];\n",
       "\n",
       "  var inline_js = [\n",
       "    function(Bokeh) {\n",
       "      Bokeh.set_log_level(\"info\");\n",
       "    },\n",
       "    \n",
       "    function(Bokeh) {\n",
       "      \n",
       "      Bokeh.$(\"#46e3dc3f-4350-4c91-ab25-4d86a915ce9e\").text(\"BokehJS is loading...\");\n",
       "    },\n",
       "    function(Bokeh) {\n",
       "      console.log(\"Bokeh: injecting CSS: https://cdn.pydata.org/bokeh/release/bokeh-0.12.3.min.css\");\n",
       "      Bokeh.embed.inject_css(\"https://cdn.pydata.org/bokeh/release/bokeh-0.12.3.min.css\");\n",
       "      console.log(\"Bokeh: injecting CSS: https://cdn.pydata.org/bokeh/release/bokeh-widgets-0.12.3.min.css\");\n",
       "      Bokeh.embed.inject_css(\"https://cdn.pydata.org/bokeh/release/bokeh-widgets-0.12.3.min.css\");\n",
       "    }\n",
       "  ];\n",
       "\n",
       "  function run_inline_js() {\n",
       "    \n",
       "    if ((window.Bokeh !== undefined) || (force === \"1\")) {\n",
       "      for (var i = 0; i < inline_js.length; i++) {\n",
       "        inline_js[i](window.Bokeh);\n",
       "      }if (force === \"1\") {\n",
       "        display_loaded();\n",
       "      }} else if (Date.now() < window._bokeh_timeout) {\n",
       "      setTimeout(run_inline_js, 100);\n",
       "    } else if (!window._bokeh_failed_load) {\n",
       "      console.log(\"Bokeh: BokehJS failed to load within specified timeout.\");\n",
       "      window._bokeh_failed_load = true;\n",
       "    } else if (!force) {\n",
       "      var cell = $(\"#46e3dc3f-4350-4c91-ab25-4d86a915ce9e\").parents('.cell').data().cell;\n",
       "      cell.output_area.append_execute_result(NB_LOAD_WARNING)\n",
       "    }\n",
       "\n",
       "  }\n",
       "\n",
       "  if (window._bokeh_is_loading === 0) {\n",
       "    console.log(\"Bokeh: BokehJS loaded, going straight to plotting\");\n",
       "    run_inline_js();\n",
       "  } else {\n",
       "    load_libs(js_urls, function() {\n",
       "      console.log(\"Bokeh: BokehJS plotting callback run at\", now());\n",
       "      run_inline_js();\n",
       "    });\n",
       "  }\n",
       "}(this));"
      ]
     },
     "metadata": {},
     "output_type": "display_data"
    }
   ],
   "source": [
    "output_notebook()"
   ]
  },
  {
   "cell_type": "code",
   "execution_count": 9,
   "metadata": {
    "collapsed": false
   },
   "outputs": [],
   "source": [
    "disk_engine = create_engine('sqlite:///%s' % DB_FILE_LOCATION)\n",
    "def loadup_func(disk_engine):\n",
    "    metrics = pn_analyze.TestResult(disk_engine, wait_interval=50, writing_to_csv=False)\n",
    "    metrics.strict_startup()\n",
    "    return metrics"
   ]
  },
  {
   "cell_type": "code",
   "execution_count": null,
   "metadata": {
    "collapsed": false,
    "scrolled": false
   },
   "outputs": [],
   "source": [
    "b = time.time()\n",
    "metrics = loadup_func(disk_engine)\n",
    "print(time.time() - b)"
   ]
  },
  {
   "cell_type": "code",
   "execution_count": null,
   "metadata": {
    "collapsed": true
   },
   "outputs": [],
   "source": [
    "latest = dis_year[dis_year.group_uuid.isin([_data.return_guuid_latest(dis_year)])]"
   ]
  },
  {
   "cell_type": "code",
   "execution_count": null,
   "metadata": {
    "collapsed": false
   },
   "outputs": [],
   "source": [
    "len(metrics.df[metrics.df.group_uuid == '16d5322813624f8e8449ef803b69bbab'].case_id.unique())"
   ]
  },
  {
   "cell_type": "code",
   "execution_count": null,
   "metadata": {
    "collapsed": false
   },
   "outputs": [],
   "source": [
    "len(metrics.df[metrics.df.group_uuid == 'fe0d174bb5544e669141a048c6e7e164'])"
   ]
  },
  {
   "cell_type": "code",
   "execution_count": null,
   "metadata": {
    "collapsed": false
   },
   "outputs": [],
   "source": [
    "latest[_data.return_in_norm_df(latest, 'case_duration', 2)]"
   ]
  },
  {
   "cell_type": "code",
   "execution_count": null,
   "metadata": {
    "collapsed": true
   },
   "outputs": [],
   "source": [
    "met"
   ]
  },
  {
   "cell_type": "code",
   "execution_count": null,
   "metadata": {
    "collapsed": false
   },
   "outputs": [],
   "source": [
    "fig, ax = plt.subplots(figsize=(20,5))\n",
    "metrics.df[metrics.this_month].case_action.value_counts().plot(kind='bar', ax=ax, color='gray')\n",
    "ax.set_title('Coverage by Endpoint')"
   ]
  },
  {
   "cell_type": "code",
   "execution_count": null,
   "metadata": {
    "collapsed": true
   },
   "outputs": [],
   "source": [
    "from bokeh.charts import Histogram, output_file, show\n",
    "from bokeh.sampledata.autompg import autompg as df\n",
    "import bokeh.plotting as bk\n",
    "\n",
    "hist = Histogram(df, values='hp', color='cyl',\n",
    "                 title=\"HP Distribution by Cylinder Count\", legend='top_right')\n"
   ]
  },
  {
   "cell_type": "code",
   "execution_count": null,
   "metadata": {
    "collapsed": true
   },
   "outputs": [],
   "source": []
  },
  {
   "cell_type": "code",
   "execution_count": null,
   "metadata": {
    "collapsed": false
   },
   "outputs": [],
   "source": [
    "h = chart.Histogram(latest.case_action.map(hist_map), bins = 2*len(hist_map))\n",
    "h.xaxis[0].formatter = FixedTickFormatter(labels=inv_map)\n",
    "show(h)\n"
   ]
  },
  {
   "cell_type": "code",
   "execution_count": null,
   "metadata": {
    "collapsed": true
   },
   "outputs": [],
   "source": [
    "\n",
    "pf_metrics = metrics.df[(metrics.df.numeric_status !=3) & metrics.this_month]\n"
   ]
  },
  {
   "cell_type": "code",
   "execution_count": null,
   "metadata": {
    "collapsed": false
   },
   "outputs": [],
   "source": [
    "caseidgroup = pf_metrics.groupby('case_id')\n",
    "ssorted = caseidgroup.numeric_status.mean()\n",
    "ssorted.sort_values()[:10]\n"
   ]
  },
  {
   "cell_type": "code",
   "execution_count": null,
   "metadata": {
    "collapsed": true
   },
   "outputs": [],
   "source": [
    "def highest_failures_by_groupby_count(groupby_df, count):\n",
    "    mean_status = groupby_df.numeric_status.mean()\n",
    "    worst = mean_status.sort_values()[:count]\n",
    "    return worst\n",
    "\n",
    "def highest_failures_by_groupby_stdev(groupby_df, sigma=0):\n",
    "    vals = groupby_df.numeric_status.mean()\n",
    "    normed_vals = vals[~_data.return_in_norm_series(vals, sigma)]\n",
    "    not_pass_fail_100 = normed_vals[(normed_vals <= 0.95) & (normed_vals != 0)]\n",
    "    print(type(not_pass_fail_100))\n",
    "    return not_pass_fail_100"
   ]
  },
  {
   "cell_type": "code",
   "execution_count": null,
   "metadata": {
    "collapsed": true
   },
   "outputs": [],
   "source": [
    "def bar_plot_w_numeric_status(groupby_df, sigma=0):\n",
    "    fig, ax = plt.subplots(figsize=(20,10))\n",
    "    not_pass_fail_100 = highest_failures_by_groupby_stdev(groupby_df, sigma)\n",
    "    ax.bar(np.arange(len(not_pass_fail_100)), not_pass_fail_100)\n",
    "    ax.set_xticks(np.arange(len(not_pass_fail_100))+0.5)\n",
    "    ax.set_xticklabels(not_pass_fail_100.keys(), rotation=80)\n",
    "    return fig, ax, not_pass_fail_100.keys()"
   ]
  },
  {
   "cell_type": "code",
   "execution_count": null,
   "metadata": {
    "collapsed": false
   },
   "outputs": [],
   "source": [
    "fig, ax, list_keys = bar_plot_w_numeric_status(pf_metrics.groupby('case_id'), 1.8)\n",
    "ax.set_title('Highest % of Failures by Test ID')\n"
   ]
  },
  {
   "cell_type": "code",
   "execution_count": null,
   "metadata": {
    "collapsed": true
   },
   "outputs": [],
   "source": [
    "hardy = pf_metrics[(pf_metrics.numeric_status == 0) | (pf_metrics.numeric_status == 1)].groupby('case_id').numeric_status.mean()"
   ]
  },
  {
   "cell_type": "code",
   "execution_count": null,
   "metadata": {
    "collapsed": true
   },
   "outputs": [],
   "source": [
    "p = Bar(highest_failures_by_groupby_count(metrics.df.groupby('case_id'), 20), plot_width=800, plot_height=500, legend=None, \n",
    "        title='Lowest 20 Passing Rate Case Ids for Current Month', ylabel='Pass Rate')"
   ]
  },
  {
   "cell_type": "code",
   "execution_count": null,
   "metadata": {
    "collapsed": false
   },
   "outputs": [],
   "source": [
    "p = Bar(highest_failures_by_groupby_stdev(pf_metrics.groupby('case_id'), 1.5))\n",
    "show(p)"
   ]
  },
  {
   "cell_type": "code",
   "execution_count": null,
   "metadata": {
    "collapsed": false
   },
   "outputs": [],
   "source": [
    "len(metrics.df.case_description.unique())"
   ]
  },
  {
   "cell_type": "code",
   "execution_count": null,
   "metadata": {
    "collapsed": true
   },
   "outputs": [],
   "source": [
    "boop = highest_failures_by_groupby(pf_metrics.groupby('case_id'), 1.5)\n"
   ]
  },
  {
   "cell_type": "code",
   "execution_count": null,
   "metadata": {
    "collapsed": true
   },
   "outputs": [],
   "source": [
    "\n",
    "aggregation = {\n",
    "    'case_duration' : {\n",
    "        'mean_duration': 'mean',\n",
    "        'std_dev': 'std'\n",
    "    }\n",
    "}\n",
    "groupby_id = metrics.df.groupby('case_id')\n",
    "mean_duration_df = groupby_id.agg(aggregation).dropna()\n",
    "max_duration= mean_duration_df[(mean_duration_df.case_duration.mean_duration == \n",
    "                                                   mean_duration_df.case_duration.mean_duration.max())]\n",
    "max_duration_over_time = _data.return_specific_case_over_time(metrics.df, max_duration.index.values[0])"
   ]
  },
  {
   "cell_type": "code",
   "execution_count": null,
   "metadata": {
    "collapsed": false
   },
   "outputs": [],
   "source": [
    "max_duration_over_time.head()"
   ]
  },
  {
   "cell_type": "code",
   "execution_count": null,
   "metadata": {
    "collapsed": true
   },
   "outputs": [],
   "source": [
    "def plot(df, fig, ax):\n",
    "    if df.case_client_ip.unique() == 1:\n",
    "        case_client_ip = df.case_client_ip.unique()[0]\n",
    "        try:\n",
    "            hostname = get_hostname(case_client_ip)\n",
    "        except:\n",
    "            hostname = case_client_ip\n",
    "    else:\n",
    "        hostname = None\n",
    "    df.plot('date_int', 'case_duration', kind='scatter', ax=ax, color=np.random.rand(3,1), label=hostname)\n",
    "#     xtick_range = (over_time.dropna().date_int.max() - over_time.dropna().date_int.min()) / 10\n",
    "#     current_xticks = [a.get_text() for a in ax.get_xticklabels()]\n",
    "    d = list(map(lambda x: pd.to_datetime(x).strftime('%m-%d-%Y'), ax.get_xticks()))\n",
    "    ax.set_xticklabels(d, rotation=70)\n",
    "    ax.set_title('.'.join(df.case_id.unique()))"
   ]
  },
  {
   "cell_type": "code",
   "execution_count": null,
   "metadata": {
    "collapsed": false
   },
   "outputs": [],
   "source": [
    "fig, ax = plt.subplots(figsize=(20,10))\n",
    "plot(_data.return_longest_case_over_time(metrics.df[(metrics.df.case_endpoint.str.contains('localhost')) & \n",
    "                                            (metrics.df.case_client_ip == '10.1.178.183') & (metrics.df.passed == 1)],\n",
    "                                   aggregation), fig, ax)\n"
   ]
  },
  {
   "cell_type": "code",
   "execution_count": null,
   "metadata": {
    "collapsed": true
   },
   "outputs": [],
   "source": [
    "a = _data.return_longest_case_over_time(metrics.df[metrics.df.case_endpoint.str.contains('qacombo016')], aggregation)\n",
    "b = _data.return_in_norm_df(a, 'case_duration', 1)\n",
    "len(a[b])\n",
    "a = cm.get_cmap('nipy_spectral')"
   ]
  },
  {
   "cell_type": "code",
   "execution_count": null,
   "metadata": {
    "collapsed": false
   },
   "outputs": [],
   "source": [
    "fig, ax = plt.subplots(figsize=(20,10))\n",
    "t = 0\n",
    "for ip in metrics.df.case_client_ip.unique():\n",
    "    if ip:\n",
    "#         print(ip)\n",
    "        plot(_data.return_longest_case_over_time(metrics.df[(metrics.df.case_endpoint.str.contains('localhost')) & \n",
    "                                                    (metrics.df.case_client_ip == ip) & (metrics.df.passed == 1)], aggregation), fig, ax)\n",
    "        t+=1\n"
   ]
  },
  {
   "cell_type": "code",
   "execution_count": null,
   "metadata": {
    "collapsed": false
   },
   "outputs": [],
   "source": [
    "plt.scatter(metrics.df.date_int, metrics.df.case_duration, cmap='Blues', c=range(len(metrics.df.date_int)))"
   ]
  },
  {
   "cell_type": "code",
   "execution_count": null,
   "metadata": {
    "collapsed": true
   },
   "outputs": [],
   "source": [
    "def return_mean_duration_over_time(df):\n",
    "    mean_time_v_endpoint = df.groupby('case_endpoint')\n",
    "    mean_v_endpoint = mean_duration_v_case_endpoint.agg(aggregation)\n"
   ]
  },
  {
   "cell_type": "code",
   "execution_count": null,
   "metadata": {
    "collapsed": true
   },
   "outputs": [],
   "source": [
    "mean_time_v_endpoint = metrics.df.groupby('case_endpoint')\n",
    "mean_v_endpoint = mean_time_v_endpoint.agg(aggregation)\n",
    "mean_v_endpoint['ticks'] = pd.Series(range(len(mean_v_endpoint.index.values)), index=mean_v_endpoint.index)\n"
   ]
  },
  {
   "cell_type": "code",
   "execution_count": null,
   "metadata": {
    "collapsed": false
   },
   "outputs": [],
   "source": [
    "fig, ax = plt.subplots(figsize=(20,10))\n",
    "plt.scatter(range(len(mean_v_endpoint.index.values)), mean_v_endpoint.case_duration.mean_duration)\n",
    "ax.set_xticks(_graphs.create_uniform_tcks(mean_v_endpoint.index.values))\n",
    "ax.set_xticklabels(mean_v_endpoint.index.values, rotation = 70)\n"
   ]
  },
  {
   "cell_type": "code",
   "execution_count": null,
   "metadata": {
    "collapsed": false
   },
   "outputs": [],
   "source": [
    "(len(metrics.df) - len(metrics.df[metrics.df.case_timestamp.isnull()])) / len(metrics.df)"
   ]
  },
  {
   "cell_type": "code",
   "execution_count": null,
   "metadata": {
    "collapsed": true
   },
   "outputs": [],
   "source": [
    "count_agg = {\n",
    "    'scenario_uuid' : {\n",
    "        'count': 'count'\n",
    "    }\n",
    "}\n"
   ]
  },
  {
   "cell_type": "code",
   "execution_count": null,
   "metadata": {
    "collapsed": true
   },
   "outputs": [],
   "source": [
    "def _get_case_count_by_service(df):\n",
    "    service_names = df.case_service_name.unique()\n",
    "    count_frame = df.groupby(['case_service_name', 'group_uuid']).agg({'scenario_uuid' : {'count': 'count'}})\n",
    "    service_v_count = {}\n",
    "    for service in service_names:\n",
    "        serv_frame = count_frame.loc[service]\n",
    "        max_scenario_uuid = serv_frame.scenario_uuid.max()\n",
    "        largest_guiid = serv_frame.scenario_uuid[serv_frame.scenario_uuid == max_scenario_uuid].dropna().index.values\n",
    "        largest_run = df[df.group_uuid ==  largest_guiid[0]]\n",
    "        full_name = largest_run.case_service_name.str.cat(largest_run.case_id, sep='_')\n",
    "        case_count = len(full_name.unique())\n",
    "        service_v_count[service] = case_count\n",
    "    return service_v_count"
   ]
  },
  {
   "cell_type": "code",
   "execution_count": null,
   "metadata": {
    "collapsed": true
   },
   "outputs": [],
   "source": [
    "def get_case_list_by_group(config):\n",
    "#     Identity = namedtuple('Identity', ['service', 'id'])\n",
    "    groups = config.get('groups')\n",
    "    full_case_lists = {}\n",
    "    for group_name, group in groups.items():\n",
    "        cases = group['cases']\n",
    "        if group.get('dependencies'):\n",
    "            for dep in group.get('dependencies'):\n",
    "                dependencies_tests = groups.get(dep).get('cases')\n",
    "                cases +=  dependencies_tests\n",
    "        full_case_lists[group_name] = cases\n",
    "    return full_case_lists"
   ]
  },
  {
   "cell_type": "code",
   "execution_count": null,
   "metadata": {
    "collapsed": false
   },
   "outputs": [],
   "source": [
    "import json\n",
    "with open('config.json', 'rb') as in_file:\n",
    "    config = json.loads(in_file.read().decode())"
   ]
  },
  {
   "cell_type": "code",
   "execution_count": null,
   "metadata": {
    "collapsed": false
   },
   "outputs": [],
   "source": [
    "_get_case_count_by_service(metrics.df)"
   ]
  },
  {
   "cell_type": "code",
   "execution_count": null,
   "metadata": {
    "collapsed": true
   },
   "outputs": [],
   "source": [
    "count_frame = metrics.df.groupby(['case_service_name', 'group_uuid']).agg(count_agg)"
   ]
  },
  {
   "cell_type": "code",
   "execution_count": null,
   "metadata": {
    "collapsed": true
   },
   "outputs": [],
   "source": [
    "bolt = count_frame.loc['BOLTServicesBranch']"
   ]
  },
  {
   "cell_type": "code",
   "execution_count": null,
   "metadata": {
    "collapsed": true
   },
   "outputs": [],
   "source": [
    "biggest_guiid = bolt.scenario_uuid[bolt.scenario_uuid == bolt.scenario_uuid.max()].dropna().index[0]"
   ]
  },
  {
   "cell_type": "code",
   "execution_count": null,
   "metadata": {
    "collapsed": false
   },
   "outputs": [],
   "source": [
    "metrics.df[metrics.df.group_uuid == biggest_guiid].case_id.unique()"
   ]
  },
  {
   "cell_type": "code",
   "execution_count": null,
   "metadata": {
    "collapsed": false
   },
   "outputs": [],
   "source": [
    "count_frame.loc['BOLTServicesBranch'].scenario_uuid.describe().max().values"
   ]
  },
  {
   "cell_type": "code",
   "execution_count": null,
   "metadata": {
    "collapsed": false
   },
   "outputs": [],
   "source": [
    "count_frame.loc['BOLTServicesBranch'].scenario_uuid.max()"
   ]
  },
  {
   "cell_type": "code",
   "execution_count": null,
   "metadata": {
    "collapsed": false
   },
   "outputs": [],
   "source": [
    "count_frame.loc['BOLTServicesBranch'].scenario_uuid[count_frame.loc['BOLTServicesBranch'].scenario_uuid ==6276].dropna().index.values"
   ]
  },
  {
   "cell_type": "code",
   "execution_count": null,
   "metadata": {
    "collapsed": true
   },
   "outputs": [],
   "source": []
  },
  {
   "cell_type": "code",
   "execution_count": 18,
   "metadata": {
    "collapsed": false
   },
   "outputs": [
    {
     "name": "stdout",
     "output_type": "stream",
     "text": [
      "IN I < 5\n",
      "IN I < 5\n",
      "IN I < 5\n",
      "IN I < 5\n",
      "IN I < 5\n",
      "i > 5\n",
      "i > 5\n",
      "i > 5\n",
      "i > 5\n",
      "i > 5\n",
      "i > 5\n",
      "i > 5\n",
      "i > 5\n",
      "i > 5\n",
      "i > 5\n",
      "DUMPING TO CSV!!!!!!!ASLDKFJASL;KDJFLK;ASDJF\n"
     ]
    },
    {
     "name": "stderr",
     "output_type": "stream",
     "text": [
      "Exception in thread Thread-5:\n",
      "Traceback (most recent call last):\n",
      "  File \"/home/jshank/ext/code/venvz/anal/lib/python3.5/site-packages/pandas/indexes/base.py\", line 2104, in get_loc\n",
      "    return self._engine.get_loc(key)\n",
      "  File \"pandas/index.pyx\", line 139, in pandas.index.IndexEngine.get_loc (pandas/index.c:4160)\n",
      "  File \"pandas/index.pyx\", line 161, in pandas.index.IndexEngine.get_loc (pandas/index.c:4024)\n",
      "  File \"pandas/src/hashtable_class_helper.pxi\", line 732, in pandas.hashtable.PyObjectHashTable.get_item (pandas/hashtable.c:13161)\n",
      "  File \"pandas/src/hashtable_class_helper.pxi\", line 740, in pandas.hashtable.PyObjectHashTable.get_item (pandas/hashtable.c:13115)\n",
      "KeyError: 'case_id'\n",
      "\n",
      "During handling of the above exception, another exception occurred:\n",
      "\n",
      "Traceback (most recent call last):\n",
      "  File \"/usr/local/lib/python3.5/threading.py\", line 914, in _bootstrap_inner\n",
      "    self.run()\n",
      "  File \"/usr/local/lib/python3.5/threading.py\", line 1180, in run\n",
      "    self.function(*self.args, **self.kwargs)\n",
      "  File \"/home/jshank/ext/code/expd_analytics/pn_analyze.py\", line 194, in data_dump\n",
      "    helper.direc_check(dump_path)\n",
      "  File \"/home/jshank/ext/code/expd_analytics/pn_analyze.py\", line 78, in dump_to_csv\n",
      "    if not kwargs:\n",
      "  File \"/home/jshank/ext/code/expd_analytics/_data.py\", line 200, in highest_failures_by_df_stdev\n",
      "    groupby_df = df.groupby(groupby_key)\n",
      "  File \"/home/jshank/ext/code/venvz/anal/lib/python3.5/site-packages/pandas/core/generic.py\", line 3974, in groupby\n",
      "    **kwargs)\n",
      "  File \"/home/jshank/ext/code/venvz/anal/lib/python3.5/site-packages/pandas/core/groupby.py\", line 1501, in groupby\n",
      "    return klass(obj, by, **kwds)\n",
      "  File \"/home/jshank/ext/code/venvz/anal/lib/python3.5/site-packages/pandas/core/groupby.py\", line 370, in __init__\n",
      "    mutated=self.mutated)\n",
      "  File \"/home/jshank/ext/code/venvz/anal/lib/python3.5/site-packages/pandas/core/groupby.py\", line 2473, in _get_grouper\n",
      "    in_axis, name, gpr = True, gpr, obj[gpr]\n",
      "  File \"/home/jshank/ext/code/venvz/anal/lib/python3.5/site-packages/pandas/core/frame.py\", line 2057, in __getitem__\n",
      "    return self._getitem_column(key)\n",
      "  File \"/home/jshank/ext/code/venvz/anal/lib/python3.5/site-packages/pandas/core/frame.py\", line 2064, in _getitem_column\n",
      "    return self._get_item_cache(key)\n",
      "  File \"/home/jshank/ext/code/venvz/anal/lib/python3.5/site-packages/pandas/core/generic.py\", line 1386, in _get_item_cache\n",
      "    values = self._data.get(item)\n",
      "  File \"/home/jshank/ext/code/venvz/anal/lib/python3.5/site-packages/pandas/core/internals.py\", line 3520, in get\n",
      "    loc = self.items.get_loc(item)\n",
      "  File \"/home/jshank/ext/code/venvz/anal/lib/python3.5/site-packages/pandas/indexes/base.py\", line 2106, in get_loc\n",
      "    return self._engine.get_loc(self._maybe_cast_indexer(key))\n",
      "  File \"pandas/index.pyx\", line 139, in pandas.index.IndexEngine.get_loc (pandas/index.c:4160)\n",
      "  File \"pandas/index.pyx\", line 161, in pandas.index.IndexEngine.get_loc (pandas/index.c:4024)\n",
      "  File \"pandas/src/hashtable_class_helper.pxi\", line 732, in pandas.hashtable.PyObjectHashTable.get_item (pandas/hashtable.c:13161)\n",
      "  File \"pandas/src/hashtable_class_helper.pxi\", line 740, in pandas.hashtable.PyObjectHashTable.get_item (pandas/hashtable.c:13115)\n",
      "KeyError: 'case_id'\n",
      "\n"
     ]
    }
   ],
   "source": [
    "i = 0\n",
    "while i < 25:\n",
    "    if i < 5:\n",
    "        i += 1\n",
    "        print('IN I < 5')\n",
    "        continue\n",
    "    print(\"i > 5\")\n",
    "    i += 2"
   ]
  },
  {
   "cell_type": "code",
   "execution_count": null,
   "metadata": {
    "collapsed": true
   },
   "outputs": [],
   "source": []
  }
 ],
 "metadata": {
  "kernelspec": {
   "display_name": "Python 3",
   "language": "python",
   "name": "python3"
  },
  "language_info": {
   "codemirror_mode": {
    "name": "ipython",
    "version": 3
   },
   "file_extension": ".py",
   "mimetype": "text/x-python",
   "name": "python",
   "nbconvert_exporter": "python",
   "pygments_lexer": "ipython3",
   "version": "3.5.1"
  }
 },
 "nbformat": 4,
 "nbformat_minor": 1
}
