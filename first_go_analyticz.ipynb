{
 "cells": [
  {
   "cell_type": "code",
   "execution_count": 1,
   "metadata": {
    "collapsed": false
   },
   "outputs": [],
   "source": [
    "%reload_ext autoreload\n",
    "%autoreload 2\n",
    "import pn_analyze, _data, _graphs"
   ]
  },
  {
   "cell_type": "code",
   "execution_count": 1,
   "metadata": {
    "collapsed": false
   },
   "outputs": [
    {
     "name": "stdout",
     "output_type": "stream",
     "text": [
      "Populating the interactive namespace from numpy and matplotlib\n"
     ]
    }
   ],
   "source": [
    "%pylab inline"
   ]
  },
  {
   "cell_type": "code",
   "execution_count": 4,
   "metadata": {
    "collapsed": false
   },
   "outputs": [
    {
     "ename": "ImportError",
     "evalue": "No module named 'sqlalchemy'",
     "traceback": [
      "\u001b[0;31m---------------------------------------------------------------------------\u001b[0m",
      "\u001b[0;31mImportError\u001b[0m                               Traceback (most recent call last)",
      "\u001b[0;32m<ipython-input-4-dc897c7e18cf>\u001b[0m in \u001b[0;36m<module>\u001b[0;34m()\u001b[0m\n\u001b[1;32m      5\u001b[0m \u001b[0;32mimport\u001b[0m \u001b[0mdatetime\u001b[0m\u001b[0;34m\u001b[0m\u001b[0m\n\u001b[1;32m      6\u001b[0m \u001b[0;32mimport\u001b[0m \u001b[0mmatplotlib\u001b[0m\u001b[0;34m.\u001b[0m\u001b[0mpyplot\u001b[0m \u001b[0;32mas\u001b[0m \u001b[0mplt\u001b[0m\u001b[0;34m\u001b[0m\u001b[0m\n\u001b[0;32m----> 7\u001b[0;31m \u001b[0;32mfrom\u001b[0m \u001b[0msqlalchemy\u001b[0m \u001b[0;32mimport\u001b[0m \u001b[0mcreate_engine\u001b[0m\u001b[0;34m\u001b[0m\u001b[0m\n\u001b[0m\u001b[1;32m      8\u001b[0m \u001b[0;32mfrom\u001b[0m \u001b[0mcollections\u001b[0m \u001b[0;32mimport\u001b[0m \u001b[0mOrderedDict\u001b[0m\u001b[0;34m\u001b[0m\u001b[0m\n\u001b[1;32m      9\u001b[0m \u001b[0;32mimport\u001b[0m \u001b[0mmatplotlib\u001b[0m\u001b[0;34m\u001b[0m\u001b[0m\n",
      "\u001b[0;31mImportError\u001b[0m: No module named 'sqlalchemy'"
     ],
     "output_type": "error"
    }
   ],
   "source": [
    "import matplotlib\n",
    "import pandas as pd\n",
    "import sqlite3\n",
    "import os, time\n",
    "import datetime\n",
    "import matplotlib.pyplot as plt\n",
    "from sqlalchemy import create_engine\n",
    "from collections import OrderedDict\n",
    "import matplotlib\n",
    "import bokeh\n",
    "import socket\n",
    "from bokeh.plotting import figure, output_notebook, show\n",
    "matplotlib.style.use('ggplot')\n",
    "# DB_FILE_LOCATION = os.path.join(os.path.dirname(os.path.dirname(os.getcwd())), 'pynet_database.db')\n",
    "DB_FILE_LOCATION = 'G:\\\\ext\\\\random_crap\\\\pynet_database.db'\n",
    "now = datetime.datetime.now()\n",
    "REGEX_PATTERN_GCI =  r'[A-Z]\\w{5,7}'\n",
    "TIMESTAMP_PARSE_DICT = {'case_timestamp': '%Y-%m-%dT%H:%M:%S.%fZ'}"
   ]
  },
  {
   "cell_type": "code",
   "execution_count": 5,
   "metadata": {
    "collapsed": false
   },
   "outputs": [],
   "source": [
    "from collections import namedtuple"
   ]
  },
  {
   "cell_type": "code",
   "execution_count": 6,
   "metadata": {
    "collapsed": true
   },
   "outputs": [],
   "source": [
    "from bokeh.plotting import figure, show\n",
    "from bokeh.io import output_notebook\n",
    "from bokeh.charts import Bar, output_file, show\n",
    "import bokeh.charts as chart"
   ]
  },
  {
   "cell_type": "code",
   "execution_count": 26,
   "metadata": {
    "collapsed": false
   },
   "outputs": [
    {
     "name": "stdout",
     "output_type": "stream",
     "text": [
      "/c/Windows/py\n"
     ]
    }
   ],
   "source": [
    "!which py"
   ]
  },
  {
   "cell_type": "code",
   "execution_count": 3,
   "metadata": {
    "collapsed": false
   },
   "outputs": [
    {
     "ename": "NameError",
     "evalue": "name 'output_notebook' is not defined",
     "traceback": [
      "\u001b[0;31m---------------------------------------------------------------------------\u001b[0m",
      "\u001b[0;31mNameError\u001b[0m                                 Traceback (most recent call last)",
      "\u001b[0;32m<ipython-input-3-c57c6fa8f51a>\u001b[0m in \u001b[0;36m<module>\u001b[0;34m()\u001b[0m\n\u001b[0;32m----> 1\u001b[0;31m \u001b[0moutput_notebook\u001b[0m\u001b[0;34m(\u001b[0m\u001b[0;34m)\u001b[0m\u001b[0;34m\u001b[0m\u001b[0m\n\u001b[0m",
      "\u001b[0;31mNameError\u001b[0m: name 'output_notebook' is not defined"
     ],
     "output_type": "error"
    }
   ],
   "source": [
    "output_notebook()"
   ]
  },
  {
   "cell_type": "code",
   "execution_count": 8,
   "metadata": {
    "collapsed": false
   },
   "outputs": [],
   "source": [
    "DB_FILE_LOCATION\n",
    "disk_engine = create_engine('sqlite:///%s' % DB_FILE_LOCATION)\n",
    "def loadup_func(disk_engine):\n",
    "    metrics = pn_analyze.TestResult(disk_engine)\n",
    "    metrics.strict_startup()\n",
    "    return metrics"
   ]
  },
  {
   "cell_type": "code",
   "execution_count": null,
   "metadata": {
    "collapsed": false
   },
   "outputs": [],
   "source": [
    "# uncomment on initialization of notebook\n",
    "metrics = loadup_func(disk_engine)\n",
    "metrics.this_year = _data.this_year(metrics.df, 'case_timestamp')\n",
    "metrics.this_month = _data.this_month(metrics.df, 'case_timestamp')\n",
    "metrics.today = _data.this_month(metrics.df, 'case_timestamp')"
   ]
  },
  {
   "cell_type": "code",
   "execution_count": 11,
   "metadata": {
    "collapsed": false
   },
   "outputs": [],
   "source": [
    "this_month = None"
   ]
  },
  {
   "cell_type": "code",
   "execution_count": 28,
   "metadata": {
    "collapsed": false
   },
   "outputs": [],
   "source": [
    "rng = pd.date_range('9/15/2016', periods=72, freq='H')"
   ]
  },
  {
   "cell_type": "code",
   "execution_count": 31,
   "metadata": {
    "collapsed": false
   },
   "outputs": [],
   "source": [
    "from pandas.tseries.offsets import BDay"
   ]
  },
  {
   "cell_type": "code",
   "execution_count": 16,
   "metadata": {
    "collapsed": false
   },
   "outputs": [
    {
     "data": {
      "text/html": [
       "<div>\n",
       "<table border=\"1\" class=\"dataframe\">\n",
       "  <thead>\n",
       "    <tr style=\"text-align: right;\">\n",
       "      <th></th>\n",
       "      <th>group_uuid</th>\n",
       "      <th>scenario_uuid</th>\n",
       "      <th>case_uuid</th>\n",
       "      <th>case_service_name</th>\n",
       "      <th>case_id</th>\n",
       "      <th>case_description</th>\n",
       "      <th>case_timestamp</th>\n",
       "      <th>case_status</th>\n",
       "      <th>case_client_ip</th>\n",
       "      <th>case_endpoint</th>\n",
       "      <th>case_action</th>\n",
       "      <th>case_duration</th>\n",
       "      <th>numeric_status</th>\n",
       "      <th>failed</th>\n",
       "      <th>passed</th>\n",
       "      <th>skipped</th>\n",
       "      <th>date_int</th>\n",
       "    </tr>\n",
       "  </thead>\n",
       "  <tbody>\n",
       "  </tbody>\n",
       "</table>\n",
       "</div>"
      ],
      "text/plain": [
       "Empty DataFrame\n",
       "Columns: [group_uuid, scenario_uuid, case_uuid, case_service_name, case_id, case_description, case_timestamp, case_status, case_client_ip, case_endpoint, case_action, case_duration, numeric_status, failed, passed, skipped, date_int]\n",
       "Index: []"
      ]
     },
     "execution_count": 16,
     "metadata": {},
     "output_type": "execute_result"
    }
   ],
   "source": [
    "metrics.df[metrics.df.case_timestamp == datetime.date(2016, 9, 16)]"
   ]
  },
  {
   "cell_type": "code",
   "execution_count": 22,
   "metadata": {
    "collapsed": false
   },
   "outputs": [],
   "source": [
    "metrics.this_year"
   ]
  },
  {
   "cell_type": "code",
   "execution_count": 24,
   "metadata": {
    "collapsed": false
   },
   "outputs": [],
   "source": [
    "this_month = datetime.datetime.now().month"
   ]
  },
  {
   "cell_type": "code",
   "execution_count": null,
   "metadata": {
    "collapsed": true
   },
   "outputs": [],
   "source": [
    ""
   ]
  },
  {
   "cell_type": "markdown",
   "metadata": {},
   "source": [
    "- scenarios passing over time\n",
    "- cases passing over time\n",
    "- should log profile somewhere -- would be nice for metrics (ex. mock data vs live data)\n",
    "- time per test run vs time per case -- cross reference with url endpoint so we can see what's slowing down  \n",
    "- right now there is a filter for totally failed test runs, there should be one where if it is outside of say, 5 sigma of average tests failing it should be removed from df. also if # tests in guuid is out of ~7 sigma, get rid of that too\n",
    "\n",
    "*remember how to write good masks! you forgot!*"
   ]
  },
  {
   "cell_type": "code",
   "execution_count": 11,
   "metadata": {
    "collapsed": false
   },
   "outputs": [],
   "source": [
    "# this_y_sans_gci_bs.groupby('case_id').scenario_uuid.count()"
   ]
  },
  {
   "cell_type": "code",
   "execution_count": 16,
   "metadata": {
    "collapsed": false
   },
   "outputs": [
    {
     "data": {
      "text/plain": [
       "Index(['929070ca281f4ea9b691828dcada60fb'], dtype='object', name='group_uuid')"
      ]
     },
     "execution_count": 16,
     "metadata": {},
     "output_type": "execute_result"
    }
   ],
   "source": [
    "dis_year = metrics.df[metrics.this_year]\n",
    "by_case_action = dis_year.groupby('case_action')\n",
    "by_guid = dis_year.groupby('group_uuid')\n",
    "latest = dis_year[dis_year.group_uuid.isin([_data.return_guuid_latest(dis_year)])]\n",
    "count_guid = by_guid.agg('count')\n",
    "count_guid[count_guid.scenario_uuid == count_guid.max().scenario_uuid].index"
   ]
  },
  {
   "cell_type": "markdown",
   "metadata": {},
   "source": [
    "## need a histogram of case status for endpoints\n",
    "### With a comparison to mean histogram of status"
   ]
  },
  {
   "cell_type": "code",
   "execution_count": 17,
   "metadata": {
    "collapsed": false
   },
   "outputs": [
    {
     "data": {
      "text/plain": [
       "830"
      ]
     },
     "execution_count": 17,
     "metadata": {},
     "output_type": "execute_result"
    }
   ],
   "source": [
    "len(metrics.df[metrics.df.group_uuid == '16d5322813624f8e8449ef803b69bbab'].case_id.unique())"
   ]
  },
  {
   "cell_type": "code",
   "execution_count": 18,
   "metadata": {
    "collapsed": false
   },
   "outputs": [
    {
     "data": {
      "text/html": [
       "<div>\n",
       "<table border=\"1\" class=\"dataframe\">\n",
       "  <thead>\n",
       "    <tr style=\"text-align: right;\">\n",
       "      <th></th>\n",
       "      <th>group_uuid</th>\n",
       "      <th>scenario_uuid</th>\n",
       "      <th>case_uuid</th>\n",
       "      <th>case_service_name</th>\n",
       "      <th>case_id</th>\n",
       "      <th>case_description</th>\n",
       "      <th>case_timestamp</th>\n",
       "      <th>case_status</th>\n",
       "      <th>case_client_ip</th>\n",
       "      <th>case_endpoint</th>\n",
       "      <th>case_action</th>\n",
       "      <th>case_duration</th>\n",
       "      <th>numeric_status</th>\n",
       "      <th>failed</th>\n",
       "      <th>passed</th>\n",
       "      <th>skipped</th>\n",
       "      <th>date_int</th>\n",
       "    </tr>\n",
       "  </thead>\n",
       "  <tbody>\n",
       "    <tr>\n",
       "      <th>2679</th>\n",
       "      <td>4b46916b01c84582afd546d744a256d3</td>\n",
       "      <td>7dcb8d48aa6346d5bed1e75116ca01a8</td>\n",
       "      <td>1eeb6629e3994df595354f4c53937a58</td>\n",
       "      <td>BOLTServicesBranch</td>\n",
       "      <td>101-008-0001</td>\n",
       "      <td>GET Customs Home Page</td>\n",
       "      <td>2016-09-13 16:32:40.417174</td>\n",
       "      <td>passed</td>\n",
       "      <td>10.1.178.201</td>\n",
       "      <td>localhost:8080</td>\n",
       "      <td>home.test</td>\n",
       "      <td>0.125975</td>\n",
       "      <td>1</td>\n",
       "      <td>0.0</td>\n",
       "      <td>1.0</td>\n",
       "      <td>0.0</td>\n",
       "      <td>1473784360417174000</td>\n",
       "    </tr>\n",
       "    <tr>\n",
       "      <th>2680</th>\n",
       "      <td>4b46916b01c84582afd546d744a256d3</td>\n",
       "      <td>2b5cfc061eb647ebae3bc3540c054e17</td>\n",
       "      <td>4d0cb57c33ae41579fa0f4c598c597d6</td>\n",
       "      <td>BOLTServicesBranch</td>\n",
       "      <td>002-004-0001</td>\n",
       "      <td>POST Compute Line</td>\n",
       "      <td>2016-09-13 16:32:40.529150</td>\n",
       "      <td>passed</td>\n",
       "      <td>10.1.178.201</td>\n",
       "      <td>localhost:8080</td>\n",
       "      <td>pullpsm.test</td>\n",
       "      <td>0.094981</td>\n",
       "      <td>1</td>\n",
       "      <td>0.0</td>\n",
       "      <td>1.0</td>\n",
       "      <td>0.0</td>\n",
       "      <td>1473784360529150000</td>\n",
       "    </tr>\n",
       "    <tr>\n",
       "      <th>2681</th>\n",
       "      <td>4b46916b01c84582afd546d744a256d3</td>\n",
       "      <td>31e6ff1cad8d485f8038448ccbbde7d7</td>\n",
       "      <td>8f544865622841a798a9441563ed0b0d</td>\n",
       "      <td>BOLTServicesBranch</td>\n",
       "      <td>103-001-0002</td>\n",
       "      <td>POST Create new Declaration</td>\n",
       "      <td>2016-09-13 16:32:41.291999</td>\n",
       "      <td>passed</td>\n",
       "      <td>10.1.178.201</td>\n",
       "      <td>localhost:8080</td>\n",
       "      <td>new.test</td>\n",
       "      <td>0.741852</td>\n",
       "      <td>1</td>\n",
       "      <td>0.0</td>\n",
       "      <td>1.0</td>\n",
       "      <td>0.0</td>\n",
       "      <td>1473784361291999000</td>\n",
       "    </tr>\n",
       "    <tr>\n",
       "      <th>2682</th>\n",
       "      <td>4b46916b01c84582afd546d744a256d3</td>\n",
       "      <td>31e6ff1cad8d485f8038448ccbbde7d7</td>\n",
       "      <td>4f0f3b5fce76404682419840d6c0f2ff</td>\n",
       "      <td>BOLTServicesBranch</td>\n",
       "      <td>103-001-0003</td>\n",
       "      <td>POST Negative Save of a Declaration without a ...</td>\n",
       "      <td>2016-09-13 16:32:43.171622</td>\n",
       "      <td>passed</td>\n",
       "      <td>10.1.178.201</td>\n",
       "      <td>localhost:8080</td>\n",
       "      <td>save.test</td>\n",
       "      <td>1.857629</td>\n",
       "      <td>1</td>\n",
       "      <td>0.0</td>\n",
       "      <td>1.0</td>\n",
       "      <td>0.0</td>\n",
       "      <td>1473784363171622000</td>\n",
       "    </tr>\n",
       "    <tr>\n",
       "      <th>2683</th>\n",
       "      <td>4b46916b01c84582afd546d744a256d3</td>\n",
       "      <td>77367fb03b8e4c2b85a392bd9380b029</td>\n",
       "      <td>5dedc33ec1e2429cb0707c9e0c09155e</td>\n",
       "      <td>BOLTServicesBranch</td>\n",
       "      <td>103-004-0001</td>\n",
       "      <td>POST Quick Save</td>\n",
       "      <td>2016-09-13 16:32:43.769503</td>\n",
       "      <td>passed</td>\n",
       "      <td>10.1.178.201</td>\n",
       "      <td>localhost:8080</td>\n",
       "      <td>quicksave.test</td>\n",
       "      <td>0.569886</td>\n",
       "      <td>1</td>\n",
       "      <td>0.0</td>\n",
       "      <td>1.0</td>\n",
       "      <td>0.0</td>\n",
       "      <td>1473784363769503000</td>\n",
       "    </tr>\n",
       "    <tr>\n",
       "      <th>2684</th>\n",
       "      <td>4b46916b01c84582afd546d744a256d3</td>\n",
       "      <td>77367fb03b8e4c2b85a392bd9380b029</td>\n",
       "      <td>ebfafcdd1ddd4a03bbafdef2dec9d990</td>\n",
       "      <td>BOLTServicesBranch</td>\n",
       "      <td>103-004-0002</td>\n",
       "      <td>POST Cancel of an attaching an invoice</td>\n",
       "      <td>2016-09-13 16:32:44.725311</td>\n",
       "      <td>passed</td>\n",
       "      <td>10.1.178.201</td>\n",
       "      <td>localhost:8080</td>\n",
       "      <td>cancel.test</td>\n",
       "      <td>0.933813</td>\n",
       "      <td>1</td>\n",
       "      <td>0.0</td>\n",
       "      <td>1.0</td>\n",
       "      <td>0.0</td>\n",
       "      <td>1473784364725311000</td>\n",
       "    </tr>\n",
       "    <tr>\n",
       "      <th>2685</th>\n",
       "      <td>4b46916b01c84582afd546d744a256d3</td>\n",
       "      <td>a8d60cccdc6c47bcbaf68690d6ac700b</td>\n",
       "      <td>e579271063f64adfaab2ca0553d8c8c9</td>\n",
       "      <td>BOLTServicesBranch</td>\n",
       "      <td>105-001-0002</td>\n",
       "      <td>POST Save of a Declaration with No Importer GCI</td>\n",
       "      <td>2016-09-13 16:32:46.370982</td>\n",
       "      <td>passed</td>\n",
       "      <td>10.1.178.201</td>\n",
       "      <td>localhost:8080</td>\n",
       "      <td>save.test</td>\n",
       "      <td>1.615677</td>\n",
       "      <td>1</td>\n",
       "      <td>0.0</td>\n",
       "      <td>1.0</td>\n",
       "      <td>0.0</td>\n",
       "      <td>1473784366370982000</td>\n",
       "    </tr>\n",
       "    <tr>\n",
       "      <th>2686</th>\n",
       "      <td>4b46916b01c84582afd546d744a256d3</td>\n",
       "      <td>a8d60cccdc6c47bcbaf68690d6ac700b</td>\n",
       "      <td>b38201864e7f4c2989c0e3405952ccdc</td>\n",
       "      <td>BOLTServicesBranch</td>\n",
       "      <td>105-001-0003</td>\n",
       "      <td>unlock the declaration, for some reason...</td>\n",
       "      <td>2016-09-13 16:32:46.515954</td>\n",
       "      <td>passed</td>\n",
       "      <td>10.1.178.201</td>\n",
       "      <td>localhost:8080</td>\n",
       "      <td>unlock.test</td>\n",
       "      <td>0.115977</td>\n",
       "      <td>1</td>\n",
       "      <td>0.0</td>\n",
       "      <td>1.0</td>\n",
       "      <td>0.0</td>\n",
       "      <td>1473784366515954000</td>\n",
       "    </tr>\n",
       "    <tr>\n",
       "      <th>2687</th>\n",
       "      <td>4b46916b01c84582afd546d744a256d3</td>\n",
       "      <td>a8d60cccdc6c47bcbaf68690d6ac700b</td>\n",
       "      <td>bffadd6576ab411a8177e28c094f82ca</td>\n",
       "      <td>BOLTServicesBranch</td>\n",
       "      <td>105-001-0004</td>\n",
       "      <td>POST Transmit of a Declaration with No Importe...</td>\n",
       "      <td>2016-09-13 16:32:48.661524</td>\n",
       "      <td>passed</td>\n",
       "      <td>10.1.178.201</td>\n",
       "      <td>localhost:8080</td>\n",
       "      <td>transmit.test</td>\n",
       "      <td>2.113577</td>\n",
       "      <td>1</td>\n",
       "      <td>0.0</td>\n",
       "      <td>1.0</td>\n",
       "      <td>0.0</td>\n",
       "      <td>1473784368661524000</td>\n",
       "    </tr>\n",
       "    <tr>\n",
       "      <th>2688</th>\n",
       "      <td>4b46916b01c84582afd546d744a256d3</td>\n",
       "      <td>a8d60cccdc6c47bcbaf68690d6ac700b</td>\n",
       "      <td>346de19c9dee484eb91776a961e9452e</td>\n",
       "      <td>BOLTServicesBranch</td>\n",
       "      <td>105-001-0008</td>\n",
       "      <td>POST Save of a Declaration with denied Importe...</td>\n",
       "      <td>2016-09-13 16:32:52.973661</td>\n",
       "      <td>passed</td>\n",
       "      <td>10.1.178.201</td>\n",
       "      <td>localhost:8080</td>\n",
       "      <td>save.test</td>\n",
       "      <td>4.273145</td>\n",
       "      <td>1</td>\n",
       "      <td>0.0</td>\n",
       "      <td>1.0</td>\n",
       "      <td>0.0</td>\n",
       "      <td>1473784372973661000</td>\n",
       "    </tr>\n",
       "    <tr>\n",
       "      <th>2689</th>\n",
       "      <td>4b46916b01c84582afd546d744a256d3</td>\n",
       "      <td>a8d60cccdc6c47bcbaf68690d6ac700b</td>\n",
       "      <td>b3b65b64d1ac43fba91a9d4c8d605387</td>\n",
       "      <td>BOLTServicesBranch</td>\n",
       "      <td>105-001-0009</td>\n",
       "      <td>unlock the declaration, for some reason...</td>\n",
       "      <td>2016-09-13 16:32:53.083640</td>\n",
       "      <td>passed</td>\n",
       "      <td>10.1.178.201</td>\n",
       "      <td>localhost:8080</td>\n",
       "      <td>unlock.test</td>\n",
       "      <td>0.080984</td>\n",
       "      <td>1</td>\n",
       "      <td>0.0</td>\n",
       "      <td>1.0</td>\n",
       "      <td>0.0</td>\n",
       "      <td>1473784373083640000</td>\n",
       "    </tr>\n",
       "    <tr>\n",
       "      <th>2690</th>\n",
       "      <td>4b46916b01c84582afd546d744a256d3</td>\n",
       "      <td>a8d60cccdc6c47bcbaf68690d6ac700b</td>\n",
       "      <td>819899ada66345c6801feb764beeda4c</td>\n",
       "      <td>BOLTServicesBranch</td>\n",
       "      <td>105-001-0010</td>\n",
       "      <td>POST Transmit of a Declaration with denied Imp...</td>\n",
       "      <td>2016-09-13 16:32:56.548947</td>\n",
       "      <td>passed</td>\n",
       "      <td>10.1.178.201</td>\n",
       "      <td>localhost:8080</td>\n",
       "      <td>transmit.test</td>\n",
       "      <td>3.431314</td>\n",
       "      <td>1</td>\n",
       "      <td>0.0</td>\n",
       "      <td>1.0</td>\n",
       "      <td>0.0</td>\n",
       "      <td>1473784376548947000</td>\n",
       "    </tr>\n",
       "    <tr>\n",
       "      <th>2691</th>\n",
       "      <td>4b46916b01c84582afd546d744a256d3</td>\n",
       "      <td>a8d60cccdc6c47bcbaf68690d6ac700b</td>\n",
       "      <td>b4ce123b474b433585325680ec216f27</td>\n",
       "      <td>BOLTServicesBranch</td>\n",
       "      <td>105-001-0012</td>\n",
       "      <td>POST Save of a Declaration with Importer GCI n...</td>\n",
       "      <td>2016-09-13 16:32:59.913274</td>\n",
       "      <td>passed</td>\n",
       "      <td>10.1.178.201</td>\n",
       "      <td>localhost:8080</td>\n",
       "      <td>save.test</td>\n",
       "      <td>3.327335</td>\n",
       "      <td>1</td>\n",
       "      <td>0.0</td>\n",
       "      <td>1.0</td>\n",
       "      <td>0.0</td>\n",
       "      <td>1473784379913274000</td>\n",
       "    </tr>\n",
       "    <tr>\n",
       "      <th>2692</th>\n",
       "      <td>4b46916b01c84582afd546d744a256d3</td>\n",
       "      <td>a8d60cccdc6c47bcbaf68690d6ac700b</td>\n",
       "      <td>d3544d99ca8e4c9181ea6fa26839ccd0</td>\n",
       "      <td>BOLTServicesBranch</td>\n",
       "      <td>105-001-0015</td>\n",
       "      <td>POST Transmit of a Declaration Importer GCI no...</td>\n",
       "      <td>2016-09-13 16:33:03.118632</td>\n",
       "      <td>passed</td>\n",
       "      <td>10.1.178.201</td>\n",
       "      <td>localhost:8080</td>\n",
       "      <td>transmit.test</td>\n",
       "      <td>3.170366</td>\n",
       "      <td>1</td>\n",
       "      <td>0.0</td>\n",
       "      <td>1.0</td>\n",
       "      <td>0.0</td>\n",
       "      <td>1473784383118632000</td>\n",
       "    </tr>\n",
       "    <tr>\n",
       "      <th>2693</th>\n",
       "      <td>4b46916b01c84582afd546d744a256d3</td>\n",
       "      <td>a8d60cccdc6c47bcbaf68690d6ac700b</td>\n",
       "      <td>78ee15441ac74ba087678c88d6b75477</td>\n",
       "      <td>BOLTServicesBranch</td>\n",
       "      <td>105-001-0018</td>\n",
       "      <td>POST Save of a Declaration with good Importer ...</td>\n",
       "      <td>2016-09-13 16:33:06.409974</td>\n",
       "      <td>passed</td>\n",
       "      <td>10.1.178.201</td>\n",
       "      <td>localhost:8080</td>\n",
       "      <td>save.test</td>\n",
       "      <td>3.262347</td>\n",
       "      <td>1</td>\n",
       "      <td>0.0</td>\n",
       "      <td>1.0</td>\n",
       "      <td>0.0</td>\n",
       "      <td>1473784386409974000</td>\n",
       "    </tr>\n",
       "    <tr>\n",
       "      <th>2694</th>\n",
       "      <td>4b46916b01c84582afd546d744a256d3</td>\n",
       "      <td>a8d60cccdc6c47bcbaf68690d6ac700b</td>\n",
       "      <td>f6aef1bf07e54641b0d7ae36f02b1a7e</td>\n",
       "      <td>BOLTServicesBranch</td>\n",
       "      <td>105-001-0021</td>\n",
       "      <td>POST Transmit of a Declaration with good Impor...</td>\n",
       "      <td>2016-09-13 16:33:09.692317</td>\n",
       "      <td>passed</td>\n",
       "      <td>10.1.178.201</td>\n",
       "      <td>localhost:8080</td>\n",
       "      <td>transmit.test</td>\n",
       "      <td>3.240351</td>\n",
       "      <td>1</td>\n",
       "      <td>0.0</td>\n",
       "      <td>1.0</td>\n",
       "      <td>0.0</td>\n",
       "      <td>1473784389692317000</td>\n",
       "    </tr>\n",
       "    <tr>\n",
       "      <th>2695</th>\n",
       "      <td>4b46916b01c84582afd546d744a256d3</td>\n",
       "      <td>78333d4a3b1540c4aa8482db911c51cc</td>\n",
       "      <td>27e648a96b054f49890a6124c51a7845</td>\n",
       "      <td>BOLTServicesBranch</td>\n",
       "      <td>105-002-0001</td>\n",
       "      <td>POST Negative Quick Save of a Declaration with...</td>\n",
       "      <td>2016-09-13 16:33:09.999255</td>\n",
       "      <td>passed</td>\n",
       "      <td>10.1.178.201</td>\n",
       "      <td>localhost:8080</td>\n",
       "      <td>quicksave.test</td>\n",
       "      <td>0.268946</td>\n",
       "      <td>1</td>\n",
       "      <td>0.0</td>\n",
       "      <td>1.0</td>\n",
       "      <td>0.0</td>\n",
       "      <td>1473784389999255000</td>\n",
       "    </tr>\n",
       "    <tr>\n",
       "      <th>2696</th>\n",
       "      <td>4b46916b01c84582afd546d744a256d3</td>\n",
       "      <td>78333d4a3b1540c4aa8482db911c51cc</td>\n",
       "      <td>362c51f6d0a34722816dd5779b165df6</td>\n",
       "      <td>BOLTServicesBranch</td>\n",
       "      <td>105-002-0003</td>\n",
       "      <td>POST Transmit of a Declaration with No Custome...</td>\n",
       "      <td>2016-09-13 16:33:11.444967</td>\n",
       "      <td>passed</td>\n",
       "      <td>10.1.178.201</td>\n",
       "      <td>localhost:8080</td>\n",
       "      <td>transmit.test</td>\n",
       "      <td>1.420716</td>\n",
       "      <td>1</td>\n",
       "      <td>0.0</td>\n",
       "      <td>1.0</td>\n",
       "      <td>0.0</td>\n",
       "      <td>1473784391444967000</td>\n",
       "    </tr>\n",
       "    <tr>\n",
       "      <th>2697</th>\n",
       "      <td>4b46916b01c84582afd546d744a256d3</td>\n",
       "      <td>78333d4a3b1540c4aa8482db911c51cc</td>\n",
       "      <td>35c7dee0a18745a99e1d3eff6048ded6</td>\n",
       "      <td>BOLTServicesBranch</td>\n",
       "      <td>105-002-0004</td>\n",
       "      <td>unlock the declaration, for some reason...</td>\n",
       "      <td>2016-09-13 16:33:11.562942</td>\n",
       "      <td>passed</td>\n",
       "      <td>10.1.178.201</td>\n",
       "      <td>localhost:8080</td>\n",
       "      <td>unlock.test</td>\n",
       "      <td>0.088982</td>\n",
       "      <td>1</td>\n",
       "      <td>0.0</td>\n",
       "      <td>1.0</td>\n",
       "      <td>0.0</td>\n",
       "      <td>1473784391562942000</td>\n",
       "    </tr>\n",
       "    <tr>\n",
       "      <th>2698</th>\n",
       "      <td>4b46916b01c84582afd546d744a256d3</td>\n",
       "      <td>78333d4a3b1540c4aa8482db911c51cc</td>\n",
       "      <td>f1fb9213e1b4432a9b803d8e6effbcab</td>\n",
       "      <td>BOLTServicesBranch</td>\n",
       "      <td>105-002-0005</td>\n",
       "      <td>POST Save of a Declaration Customer GCI with n...</td>\n",
       "      <td>2016-09-13 16:33:15.103235</td>\n",
       "      <td>passed</td>\n",
       "      <td>10.1.178.201</td>\n",
       "      <td>localhost:8080</td>\n",
       "      <td>save.test</td>\n",
       "      <td>3.506299</td>\n",
       "      <td>1</td>\n",
       "      <td>0.0</td>\n",
       "      <td>1.0</td>\n",
       "      <td>0.0</td>\n",
       "      <td>1473784395103235000</td>\n",
       "    </tr>\n",
       "    <tr>\n",
       "      <th>2699</th>\n",
       "      <td>4b46916b01c84582afd546d744a256d3</td>\n",
       "      <td>78333d4a3b1540c4aa8482db911c51cc</td>\n",
       "      <td>55fb807ff53645af910be7eb56dbc07d</td>\n",
       "      <td>BOLTServicesBranch</td>\n",
       "      <td>105-002-0008</td>\n",
       "      <td>POST Save of a Declaration Customer GCI with P...</td>\n",
       "      <td>2016-09-13 16:33:17.649725</td>\n",
       "      <td>passed</td>\n",
       "      <td>10.1.178.201</td>\n",
       "      <td>localhost:8080</td>\n",
       "      <td>save.test</td>\n",
       "      <td>2.505499</td>\n",
       "      <td>1</td>\n",
       "      <td>0.0</td>\n",
       "      <td>1.0</td>\n",
       "      <td>0.0</td>\n",
       "      <td>1473784397649725000</td>\n",
       "    </tr>\n",
       "    <tr>\n",
       "      <th>2700</th>\n",
       "      <td>4b46916b01c84582afd546d744a256d3</td>\n",
       "      <td>78333d4a3b1540c4aa8482db911c51cc</td>\n",
       "      <td>07ed6f6d1fda48e5aa0392b53950abac</td>\n",
       "      <td>BOLTServicesBranch</td>\n",
       "      <td>105-002-0009</td>\n",
       "      <td>POST Save of a Declaration Customer GCI with P...</td>\n",
       "      <td>2016-09-13 16:33:20.150224</td>\n",
       "      <td>passed</td>\n",
       "      <td>10.1.178.201</td>\n",
       "      <td>localhost:8080</td>\n",
       "      <td>save.test</td>\n",
       "      <td>2.455508</td>\n",
       "      <td>1</td>\n",
       "      <td>0.0</td>\n",
       "      <td>1.0</td>\n",
       "      <td>0.0</td>\n",
       "      <td>1473784400150224000</td>\n",
       "    </tr>\n",
       "    <tr>\n",
       "      <th>2701</th>\n",
       "      <td>4b46916b01c84582afd546d744a256d3</td>\n",
       "      <td>78333d4a3b1540c4aa8482db911c51cc</td>\n",
       "      <td>357e80f7dd6b4ddf8c43f32ab4634d32</td>\n",
       "      <td>BOLTServicesBranch</td>\n",
       "      <td>105-002-0010</td>\n",
       "      <td>POST Negative Quick Save of a Declaration Cust...</td>\n",
       "      <td>2016-09-13 16:33:20.588138</td>\n",
       "      <td>passed</td>\n",
       "      <td>10.1.178.201</td>\n",
       "      <td>localhost:8080</td>\n",
       "      <td>quicksave.test</td>\n",
       "      <td>0.400920</td>\n",
       "      <td>1</td>\n",
       "      <td>0.0</td>\n",
       "      <td>1.0</td>\n",
       "      <td>0.0</td>\n",
       "      <td>1473784400588138000</td>\n",
       "    </tr>\n",
       "    <tr>\n",
       "      <th>2702</th>\n",
       "      <td>4b46916b01c84582afd546d744a256d3</td>\n",
       "      <td>7d2bd84cc5a749f8bdc68665500c4b23</td>\n",
       "      <td>956826ea743846f7b468a3d12ca96f06</td>\n",
       "      <td>BOLTServicesBranch</td>\n",
       "      <td>105-005-0001</td>\n",
       "      <td>POST Save Declaration with No Decl Type. Requi...</td>\n",
       "      <td>2016-09-13 16:33:22.328789</td>\n",
       "      <td>passed</td>\n",
       "      <td>10.1.178.201</td>\n",
       "      <td>localhost:8080</td>\n",
       "      <td>save.test</td>\n",
       "      <td>1.711658</td>\n",
       "      <td>1</td>\n",
       "      <td>0.0</td>\n",
       "      <td>1.0</td>\n",
       "      <td>0.0</td>\n",
       "      <td>1473784402328789000</td>\n",
       "    </tr>\n",
       "    <tr>\n",
       "      <th>2703</th>\n",
       "      <td>4b46916b01c84582afd546d744a256d3</td>\n",
       "      <td>7d2bd84cc5a749f8bdc68665500c4b23</td>\n",
       "      <td>4dbd588184974b3f90ca29ce9a47ed79</td>\n",
       "      <td>BOLTServicesBranch</td>\n",
       "      <td>105-005-0002</td>\n",
       "      <td>POST Transmit Declaration with No Decl Type. R...</td>\n",
       "      <td>2016-09-13 16:33:24.058444</td>\n",
       "      <td>passed</td>\n",
       "      <td>10.1.178.201</td>\n",
       "      <td>localhost:8080</td>\n",
       "      <td>save.test</td>\n",
       "      <td>1.700660</td>\n",
       "      <td>1</td>\n",
       "      <td>0.0</td>\n",
       "      <td>1.0</td>\n",
       "      <td>0.0</td>\n",
       "      <td>1473784404058444000</td>\n",
       "    </tr>\n",
       "    <tr>\n",
       "      <th>2704</th>\n",
       "      <td>4b46916b01c84582afd546d744a256d3</td>\n",
       "      <td>b580c3183e594cf08a045a3e45ef76f3</td>\n",
       "      <td>594d9bd9d526445da48b3705c1ee7b60</td>\n",
       "      <td>BOLTServicesBranch</td>\n",
       "      <td>105-012-0005</td>\n",
       "      <td>POST Save of a Declaration with Bad Country of...</td>\n",
       "      <td>2016-09-13 16:33:25.767102</td>\n",
       "      <td>passed</td>\n",
       "      <td>10.1.178.201</td>\n",
       "      <td>localhost:8080</td>\n",
       "      <td>save.test</td>\n",
       "      <td>1.675665</td>\n",
       "      <td>1</td>\n",
       "      <td>0.0</td>\n",
       "      <td>1.0</td>\n",
       "      <td>0.0</td>\n",
       "      <td>1473784405767102000</td>\n",
       "    </tr>\n",
       "    <tr>\n",
       "      <th>2705</th>\n",
       "      <td>4b46916b01c84582afd546d744a256d3</td>\n",
       "      <td>b580c3183e594cf08a045a3e45ef76f3</td>\n",
       "      <td>a897a402be754972a0c4795641b7c00b</td>\n",
       "      <td>BOLTServicesBranch</td>\n",
       "      <td>105-012-0008</td>\n",
       "      <td>POST Transmit of a Declaration with Bad Countr...</td>\n",
       "      <td>2016-09-13 16:33:28.007653</td>\n",
       "      <td>passed</td>\n",
       "      <td>10.1.178.201</td>\n",
       "      <td>localhost:8080</td>\n",
       "      <td>transmit.test</td>\n",
       "      <td>2.196561</td>\n",
       "      <td>1</td>\n",
       "      <td>0.0</td>\n",
       "      <td>1.0</td>\n",
       "      <td>0.0</td>\n",
       "      <td>1473784408007653000</td>\n",
       "    </tr>\n",
       "    <tr>\n",
       "      <th>2706</th>\n",
       "      <td>4b46916b01c84582afd546d744a256d3</td>\n",
       "      <td>53b084da49bc48ee843d560e60adc914</td>\n",
       "      <td>52847153eb654c6983d336f276ab3d13</td>\n",
       "      <td>BOLTServicesBranch</td>\n",
       "      <td>105-013-0002</td>\n",
       "      <td>POST Save of a Declaration with No Country of ...</td>\n",
       "      <td>2016-09-13 16:33:29.775300</td>\n",
       "      <td>passed</td>\n",
       "      <td>10.1.178.201</td>\n",
       "      <td>localhost:8080</td>\n",
       "      <td>save.test</td>\n",
       "      <td>1.725655</td>\n",
       "      <td>1</td>\n",
       "      <td>0.0</td>\n",
       "      <td>1.0</td>\n",
       "      <td>0.0</td>\n",
       "      <td>1473784409775300000</td>\n",
       "    </tr>\n",
       "    <tr>\n",
       "      <th>2707</th>\n",
       "      <td>4b46916b01c84582afd546d744a256d3</td>\n",
       "      <td>c156463ede3448bfb9f881abc1059358</td>\n",
       "      <td>61d162427f6c466babde3cc0109e167e</td>\n",
       "      <td>BOLTServicesBranch</td>\n",
       "      <td>105-014-0001</td>\n",
       "      <td>POST Save of a Declaration with No CFIT File N...</td>\n",
       "      <td>2016-09-13 16:33:31.514951</td>\n",
       "      <td>passed</td>\n",
       "      <td>10.1.178.201</td>\n",
       "      <td>localhost:8080</td>\n",
       "      <td>save.test</td>\n",
       "      <td>1.713657</td>\n",
       "      <td>1</td>\n",
       "      <td>0.0</td>\n",
       "      <td>1.0</td>\n",
       "      <td>0.0</td>\n",
       "      <td>1473784411514951000</td>\n",
       "    </tr>\n",
       "    <tr>\n",
       "      <th>2708</th>\n",
       "      <td>4b46916b01c84582afd546d744a256d3</td>\n",
       "      <td>c156463ede3448bfb9f881abc1059358</td>\n",
       "      <td>b6a4024b5c4e4f8f846724b04d43fe40</td>\n",
       "      <td>BOLTServicesBranch</td>\n",
       "      <td>105-014-0002</td>\n",
       "      <td>POST Transmit of a Declaration with No CFIT Fi...</td>\n",
       "      <td>2016-09-13 16:33:33.893476</td>\n",
       "      <td>passed</td>\n",
       "      <td>10.1.178.201</td>\n",
       "      <td>localhost:8080</td>\n",
       "      <td>transmit.test</td>\n",
       "      <td>2.342531</td>\n",
       "      <td>1</td>\n",
       "      <td>0.0</td>\n",
       "      <td>1.0</td>\n",
       "      <td>0.0</td>\n",
       "      <td>1473784413893476000</td>\n",
       "    </tr>\n",
       "    <tr>\n",
       "      <th>...</th>\n",
       "      <td>...</td>\n",
       "      <td>...</td>\n",
       "      <td>...</td>\n",
       "      <td>...</td>\n",
       "      <td>...</td>\n",
       "      <td>...</td>\n",
       "      <td>...</td>\n",
       "      <td>...</td>\n",
       "      <td>...</td>\n",
       "      <td>...</td>\n",
       "      <td>...</td>\n",
       "      <td>...</td>\n",
       "      <td>...</td>\n",
       "      <td>...</td>\n",
       "      <td>...</td>\n",
       "      <td>...</td>\n",
       "      <td>...</td>\n",
       "    </tr>\n",
       "    <tr>\n",
       "      <th>2920</th>\n",
       "      <td>4b46916b01c84582afd546d744a256d3</td>\n",
       "      <td>04a2ddcfacec4a24a250f976e66cd3df</td>\n",
       "      <td>81f8e5b5c5104eaaa05de4a01a4462e8</td>\n",
       "      <td>BOLTServicesBranch</td>\n",
       "      <td>199-007-0001</td>\n",
       "      <td></td>\n",
       "      <td>2016-09-13 16:40:43.571057</td>\n",
       "      <td>passed</td>\n",
       "      <td>10.1.178.201</td>\n",
       "      <td>localhost:8080</td>\n",
       "      <td>quicksave.test</td>\n",
       "      <td>0.846915</td>\n",
       "      <td>1</td>\n",
       "      <td>0.0</td>\n",
       "      <td>1.0</td>\n",
       "      <td>0.0</td>\n",
       "      <td>1473784843571057000</td>\n",
       "    </tr>\n",
       "    <tr>\n",
       "      <th>2921</th>\n",
       "      <td>4b46916b01c84582afd546d744a256d3</td>\n",
       "      <td>04a2ddcfacec4a24a250f976e66cd3df</td>\n",
       "      <td>422e88e3fb994f33a34e78e15cd898cd</td>\n",
       "      <td>BOLTServicesBranch</td>\n",
       "      <td>199-007-0002</td>\n",
       "      <td></td>\n",
       "      <td>2016-09-13 16:40:44.333981</td>\n",
       "      <td>passed</td>\n",
       "      <td>10.1.178.201</td>\n",
       "      <td>localhost:8080</td>\n",
       "      <td>save.test</td>\n",
       "      <td>0.732927</td>\n",
       "      <td>1</td>\n",
       "      <td>0.0</td>\n",
       "      <td>1.0</td>\n",
       "      <td>0.0</td>\n",
       "      <td>1473784844333981000</td>\n",
       "    </tr>\n",
       "    <tr>\n",
       "      <th>2922</th>\n",
       "      <td>4b46916b01c84582afd546d744a256d3</td>\n",
       "      <td>04a2ddcfacec4a24a250f976e66cd3df</td>\n",
       "      <td>a3fdedc9e4b042c69a140ffe7423f5ab</td>\n",
       "      <td>BOLTServicesBranch</td>\n",
       "      <td>199-007-0003</td>\n",
       "      <td></td>\n",
       "      <td>2016-09-13 16:40:47.558657</td>\n",
       "      <td>passed</td>\n",
       "      <td>10.1.178.201</td>\n",
       "      <td>localhost:8080</td>\n",
       "      <td>quicksave.test</td>\n",
       "      <td>3.174682</td>\n",
       "      <td>1</td>\n",
       "      <td>0.0</td>\n",
       "      <td>1.0</td>\n",
       "      <td>0.0</td>\n",
       "      <td>1473784847558657000</td>\n",
       "    </tr>\n",
       "    <tr>\n",
       "      <th>2923</th>\n",
       "      <td>4b46916b01c84582afd546d744a256d3</td>\n",
       "      <td>04a2ddcfacec4a24a250f976e66cd3df</td>\n",
       "      <td>f3b2ddecd4c440de81a350a3101eddba</td>\n",
       "      <td>BOLTServicesBranch</td>\n",
       "      <td>199-007-0004</td>\n",
       "      <td></td>\n",
       "      <td>2016-09-13 16:40:49.401473</td>\n",
       "      <td>passed</td>\n",
       "      <td>10.1.178.201</td>\n",
       "      <td>localhost:8080</td>\n",
       "      <td>save.test</td>\n",
       "      <td>1.761824</td>\n",
       "      <td>1</td>\n",
       "      <td>0.0</td>\n",
       "      <td>1.0</td>\n",
       "      <td>0.0</td>\n",
       "      <td>1473784849401473000</td>\n",
       "    </tr>\n",
       "    <tr>\n",
       "      <th>2924</th>\n",
       "      <td>4b46916b01c84582afd546d744a256d3</td>\n",
       "      <td>04a2ddcfacec4a24a250f976e66cd3df</td>\n",
       "      <td>9c34b5204d5e473fb9cd02d4439002c6</td>\n",
       "      <td>BOLTServicesBranch</td>\n",
       "      <td>199-007-0005</td>\n",
       "      <td></td>\n",
       "      <td>2016-09-13 16:40:51.268286</td>\n",
       "      <td>passed</td>\n",
       "      <td>10.1.178.201</td>\n",
       "      <td>localhost:8080</td>\n",
       "      <td>transmit.test</td>\n",
       "      <td>1.793820</td>\n",
       "      <td>1</td>\n",
       "      <td>0.0</td>\n",
       "      <td>1.0</td>\n",
       "      <td>0.0</td>\n",
       "      <td>1473784851268286000</td>\n",
       "    </tr>\n",
       "    <tr>\n",
       "      <th>2925</th>\n",
       "      <td>4b46916b01c84582afd546d744a256d3</td>\n",
       "      <td>15e834f4fa9d4c5fb1e1c27d6c58d177</td>\n",
       "      <td>1b6a3aded3754b829dc7ff492c9b8da4</td>\n",
       "      <td>BOLTServicesBranch</td>\n",
       "      <td>199-008-0001</td>\n",
       "      <td></td>\n",
       "      <td>2016-09-13 16:40:51.828231</td>\n",
       "      <td>passed</td>\n",
       "      <td>10.1.178.201</td>\n",
       "      <td>localhost:8080</td>\n",
       "      <td>quicksave.test</td>\n",
       "      <td>0.502949</td>\n",
       "      <td>1</td>\n",
       "      <td>0.0</td>\n",
       "      <td>1.0</td>\n",
       "      <td>0.0</td>\n",
       "      <td>1473784851828231000</td>\n",
       "    </tr>\n",
       "    <tr>\n",
       "      <th>2926</th>\n",
       "      <td>4b46916b01c84582afd546d744a256d3</td>\n",
       "      <td>15e834f4fa9d4c5fb1e1c27d6c58d177</td>\n",
       "      <td>e79f52ef581340e6b54410f5cb25cd6f</td>\n",
       "      <td>BOLTServicesBranch</td>\n",
       "      <td>199-008-0002</td>\n",
       "      <td></td>\n",
       "      <td>2016-09-13 16:40:52.605154</td>\n",
       "      <td>passed</td>\n",
       "      <td>10.1.178.201</td>\n",
       "      <td>localhost:8080</td>\n",
       "      <td>save.test</td>\n",
       "      <td>0.746926</td>\n",
       "      <td>1</td>\n",
       "      <td>0.0</td>\n",
       "      <td>1.0</td>\n",
       "      <td>0.0</td>\n",
       "      <td>1473784852605154000</td>\n",
       "    </tr>\n",
       "    <tr>\n",
       "      <th>2927</th>\n",
       "      <td>4b46916b01c84582afd546d744a256d3</td>\n",
       "      <td>15e834f4fa9d4c5fb1e1c27d6c58d177</td>\n",
       "      <td>2d63e0a876fc47fb94a17b5dcb992302</td>\n",
       "      <td>BOLTServicesBranch</td>\n",
       "      <td>199-008-0003</td>\n",
       "      <td></td>\n",
       "      <td>2016-09-13 16:40:53.396074</td>\n",
       "      <td>passed</td>\n",
       "      <td>10.1.178.201</td>\n",
       "      <td>localhost:8080</td>\n",
       "      <td>quicksave.test</td>\n",
       "      <td>0.733926</td>\n",
       "      <td>1</td>\n",
       "      <td>0.0</td>\n",
       "      <td>1.0</td>\n",
       "      <td>0.0</td>\n",
       "      <td>1473784853396074000</td>\n",
       "    </tr>\n",
       "    <tr>\n",
       "      <th>2928</th>\n",
       "      <td>4b46916b01c84582afd546d744a256d3</td>\n",
       "      <td>15e834f4fa9d4c5fb1e1c27d6c58d177</td>\n",
       "      <td>58635a00d03146618b78bd0be6b4d837</td>\n",
       "      <td>BOLTServicesBranch</td>\n",
       "      <td>199-008-0004</td>\n",
       "      <td></td>\n",
       "      <td>2016-09-13 16:40:55.275886</td>\n",
       "      <td>passed</td>\n",
       "      <td>10.1.178.201</td>\n",
       "      <td>localhost:8080</td>\n",
       "      <td>save.test</td>\n",
       "      <td>1.804819</td>\n",
       "      <td>1</td>\n",
       "      <td>0.0</td>\n",
       "      <td>1.0</td>\n",
       "      <td>0.0</td>\n",
       "      <td>1473784855275886000</td>\n",
       "    </tr>\n",
       "    <tr>\n",
       "      <th>2929</th>\n",
       "      <td>4b46916b01c84582afd546d744a256d3</td>\n",
       "      <td>15e834f4fa9d4c5fb1e1c27d6c58d177</td>\n",
       "      <td>12e937d5e62645e2ab785b5461a99e1d</td>\n",
       "      <td>BOLTServicesBranch</td>\n",
       "      <td>199-008-0005</td>\n",
       "      <td></td>\n",
       "      <td>2016-09-13 16:40:57.224692</td>\n",
       "      <td>passed</td>\n",
       "      <td>10.1.178.201</td>\n",
       "      <td>localhost:8080</td>\n",
       "      <td>transmit.test</td>\n",
       "      <td>1.874813</td>\n",
       "      <td>1</td>\n",
       "      <td>0.0</td>\n",
       "      <td>1.0</td>\n",
       "      <td>0.0</td>\n",
       "      <td>1473784857224692000</td>\n",
       "    </tr>\n",
       "    <tr>\n",
       "      <th>2930</th>\n",
       "      <td>4b46916b01c84582afd546d744a256d3</td>\n",
       "      <td>73fd835ec0304e8296e7df1e05a9c68c</td>\n",
       "      <td>40ce34a6e9e64da0a9a95396f5a8e5e5</td>\n",
       "      <td>BOLTServicesBranch</td>\n",
       "      <td>199-009-0001</td>\n",
       "      <td></td>\n",
       "      <td>2016-09-13 16:40:57.476665</td>\n",
       "      <td>passed</td>\n",
       "      <td>10.1.178.201</td>\n",
       "      <td>localhost:8080</td>\n",
       "      <td>quicksave.test</td>\n",
       "      <td>0.193980</td>\n",
       "      <td>1</td>\n",
       "      <td>0.0</td>\n",
       "      <td>1.0</td>\n",
       "      <td>0.0</td>\n",
       "      <td>1473784857476665000</td>\n",
       "    </tr>\n",
       "    <tr>\n",
       "      <th>2931</th>\n",
       "      <td>4b46916b01c84582afd546d744a256d3</td>\n",
       "      <td>73fd835ec0304e8296e7df1e05a9c68c</td>\n",
       "      <td>c327d70d2f8140e89327aeaf78589972</td>\n",
       "      <td>BOLTServicesBranch</td>\n",
       "      <td>199-009-0002</td>\n",
       "      <td></td>\n",
       "      <td>2016-09-13 16:40:57.993614</td>\n",
       "      <td>passed</td>\n",
       "      <td>10.1.178.201</td>\n",
       "      <td>localhost:8080</td>\n",
       "      <td>save.test</td>\n",
       "      <td>0.486952</td>\n",
       "      <td>1</td>\n",
       "      <td>0.0</td>\n",
       "      <td>1.0</td>\n",
       "      <td>0.0</td>\n",
       "      <td>1473784857993614000</td>\n",
       "    </tr>\n",
       "    <tr>\n",
       "      <th>2932</th>\n",
       "      <td>4b46916b01c84582afd546d744a256d3</td>\n",
       "      <td>73fd835ec0304e8296e7df1e05a9c68c</td>\n",
       "      <td>74e39632a8764415948b8c8fc9a5e646</td>\n",
       "      <td>BOLTServicesBranch</td>\n",
       "      <td>199-009-0003</td>\n",
       "      <td></td>\n",
       "      <td>2016-09-13 16:40:58.764538</td>\n",
       "      <td>passed</td>\n",
       "      <td>10.1.178.201</td>\n",
       "      <td>localhost:8080</td>\n",
       "      <td>quicksave.test</td>\n",
       "      <td>0.719928</td>\n",
       "      <td>1</td>\n",
       "      <td>0.0</td>\n",
       "      <td>1.0</td>\n",
       "      <td>0.0</td>\n",
       "      <td>1473784858764538000</td>\n",
       "    </tr>\n",
       "    <tr>\n",
       "      <th>2933</th>\n",
       "      <td>4b46916b01c84582afd546d744a256d3</td>\n",
       "      <td>73fd835ec0304e8296e7df1e05a9c68c</td>\n",
       "      <td>cc76f54458584384ae7c3950046f1b22</td>\n",
       "      <td>BOLTServicesBranch</td>\n",
       "      <td>199-009-0004</td>\n",
       "      <td></td>\n",
       "      <td>2016-09-13 16:41:00.732341</td>\n",
       "      <td>passed</td>\n",
       "      <td>10.1.178.201</td>\n",
       "      <td>localhost:8080</td>\n",
       "      <td>save.test</td>\n",
       "      <td>1.895811</td>\n",
       "      <td>1</td>\n",
       "      <td>0.0</td>\n",
       "      <td>1.0</td>\n",
       "      <td>0.0</td>\n",
       "      <td>1473784860732341000</td>\n",
       "    </tr>\n",
       "    <tr>\n",
       "      <th>2934</th>\n",
       "      <td>4b46916b01c84582afd546d744a256d3</td>\n",
       "      <td>73fd835ec0304e8296e7df1e05a9c68c</td>\n",
       "      <td>d02b8405a1bb4989babcf620561ea531</td>\n",
       "      <td>BOLTServicesBranch</td>\n",
       "      <td>199-009-0005</td>\n",
       "      <td></td>\n",
       "      <td>2016-09-13 16:41:02.673146</td>\n",
       "      <td>passed</td>\n",
       "      <td>10.1.178.201</td>\n",
       "      <td>localhost:8080</td>\n",
       "      <td>transmit.test</td>\n",
       "      <td>1.864814</td>\n",
       "      <td>1</td>\n",
       "      <td>0.0</td>\n",
       "      <td>1.0</td>\n",
       "      <td>0.0</td>\n",
       "      <td>1473784862673146000</td>\n",
       "    </tr>\n",
       "    <tr>\n",
       "      <th>2935</th>\n",
       "      <td>4b46916b01c84582afd546d744a256d3</td>\n",
       "      <td>beaff98717a24ef59be928f832697382</td>\n",
       "      <td>f622cc5f887e439c9f4c5bdbd34c107f</td>\n",
       "      <td>BOLTServicesBranch</td>\n",
       "      <td>199-010-0001</td>\n",
       "      <td></td>\n",
       "      <td>2016-09-13 16:41:02.926120</td>\n",
       "      <td>passed</td>\n",
       "      <td>10.1.178.201</td>\n",
       "      <td>localhost:8080</td>\n",
       "      <td>quicksave.test</td>\n",
       "      <td>0.194980</td>\n",
       "      <td>1</td>\n",
       "      <td>0.0</td>\n",
       "      <td>1.0</td>\n",
       "      <td>0.0</td>\n",
       "      <td>1473784862926120000</td>\n",
       "    </tr>\n",
       "    <tr>\n",
       "      <th>2936</th>\n",
       "      <td>4b46916b01c84582afd546d744a256d3</td>\n",
       "      <td>beaff98717a24ef59be928f832697382</td>\n",
       "      <td>f9723a7f79924707bec25662c1553f63</td>\n",
       "      <td>BOLTServicesBranch</td>\n",
       "      <td>199-010-0002</td>\n",
       "      <td></td>\n",
       "      <td>2016-09-13 16:41:03.685045</td>\n",
       "      <td>passed</td>\n",
       "      <td>10.1.178.201</td>\n",
       "      <td>localhost:8080</td>\n",
       "      <td>save.test</td>\n",
       "      <td>0.729927</td>\n",
       "      <td>1</td>\n",
       "      <td>0.0</td>\n",
       "      <td>1.0</td>\n",
       "      <td>0.0</td>\n",
       "      <td>1473784863685045000</td>\n",
       "    </tr>\n",
       "    <tr>\n",
       "      <th>2937</th>\n",
       "      <td>4b46916b01c84582afd546d744a256d3</td>\n",
       "      <td>beaff98717a24ef59be928f832697382</td>\n",
       "      <td>3f86ae503d8b4f0c949ee7ea3d28f810</td>\n",
       "      <td>BOLTServicesBranch</td>\n",
       "      <td>199-010-0003</td>\n",
       "      <td></td>\n",
       "      <td>2016-09-13 16:41:04.462968</td>\n",
       "      <td>passed</td>\n",
       "      <td>10.1.178.201</td>\n",
       "      <td>localhost:8080</td>\n",
       "      <td>quicksave.test</td>\n",
       "      <td>0.727928</td>\n",
       "      <td>1</td>\n",
       "      <td>0.0</td>\n",
       "      <td>1.0</td>\n",
       "      <td>0.0</td>\n",
       "      <td>1473784864462968000</td>\n",
       "    </tr>\n",
       "    <tr>\n",
       "      <th>2938</th>\n",
       "      <td>4b46916b01c84582afd546d744a256d3</td>\n",
       "      <td>beaff98717a24ef59be928f832697382</td>\n",
       "      <td>3ef269e25fe248e3952ddb3c5762241c</td>\n",
       "      <td>BOLTServicesBranch</td>\n",
       "      <td>199-010-0004</td>\n",
       "      <td></td>\n",
       "      <td>2016-09-13 16:41:06.430771</td>\n",
       "      <td>passed</td>\n",
       "      <td>10.1.178.201</td>\n",
       "      <td>localhost:8080</td>\n",
       "      <td>save.test</td>\n",
       "      <td>1.895811</td>\n",
       "      <td>1</td>\n",
       "      <td>0.0</td>\n",
       "      <td>1.0</td>\n",
       "      <td>0.0</td>\n",
       "      <td>1473784866430771000</td>\n",
       "    </tr>\n",
       "    <tr>\n",
       "      <th>2939</th>\n",
       "      <td>4b46916b01c84582afd546d744a256d3</td>\n",
       "      <td>beaff98717a24ef59be928f832697382</td>\n",
       "      <td>27ac52aba8ce4d92a6970ade9b8502fb</td>\n",
       "      <td>BOLTServicesBranch</td>\n",
       "      <td>199-010-0005</td>\n",
       "      <td></td>\n",
       "      <td>2016-09-13 16:41:08.305583</td>\n",
       "      <td>passed</td>\n",
       "      <td>10.1.178.201</td>\n",
       "      <td>localhost:8080</td>\n",
       "      <td>transmit.test</td>\n",
       "      <td>1.800820</td>\n",
       "      <td>1</td>\n",
       "      <td>0.0</td>\n",
       "      <td>1.0</td>\n",
       "      <td>0.0</td>\n",
       "      <td>1473784868305583000</td>\n",
       "    </tr>\n",
       "    <tr>\n",
       "      <th>2940</th>\n",
       "      <td>4b46916b01c84582afd546d744a256d3</td>\n",
       "      <td>a8b94235af284e558c1696c41c89f368</td>\n",
       "      <td>14525d841c674d15b0842261b9e800f3</td>\n",
       "      <td>BOLTServicesBranch</td>\n",
       "      <td>199-011-0001</td>\n",
       "      <td></td>\n",
       "      <td>2016-09-13 16:41:08.592555</td>\n",
       "      <td>passed</td>\n",
       "      <td>10.1.178.201</td>\n",
       "      <td>localhost:8080</td>\n",
       "      <td>quicksave.test</td>\n",
       "      <td>0.227978</td>\n",
       "      <td>1</td>\n",
       "      <td>0.0</td>\n",
       "      <td>1.0</td>\n",
       "      <td>0.0</td>\n",
       "      <td>1473784868592555000</td>\n",
       "    </tr>\n",
       "    <tr>\n",
       "      <th>2941</th>\n",
       "      <td>4b46916b01c84582afd546d744a256d3</td>\n",
       "      <td>a8b94235af284e558c1696c41c89f368</td>\n",
       "      <td>81b123975eaa4230bfbc1bc4036cf9d9</td>\n",
       "      <td>BOLTServicesBranch</td>\n",
       "      <td>199-011-0002</td>\n",
       "      <td></td>\n",
       "      <td>2016-09-13 16:41:09.117501</td>\n",
       "      <td>passed</td>\n",
       "      <td>10.1.178.201</td>\n",
       "      <td>localhost:8080</td>\n",
       "      <td>save.test</td>\n",
       "      <td>0.494950</td>\n",
       "      <td>1</td>\n",
       "      <td>0.0</td>\n",
       "      <td>1.0</td>\n",
       "      <td>0.0</td>\n",
       "      <td>1473784869117501000</td>\n",
       "    </tr>\n",
       "    <tr>\n",
       "      <th>2942</th>\n",
       "      <td>4b46916b01c84582afd546d744a256d3</td>\n",
       "      <td>a8b94235af284e558c1696c41c89f368</td>\n",
       "      <td>629fdd25374e42ee916a0a252f5ff9a1</td>\n",
       "      <td>BOLTServicesBranch</td>\n",
       "      <td>199-011-0003</td>\n",
       "      <td></td>\n",
       "      <td>2016-09-13 16:41:09.903424</td>\n",
       "      <td>passed</td>\n",
       "      <td>10.1.178.201</td>\n",
       "      <td>localhost:8080</td>\n",
       "      <td>quicksave.test</td>\n",
       "      <td>0.732927</td>\n",
       "      <td>1</td>\n",
       "      <td>0.0</td>\n",
       "      <td>1.0</td>\n",
       "      <td>0.0</td>\n",
       "      <td>1473784869903424000</td>\n",
       "    </tr>\n",
       "    <tr>\n",
       "      <th>2943</th>\n",
       "      <td>4b46916b01c84582afd546d744a256d3</td>\n",
       "      <td>a8b94235af284e558c1696c41c89f368</td>\n",
       "      <td>e01395a6660c4ea7a8c6e8e9180247a6</td>\n",
       "      <td>BOLTServicesBranch</td>\n",
       "      <td>199-011-0004</td>\n",
       "      <td></td>\n",
       "      <td>2016-09-13 16:41:11.822232</td>\n",
       "      <td>passed</td>\n",
       "      <td>10.1.178.201</td>\n",
       "      <td>localhost:8080</td>\n",
       "      <td>save.test</td>\n",
       "      <td>1.841816</td>\n",
       "      <td>1</td>\n",
       "      <td>0.0</td>\n",
       "      <td>1.0</td>\n",
       "      <td>0.0</td>\n",
       "      <td>1473784871822232000</td>\n",
       "    </tr>\n",
       "    <tr>\n",
       "      <th>2944</th>\n",
       "      <td>4b46916b01c84582afd546d744a256d3</td>\n",
       "      <td>a8b94235af284e558c1696c41c89f368</td>\n",
       "      <td>d1071653f0d544f7b0dd8ec66e29ae95</td>\n",
       "      <td>BOLTServicesBranch</td>\n",
       "      <td>199-011-0005</td>\n",
       "      <td></td>\n",
       "      <td>2016-09-13 16:41:13.644048</td>\n",
       "      <td>passed</td>\n",
       "      <td>10.1.178.201</td>\n",
       "      <td>localhost:8080</td>\n",
       "      <td>transmit.test</td>\n",
       "      <td>1.748825</td>\n",
       "      <td>1</td>\n",
       "      <td>0.0</td>\n",
       "      <td>1.0</td>\n",
       "      <td>0.0</td>\n",
       "      <td>1473784873644048000</td>\n",
       "    </tr>\n",
       "    <tr>\n",
       "      <th>2945</th>\n",
       "      <td>4b46916b01c84582afd546d744a256d3</td>\n",
       "      <td>798770b1fb954a95bbd2327e6a9568ed</td>\n",
       "      <td>8d23c63921a84be08689198821445f8a</td>\n",
       "      <td>BOLTServicesBranch</td>\n",
       "      <td>199-012-0001</td>\n",
       "      <td></td>\n",
       "      <td>2016-09-13 16:41:13.891025</td>\n",
       "      <td>passed</td>\n",
       "      <td>10.1.178.201</td>\n",
       "      <td>localhost:8080</td>\n",
       "      <td>quicksave.test</td>\n",
       "      <td>0.189981</td>\n",
       "      <td>1</td>\n",
       "      <td>0.0</td>\n",
       "      <td>1.0</td>\n",
       "      <td>0.0</td>\n",
       "      <td>1473784873891025000</td>\n",
       "    </tr>\n",
       "    <tr>\n",
       "      <th>2946</th>\n",
       "      <td>4b46916b01c84582afd546d744a256d3</td>\n",
       "      <td>798770b1fb954a95bbd2327e6a9568ed</td>\n",
       "      <td>9674627f4ed842a89bc9c5ecc3f64b56</td>\n",
       "      <td>BOLTServicesBranch</td>\n",
       "      <td>199-012-0002</td>\n",
       "      <td></td>\n",
       "      <td>2016-09-13 16:41:14.388974</td>\n",
       "      <td>passed</td>\n",
       "      <td>10.1.178.201</td>\n",
       "      <td>localhost:8080</td>\n",
       "      <td>save.test</td>\n",
       "      <td>0.468953</td>\n",
       "      <td>1</td>\n",
       "      <td>0.0</td>\n",
       "      <td>1.0</td>\n",
       "      <td>0.0</td>\n",
       "      <td>1473784874388974000</td>\n",
       "    </tr>\n",
       "    <tr>\n",
       "      <th>2947</th>\n",
       "      <td>4b46916b01c84582afd546d744a256d3</td>\n",
       "      <td>798770b1fb954a95bbd2327e6a9568ed</td>\n",
       "      <td>3384011dd9f847f5a48a017bc83ae533</td>\n",
       "      <td>BOLTServicesBranch</td>\n",
       "      <td>199-012-0003</td>\n",
       "      <td></td>\n",
       "      <td>2016-09-13 16:41:15.182895</td>\n",
       "      <td>passed</td>\n",
       "      <td>10.1.178.201</td>\n",
       "      <td>localhost:8080</td>\n",
       "      <td>quicksave.test</td>\n",
       "      <td>0.743926</td>\n",
       "      <td>1</td>\n",
       "      <td>0.0</td>\n",
       "      <td>1.0</td>\n",
       "      <td>0.0</td>\n",
       "      <td>1473784875182895000</td>\n",
       "    </tr>\n",
       "    <tr>\n",
       "      <th>2948</th>\n",
       "      <td>4b46916b01c84582afd546d744a256d3</td>\n",
       "      <td>798770b1fb954a95bbd2327e6a9568ed</td>\n",
       "      <td>7617bca72b70403fb7654d330762b99a</td>\n",
       "      <td>BOLTServicesBranch</td>\n",
       "      <td>199-012-0004</td>\n",
       "      <td></td>\n",
       "      <td>2016-09-13 16:41:17.212692</td>\n",
       "      <td>passed</td>\n",
       "      <td>10.1.178.201</td>\n",
       "      <td>localhost:8080</td>\n",
       "      <td>save.test</td>\n",
       "      <td>1.958805</td>\n",
       "      <td>1</td>\n",
       "      <td>0.0</td>\n",
       "      <td>1.0</td>\n",
       "      <td>0.0</td>\n",
       "      <td>1473784877212692000</td>\n",
       "    </tr>\n",
       "    <tr>\n",
       "      <th>2949</th>\n",
       "      <td>4b46916b01c84582afd546d744a256d3</td>\n",
       "      <td>798770b1fb954a95bbd2327e6a9568ed</td>\n",
       "      <td>a8dfd3e47940407aaa16385ee6984d6f</td>\n",
       "      <td>BOLTServicesBranch</td>\n",
       "      <td>199-012-0005</td>\n",
       "      <td></td>\n",
       "      <td>2016-09-13 16:41:19.030510</td>\n",
       "      <td>passed</td>\n",
       "      <td>10.1.178.201</td>\n",
       "      <td>localhost:8080</td>\n",
       "      <td>transmit.test</td>\n",
       "      <td>1.744826</td>\n",
       "      <td>1</td>\n",
       "      <td>0.0</td>\n",
       "      <td>1.0</td>\n",
       "      <td>0.0</td>\n",
       "      <td>1473784879030510000</td>\n",
       "    </tr>\n",
       "  </tbody>\n",
       "</table>\n",
       "<p>253 rows × 17 columns</p>\n",
       "</div>"
      ],
      "text/plain": [
       "                            group_uuid                     scenario_uuid  \\\n",
       "2679  4b46916b01c84582afd546d744a256d3  7dcb8d48aa6346d5bed1e75116ca01a8   \n",
       "2680  4b46916b01c84582afd546d744a256d3  2b5cfc061eb647ebae3bc3540c054e17   \n",
       "2681  4b46916b01c84582afd546d744a256d3  31e6ff1cad8d485f8038448ccbbde7d7   \n",
       "2682  4b46916b01c84582afd546d744a256d3  31e6ff1cad8d485f8038448ccbbde7d7   \n",
       "2683  4b46916b01c84582afd546d744a256d3  77367fb03b8e4c2b85a392bd9380b029   \n",
       "2684  4b46916b01c84582afd546d744a256d3  77367fb03b8e4c2b85a392bd9380b029   \n",
       "2685  4b46916b01c84582afd546d744a256d3  a8d60cccdc6c47bcbaf68690d6ac700b   \n",
       "2686  4b46916b01c84582afd546d744a256d3  a8d60cccdc6c47bcbaf68690d6ac700b   \n",
       "2687  4b46916b01c84582afd546d744a256d3  a8d60cccdc6c47bcbaf68690d6ac700b   \n",
       "2688  4b46916b01c84582afd546d744a256d3  a8d60cccdc6c47bcbaf68690d6ac700b   \n",
       "2689  4b46916b01c84582afd546d744a256d3  a8d60cccdc6c47bcbaf68690d6ac700b   \n",
       "2690  4b46916b01c84582afd546d744a256d3  a8d60cccdc6c47bcbaf68690d6ac700b   \n",
       "2691  4b46916b01c84582afd546d744a256d3  a8d60cccdc6c47bcbaf68690d6ac700b   \n",
       "2692  4b46916b01c84582afd546d744a256d3  a8d60cccdc6c47bcbaf68690d6ac700b   \n",
       "2693  4b46916b01c84582afd546d744a256d3  a8d60cccdc6c47bcbaf68690d6ac700b   \n",
       "2694  4b46916b01c84582afd546d744a256d3  a8d60cccdc6c47bcbaf68690d6ac700b   \n",
       "2695  4b46916b01c84582afd546d744a256d3  78333d4a3b1540c4aa8482db911c51cc   \n",
       "2696  4b46916b01c84582afd546d744a256d3  78333d4a3b1540c4aa8482db911c51cc   \n",
       "2697  4b46916b01c84582afd546d744a256d3  78333d4a3b1540c4aa8482db911c51cc   \n",
       "2698  4b46916b01c84582afd546d744a256d3  78333d4a3b1540c4aa8482db911c51cc   \n",
       "2699  4b46916b01c84582afd546d744a256d3  78333d4a3b1540c4aa8482db911c51cc   \n",
       "2700  4b46916b01c84582afd546d744a256d3  78333d4a3b1540c4aa8482db911c51cc   \n",
       "2701  4b46916b01c84582afd546d744a256d3  78333d4a3b1540c4aa8482db911c51cc   \n",
       "2702  4b46916b01c84582afd546d744a256d3  7d2bd84cc5a749f8bdc68665500c4b23   \n",
       "2703  4b46916b01c84582afd546d744a256d3  7d2bd84cc5a749f8bdc68665500c4b23   \n",
       "2704  4b46916b01c84582afd546d744a256d3  b580c3183e594cf08a045a3e45ef76f3   \n",
       "2705  4b46916b01c84582afd546d744a256d3  b580c3183e594cf08a045a3e45ef76f3   \n",
       "2706  4b46916b01c84582afd546d744a256d3  53b084da49bc48ee843d560e60adc914   \n",
       "2707  4b46916b01c84582afd546d744a256d3  c156463ede3448bfb9f881abc1059358   \n",
       "2708  4b46916b01c84582afd546d744a256d3  c156463ede3448bfb9f881abc1059358   \n",
       "...                                ...                               ...   \n",
       "2920  4b46916b01c84582afd546d744a256d3  04a2ddcfacec4a24a250f976e66cd3df   \n",
       "2921  4b46916b01c84582afd546d744a256d3  04a2ddcfacec4a24a250f976e66cd3df   \n",
       "2922  4b46916b01c84582afd546d744a256d3  04a2ddcfacec4a24a250f976e66cd3df   \n",
       "2923  4b46916b01c84582afd546d744a256d3  04a2ddcfacec4a24a250f976e66cd3df   \n",
       "2924  4b46916b01c84582afd546d744a256d3  04a2ddcfacec4a24a250f976e66cd3df   \n",
       "2925  4b46916b01c84582afd546d744a256d3  15e834f4fa9d4c5fb1e1c27d6c58d177   \n",
       "2926  4b46916b01c84582afd546d744a256d3  15e834f4fa9d4c5fb1e1c27d6c58d177   \n",
       "2927  4b46916b01c84582afd546d744a256d3  15e834f4fa9d4c5fb1e1c27d6c58d177   \n",
       "2928  4b46916b01c84582afd546d744a256d3  15e834f4fa9d4c5fb1e1c27d6c58d177   \n",
       "2929  4b46916b01c84582afd546d744a256d3  15e834f4fa9d4c5fb1e1c27d6c58d177   \n",
       "2930  4b46916b01c84582afd546d744a256d3  73fd835ec0304e8296e7df1e05a9c68c   \n",
       "2931  4b46916b01c84582afd546d744a256d3  73fd835ec0304e8296e7df1e05a9c68c   \n",
       "2932  4b46916b01c84582afd546d744a256d3  73fd835ec0304e8296e7df1e05a9c68c   \n",
       "2933  4b46916b01c84582afd546d744a256d3  73fd835ec0304e8296e7df1e05a9c68c   \n",
       "2934  4b46916b01c84582afd546d744a256d3  73fd835ec0304e8296e7df1e05a9c68c   \n",
       "2935  4b46916b01c84582afd546d744a256d3  beaff98717a24ef59be928f832697382   \n",
       "2936  4b46916b01c84582afd546d744a256d3  beaff98717a24ef59be928f832697382   \n",
       "2937  4b46916b01c84582afd546d744a256d3  beaff98717a24ef59be928f832697382   \n",
       "2938  4b46916b01c84582afd546d744a256d3  beaff98717a24ef59be928f832697382   \n",
       "2939  4b46916b01c84582afd546d744a256d3  beaff98717a24ef59be928f832697382   \n",
       "2940  4b46916b01c84582afd546d744a256d3  a8b94235af284e558c1696c41c89f368   \n",
       "2941  4b46916b01c84582afd546d744a256d3  a8b94235af284e558c1696c41c89f368   \n",
       "2942  4b46916b01c84582afd546d744a256d3  a8b94235af284e558c1696c41c89f368   \n",
       "2943  4b46916b01c84582afd546d744a256d3  a8b94235af284e558c1696c41c89f368   \n",
       "2944  4b46916b01c84582afd546d744a256d3  a8b94235af284e558c1696c41c89f368   \n",
       "2945  4b46916b01c84582afd546d744a256d3  798770b1fb954a95bbd2327e6a9568ed   \n",
       "2946  4b46916b01c84582afd546d744a256d3  798770b1fb954a95bbd2327e6a9568ed   \n",
       "2947  4b46916b01c84582afd546d744a256d3  798770b1fb954a95bbd2327e6a9568ed   \n",
       "2948  4b46916b01c84582afd546d744a256d3  798770b1fb954a95bbd2327e6a9568ed   \n",
       "2949  4b46916b01c84582afd546d744a256d3  798770b1fb954a95bbd2327e6a9568ed   \n",
       "\n",
       "                             case_uuid   case_service_name       case_id  \\\n",
       "2679  1eeb6629e3994df595354f4c53937a58  BOLTServicesBranch  101-008-0001   \n",
       "2680  4d0cb57c33ae41579fa0f4c598c597d6  BOLTServicesBranch  002-004-0001   \n",
       "2681  8f544865622841a798a9441563ed0b0d  BOLTServicesBranch  103-001-0002   \n",
       "2682  4f0f3b5fce76404682419840d6c0f2ff  BOLTServicesBranch  103-001-0003   \n",
       "2683  5dedc33ec1e2429cb0707c9e0c09155e  BOLTServicesBranch  103-004-0001   \n",
       "2684  ebfafcdd1ddd4a03bbafdef2dec9d990  BOLTServicesBranch  103-004-0002   \n",
       "2685  e579271063f64adfaab2ca0553d8c8c9  BOLTServicesBranch  105-001-0002   \n",
       "2686  b38201864e7f4c2989c0e3405952ccdc  BOLTServicesBranch  105-001-0003   \n",
       "2687  bffadd6576ab411a8177e28c094f82ca  BOLTServicesBranch  105-001-0004   \n",
       "2688  346de19c9dee484eb91776a961e9452e  BOLTServicesBranch  105-001-0008   \n",
       "2689  b3b65b64d1ac43fba91a9d4c8d605387  BOLTServicesBranch  105-001-0009   \n",
       "2690  819899ada66345c6801feb764beeda4c  BOLTServicesBranch  105-001-0010   \n",
       "2691  b4ce123b474b433585325680ec216f27  BOLTServicesBranch  105-001-0012   \n",
       "2692  d3544d99ca8e4c9181ea6fa26839ccd0  BOLTServicesBranch  105-001-0015   \n",
       "2693  78ee15441ac74ba087678c88d6b75477  BOLTServicesBranch  105-001-0018   \n",
       "2694  f6aef1bf07e54641b0d7ae36f02b1a7e  BOLTServicesBranch  105-001-0021   \n",
       "2695  27e648a96b054f49890a6124c51a7845  BOLTServicesBranch  105-002-0001   \n",
       "2696  362c51f6d0a34722816dd5779b165df6  BOLTServicesBranch  105-002-0003   \n",
       "2697  35c7dee0a18745a99e1d3eff6048ded6  BOLTServicesBranch  105-002-0004   \n",
       "2698  f1fb9213e1b4432a9b803d8e6effbcab  BOLTServicesBranch  105-002-0005   \n",
       "2699  55fb807ff53645af910be7eb56dbc07d  BOLTServicesBranch  105-002-0008   \n",
       "2700  07ed6f6d1fda48e5aa0392b53950abac  BOLTServicesBranch  105-002-0009   \n",
       "2701  357e80f7dd6b4ddf8c43f32ab4634d32  BOLTServicesBranch  105-002-0010   \n",
       "2702  956826ea743846f7b468a3d12ca96f06  BOLTServicesBranch  105-005-0001   \n",
       "2703  4dbd588184974b3f90ca29ce9a47ed79  BOLTServicesBranch  105-005-0002   \n",
       "2704  594d9bd9d526445da48b3705c1ee7b60  BOLTServicesBranch  105-012-0005   \n",
       "2705  a897a402be754972a0c4795641b7c00b  BOLTServicesBranch  105-012-0008   \n",
       "2706  52847153eb654c6983d336f276ab3d13  BOLTServicesBranch  105-013-0002   \n",
       "2707  61d162427f6c466babde3cc0109e167e  BOLTServicesBranch  105-014-0001   \n",
       "2708  b6a4024b5c4e4f8f846724b04d43fe40  BOLTServicesBranch  105-014-0002   \n",
       "...                                ...                 ...           ...   \n",
       "2920  81f8e5b5c5104eaaa05de4a01a4462e8  BOLTServicesBranch  199-007-0001   \n",
       "2921  422e88e3fb994f33a34e78e15cd898cd  BOLTServicesBranch  199-007-0002   \n",
       "2922  a3fdedc9e4b042c69a140ffe7423f5ab  BOLTServicesBranch  199-007-0003   \n",
       "2923  f3b2ddecd4c440de81a350a3101eddba  BOLTServicesBranch  199-007-0004   \n",
       "2924  9c34b5204d5e473fb9cd02d4439002c6  BOLTServicesBranch  199-007-0005   \n",
       "2925  1b6a3aded3754b829dc7ff492c9b8da4  BOLTServicesBranch  199-008-0001   \n",
       "2926  e79f52ef581340e6b54410f5cb25cd6f  BOLTServicesBranch  199-008-0002   \n",
       "2927  2d63e0a876fc47fb94a17b5dcb992302  BOLTServicesBranch  199-008-0003   \n",
       "2928  58635a00d03146618b78bd0be6b4d837  BOLTServicesBranch  199-008-0004   \n",
       "2929  12e937d5e62645e2ab785b5461a99e1d  BOLTServicesBranch  199-008-0005   \n",
       "2930  40ce34a6e9e64da0a9a95396f5a8e5e5  BOLTServicesBranch  199-009-0001   \n",
       "2931  c327d70d2f8140e89327aeaf78589972  BOLTServicesBranch  199-009-0002   \n",
       "2932  74e39632a8764415948b8c8fc9a5e646  BOLTServicesBranch  199-009-0003   \n",
       "2933  cc76f54458584384ae7c3950046f1b22  BOLTServicesBranch  199-009-0004   \n",
       "2934  d02b8405a1bb4989babcf620561ea531  BOLTServicesBranch  199-009-0005   \n",
       "2935  f622cc5f887e439c9f4c5bdbd34c107f  BOLTServicesBranch  199-010-0001   \n",
       "2936  f9723a7f79924707bec25662c1553f63  BOLTServicesBranch  199-010-0002   \n",
       "2937  3f86ae503d8b4f0c949ee7ea3d28f810  BOLTServicesBranch  199-010-0003   \n",
       "2938  3ef269e25fe248e3952ddb3c5762241c  BOLTServicesBranch  199-010-0004   \n",
       "2939  27ac52aba8ce4d92a6970ade9b8502fb  BOLTServicesBranch  199-010-0005   \n",
       "2940  14525d841c674d15b0842261b9e800f3  BOLTServicesBranch  199-011-0001   \n",
       "2941  81b123975eaa4230bfbc1bc4036cf9d9  BOLTServicesBranch  199-011-0002   \n",
       "2942  629fdd25374e42ee916a0a252f5ff9a1  BOLTServicesBranch  199-011-0003   \n",
       "2943  e01395a6660c4ea7a8c6e8e9180247a6  BOLTServicesBranch  199-011-0004   \n",
       "2944  d1071653f0d544f7b0dd8ec66e29ae95  BOLTServicesBranch  199-011-0005   \n",
       "2945  8d23c63921a84be08689198821445f8a  BOLTServicesBranch  199-012-0001   \n",
       "2946  9674627f4ed842a89bc9c5ecc3f64b56  BOLTServicesBranch  199-012-0002   \n",
       "2947  3384011dd9f847f5a48a017bc83ae533  BOLTServicesBranch  199-012-0003   \n",
       "2948  7617bca72b70403fb7654d330762b99a  BOLTServicesBranch  199-012-0004   \n",
       "2949  a8dfd3e47940407aaa16385ee6984d6f  BOLTServicesBranch  199-012-0005   \n",
       "\n",
       "                                       case_description  \\\n",
       "2679                              GET Customs Home Page   \n",
       "2680                                  POST Compute Line   \n",
       "2681                        POST Create new Declaration   \n",
       "2682  POST Negative Save of a Declaration without a ...   \n",
       "2683                                   POST Quick Save    \n",
       "2684             POST Cancel of an attaching an invoice   \n",
       "2685    POST Save of a Declaration with No Importer GCI   \n",
       "2686         unlock the declaration, for some reason...   \n",
       "2687  POST Transmit of a Declaration with No Importe...   \n",
       "2688  POST Save of a Declaration with denied Importe...   \n",
       "2689         unlock the declaration, for some reason...   \n",
       "2690  POST Transmit of a Declaration with denied Imp...   \n",
       "2691  POST Save of a Declaration with Importer GCI n...   \n",
       "2692  POST Transmit of a Declaration Importer GCI no...   \n",
       "2693  POST Save of a Declaration with good Importer ...   \n",
       "2694  POST Transmit of a Declaration with good Impor...   \n",
       "2695  POST Negative Quick Save of a Declaration with...   \n",
       "2696  POST Transmit of a Declaration with No Custome...   \n",
       "2697         unlock the declaration, for some reason...   \n",
       "2698  POST Save of a Declaration Customer GCI with n...   \n",
       "2699  POST Save of a Declaration Customer GCI with P...   \n",
       "2700  POST Save of a Declaration Customer GCI with P...   \n",
       "2701  POST Negative Quick Save of a Declaration Cust...   \n",
       "2702  POST Save Declaration with No Decl Type. Requi...   \n",
       "2703  POST Transmit Declaration with No Decl Type. R...   \n",
       "2704  POST Save of a Declaration with Bad Country of...   \n",
       "2705  POST Transmit of a Declaration with Bad Countr...   \n",
       "2706  POST Save of a Declaration with No Country of ...   \n",
       "2707  POST Save of a Declaration with No CFIT File N...   \n",
       "2708  POST Transmit of a Declaration with No CFIT Fi...   \n",
       "...                                                 ...   \n",
       "2920                                                      \n",
       "2921                                                      \n",
       "2922                                                      \n",
       "2923                                                      \n",
       "2924                                                      \n",
       "2925                                                      \n",
       "2926                                                      \n",
       "2927                                                      \n",
       "2928                                                      \n",
       "2929                                                      \n",
       "2930                                                      \n",
       "2931                                                      \n",
       "2932                                                      \n",
       "2933                                                      \n",
       "2934                                                      \n",
       "2935                                                      \n",
       "2936                                                      \n",
       "2937                                                      \n",
       "2938                                                      \n",
       "2939                                                      \n",
       "2940                                                      \n",
       "2941                                                      \n",
       "2942                                                      \n",
       "2943                                                      \n",
       "2944                                                      \n",
       "2945                                                      \n",
       "2946                                                      \n",
       "2947                                                      \n",
       "2948                                                      \n",
       "2949                                                      \n",
       "\n",
       "                 case_timestamp case_status case_client_ip   case_endpoint  \\\n",
       "2679 2016-09-13 16:32:40.417174      passed   10.1.178.201  localhost:8080   \n",
       "2680 2016-09-13 16:32:40.529150      passed   10.1.178.201  localhost:8080   \n",
       "2681 2016-09-13 16:32:41.291999      passed   10.1.178.201  localhost:8080   \n",
       "2682 2016-09-13 16:32:43.171622      passed   10.1.178.201  localhost:8080   \n",
       "2683 2016-09-13 16:32:43.769503      passed   10.1.178.201  localhost:8080   \n",
       "2684 2016-09-13 16:32:44.725311      passed   10.1.178.201  localhost:8080   \n",
       "2685 2016-09-13 16:32:46.370982      passed   10.1.178.201  localhost:8080   \n",
       "2686 2016-09-13 16:32:46.515954      passed   10.1.178.201  localhost:8080   \n",
       "2687 2016-09-13 16:32:48.661524      passed   10.1.178.201  localhost:8080   \n",
       "2688 2016-09-13 16:32:52.973661      passed   10.1.178.201  localhost:8080   \n",
       "2689 2016-09-13 16:32:53.083640      passed   10.1.178.201  localhost:8080   \n",
       "2690 2016-09-13 16:32:56.548947      passed   10.1.178.201  localhost:8080   \n",
       "2691 2016-09-13 16:32:59.913274      passed   10.1.178.201  localhost:8080   \n",
       "2692 2016-09-13 16:33:03.118632      passed   10.1.178.201  localhost:8080   \n",
       "2693 2016-09-13 16:33:06.409974      passed   10.1.178.201  localhost:8080   \n",
       "2694 2016-09-13 16:33:09.692317      passed   10.1.178.201  localhost:8080   \n",
       "2695 2016-09-13 16:33:09.999255      passed   10.1.178.201  localhost:8080   \n",
       "2696 2016-09-13 16:33:11.444967      passed   10.1.178.201  localhost:8080   \n",
       "2697 2016-09-13 16:33:11.562942      passed   10.1.178.201  localhost:8080   \n",
       "2698 2016-09-13 16:33:15.103235      passed   10.1.178.201  localhost:8080   \n",
       "2699 2016-09-13 16:33:17.649725      passed   10.1.178.201  localhost:8080   \n",
       "2700 2016-09-13 16:33:20.150224      passed   10.1.178.201  localhost:8080   \n",
       "2701 2016-09-13 16:33:20.588138      passed   10.1.178.201  localhost:8080   \n",
       "2702 2016-09-13 16:33:22.328789      passed   10.1.178.201  localhost:8080   \n",
       "2703 2016-09-13 16:33:24.058444      passed   10.1.178.201  localhost:8080   \n",
       "2704 2016-09-13 16:33:25.767102      passed   10.1.178.201  localhost:8080   \n",
       "2705 2016-09-13 16:33:28.007653      passed   10.1.178.201  localhost:8080   \n",
       "2706 2016-09-13 16:33:29.775300      passed   10.1.178.201  localhost:8080   \n",
       "2707 2016-09-13 16:33:31.514951      passed   10.1.178.201  localhost:8080   \n",
       "2708 2016-09-13 16:33:33.893476      passed   10.1.178.201  localhost:8080   \n",
       "...                         ...         ...            ...             ...   \n",
       "2920 2016-09-13 16:40:43.571057      passed   10.1.178.201  localhost:8080   \n",
       "2921 2016-09-13 16:40:44.333981      passed   10.1.178.201  localhost:8080   \n",
       "2922 2016-09-13 16:40:47.558657      passed   10.1.178.201  localhost:8080   \n",
       "2923 2016-09-13 16:40:49.401473      passed   10.1.178.201  localhost:8080   \n",
       "2924 2016-09-13 16:40:51.268286      passed   10.1.178.201  localhost:8080   \n",
       "2925 2016-09-13 16:40:51.828231      passed   10.1.178.201  localhost:8080   \n",
       "2926 2016-09-13 16:40:52.605154      passed   10.1.178.201  localhost:8080   \n",
       "2927 2016-09-13 16:40:53.396074      passed   10.1.178.201  localhost:8080   \n",
       "2928 2016-09-13 16:40:55.275886      passed   10.1.178.201  localhost:8080   \n",
       "2929 2016-09-13 16:40:57.224692      passed   10.1.178.201  localhost:8080   \n",
       "2930 2016-09-13 16:40:57.476665      passed   10.1.178.201  localhost:8080   \n",
       "2931 2016-09-13 16:40:57.993614      passed   10.1.178.201  localhost:8080   \n",
       "2932 2016-09-13 16:40:58.764538      passed   10.1.178.201  localhost:8080   \n",
       "2933 2016-09-13 16:41:00.732341      passed   10.1.178.201  localhost:8080   \n",
       "2934 2016-09-13 16:41:02.673146      passed   10.1.178.201  localhost:8080   \n",
       "2935 2016-09-13 16:41:02.926120      passed   10.1.178.201  localhost:8080   \n",
       "2936 2016-09-13 16:41:03.685045      passed   10.1.178.201  localhost:8080   \n",
       "2937 2016-09-13 16:41:04.462968      passed   10.1.178.201  localhost:8080   \n",
       "2938 2016-09-13 16:41:06.430771      passed   10.1.178.201  localhost:8080   \n",
       "2939 2016-09-13 16:41:08.305583      passed   10.1.178.201  localhost:8080   \n",
       "2940 2016-09-13 16:41:08.592555      passed   10.1.178.201  localhost:8080   \n",
       "2941 2016-09-13 16:41:09.117501      passed   10.1.178.201  localhost:8080   \n",
       "2942 2016-09-13 16:41:09.903424      passed   10.1.178.201  localhost:8080   \n",
       "2943 2016-09-13 16:41:11.822232      passed   10.1.178.201  localhost:8080   \n",
       "2944 2016-09-13 16:41:13.644048      passed   10.1.178.201  localhost:8080   \n",
       "2945 2016-09-13 16:41:13.891025      passed   10.1.178.201  localhost:8080   \n",
       "2946 2016-09-13 16:41:14.388974      passed   10.1.178.201  localhost:8080   \n",
       "2947 2016-09-13 16:41:15.182895      passed   10.1.178.201  localhost:8080   \n",
       "2948 2016-09-13 16:41:17.212692      passed   10.1.178.201  localhost:8080   \n",
       "2949 2016-09-13 16:41:19.030510      passed   10.1.178.201  localhost:8080   \n",
       "\n",
       "         case_action  case_duration  numeric_status  failed  passed  skipped  \\\n",
       "2679       home.test       0.125975               1     0.0     1.0      0.0   \n",
       "2680    pullpsm.test       0.094981               1     0.0     1.0      0.0   \n",
       "2681        new.test       0.741852               1     0.0     1.0      0.0   \n",
       "2682       save.test       1.857629               1     0.0     1.0      0.0   \n",
       "2683  quicksave.test       0.569886               1     0.0     1.0      0.0   \n",
       "2684     cancel.test       0.933813               1     0.0     1.0      0.0   \n",
       "2685       save.test       1.615677               1     0.0     1.0      0.0   \n",
       "2686     unlock.test       0.115977               1     0.0     1.0      0.0   \n",
       "2687   transmit.test       2.113577               1     0.0     1.0      0.0   \n",
       "2688       save.test       4.273145               1     0.0     1.0      0.0   \n",
       "2689     unlock.test       0.080984               1     0.0     1.0      0.0   \n",
       "2690   transmit.test       3.431314               1     0.0     1.0      0.0   \n",
       "2691       save.test       3.327335               1     0.0     1.0      0.0   \n",
       "2692   transmit.test       3.170366               1     0.0     1.0      0.0   \n",
       "2693       save.test       3.262347               1     0.0     1.0      0.0   \n",
       "2694   transmit.test       3.240351               1     0.0     1.0      0.0   \n",
       "2695  quicksave.test       0.268946               1     0.0     1.0      0.0   \n",
       "2696   transmit.test       1.420716               1     0.0     1.0      0.0   \n",
       "2697     unlock.test       0.088982               1     0.0     1.0      0.0   \n",
       "2698       save.test       3.506299               1     0.0     1.0      0.0   \n",
       "2699       save.test       2.505499               1     0.0     1.0      0.0   \n",
       "2700       save.test       2.455508               1     0.0     1.0      0.0   \n",
       "2701  quicksave.test       0.400920               1     0.0     1.0      0.0   \n",
       "2702       save.test       1.711658               1     0.0     1.0      0.0   \n",
       "2703       save.test       1.700660               1     0.0     1.0      0.0   \n",
       "2704       save.test       1.675665               1     0.0     1.0      0.0   \n",
       "2705   transmit.test       2.196561               1     0.0     1.0      0.0   \n",
       "2706       save.test       1.725655               1     0.0     1.0      0.0   \n",
       "2707       save.test       1.713657               1     0.0     1.0      0.0   \n",
       "2708   transmit.test       2.342531               1     0.0     1.0      0.0   \n",
       "...              ...            ...             ...     ...     ...      ...   \n",
       "2920  quicksave.test       0.846915               1     0.0     1.0      0.0   \n",
       "2921       save.test       0.732927               1     0.0     1.0      0.0   \n",
       "2922  quicksave.test       3.174682               1     0.0     1.0      0.0   \n",
       "2923       save.test       1.761824               1     0.0     1.0      0.0   \n",
       "2924   transmit.test       1.793820               1     0.0     1.0      0.0   \n",
       "2925  quicksave.test       0.502949               1     0.0     1.0      0.0   \n",
       "2926       save.test       0.746926               1     0.0     1.0      0.0   \n",
       "2927  quicksave.test       0.733926               1     0.0     1.0      0.0   \n",
       "2928       save.test       1.804819               1     0.0     1.0      0.0   \n",
       "2929   transmit.test       1.874813               1     0.0     1.0      0.0   \n",
       "2930  quicksave.test       0.193980               1     0.0     1.0      0.0   \n",
       "2931       save.test       0.486952               1     0.0     1.0      0.0   \n",
       "2932  quicksave.test       0.719928               1     0.0     1.0      0.0   \n",
       "2933       save.test       1.895811               1     0.0     1.0      0.0   \n",
       "2934   transmit.test       1.864814               1     0.0     1.0      0.0   \n",
       "2935  quicksave.test       0.194980               1     0.0     1.0      0.0   \n",
       "2936       save.test       0.729927               1     0.0     1.0      0.0   \n",
       "2937  quicksave.test       0.727928               1     0.0     1.0      0.0   \n",
       "2938       save.test       1.895811               1     0.0     1.0      0.0   \n",
       "2939   transmit.test       1.800820               1     0.0     1.0      0.0   \n",
       "2940  quicksave.test       0.227978               1     0.0     1.0      0.0   \n",
       "2941       save.test       0.494950               1     0.0     1.0      0.0   \n",
       "2942  quicksave.test       0.732927               1     0.0     1.0      0.0   \n",
       "2943       save.test       1.841816               1     0.0     1.0      0.0   \n",
       "2944   transmit.test       1.748825               1     0.0     1.0      0.0   \n",
       "2945  quicksave.test       0.189981               1     0.0     1.0      0.0   \n",
       "2946       save.test       0.468953               1     0.0     1.0      0.0   \n",
       "2947  quicksave.test       0.743926               1     0.0     1.0      0.0   \n",
       "2948       save.test       1.958805               1     0.0     1.0      0.0   \n",
       "2949   transmit.test       1.744826               1     0.0     1.0      0.0   \n",
       "\n",
       "                 date_int  \n",
       "2679  1473784360417174000  \n",
       "2680  1473784360529150000  \n",
       "2681  1473784361291999000  \n",
       "2682  1473784363171622000  \n",
       "2683  1473784363769503000  \n",
       "2684  1473784364725311000  \n",
       "2685  1473784366370982000  \n",
       "2686  1473784366515954000  \n",
       "2687  1473784368661524000  \n",
       "2688  1473784372973661000  \n",
       "2689  1473784373083640000  \n",
       "2690  1473784376548947000  \n",
       "2691  1473784379913274000  \n",
       "2692  1473784383118632000  \n",
       "2693  1473784386409974000  \n",
       "2694  1473784389692317000  \n",
       "2695  1473784389999255000  \n",
       "2696  1473784391444967000  \n",
       "2697  1473784391562942000  \n",
       "2698  1473784395103235000  \n",
       "2699  1473784397649725000  \n",
       "2700  1473784400150224000  \n",
       "2701  1473784400588138000  \n",
       "2702  1473784402328789000  \n",
       "2703  1473784404058444000  \n",
       "2704  1473784405767102000  \n",
       "2705  1473784408007653000  \n",
       "2706  1473784409775300000  \n",
       "2707  1473784411514951000  \n",
       "2708  1473784413893476000  \n",
       "...                   ...  \n",
       "2920  1473784843571057000  \n",
       "2921  1473784844333981000  \n",
       "2922  1473784847558657000  \n",
       "2923  1473784849401473000  \n",
       "2924  1473784851268286000  \n",
       "2925  1473784851828231000  \n",
       "2926  1473784852605154000  \n",
       "2927  1473784853396074000  \n",
       "2928  1473784855275886000  \n",
       "2929  1473784857224692000  \n",
       "2930  1473784857476665000  \n",
       "2931  1473784857993614000  \n",
       "2932  1473784858764538000  \n",
       "2933  1473784860732341000  \n",
       "2934  1473784862673146000  \n",
       "2935  1473784862926120000  \n",
       "2936  1473784863685045000  \n",
       "2937  1473784864462968000  \n",
       "2938  1473784866430771000  \n",
       "2939  1473784868305583000  \n",
       "2940  1473784868592555000  \n",
       "2941  1473784869117501000  \n",
       "2942  1473784869903424000  \n",
       "2943  1473784871822232000  \n",
       "2944  1473784873644048000  \n",
       "2945  1473784873891025000  \n",
       "2946  1473784874388974000  \n",
       "2947  1473784875182895000  \n",
       "2948  1473784877212692000  \n",
       "2949  1473784879030510000  \n",
       "\n",
       "[253 rows x 17 columns]"
      ]
     },
     "execution_count": 18,
     "metadata": {},
     "output_type": "execute_result"
    }
   ],
   "source": [
    "latest[_data.return_in_norm_df(latest, 'case_duration', 2)]"
   ]
  },
  {
   "cell_type": "code",
   "execution_count": 19,
   "metadata": {
    "collapsed": false,
    "scrolled": false
   },
   "outputs": [
    {
     "data": {
      "text/plain": [
       "<matplotlib.text.Text at 0x322292e8>"
      ]
     },
     "execution_count": 19,
     "metadata": {},
     "output_type": "execute_result"
    },
    {
     "data": {
      "image/png": "[encoded data removed]",
      "text/plain": [
       "<matplotlib.figure.Figure at 0x322ec438>"
      ]
     },
     "metadata": {},
     "output_type": "display_data"
    }
   ],
   "source": [
    "fig, ax = plt.subplots(figsize=(20,5))\n",
    "metrics.df[metrics.this_month].case_action.value_counts().plot(kind='bar', ax=ax, color='gray')\n",
    "ax.set_title('Coverage by Endpoint')"
   ]
  },
  {
   "cell_type": "code",
   "execution_count": 33,
   "metadata": {
    "collapsed": false
   },
   "outputs": [
    {
     "data": {
      "text/html": [
       "\n",
       "\n",
       "    <div class=\"bk-root\">\n",
       "        <div class=\"plotdiv\" id=\"6d632823-fd22-46af-b1f1-c3819d60a490\"></div>\n",
       "    </div>\n",
       "<script type=\"text/javascript\">\n",
       "  \n",
       "  (function(global) {\n",
       "    function now() {\n",
       "      return new Date();\n",
       "    }\n",
       "  \n",
       "    var force = \"\";\n",
       "  \n",
       "    if (typeof (window._bokeh_onload_callbacks) === \"undefined\" || force !== \"\") {\n",
       "      window._bokeh_onload_callbacks = [];\n",
       "      window._bokeh_is_loading = undefined;\n",
       "    }\n",
       "  \n",
       "    function run_callbacks() {\n",
       "      window._bokeh_onload_callbacks.forEach(function(callback) { callback() });\n",
       "      delete window._bokeh_onload_callbacks\n",
       "      console.info(\"Bokeh: all callbacks have finished\");\n",
       "    }\n",
       "  \n",
       "    function load_libs(js_urls, callback) {\n",
       "      window._bokeh_onload_callbacks.push(callback);\n",
       "      if (window._bokeh_is_loading > 0) {\n",
       "        console.log(\"Bokeh: BokehJS is being loaded, scheduling callback at\", now());\n",
       "        return null;\n",
       "      }\n",
       "      if (js_urls == null || js_urls.length === 0) {\n",
       "        run_callbacks();\n",
       "        return null;\n",
       "      }\n",
       "      console.log(\"Bokeh: BokehJS not loaded, scheduling load and callback at\", now());\n",
       "      window._bokeh_is_loading = js_urls.length;\n",
       "      for (var i = 0; i < js_urls.length; i++) {\n",
       "        var url = js_urls[i];\n",
       "        var s = document.createElement('script');\n",
       "        s.src = url;\n",
       "        s.async = false;\n",
       "        s.onreadystatechange = s.onload = function() {\n",
       "          window._bokeh_is_loading--;\n",
       "          if (window._bokeh_is_loading === 0) {\n",
       "            console.log(\"Bokeh: all BokehJS libraries loaded\");\n",
       "            run_callbacks()\n",
       "          }\n",
       "        };\n",
       "        s.onerror = function() {\n",
       "          console.warn(\"failed to load library \" + url);\n",
       "        };\n",
       "        console.log(\"Bokeh: injecting script tag for BokehJS library: \", url);\n",
       "        document.getElementsByTagName(\"head\")[0].appendChild(s);\n",
       "      }\n",
       "    };var element = document.getElementById(\"6d632823-fd22-46af-b1f1-c3819d60a490\");\n",
       "    if (element == null) {\n",
       "      console.log(\"Bokeh: ERROR: autoload.js configured with elementid '6d632823-fd22-46af-b1f1-c3819d60a490' but no matching script tag was found. \")\n",
       "      return false;\n",
       "    }\n",
       "  \n",
       "    var js_urls = [];\n",
       "  \n",
       "    var inline_js = [\n",
       "      function(Bokeh) {\n",
       "        Bokeh.$(function() {\n",
       "            var docs_json = {\"0ae96a45-60c8-4873-98e0-e65086ea8134\":{\"roots\":{\"references\":[{\"attributes\":{\"plot\":null,\"text\":\"HP Distribution by Cylinder Count\"},\"id\":\"6962b54e-62ec-4a16-bb55-37c32e1bc549\",\"type\":\"Title\"},{\"attributes\":{\"data_source\":{\"id\":\"cd3a6fe5-9024-4dcd-af85-489bf339a2d2\",\"type\":\"ColumnDataSource\"},\"glyph\":{\"id\":\"2b5be158-98ef-4d0e-85ee-862794fc8cf8\",\"type\":\"Rect\"},\"hover_glyph\":null,\"nonselection_glyph\":null,\"selection_glyph\":null},\"id\":\"5b69cd22-b12e-425e-b9ff-8786d0a8714f\",\"type\":\"GlyphRenderer\"},{\"attributes\":{\"fill_alpha\":{\"field\":\"fill_alpha\"},\"fill_color\":{\"field\":\"color\"},\"height\":{\"field\":\"height\",\"units\":\"data\"},\"line_color\":{\"field\":\"line_color\"},\"width\":{\"field\":\"width\",\"units\":\"data\"},\"x\":{\"field\":\"x\"},\"y\":{\"field\":\"y\"}},\"id\":\"8aedd391-52c2-492c-bc04-923ac5eac8c2\",\"type\":\"Rect\"},{\"attributes\":{\"fill_alpha\":{\"field\":\"fill_alpha\"},\"fill_color\":{\"field\":\"color\"},\"height\":{\"field\":\"height\",\"units\":\"data\"},\"line_color\":{\"field\":\"line_color\"},\"width\":{\"field\":\"width\",\"units\":\"data\"},\"x\":{\"field\":\"x\"},\"y\":{\"field\":\"y\"}},\"id\":\"d13345dd-1fad-40b4-bf72-09f575a48041\",\"type\":\"Rect\"},{\"attributes\":{\"data_source\":{\"id\":\"da919f51-3ff1-4e16-9580-8fe40007c5e8\",\"type\":\"ColumnDataSource\"},\"glyph\":{\"id\":\"eb9354ea-c9c0-450d-8d49-ea08ede20168\",\"type\":\"Rect\"},\"hover_glyph\":null,\"nonselection_glyph\":null,\"selection_glyph\":null},\"id\":\"e87a2ee2-2813-4101-8231-990a9cfc9b43\",\"type\":\"GlyphRenderer\"},{\"attributes\":{\"callback\":null,\"end\":236.90034090909091,\"start\":39.11329545454546},\"id\":\"4b5fec93-5719-4327-be49-bf14c2550889\",\"type\":\"Range1d\"},{\"attributes\":{\"fill_alpha\":{\"field\":\"fill_alpha\"},\"fill_color\":{\"field\":\"color\"},\"height\":{\"field\":\"height\",\"units\":\"data\"},\"line_color\":{\"field\":\"line_color\"},\"width\":{\"field\":\"width\",\"units\":\"data\"},\"x\":{\"field\":\"x\"},\"y\":{\"field\":\"y\"}},\"id\":\"907fe0e8-70d1-456e-9ea6-1566e21b52a9\",\"type\":\"Rect\"},{\"attributes\":{\"fill_alpha\":{\"field\":\"fill_alpha\"},\"fill_color\":{\"field\":\"color\"},\"height\":{\"field\":\"height\",\"units\":\"data\"},\"line_color\":{\"field\":\"line_color\"},\"width\":{\"field\":\"width\",\"units\":\"data\"},\"x\":{\"field\":\"x\"},\"y\":{\"field\":\"y\"}},\"id\":\"9bc81dbe-9466-48fe-a604-57a5272b4555\",\"type\":\"Rect\"},{\"attributes\":{\"callback\":null,\"column_names\":[\"height\",\"color\",\"width\",\"fill_alpha\",\"x\",\"y\",\"line_alpha\",\"line_color\",\"label\"],\"data\":{\"chart_index\":[\"[72.0, 79.8]\"],\"color\":[\"#df5320\"],\"fill_alpha\":[0.6],\"height\":[4.0],\"label\":[\"[72.0, 79.8]\"],\"line_alpha\":[1.0],\"line_color\":[\"black\"],\"width\":[7.75],\"x\":[\"75.9\"],\"y\":[2.0]}},\"id\":\"c3ea8909-4bc5-4f34-a65b-21e00eea2b11\",\"type\":\"ColumnDataSource\"},{\"attributes\":{\"data_source\":{\"id\":\"002beb68-9c6c-4e58-bb4d-16b8f5d3ed61\",\"type\":\"ColumnDataSource\"},\"glyph\":{\"id\":\"cba1789e-8757-4f25-8064-d561967ba017\",\"type\":\"Rect\"},\"hover_glyph\":null,\"nonselection_glyph\":null,\"selection_glyph\":null},\"id\":\"dcf1d05d-534b-4b66-a1ab-2f2be459ab41\",\"type\":\"GlyphRenderer\"},{\"attributes\":{\"data_source\":{\"id\":\"39810fe0-7c15-444c-814b-84390717d39f\",\"type\":\"ColumnDataSource\"},\"glyph\":{\"id\":\"856f9deb-5e05-4f55-8d6b-b2f8658888e3\",\"type\":\"Rect\"},\"hover_glyph\":null,\"nonselection_glyph\":null,\"selection_glyph\":null},\"id\":\"18bafe73-8b19-428c-9da7-8c8ea7d54c66\",\"type\":\"GlyphRenderer\"},{\"attributes\":{\"data_source\":{\"id\":\"7b8e28c8-dfb6-49e2-8af8-9462eec856c8\",\"type\":\"ColumnDataSource\"},\"glyph\":{\"id\":\"d13345dd-1fad-40b4-bf72-09f575a48041\",\"type\":\"Rect\"},\"hover_glyph\":null,\"nonselection_glyph\":null,\"selection_glyph\":null},\"id\":\"fdda2f2d-ca86-4dd0-97bc-32e66fce15e8\",\"type\":\"GlyphRenderer\"},{\"attributes\":{\"callback\":null,\"column_names\":[\"height\",\"color\",\"width\",\"fill_alpha\",\"x\",\"y\",\"line_alpha\",\"line_color\",\"label\"],\"data\":{\"chart_index\":[\"(89.9, 96.2]\"],\"color\":[\"#5ab738\"],\"fill_alpha\":[0.6],\"height\":[31.0],\"label\":[\"(89.9, 96.2]\"],\"line_alpha\":[1.0],\"line_color\":[\"black\"],\"width\":[6.2727272727272805],\"x\":[\"93.05000000000001\"],\"y\":[15.5]}},\"id\":\"bbfb7488-602b-48f3-8b60-175c529e1000\",\"type\":\"ColumnDataSource\"},{\"attributes\":{\"fill_alpha\":{\"field\":\"fill_alpha\"},\"fill_color\":{\"field\":\"color\"},\"height\":{\"field\":\"height\",\"units\":\"data\"},\"line_color\":{\"field\":\"line_color\"},\"width\":{\"field\":\"width\",\"units\":\"data\"},\"x\":{\"field\":\"x\"},\"y\":{\"field\":\"y\"}},\"id\":\"c1f3729a-c82d-417d-9510-bd1f221cf4c5\",\"type\":\"Rect\"},{\"attributes\":{\"data_source\":{\"id\":\"d8b8c626-07ed-4b6e-b02b-6ca61ac92120\",\"type\":\"ColumnDataSource\"},\"glyph\":{\"id\":\"a9e49047-aed4-4a1b-848a-50654174556c\",\"type\":\"Rect\"},\"hover_glyph\":null,\"nonselection_glyph\":null,\"selection_glyph\":null},\"id\":\"eee7f585-452b-4b58-afe7-0d5613c01921\",\"type\":\"GlyphRenderer\"},{\"attributes\":{\"data_source\":{\"id\":\"a1599663-4d6b-4411-8051-3d7fecffedbd\",\"type\":\"ColumnDataSource\"},\"glyph\":{\"id\":\"fc1d261c-2d8e-47eb-b69e-11ff52977176\",\"type\":\"Rect\"},\"hover_glyph\":null,\"nonselection_glyph\":null,\"selection_glyph\":null},\"id\":\"2287a0e6-38e1-414f-b31d-745f6bf93888\",\"type\":\"GlyphRenderer\"},{\"attributes\":{\"callback\":null,\"end\":52.800000000000004},\"id\":\"945d4c90-f0f1-4099-a2a2-e04d8292b399\",\"type\":\"Range1d\"},{\"attributes\":{\"fill_alpha\":{\"field\":\"fill_alpha\"},\"fill_color\":{\"field\":\"color\"},\"height\":{\"field\":\"height\",\"units\":\"data\"},\"line_color\":{\"field\":\"line_color\"},\"width\":{\"field\":\"width\",\"units\":\"data\"},\"x\":{\"field\":\"x\"},\"y\":{\"field\":\"y\"}},\"id\":\"eb9354ea-c9c0-450d-8d49-ea08ede20168\",\"type\":\"Rect\"},{\"attributes\":{\"callback\":null,\"column_names\":[\"height\",\"color\",\"width\",\"fill_alpha\",\"x\",\"y\",\"line_alpha\",\"line_color\",\"label\"],\"data\":{\"chart_index\":[\"[67.0, 85.0]\"],\"color\":[\"#407ee7\"],\"fill_alpha\":[0.6],\"height\":[2.0],\"label\":[\"[67.0, 85.0]\"],\"line_alpha\":[1.0],\"line_color\":[\"black\"],\"width\":[18.0],\"x\":[\"76.0\"],\"y\":[1.0]}},\"id\":\"53d2b564-c605-485b-862f-a08b465181ca\",\"type\":\"ColumnDataSource\"},{\"attributes\":{\"fill_alpha\":{\"field\":\"fill_alpha\"},\"fill_color\":{\"field\":\"color\"},\"height\":{\"field\":\"height\",\"units\":\"data\"},\"line_color\":{\"field\":\"line_color\"},\"width\":{\"field\":\"width\",\"units\":\"data\"},\"x\":{\"field\":\"x\"},\"y\":{\"field\":\"y\"}},\"id\":\"6cde2871-261b-4247-bc12-51aaf8fe4689\",\"type\":\"Rect\"},{\"attributes\":{\"data_source\":{\"id\":\"11715bd7-6958-4269-ad8a-a8c8e6dd3f0f\",\"type\":\"ColumnDataSource\"},\"glyph\":{\"id\":\"60dbbef7-79df-4f4e-bf7b-5a0416549e56\",\"type\":\"Rect\"},\"hover_glyph\":null,\"nonselection_glyph\":null,\"selection_glyph\":null},\"id\":\"f7e727fa-0fce-4f30-9032-a30380a2d8d4\",\"type\":\"GlyphRenderer\"},{\"attributes\":{\"callback\":null,\"column_names\":[\"height\",\"color\",\"width\",\"fill_alpha\",\"x\",\"y\",\"line_alpha\",\"line_color\",\"label\"],\"data\":{\"chart_index\":[\"(83.6, 89.9]\"],\"color\":[\"#5ab738\"],\"fill_alpha\":[0.6],\"height\":[32.0],\"label\":[\"(83.6, 89.9]\"],\"line_alpha\":[1.0],\"line_color\":[\"black\"],\"width\":[6.2727272727272805],\"x\":[\"86.75\"],\"y\":[16.0]}},\"id\":\"7b8e28c8-dfb6-49e2-8af8-9462eec856c8\",\"type\":\"ColumnDataSource\"},{\"attributes\":{\"fill_alpha\":{\"field\":\"fill_alpha\"},\"fill_color\":{\"field\":\"color\"},\"height\":{\"field\":\"height\",\"units\":\"data\"},\"line_color\":{\"field\":\"line_color\"},\"width\":{\"field\":\"width\",\"units\":\"data\"},\"x\":{\"field\":\"x\"},\"y\":{\"field\":\"y\"}},\"id\":\"2b5be158-98ef-4d0e-85ee-862794fc8cf8\",\"type\":\"Rect\"},{\"attributes\":{\"data_source\":{\"id\":\"8431519f-e68b-43ac-bd41-a4e9507dc7b0\",\"type\":\"ColumnDataSource\"},\"glyph\":{\"id\":\"c1f3729a-c82d-417d-9510-bd1f221cf4c5\",\"type\":\"Rect\"},\"hover_glyph\":null,\"nonselection_glyph\":null,\"selection_glyph\":null},\"id\":\"7aeac2ac-5020-4151-bad0-e4c6f0dfe05f\",\"type\":\"GlyphRenderer\"},{\"attributes\":{\"callback\":null,\"column_names\":[\"height\",\"color\",\"width\",\"fill_alpha\",\"x\",\"y\",\"line_alpha\",\"line_color\",\"label\"],\"data\":{\"chart_index\":[\"(146.0, 160.0]\"],\"color\":[\"#00ad9c\"],\"fill_alpha\":[0.6],\"height\":[30.0],\"label\":[\"(146.0, 160.0]\"],\"line_alpha\":[1.0],\"line_color\":[\"black\"],\"width\":[14.0],\"x\":[\"153.0\"],\"y\":[15.0]}},\"id\":\"b1152a84-af81-41b3-ac83-bb8834aa9f73\",\"type\":\"ColumnDataSource\"},{\"attributes\":{\"fill_alpha\":{\"field\":\"fill_alpha\"},\"fill_color\":{\"field\":\"color\"},\"height\":{\"field\":\"height\",\"units\":\"data\"},\"line_color\":{\"field\":\"line_color\"},\"width\":{\"field\":\"width\",\"units\":\"data\"},\"x\":{\"field\":\"x\"},\"y\":{\"field\":\"y\"}},\"id\":\"ad01da7b-aae7-4e37-8d00-1ad672bbba4a\",\"type\":\"Rect\"},{\"attributes\":{\"callback\":null,\"column_names\":[\"height\",\"color\",\"width\",\"fill_alpha\",\"x\",\"y\",\"line_alpha\",\"line_color\",\"label\"],\"data\":{\"chart_index\":[\"[90.0, 96.7]\"],\"color\":[\"#f22c40\"],\"fill_alpha\":[0.6],\"height\":[1.0],\"label\":[\"[90.0, 96.7]\"],\"line_alpha\":[1.0],\"line_color\":[\"black\"],\"width\":[6.666666666666671],\"x\":[\"93.35\"],\"y\":[0.5]}},\"id\":\"ff99c1cd-373a-4377-8f9a-8a8a4a263e21\",\"type\":\"ColumnDataSource\"},{\"attributes\":{\"callback\":null,\"column_names\":[\"height\",\"color\",\"width\",\"fill_alpha\",\"x\",\"y\",\"line_alpha\",\"line_color\",\"label\"],\"data\":{\"chart_index\":[\"(134.0, 141.8]\"],\"color\":[\"#df5320\"],\"fill_alpha\":[0.6],\"height\":[0.0],\"label\":[\"(134.0, 141.8]\"],\"line_alpha\":[1.0],\"line_color\":[\"black\"],\"width\":[7.75],\"x\":[\"137.9\"],\"y\":[0.0]}},\"id\":\"9e9c8063-fafc-4326-824e-1d9c84fbe3d4\",\"type\":\"ColumnDataSource\"},{\"attributes\":{\"data_source\":{\"id\":\"d59121b5-af2c-4585-9e5a-c9841992fe67\",\"type\":\"ColumnDataSource\"},\"glyph\":{\"id\":\"1e71831a-ab74-483f-8d19-31462084da96\",\"type\":\"Rect\"},\"hover_glyph\":null,\"nonselection_glyph\":null,\"selection_glyph\":null},\"id\":\"9d316a17-b13e-4941-8333-93f96d01eeea\",\"type\":\"GlyphRenderer\"},{\"attributes\":{\"data_source\":{\"id\":\"c3ea8909-4bc5-4f34-a65b-21e00eea2b11\",\"type\":\"ColumnDataSource\"},\"glyph\":{\"id\":\"ee05c8fd-ef6c-481b-a138-d5fb89428ecb\",\"type\":\"Rect\"},\"hover_glyph\":null,\"nonselection_glyph\":null,\"selection_glyph\":null},\"id\":\"91dfdd5a-b88c-4ab0-81ea-83f45353af3f\",\"type\":\"GlyphRenderer\"},{\"attributes\":{\"callback\":null,\"column_names\":[\"height\",\"color\",\"width\",\"fill_alpha\",\"x\",\"y\",\"line_alpha\",\"line_color\",\"label\"],\"data\":{\"chart_index\":[\"(79.8, 87.5]\"],\"color\":[\"#df5320\"],\"fill_alpha\":[0.6],\"height\":[7.0],\"label\":[\"(79.8, 87.5]\"],\"line_alpha\":[1.0],\"line_color\":[\"black\"],\"width\":[7.75],\"x\":[\"83.65\"],\"y\":[3.5]}},\"id\":\"aa82dafb-3b0d-47d6-8f5e-3de422c777d3\",\"type\":\"ColumnDataSource\"},{\"attributes\":{\"data_source\":{\"id\":\"c7c06bc2-7a43-4dfa-9a91-12f0305c4064\",\"type\":\"ColumnDataSource\"},\"glyph\":{\"id\":\"841d476c-8a30-4a09-8174-676e46c678b6\",\"type\":\"Rect\"},\"hover_glyph\":null,\"nonselection_glyph\":null,\"selection_glyph\":null},\"id\":\"dcd655b3-f465-4b9a-8fe9-7e1846dff8e1\",\"type\":\"GlyphRenderer\"},{\"attributes\":{\"fill_alpha\":{\"field\":\"fill_alpha\"},\"fill_color\":{\"field\":\"color\"},\"height\":{\"field\":\"height\",\"units\":\"data\"},\"line_color\":{\"field\":\"line_color\"},\"width\":{\"field\":\"width\",\"units\":\"data\"},\"x\":{\"field\":\"x\"},\"y\":{\"field\":\"y\"}},\"id\":\"841d476c-8a30-4a09-8174-676e46c678b6\",\"type\":\"Rect\"},{\"attributes\":{\"data_source\":{\"id\":\"05d94a10-2de3-45b1-909c-9ec62db0d51d\",\"type\":\"ColumnDataSource\"},\"glyph\":{\"id\":\"82e09643-8b59-4b3b-b7e8-4e4bc7c5b34b\",\"type\":\"Rect\"},\"hover_glyph\":null,\"nonselection_glyph\":null,\"selection_glyph\":null},\"id\":\"168af2c1-2874-43ae-b38a-e737a39dbffd\",\"type\":\"GlyphRenderer\"},{\"attributes\":{\"data_source\":{\"id\":\"3b1f5c1a-7a0e-42ad-93c5-1f7407daef18\",\"type\":\"ColumnDataSource\"},\"glyph\":{\"id\":\"099077ff-cce1-4f3e-9dd9-037351331125\",\"type\":\"Rect\"},\"hover_glyph\":null,\"nonselection_glyph\":null,\"selection_glyph\":null},\"id\":\"658fa62b-2a9f-4f84-9111-6ee928f05d1e\",\"type\":\"GlyphRenderer\"},{\"attributes\":{\"callback\":null,\"column_names\":[\"height\",\"color\",\"width\",\"fill_alpha\",\"x\",\"y\",\"line_alpha\",\"line_color\",\"label\"],\"data\":{\"chart_index\":[\"(118.5, 126.2]\"],\"color\":[\"#df5320\"],\"fill_alpha\":[0.6],\"height\":[5.0],\"label\":[\"(118.5, 126.2]\"],\"line_alpha\":[1.0],\"line_color\":[\"black\"],\"width\":[7.75],\"x\":[\"122.35\"],\"y\":[2.5]}},\"id\":\"69857e63-c44c-4733-813c-4b23654c4a88\",\"type\":\"ColumnDataSource\"},{\"attributes\":{\"active_drag\":\"auto\",\"active_scroll\":\"auto\",\"active_tap\":\"auto\",\"tools\":[{\"id\":\"8d8e98a6-3cac-43ae-9363-51bdd24d0d2b\",\"type\":\"PanTool\"},{\"id\":\"c5d6ff62-46a9-4477-b98b-76e228188f63\",\"type\":\"WheelZoomTool\"},{\"id\":\"b0dddb08-6c67-4215-aa5e-3d202ad174ff\",\"type\":\"BoxZoomTool\"},{\"id\":\"d92a4f8e-2213-4b34-9a40-8fa97c15e3b7\",\"type\":\"SaveTool\"},{\"id\":\"05ae6935-f0fb-4ae1-8f00-af00344255b2\",\"type\":\"ResetTool\"},{\"id\":\"38c94de7-6aae-4659-ae7c-43719cbd60d9\",\"type\":\"HelpTool\"}]},\"id\":\"065c8ac9-320f-408a-9066-908d57d53d81\",\"type\":\"Toolbar\"},{\"attributes\":{\"callback\":null,\"column_names\":[\"height\",\"color\",\"width\",\"fill_alpha\",\"x\",\"y\",\"line_alpha\",\"line_color\",\"label\"],\"data\":{\"chart_index\":[\"(96.7, 103.3]\"],\"color\":[\"#f22c40\"],\"fill_alpha\":[0.6],\"height\":[2.0],\"label\":[\"(96.7, 103.3]\"],\"line_alpha\":[1.0],\"line_color\":[\"black\"],\"width\":[6.666666666666657],\"x\":[\"100.0\"],\"y\":[1.0]}},\"id\":\"a1599663-4d6b-4411-8051-3d7fecffedbd\",\"type\":\"ColumnDataSource\"},{\"attributes\":{\"data_source\":{\"id\":\"962277f9-f415-4279-8db4-a41e651070ba\",\"type\":\"ColumnDataSource\"},\"glyph\":{\"id\":\"aa8c23a0-2c71-4435-a3f0-0aa8daac6085\",\"type\":\"Rect\"},\"hover_glyph\":null,\"nonselection_glyph\":null,\"selection_glyph\":null},\"id\":\"3b371dd4-d9ce-4898-94b3-cc3086a160bb\",\"type\":\"GlyphRenderer\"},{\"attributes\":{\"callback\":null,\"column_names\":[\"height\",\"color\",\"width\",\"fill_alpha\",\"x\",\"y\",\"line_alpha\",\"line_color\",\"label\"],\"data\":{\"chart_index\":[\"(188.0, 202.0]\"],\"color\":[\"#00ad9c\"],\"fill_alpha\":[0.6],\"height\":[7.0],\"label\":[\"(188.0, 202.0]\"],\"line_alpha\":[1.0],\"line_color\":[\"black\"],\"width\":[14.0],\"x\":[\"195.0\"],\"y\":[3.5]}},\"id\":\"4bf18272-7f38-4bc9-9c2e-d0ace928b68d\",\"type\":\"ColumnDataSource\"},{\"attributes\":{\"fill_alpha\":{\"field\":\"fill_alpha\"},\"fill_color\":{\"field\":\"color\"},\"height\":{\"field\":\"height\",\"units\":\"data\"},\"line_color\":{\"field\":\"line_color\"},\"width\":{\"field\":\"width\",\"units\":\"data\"},\"x\":{\"field\":\"x\"},\"y\":{\"field\":\"y\"}},\"id\":\"aa8c23a0-2c71-4435-a3f0-0aa8daac6085\",\"type\":\"Rect\"},{\"attributes\":{\"data_source\":{\"id\":\"d4ae6cb2-b44f-457c-90cd-b5851745bd95\",\"type\":\"ColumnDataSource\"},\"glyph\":{\"id\":\"ff491672-9c00-47aa-bfe7-e9cbc6ac6ab1\",\"type\":\"Rect\"},\"hover_glyph\":null,\"nonselection_glyph\":null,\"selection_glyph\":null},\"id\":\"fce3d160-4e98-4f93-b0bf-1038a955a083\",\"type\":\"GlyphRenderer\"},{\"attributes\":{\"fill_alpha\":{\"field\":\"fill_alpha\"},\"fill_color\":{\"field\":\"color\"},\"height\":{\"field\":\"height\",\"units\":\"data\"},\"line_color\":{\"field\":\"line_color\"},\"width\":{\"field\":\"width\",\"units\":\"data\"},\"x\":{\"field\":\"x\"},\"y\":{\"field\":\"y\"}},\"id\":\"099077ff-cce1-4f3e-9dd9-037351331125\",\"type\":\"Rect\"},{\"attributes\":{\"fill_alpha\":{\"field\":\"fill_alpha\"},\"fill_color\":{\"field\":\"color\"},\"height\":{\"field\":\"height\",\"units\":\"data\"},\"line_color\":{\"field\":\"line_color\"},\"width\":{\"field\":\"width\",\"units\":\"data\"},\"x\":{\"field\":\"x\"},\"y\":{\"field\":\"y\"}},\"id\":\"e5617e0e-47d4-4d2f-a806-11915ff95245\",\"type\":\"Rect\"},{\"attributes\":{\"fill_alpha\":{\"field\":\"fill_alpha\"},\"fill_color\":{\"field\":\"color\"},\"height\":{\"field\":\"height\",\"units\":\"data\"},\"line_color\":{\"field\":\"line_color\"},\"width\":{\"field\":\"width\",\"units\":\"data\"},\"x\":{\"field\":\"x\"},\"y\":{\"field\":\"y\"}},\"id\":\"a9e49047-aed4-4a1b-848a-50654174556c\",\"type\":\"Rect\"},{\"attributes\":{\"data_source\":{\"id\":\"9dff0a34-3bf6-4a07-a8ac-d897b17b006f\",\"type\":\"ColumnDataSource\"},\"glyph\":{\"id\":\"7609a12e-a9fb-445a-83cd-a5870ab51ed6\",\"type\":\"Rect\"},\"hover_glyph\":null,\"nonselection_glyph\":null,\"selection_glyph\":null},\"id\":\"299368ed-b8d8-4231-a797-1c0acafb1064\",\"type\":\"GlyphRenderer\"},{\"attributes\":{\"data_source\":{\"id\":\"bdd1781c-bad7-4964-9b02-146d0e24a7ea\",\"type\":\"ColumnDataSource\"},\"glyph\":{\"id\":\"5d715d25-063f-4d2e-bb3e-d3564069923b\",\"type\":\"Rect\"},\"hover_glyph\":null,\"nonselection_glyph\":null,\"selection_glyph\":null},\"id\":\"b3c912b1-249b-42a1-8258-ccad5a634852\",\"type\":\"GlyphRenderer\"},{\"attributes\":{},\"id\":\"0d7b34ce-5a78-4294-ab08-57d0fa25e41b\",\"type\":\"BasicTickFormatter\"},{\"attributes\":{\"callback\":null,\"column_names\":[\"height\",\"color\",\"width\",\"fill_alpha\",\"x\",\"y\",\"line_alpha\",\"line_color\",\"label\"],\"data\":{\"chart_index\":[\"(108.7, 115.0]\"],\"color\":[\"#5ab738\"],\"fill_alpha\":[0.6],\"height\":[7.0],\"label\":[\"(108.7, 115.0]\"],\"line_alpha\":[1.0],\"line_color\":[\"black\"],\"width\":[6.2727272727272805],\"x\":[\"111.85\"],\"y\":[3.5]}},\"id\":\"cd3a6fe5-9024-4dcd-af85-489bf339a2d2\",\"type\":\"ColumnDataSource\"},{\"attributes\":{\"data_source\":{\"id\":\"b1152a84-af81-41b3-ac83-bb8834aa9f73\",\"type\":\"ColumnDataSource\"},\"glyph\":{\"id\":\"a688ca99-d28e-42c9-848f-aabde34fdaa5\",\"type\":\"Rect\"},\"hover_glyph\":null,\"nonselection_glyph\":null,\"selection_glyph\":null},\"id\":\"293e0e2d-f63b-4018-803c-4e87cd3a9be9\",\"type\":\"GlyphRenderer\"},{\"attributes\":{\"data_source\":{\"id\":\"d24a9ad1-f7d3-4660-ac47-7e8c3f99c849\",\"type\":\"ColumnDataSource\"},\"glyph\":{\"id\":\"ae64f944-830c-4c7a-ab7a-5171542ee12f\",\"type\":\"Rect\"},\"hover_glyph\":null,\"nonselection_glyph\":null,\"selection_glyph\":null},\"id\":\"95a04e17-c32b-495d-8d3c-c6fff6cef073\",\"type\":\"GlyphRenderer\"},{\"attributes\":{\"fill_alpha\":{\"field\":\"fill_alpha\"},\"fill_color\":{\"field\":\"color\"},\"height\":{\"field\":\"height\",\"units\":\"data\"},\"line_color\":{\"field\":\"line_color\"},\"width\":{\"field\":\"width\",\"units\":\"data\"},\"x\":{\"field\":\"x\"},\"y\":{\"field\":\"y\"}},\"id\":\"82e09643-8b59-4b3b-b7e8-4e4bc7c5b34b\",\"type\":\"Rect\"},{\"attributes\":{\"axis_label\":\"Count( Hp )\",\"formatter\":{\"id\":\"0d7b34ce-5a78-4294-ab08-57d0fa25e41b\",\"type\":\"BasicTickFormatter\"},\"plot\":{\"id\":\"141dc005-188f-4192-a2e4-8e019643450c\",\"subtype\":\"Chart\",\"type\":\"Plot\"},\"ticker\":{\"id\":\"5d724fe8-8492-4ed1-bd8b-e8661a6c9605\",\"type\":\"BasicTicker\"}},\"id\":\"91b62f21-76fc-414b-8b90-01b1809eb0fa\",\"type\":\"LinearAxis\"},{\"attributes\":{\"fill_alpha\":{\"field\":\"fill_alpha\"},\"fill_color\":{\"field\":\"color\"},\"height\":{\"field\":\"height\",\"units\":\"data\"},\"line_color\":{\"field\":\"line_color\"},\"width\":{\"field\":\"width\",\"units\":\"data\"},\"x\":{\"field\":\"x\"},\"y\":{\"field\":\"y\"}},\"id\":\"a688ca99-d28e-42c9-848f-aabde34fdaa5\",\"type\":\"Rect\"},{\"attributes\":{\"callback\":null,\"column_names\":[\"height\",\"color\",\"width\",\"fill_alpha\",\"x\",\"y\",\"line_alpha\",\"line_color\",\"label\"],\"data\":{\"chart_index\":[\"(64.8, 71.1]\"],\"color\":[\"#5ab738\"],\"fill_alpha\":[0.6],\"height\":[48.0],\"label\":[\"(64.8, 71.1]\"],\"line_alpha\":[1.0],\"line_color\":[\"black\"],\"width\":[6.2727272727272805],\"x\":[\"67.94999999999999\"],\"y\":[24.0]}},\"id\":\"c6f9a2d3-c655-4762-836e-6621f2fab590\",\"type\":\"ColumnDataSource\"},{\"attributes\":{\"data_source\":{\"id\":\"bbfb7488-602b-48f3-8b60-175c529e1000\",\"type\":\"ColumnDataSource\"},\"glyph\":{\"id\":\"8b9efe60-f51b-4b9e-a1e2-ea1811486b53\",\"type\":\"Rect\"},\"hover_glyph\":null,\"nonselection_glyph\":null,\"selection_glyph\":null},\"id\":\"4de62582-3097-45ba-843c-d037c902bac4\",\"type\":\"GlyphRenderer\"},{\"attributes\":{\"callback\":null,\"column_names\":[\"height\",\"color\",\"width\",\"fill_alpha\",\"x\",\"y\",\"line_alpha\",\"line_color\",\"label\"],\"data\":{\"chart_index\":[\"(110.8, 118.5]\"],\"color\":[\"#df5320\"],\"fill_alpha\":[0.6],\"height\":[5.0],\"label\":[\"(110.8, 118.5]\"],\"line_alpha\":[1.0],\"line_color\":[\"black\"],\"width\":[7.75],\"x\":[\"114.65\"],\"y\":[2.5]}},\"id\":\"bdd1781c-bad7-4964-9b02-146d0e24a7ea\",\"type\":\"ColumnDataSource\"},{\"attributes\":{\"callback\":null,\"column_names\":[\"height\",\"color\",\"width\",\"fill_alpha\",\"x\",\"y\",\"line_alpha\",\"line_color\",\"label\"],\"data\":{\"chart_index\":[\"(87.5, 95.2]\"],\"color\":[\"#df5320\"],\"fill_alpha\":[0.6],\"height\":[17.0],\"label\":[\"(87.5, 95.2]\"],\"line_alpha\":[1.0],\"line_color\":[\"black\"],\"width\":[7.75],\"x\":[\"91.35\"],\"y\":[8.5]}},\"id\":\"fd29b468-5d75-40d6-a725-bc621cee4a21\",\"type\":\"ColumnDataSource\"},{\"attributes\":{\"callback\":null,\"column_names\":[\"height\",\"color\",\"width\",\"fill_alpha\",\"x\",\"y\",\"line_alpha\",\"line_color\",\"label\"],\"data\":{\"chart_index\":[\"[46.0, 52.3]\"],\"color\":[\"#5ab738\"],\"fill_alpha\":[0.6],\"height\":[10.0],\"label\":[\"[46.0, 52.3]\"],\"line_alpha\":[1.0],\"line_color\":[\"black\"],\"width\":[6.272727272727273],\"x\":[\"49.15\"],\"y\":[5.0]}},\"id\":\"d8b8c626-07ed-4b6e-b02b-6ca61ac92120\",\"type\":\"ColumnDataSource\"},{\"attributes\":{\"callback\":null,\"column_names\":[\"height\",\"color\",\"width\",\"fill_alpha\",\"x\",\"y\",\"line_alpha\",\"line_color\",\"label\"],\"data\":{\"chart_index\":[\"(141.8, 149.5]\"],\"color\":[\"#df5320\"],\"fill_alpha\":[0.6],\"height\":[0.0],\"label\":[\"(141.8, 149.5]\"],\"line_alpha\":[1.0],\"line_color\":[\"black\"],\"width\":[7.75],\"x\":[\"145.65\"],\"y\":[0.0]}},\"id\":\"156bf6ae-88ac-42fd-81de-62d731b038f8\",\"type\":\"ColumnDataSource\"},{\"attributes\":{\"plot\":{\"id\":\"141dc005-188f-4192-a2e4-8e019643450c\",\"subtype\":\"Chart\",\"type\":\"Plot\"}},\"id\":\"05ae6935-f0fb-4ae1-8f00-af00344255b2\",\"type\":\"ResetTool\"},{\"attributes\":{},\"id\":\"46ac0afd-0ef0-4f95-a676-175fd2229c87\",\"type\":\"BasicTicker\"},{\"attributes\":{\"callback\":null,\"column_names\":[\"height\",\"color\",\"width\",\"fill_alpha\",\"x\",\"y\",\"line_alpha\",\"line_color\",\"label\"],\"data\":{\"chart_index\":[\"(85.0, 103.0]\"],\"color\":[\"#407ee7\"],\"fill_alpha\":[0.6],\"height\":[1.0],\"label\":[\"(85.0, 103.0]\"],\"line_alpha\":[1.0],\"line_color\":[\"black\"],\"width\":[18.0],\"x\":[\"94.0\"],\"y\":[0.5]}},\"id\":\"bf999e6a-5ccc-4595-a066-6d26db8a477b\",\"type\":\"ColumnDataSource\"},{\"attributes\":{\"callback\":null,\"column_names\":[\"height\",\"color\",\"width\",\"fill_alpha\",\"x\",\"y\",\"line_alpha\",\"line_color\",\"label\"],\"data\":{\"chart_index\":[\"(103.3, 110.0]\"],\"color\":[\"#f22c40\"],\"fill_alpha\":[0.6],\"height\":[1.0],\"label\":[\"(103.3, 110.0]\"],\"line_alpha\":[1.0],\"line_color\":[\"black\"],\"width\":[6.666666666666671],\"x\":[\"106.65\"],\"y\":[0.5]}},\"id\":\"c7c06bc2-7a43-4dfa-9a91-12f0305c4064\",\"type\":\"ColumnDataSource\"},{\"attributes\":{\"bottom_units\":\"screen\",\"fill_alpha\":{\"value\":0.5},\"fill_color\":{\"value\":\"lightgrey\"},\"left_units\":\"screen\",\"level\":\"overlay\",\"line_alpha\":{\"value\":1.0},\"line_color\":{\"value\":\"black\"},\"line_dash\":[4,4],\"line_width\":{\"value\":2},\"plot\":null,\"render_mode\":\"css\",\"right_units\":\"screen\",\"top_units\":\"screen\"},\"id\":\"5059a1f9-02ce-4323-8fa5-5a6913f1d5d2\",\"type\":\"BoxAnnotation\"},{\"attributes\":{\"callback\":null,\"column_names\":[\"height\",\"color\",\"width\",\"fill_alpha\",\"x\",\"y\",\"line_alpha\",\"line_color\",\"label\"],\"data\":{\"chart_index\":[\"(58.5, 64.8]\"],\"color\":[\"#5ab738\"],\"fill_alpha\":[0.6],\"height\":[12.0],\"label\":[\"(58.5, 64.8]\"],\"line_alpha\":[1.0],\"line_color\":[\"black\"],\"width\":[6.272727272727266],\"x\":[\"61.65\"],\"y\":[6.0]}},\"id\":\"d24a9ad1-f7d3-4660-ac47-7e8c3f99c849\",\"type\":\"ColumnDataSource\"},{\"attributes\":{\"fill_alpha\":{\"field\":\"fill_alpha\"},\"fill_color\":{\"field\":\"color\"},\"height\":{\"field\":\"height\",\"units\":\"data\"},\"line_color\":{\"field\":\"line_color\"},\"width\":{\"field\":\"width\",\"units\":\"data\"},\"x\":{\"field\":\"x\"},\"y\":{\"field\":\"y\"}},\"id\":\"23136c72-1282-4745-9ed9-50f4cbb4b21f\",\"type\":\"Rect\"},{\"attributes\":{\"fill_alpha\":{\"field\":\"fill_alpha\"},\"fill_color\":{\"field\":\"color\"},\"height\":{\"field\":\"height\",\"units\":\"data\"},\"line_color\":{\"field\":\"line_color\"},\"width\":{\"field\":\"width\",\"units\":\"data\"},\"x\":{\"field\":\"x\"},\"y\":{\"field\":\"y\"}},\"id\":\"ee05c8fd-ef6c-481b-a138-d5fb89428ecb\",\"type\":\"Rect\"},{\"attributes\":{\"data_source\":{\"id\":\"aa82dafb-3b0d-47d6-8f5e-3de422c777d3\",\"type\":\"ColumnDataSource\"},\"glyph\":{\"id\":\"9bc81dbe-9466-48fe-a604-57a5272b4555\",\"type\":\"Rect\"},\"hover_glyph\":null,\"nonselection_glyph\":null,\"selection_glyph\":null},\"id\":\"796eeab4-000a-426c-9c8d-8d6abfa60e3d\",\"type\":\"GlyphRenderer\"},{\"attributes\":{\"fill_alpha\":{\"field\":\"fill_alpha\"},\"fill_color\":{\"field\":\"color\"},\"height\":{\"field\":\"height\",\"units\":\"data\"},\"line_color\":{\"field\":\"line_color\"},\"width\":{\"field\":\"width\",\"units\":\"data\"},\"x\":{\"field\":\"x\"},\"y\":{\"field\":\"y\"}},\"id\":\"c9be38ee-5525-49aa-8a5c-60a9cdfffbdd\",\"type\":\"Rect\"},{\"attributes\":{\"data_source\":{\"id\":\"fd29b468-5d75-40d6-a725-bc621cee4a21\",\"type\":\"ColumnDataSource\"},\"glyph\":{\"id\":\"8b2fcd64-a938-4ad5-805f-ea6583e8fc20\",\"type\":\"Rect\"},\"hover_glyph\":null,\"nonselection_glyph\":null,\"selection_glyph\":null},\"id\":\"24339d4a-486e-49d1-a6ad-11d8b1174497\",\"type\":\"GlyphRenderer\"},{\"attributes\":{},\"id\":\"200dd2b3-9ab3-4e90-b90d-f256c78a82b7\",\"type\":\"ToolEvents\"},{\"attributes\":{\"fill_alpha\":{\"field\":\"fill_alpha\"},\"fill_color\":{\"field\":\"color\"},\"height\":{\"field\":\"height\",\"units\":\"data\"},\"line_color\":{\"field\":\"line_color\"},\"width\":{\"field\":\"width\",\"units\":\"data\"},\"x\":{\"field\":\"x\"},\"y\":{\"field\":\"y\"}},\"id\":\"96227da1-2370-4250-a832-11b9c83b793f\",\"type\":\"Rect\"},{\"attributes\":{\"data_source\":{\"id\":\"b05e0e51-c54f-4053-87bb-2db69ac5133a\",\"type\":\"ColumnDataSource\"},\"glyph\":{\"id\":\"1e44ed1c-5f06-4d51-bb7d-65c42b6402a1\",\"type\":\"Rect\"},\"hover_glyph\":null,\"nonselection_glyph\":null,\"selection_glyph\":null},\"id\":\"aa400821-30f2-49c5-86d3-189966db2a57\",\"type\":\"GlyphRenderer\"},{\"attributes\":{\"legends\":[[\"8\",[{\"id\":\"de923dfe-bc90-4af2-8358-101f02e7c478\",\"type\":\"GlyphRenderer\"},{\"id\":\"bf5c0e55-9fdc-47fd-a683-dec2cff7a6bd\",\"type\":\"GlyphRenderer\"},{\"id\":\"e87a2ee2-2813-4101-8231-990a9cfc9b43\",\"type\":\"GlyphRenderer\"},{\"id\":\"9d316a17-b13e-4941-8333-93f96d01eeea\",\"type\":\"GlyphRenderer\"},{\"id\":\"293e0e2d-f63b-4018-803c-4e87cd3a9be9\",\"type\":\"GlyphRenderer\"},{\"id\":\"0f16e017-8a50-4239-b54c-902fd969db3f\",\"type\":\"GlyphRenderer\"},{\"id\":\"dcf1d05d-534b-4b66-a1ab-2f2be459ab41\",\"type\":\"GlyphRenderer\"},{\"id\":\"c953707f-9e27-4aaf-a906-22c7c6d3f7a0\",\"type\":\"GlyphRenderer\"},{\"id\":\"18481f11-1d9c-46f9-b594-c2b51db8a94e\",\"type\":\"GlyphRenderer\"},{\"id\":\"299368ed-b8d8-4231-a797-1c0acafb1064\",\"type\":\"GlyphRenderer\"}]],[\"4\",[{\"id\":\"eee7f585-452b-4b58-afe7-0d5613c01921\",\"type\":\"GlyphRenderer\"},{\"id\":\"f7e727fa-0fce-4f30-9032-a30380a2d8d4\",\"type\":\"GlyphRenderer\"},{\"id\":\"95a04e17-c32b-495d-8d3c-c6fff6cef073\",\"type\":\"GlyphRenderer\"},{\"id\":\"4a5ee1ea-487e-4744-a476-f55f8e706438\",\"type\":\"GlyphRenderer\"},{\"id\":\"18bafe73-8b19-428c-9da7-8c8ea7d54c66\",\"type\":\"GlyphRenderer\"},{\"id\":\"3b371dd4-d9ce-4898-94b3-cc3086a160bb\",\"type\":\"GlyphRenderer\"},{\"id\":\"fdda2f2d-ca86-4dd0-97bc-32e66fce15e8\",\"type\":\"GlyphRenderer\"},{\"id\":\"4de62582-3097-45ba-843c-d037c902bac4\",\"type\":\"GlyphRenderer\"},{\"id\":\"59413294-676a-40e0-8430-f13b5ee2e2ec\",\"type\":\"GlyphRenderer\"},{\"id\":\"168af2c1-2874-43ae-b38a-e737a39dbffd\",\"type\":\"GlyphRenderer\"},{\"id\":\"5b69cd22-b12e-425e-b9ff-8786d0a8714f\",\"type\":\"GlyphRenderer\"}]],[\"6\",[{\"id\":\"91dfdd5a-b88c-4ab0-81ea-83f45353af3f\",\"type\":\"GlyphRenderer\"},{\"id\":\"796eeab4-000a-426c-9c8d-8d6abfa60e3d\",\"type\":\"GlyphRenderer\"},{\"id\":\"24339d4a-486e-49d1-a6ad-11d8b1174497\",\"type\":\"GlyphRenderer\"},{\"id\":\"2511632d-0006-4b61-bad3-a13a9028b6d7\",\"type\":\"GlyphRenderer\"},{\"id\":\"aa400821-30f2-49c5-86d3-189966db2a57\",\"type\":\"GlyphRenderer\"},{\"id\":\"b3c912b1-249b-42a1-8258-ccad5a634852\",\"type\":\"GlyphRenderer\"},{\"id\":\"19c9b2d8-6c3b-4461-9357-e5d522ad8b1f\",\"type\":\"GlyphRenderer\"},{\"id\":\"7aeac2ac-5020-4151-bad0-e4c6f0dfe05f\",\"type\":\"GlyphRenderer\"},{\"id\":\"cb5457fd-2dd5-49bf-832e-3fa8e06c6a79\",\"type\":\"GlyphRenderer\"},{\"id\":\"41b59024-5d62-4bfa-8cdf-960540b1785c\",\"type\":\"GlyphRenderer\"},{\"id\":\"fce3d160-4e98-4f93-b0bf-1038a955a083\",\"type\":\"GlyphRenderer\"},{\"id\":\"658fa62b-2a9f-4f84-9111-6ee928f05d1e\",\"type\":\"GlyphRenderer\"}]],[\"3\",[{\"id\":\"36de1861-0c7f-40a7-9179-c770bdd8b966\",\"type\":\"GlyphRenderer\"},{\"id\":\"2287a0e6-38e1-414f-b31d-745f6bf93888\",\"type\":\"GlyphRenderer\"},{\"id\":\"dcd655b3-f465-4b9a-8fe9-7e1846dff8e1\",\"type\":\"GlyphRenderer\"}]],[\"5\",[{\"id\":\"390ad2d7-7a3a-4c72-866a-8313b350cab6\",\"type\":\"GlyphRenderer\"},{\"id\":\"42ad12d7-ab51-4837-aea9-dee7f2ce870b\",\"type\":\"GlyphRenderer\"}]]],\"plot\":{\"id\":\"141dc005-188f-4192-a2e4-8e019643450c\",\"subtype\":\"Chart\",\"type\":\"Plot\"}},\"id\":\"5a2e1121-9c3d-4d82-9a7c-5e4ec8ddf06a\",\"type\":\"Legend\"},{\"attributes\":{\"data_source\":{\"id\":\"bf999e6a-5ccc-4595-a066-6d26db8a477b\",\"type\":\"ColumnDataSource\"},\"glyph\":{\"id\":\"00f90365-920c-4f39-905d-12bcb96163b3\",\"type\":\"Rect\"},\"hover_glyph\":null,\"nonselection_glyph\":null,\"selection_glyph\":null},\"id\":\"42ad12d7-ab51-4837-aea9-dee7f2ce870b\",\"type\":\"GlyphRenderer\"},{\"attributes\":{\"callback\":null,\"column_names\":[\"height\",\"color\",\"width\",\"fill_alpha\",\"x\",\"y\",\"line_alpha\",\"line_color\",\"label\"],\"data\":{\"chart_index\":[\"(77.4, 83.6]\"],\"color\":[\"#5ab738\"],\"fill_alpha\":[0.6],\"height\":[20.0],\"label\":[\"(77.4, 83.6]\"],\"line_alpha\":[1.0],\"line_color\":[\"black\"],\"width\":[6.272727272727266],\"x\":[\"80.5\"],\"y\":[10.0]}},\"id\":\"962277f9-f415-4279-8db4-a41e651070ba\",\"type\":\"ColumnDataSource\"},{\"attributes\":{\"data_source\":{\"id\":\"cfd5ec8a-390f-4518-bd8d-3ccc688581e6\",\"type\":\"ColumnDataSource\"},\"glyph\":{\"id\":\"881a4f25-dcc7-4c3c-a626-f58d602ff7a4\",\"type\":\"Rect\"},\"hover_glyph\":null,\"nonselection_glyph\":null,\"selection_glyph\":null},\"id\":\"59413294-676a-40e0-8430-f13b5ee2e2ec\",\"type\":\"GlyphRenderer\"},{\"attributes\":{\"callback\":null,\"column_names\":[\"height\",\"color\",\"width\",\"fill_alpha\",\"x\",\"y\",\"line_alpha\",\"line_color\",\"label\"],\"data\":{\"chart_index\":[\"(118.0, 132.0]\"],\"color\":[\"#00ad9c\"],\"fill_alpha\":[0.6],\"height\":[10.0],\"label\":[\"(118.0, 132.0]\"],\"line_alpha\":[1.0],\"line_color\":[\"black\"],\"width\":[14.0],\"x\":[\"125.0\"],\"y\":[5.0]}},\"id\":\"da919f51-3ff1-4e16-9580-8fe40007c5e8\",\"type\":\"ColumnDataSource\"},{\"attributes\":{\"axis_label\":\"hp\",\"formatter\":{\"id\":\"b9f7dfb5-da7b-4970-ac3b-43e1473b5077\",\"type\":\"BasicTickFormatter\"},\"plot\":{\"id\":\"141dc005-188f-4192-a2e4-8e019643450c\",\"subtype\":\"Chart\",\"type\":\"Plot\"},\"ticker\":{\"id\":\"46ac0afd-0ef0-4f95-a676-175fd2229c87\",\"type\":\"BasicTicker\"}},\"id\":\"7c0f3727-9379-4402-9cda-ea2e233cfd4f\",\"type\":\"LinearAxis\"},{\"attributes\":{\"callback\":null,\"column_names\":[\"height\",\"color\",\"width\",\"fill_alpha\",\"x\",\"y\",\"line_alpha\",\"line_color\",\"label\"],\"data\":{\"chart_index\":[\"(157.2, 165.0]\"],\"color\":[\"#df5320\"],\"fill_alpha\":[0.6],\"height\":[1.0],\"label\":[\"(157.2, 165.0]\"],\"line_alpha\":[1.0],\"line_color\":[\"black\"],\"width\":[7.75],\"x\":[\"161.1\"],\"y\":[0.5]}},\"id\":\"3b1f5c1a-7a0e-42ad-93c5-1f7407daef18\",\"type\":\"ColumnDataSource\"},{\"attributes\":{\"fill_alpha\":{\"field\":\"fill_alpha\"},\"fill_color\":{\"field\":\"color\"},\"height\":{\"field\":\"height\",\"units\":\"data\"},\"line_color\":{\"field\":\"line_color\"},\"width\":{\"field\":\"width\",\"units\":\"data\"},\"x\":{\"field\":\"x\"},\"y\":{\"field\":\"y\"}},\"id\":\"9251e84f-1f66-477e-bdcd-6f5e9cdd8093\",\"type\":\"Rect\"},{\"attributes\":{\"callback\":null,\"column_names\":[\"height\",\"color\",\"width\",\"fill_alpha\",\"x\",\"y\",\"line_alpha\",\"line_color\",\"label\"],\"data\":{\"chart_index\":[\"(132.0, 146.0]\"],\"color\":[\"#00ad9c\"],\"fill_alpha\":[0.6],\"height\":[20.0],\"label\":[\"(132.0, 146.0]\"],\"line_alpha\":[1.0],\"line_color\":[\"black\"],\"width\":[14.0],\"x\":[\"139.0\"],\"y\":[10.0]}},\"id\":\"d59121b5-af2c-4585-9e5a-c9841992fe67\",\"type\":\"ColumnDataSource\"},{\"attributes\":{\"fill_alpha\":{\"field\":\"fill_alpha\"},\"fill_color\":{\"field\":\"color\"},\"height\":{\"field\":\"height\",\"units\":\"data\"},\"line_color\":{\"field\":\"line_color\"},\"width\":{\"field\":\"width\",\"units\":\"data\"},\"x\":{\"field\":\"x\"},\"y\":{\"field\":\"y\"}},\"id\":\"ae64f944-830c-4c7a-ab7a-5171542ee12f\",\"type\":\"Rect\"},{\"attributes\":{\"data_source\":{\"id\":\"ab572e3b-518b-441f-8bc2-4f6ff860be5f\",\"type\":\"ColumnDataSource\"},\"glyph\":{\"id\":\"13af4962-9ae8-4e9c-8f31-782a0992cf50\",\"type\":\"Rect\"},\"hover_glyph\":null,\"nonselection_glyph\":null,\"selection_glyph\":null},\"id\":\"de923dfe-bc90-4af2-8358-101f02e7c478\",\"type\":\"GlyphRenderer\"},{\"attributes\":{\"fill_alpha\":{\"field\":\"fill_alpha\"},\"fill_color\":{\"field\":\"color\"},\"height\":{\"field\":\"height\",\"units\":\"data\"},\"line_color\":{\"field\":\"line_color\"},\"width\":{\"field\":\"width\",\"units\":\"data\"},\"x\":{\"field\":\"x\"},\"y\":{\"field\":\"y\"}},\"id\":\"1e44ed1c-5f06-4d51-bb7d-65c42b6402a1\",\"type\":\"Rect\"},{\"attributes\":{\"data_source\":{\"id\":\"156bf6ae-88ac-42fd-81de-62d731b038f8\",\"type\":\"ColumnDataSource\"},\"glyph\":{\"id\":\"6cde2871-261b-4247-bc12-51aaf8fe4689\",\"type\":\"Rect\"},\"hover_glyph\":null,\"nonselection_glyph\":null,\"selection_glyph\":null},\"id\":\"41b59024-5d62-4bfa-8cdf-960540b1785c\",\"type\":\"GlyphRenderer\"},{\"attributes\":{\"data_source\":{\"id\":\"64560498-a074-4b75-8398-a13571622ae0\",\"type\":\"ColumnDataSource\"},\"glyph\":{\"id\":\"c9be38ee-5525-49aa-8a5c-60a9cdfffbdd\",\"type\":\"Rect\"},\"hover_glyph\":null,\"nonselection_glyph\":null,\"selection_glyph\":null},\"id\":\"0f16e017-8a50-4239-b54c-902fd969db3f\",\"type\":\"GlyphRenderer\"},{\"attributes\":{\"callback\":null,\"column_names\":[\"height\",\"color\",\"width\",\"fill_alpha\",\"x\",\"y\",\"line_alpha\",\"line_color\",\"label\"],\"data\":{\"chart_index\":[\"[90.0, 104.0]\"],\"color\":[\"#00ad9c\"],\"fill_alpha\":[0.6],\"height\":[1.0],\"label\":[\"[90.0, 104.0]\"],\"line_alpha\":[1.0],\"line_color\":[\"black\"],\"width\":[14.0],\"x\":[\"97.0\"],\"y\":[0.5]}},\"id\":\"ab572e3b-518b-441f-8bc2-4f6ff860be5f\",\"type\":\"ColumnDataSource\"},{\"attributes\":{\"fill_alpha\":{\"field\":\"fill_alpha\"},\"fill_color\":{\"field\":\"color\"},\"height\":{\"field\":\"height\",\"units\":\"data\"},\"line_color\":{\"field\":\"line_color\"},\"width\":{\"field\":\"width\",\"units\":\"data\"},\"x\":{\"field\":\"x\"},\"y\":{\"field\":\"y\"}},\"id\":\"00f90365-920c-4f39-905d-12bcb96163b3\",\"type\":\"Rect\"},{\"attributes\":{\"callback\":null,\"column_names\":[\"height\",\"color\",\"width\",\"fill_alpha\",\"x\",\"y\",\"line_alpha\",\"line_color\",\"label\"],\"data\":{\"chart_index\":[\"(174.0, 188.0]\"],\"color\":[\"#00ad9c\"],\"fill_alpha\":[0.6],\"height\":[10.0],\"label\":[\"(174.0, 188.0]\"],\"line_alpha\":[1.0],\"line_color\":[\"black\"],\"width\":[14.0],\"x\":[\"181.0\"],\"y\":[5.0]}},\"id\":\"002beb68-9c6c-4e58-bb4d-16b8f5d3ed61\",\"type\":\"ColumnDataSource\"},{\"attributes\":{\"callback\":null,\"column_names\":[\"height\",\"color\",\"width\",\"fill_alpha\",\"x\",\"y\",\"line_alpha\",\"line_color\",\"label\"],\"data\":{\"chart_index\":[\"(104.0, 118.0]\"],\"color\":[\"#00ad9c\"],\"fill_alpha\":[0.6],\"height\":[4.0],\"label\":[\"(104.0, 118.0]\"],\"line_alpha\":[1.0],\"line_color\":[\"black\"],\"width\":[14.0],\"x\":[\"111.0\"],\"y\":[2.0]}},\"id\":\"9c7d2c33-31d4-48b3-9bf8-edba1ae99473\",\"type\":\"ColumnDataSource\"},{\"attributes\":{\"fill_alpha\":{\"field\":\"fill_alpha\"},\"fill_color\":{\"field\":\"color\"},\"height\":{\"field\":\"height\",\"units\":\"data\"},\"line_color\":{\"field\":\"line_color\"},\"width\":{\"field\":\"width\",\"units\":\"data\"},\"x\":{\"field\":\"x\"},\"y\":{\"field\":\"y\"}},\"id\":\"881a4f25-dcc7-4c3c-a626-f58d602ff7a4\",\"type\":\"Rect\"},{\"attributes\":{\"plot\":{\"id\":\"141dc005-188f-4192-a2e4-8e019643450c\",\"subtype\":\"Chart\",\"type\":\"Plot\"}},\"id\":\"c5d6ff62-46a9-4477-b98b-76e228188f63\",\"type\":\"WheelZoomTool\"},{\"attributes\":{\"callback\":null,\"column_names\":[\"height\",\"color\",\"width\",\"fill_alpha\",\"x\",\"y\",\"line_alpha\",\"line_color\",\"label\"],\"data\":{\"chart_index\":[\"(95.2, 103.0]\"],\"color\":[\"#df5320\"],\"fill_alpha\":[0.6],\"height\":[19.0],\"label\":[\"(95.2, 103.0]\"],\"line_alpha\":[1.0],\"line_color\":[\"black\"],\"width\":[7.75],\"x\":[\"99.1\"],\"y\":[9.5]}},\"id\":\"f670a611-2585-4528-9097-a04575b9bcc8\",\"type\":\"ColumnDataSource\"},{\"attributes\":{\"callback\":null,\"column_names\":[\"height\",\"color\",\"width\",\"fill_alpha\",\"x\",\"y\",\"line_alpha\",\"line_color\",\"label\"],\"data\":{\"chart_index\":[\"(216.0, 230.0]\"],\"color\":[\"#00ad9c\"],\"fill_alpha\":[0.6],\"height\":[5.0],\"label\":[\"(216.0, 230.0]\"],\"line_alpha\":[1.0],\"line_color\":[\"black\"],\"width\":[14.0],\"x\":[\"223.0\"],\"y\":[2.5]}},\"id\":\"9dff0a34-3bf6-4a07-a8ac-d897b17b006f\",\"type\":\"ColumnDataSource\"},{\"attributes\":{\"data_source\":{\"id\":\"9e9c8063-fafc-4326-824e-1d9c84fbe3d4\",\"type\":\"ColumnDataSource\"},\"glyph\":{\"id\":\"8aedd391-52c2-492c-bc04-923ac5eac8c2\",\"type\":\"Rect\"},\"hover_glyph\":null,\"nonselection_glyph\":null,\"selection_glyph\":null},\"id\":\"cb5457fd-2dd5-49bf-832e-3fa8e06c6a79\",\"type\":\"GlyphRenderer\"},{\"attributes\":{\"below\":[{\"id\":\"7c0f3727-9379-4402-9cda-ea2e233cfd4f\",\"type\":\"LinearAxis\"}],\"left\":[{\"id\":\"91b62f21-76fc-414b-8b90-01b1809eb0fa\",\"type\":\"LinearAxis\"}],\"renderers\":[{\"id\":\"5059a1f9-02ce-4323-8fa5-5a6913f1d5d2\",\"type\":\"BoxAnnotation\"},{\"id\":\"de923dfe-bc90-4af2-8358-101f02e7c478\",\"type\":\"GlyphRenderer\"},{\"id\":\"bf5c0e55-9fdc-47fd-a683-dec2cff7a6bd\",\"type\":\"GlyphRenderer\"},{\"id\":\"e87a2ee2-2813-4101-8231-990a9cfc9b43\",\"type\":\"GlyphRenderer\"},{\"id\":\"9d316a17-b13e-4941-8333-93f96d01eeea\",\"type\":\"GlyphRenderer\"},{\"id\":\"293e0e2d-f63b-4018-803c-4e87cd3a9be9\",\"type\":\"GlyphRenderer\"},{\"id\":\"0f16e017-8a50-4239-b54c-902fd969db3f\",\"type\":\"GlyphRenderer\"},{\"id\":\"dcf1d05d-534b-4b66-a1ab-2f2be459ab41\",\"type\":\"GlyphRenderer\"},{\"id\":\"c953707f-9e27-4aaf-a906-22c7c6d3f7a0\",\"type\":\"GlyphRenderer\"},{\"id\":\"18481f11-1d9c-46f9-b594-c2b51db8a94e\",\"type\":\"GlyphRenderer\"},{\"id\":\"299368ed-b8d8-4231-a797-1c0acafb1064\",\"type\":\"GlyphRenderer\"},{\"id\":\"eee7f585-452b-4b58-afe7-0d5613c01921\",\"type\":\"GlyphRenderer\"},{\"id\":\"f7e727fa-0fce-4f30-9032-a30380a2d8d4\",\"type\":\"GlyphRenderer\"},{\"id\":\"95a04e17-c32b-495d-8d3c-c6fff6cef073\",\"type\":\"GlyphRenderer\"},{\"id\":\"4a5ee1ea-487e-4744-a476-f55f8e706438\",\"type\":\"GlyphRenderer\"},{\"id\":\"18bafe73-8b19-428c-9da7-8c8ea7d54c66\",\"type\":\"GlyphRenderer\"},{\"id\":\"3b371dd4-d9ce-4898-94b3-cc3086a160bb\",\"type\":\"GlyphRenderer\"},{\"id\":\"fdda2f2d-ca86-4dd0-97bc-32e66fce15e8\",\"type\":\"GlyphRenderer\"},{\"id\":\"4de62582-3097-45ba-843c-d037c902bac4\",\"type\":\"GlyphRenderer\"},{\"id\":\"59413294-676a-40e0-8430-f13b5ee2e2ec\",\"type\":\"GlyphRenderer\"},{\"id\":\"168af2c1-2874-43ae-b38a-e737a39dbffd\",\"type\":\"GlyphRenderer\"},{\"id\":\"5b69cd22-b12e-425e-b9ff-8786d0a8714f\",\"type\":\"GlyphRenderer\"},{\"id\":\"91dfdd5a-b88c-4ab0-81ea-83f45353af3f\",\"type\":\"GlyphRenderer\"},{\"id\":\"796eeab4-000a-426c-9c8d-8d6abfa60e3d\",\"type\":\"GlyphRenderer\"},{\"id\":\"24339d4a-486e-49d1-a6ad-11d8b1174497\",\"type\":\"GlyphRenderer\"},{\"id\":\"2511632d-0006-4b61-bad3-a13a9028b6d7\",\"type\":\"GlyphRenderer\"},{\"id\":\"aa400821-30f2-49c5-86d3-189966db2a57\",\"type\":\"GlyphRenderer\"},{\"id\":\"b3c912b1-249b-42a1-8258-ccad5a634852\",\"type\":\"GlyphRenderer\"},{\"id\":\"19c9b2d8-6c3b-4461-9357-e5d522ad8b1f\",\"type\":\"GlyphRenderer\"},{\"id\":\"7aeac2ac-5020-4151-bad0-e4c6f0dfe05f\",\"type\":\"GlyphRenderer\"},{\"id\":\"cb5457fd-2dd5-49bf-832e-3fa8e06c6a79\",\"type\":\"GlyphRenderer\"},{\"id\":\"41b59024-5d62-4bfa-8cdf-960540b1785c\",\"type\":\"GlyphRenderer\"},{\"id\":\"fce3d160-4e98-4f93-b0bf-1038a955a083\",\"type\":\"GlyphRenderer\"},{\"id\":\"658fa62b-2a9f-4f84-9111-6ee928f05d1e\",\"type\":\"GlyphRenderer\"},{\"id\":\"36de1861-0c7f-40a7-9179-c770bdd8b966\",\"type\":\"GlyphRenderer\"},{\"id\":\"2287a0e6-38e1-414f-b31d-745f6bf93888\",\"type\":\"GlyphRenderer\"},{\"id\":\"dcd655b3-f465-4b9a-8fe9-7e1846dff8e1\",\"type\":\"GlyphRenderer\"},{\"id\":\"390ad2d7-7a3a-4c72-866a-8313b350cab6\",\"type\":\"GlyphRenderer\"},{\"id\":\"42ad12d7-ab51-4837-aea9-dee7f2ce870b\",\"type\":\"GlyphRenderer\"},{\"id\":\"5a2e1121-9c3d-4d82-9a7c-5e4ec8ddf06a\",\"type\":\"Legend\"},{\"id\":\"7c0f3727-9379-4402-9cda-ea2e233cfd4f\",\"type\":\"LinearAxis\"},{\"id\":\"91b62f21-76fc-414b-8b90-01b1809eb0fa\",\"type\":\"LinearAxis\"},{\"id\":\"91ce07e3-0c34-4715-81a4-4c139a74ae95\",\"type\":\"Grid\"}],\"title\":{\"id\":\"6962b54e-62ec-4a16-bb55-37c32e1bc549\",\"type\":\"Title\"},\"tool_events\":{\"id\":\"200dd2b3-9ab3-4e90-b90d-f256c78a82b7\",\"type\":\"ToolEvents\"},\"toolbar\":{\"id\":\"065c8ac9-320f-408a-9066-908d57d53d81\",\"type\":\"Toolbar\"},\"x_mapper_type\":\"auto\",\"x_range\":{\"id\":\"4b5fec93-5719-4327-be49-bf14c2550889\",\"type\":\"Range1d\"},\"y_mapper_type\":\"auto\",\"y_range\":{\"id\":\"945d4c90-f0f1-4099-a2a2-e04d8292b399\",\"type\":\"Range1d\"}},\"id\":\"141dc005-188f-4192-a2e4-8e019643450c\",\"subtype\":\"Chart\",\"type\":\"Plot\"},{\"attributes\":{\"fill_alpha\":{\"field\":\"fill_alpha\"},\"fill_color\":{\"field\":\"color\"},\"height\":{\"field\":\"height\",\"units\":\"data\"},\"line_color\":{\"field\":\"line_color\"},\"width\":{\"field\":\"width\",\"units\":\"data\"},\"x\":{\"field\":\"x\"},\"y\":{\"field\":\"y\"}},\"id\":\"8b2fcd64-a938-4ad5-805f-ea6583e8fc20\",\"type\":\"Rect\"},{\"attributes\":{\"data_source\":{\"id\":\"69857e63-c44c-4733-813c-4b23654c4a88\",\"type\":\"ColumnDataSource\"},\"glyph\":{\"id\":\"ad01da7b-aae7-4e37-8d00-1ad672bbba4a\",\"type\":\"Rect\"},\"hover_glyph\":null,\"nonselection_glyph\":null,\"selection_glyph\":null},\"id\":\"19c9b2d8-6c3b-4461-9357-e5d522ad8b1f\",\"type\":\"GlyphRenderer\"},{\"attributes\":{\"data_source\":{\"id\":\"ff99c1cd-373a-4377-8f9a-8a8a4a263e21\",\"type\":\"ColumnDataSource\"},\"glyph\":{\"id\":\"d0d00716-d11e-44df-bf37-06c9fe9d780b\",\"type\":\"Rect\"},\"hover_glyph\":null,\"nonselection_glyph\":null,\"selection_glyph\":null},\"id\":\"36de1861-0c7f-40a7-9179-c770bdd8b966\",\"type\":\"GlyphRenderer\"},{\"attributes\":{\"fill_alpha\":{\"field\":\"fill_alpha\"},\"fill_color\":{\"field\":\"color\"},\"height\":{\"field\":\"height\",\"units\":\"data\"},\"line_color\":{\"field\":\"line_color\"},\"width\":{\"field\":\"width\",\"units\":\"data\"},\"x\":{\"field\":\"x\"},\"y\":{\"field\":\"y\"}},\"id\":\"d0d00716-d11e-44df-bf37-06c9fe9d780b\",\"type\":\"Rect\"},{\"attributes\":{\"fill_alpha\":{\"field\":\"fill_alpha\"},\"fill_color\":{\"field\":\"color\"},\"height\":{\"field\":\"height\",\"units\":\"data\"},\"line_color\":{\"field\":\"line_color\"},\"width\":{\"field\":\"width\",\"units\":\"data\"},\"x\":{\"field\":\"x\"},\"y\":{\"field\":\"y\"}},\"id\":\"7609a12e-a9fb-445a-83cd-a5870ab51ed6\",\"type\":\"Rect\"},{\"attributes\":{\"callback\":null,\"column_names\":[\"height\",\"color\",\"width\",\"fill_alpha\",\"x\",\"y\",\"line_alpha\",\"line_color\",\"label\"],\"data\":{\"chart_index\":[\"(103.0, 110.8]\"],\"color\":[\"#df5320\"],\"fill_alpha\":[0.6],\"height\":[23.0],\"label\":[\"(103.0, 110.8]\"],\"line_alpha\":[1.0],\"line_color\":[\"black\"],\"width\":[7.75],\"x\":[\"106.9\"],\"y\":[11.5]}},\"id\":\"b05e0e51-c54f-4053-87bb-2db69ac5133a\",\"type\":\"ColumnDataSource\"},{\"attributes\":{\"callback\":null,\"column_names\":[\"height\",\"color\",\"width\",\"fill_alpha\",\"x\",\"y\",\"line_alpha\",\"line_color\",\"label\"],\"data\":{\"chart_index\":[\"(96.2, 102.5]\"],\"color\":[\"#5ab738\"],\"fill_alpha\":[0.6],\"height\":[8.0],\"label\":[\"(96.2, 102.5]\"],\"line_alpha\":[1.0],\"line_color\":[\"black\"],\"width\":[6.272727272727266],\"x\":[\"99.35\"],\"y\":[4.0]}},\"id\":\"cfd5ec8a-390f-4518-bd8d-3ccc688581e6\",\"type\":\"ColumnDataSource\"},{\"attributes\":{\"callback\":null,\"column_names\":[\"height\",\"color\",\"width\",\"fill_alpha\",\"x\",\"y\",\"line_alpha\",\"line_color\",\"label\"],\"data\":{\"chart_index\":[\"(71.1, 77.4]\"],\"color\":[\"#5ab738\"],\"fill_alpha\":[0.6],\"height\":[24.0],\"label\":[\"(71.1, 77.4]\"],\"line_alpha\":[1.0],\"line_color\":[\"black\"],\"width\":[6.272727272727266],\"x\":[\"74.25\"],\"y\":[12.0]}},\"id\":\"39810fe0-7c15-444c-814b-84390717d39f\",\"type\":\"ColumnDataSource\"},{\"attributes\":{\"plot\":{\"id\":\"141dc005-188f-4192-a2e4-8e019643450c\",\"subtype\":\"Chart\",\"type\":\"Plot\"}},\"id\":\"8d8e98a6-3cac-43ae-9363-51bdd24d0d2b\",\"type\":\"PanTool\"},{\"attributes\":{\"callback\":null,\"column_names\":[\"height\",\"color\",\"width\",\"fill_alpha\",\"x\",\"y\",\"line_alpha\",\"line_color\",\"label\"],\"data\":{\"chart_index\":[\"(126.2, 134.0]\"],\"color\":[\"#df5320\"],\"fill_alpha\":[0.6],\"height\":[2.0],\"label\":[\"(126.2, 134.0]\"],\"line_alpha\":[1.0],\"line_color\":[\"black\"],\"width\":[7.75],\"x\":[\"130.1\"],\"y\":[1.0]}},\"id\":\"8431519f-e68b-43ac-bd41-a4e9507dc7b0\",\"type\":\"ColumnDataSource\"},{\"attributes\":{\"callback\":null,\"column_names\":[\"height\",\"color\",\"width\",\"fill_alpha\",\"x\",\"y\",\"line_alpha\",\"line_color\",\"label\"],\"data\":{\"chart_index\":[\"(149.5, 157.2]\"],\"color\":[\"#df5320\"],\"fill_alpha\":[0.6],\"height\":[0.0],\"label\":[\"(149.5, 157.2]\"],\"line_alpha\":[1.0],\"line_color\":[\"black\"],\"width\":[7.75],\"x\":[\"153.35\"],\"y\":[0.0]}},\"id\":\"d4ae6cb2-b44f-457c-90cd-b5851745bd95\",\"type\":\"ColumnDataSource\"},{\"attributes\":{\"data_source\":{\"id\":\"f670a611-2585-4528-9097-a04575b9bcc8\",\"type\":\"ColumnDataSource\"},\"glyph\":{\"id\":\"e5617e0e-47d4-4d2f-a806-11915ff95245\",\"type\":\"Rect\"},\"hover_glyph\":null,\"nonselection_glyph\":null,\"selection_glyph\":null},\"id\":\"2511632d-0006-4b61-bad3-a13a9028b6d7\",\"type\":\"GlyphRenderer\"},{\"attributes\":{\"data_source\":{\"id\":\"53d2b564-c605-485b-862f-a08b465181ca\",\"type\":\"ColumnDataSource\"},\"glyph\":{\"id\":\"044156c3-2a9c-4fe0-aed6-b422d72f2d4f\",\"type\":\"Rect\"},\"hover_glyph\":null,\"nonselection_glyph\":null,\"selection_glyph\":null},\"id\":\"390ad2d7-7a3a-4c72-866a-8313b350cab6\",\"type\":\"GlyphRenderer\"},{\"attributes\":{\"fill_alpha\":{\"field\":\"fill_alpha\"},\"fill_color\":{\"field\":\"color\"},\"height\":{\"field\":\"height\",\"units\":\"data\"},\"line_color\":{\"field\":\"line_color\"},\"width\":{\"field\":\"width\",\"units\":\"data\"},\"x\":{\"field\":\"x\"},\"y\":{\"field\":\"y\"}},\"id\":\"856f9deb-5e05-4f55-8d6b-b2f8658888e3\",\"type\":\"Rect\"},{\"attributes\":{\"data_source\":{\"id\":\"4bf18272-7f38-4bc9-9c2e-d0ace928b68d\",\"type\":\"ColumnDataSource\"},\"glyph\":{\"id\":\"96227da1-2370-4250-a832-11b9c83b793f\",\"type\":\"Rect\"},\"hover_glyph\":null,\"nonselection_glyph\":null,\"selection_glyph\":null},\"id\":\"c953707f-9e27-4aaf-a906-22c7c6d3f7a0\",\"type\":\"GlyphRenderer\"},{\"attributes\":{\"data_source\":{\"id\":\"adfa1dd3-49f0-4293-b3d9-103d8cdefa8d\",\"type\":\"ColumnDataSource\"},\"glyph\":{\"id\":\"907fe0e8-70d1-456e-9ea6-1566e21b52a9\",\"type\":\"Rect\"},\"hover_glyph\":null,\"nonselection_glyph\":null,\"selection_glyph\":null},\"id\":\"18481f11-1d9c-46f9-b594-c2b51db8a94e\",\"type\":\"GlyphRenderer\"},{\"attributes\":{\"data_source\":{\"id\":\"c6f9a2d3-c655-4762-836e-6621f2fab590\",\"type\":\"ColumnDataSource\"},\"glyph\":{\"id\":\"23136c72-1282-4745-9ed9-50f4cbb4b21f\",\"type\":\"Rect\"},\"hover_glyph\":null,\"nonselection_glyph\":null,\"selection_glyph\":null},\"id\":\"4a5ee1ea-487e-4744-a476-f55f8e706438\",\"type\":\"GlyphRenderer\"},{\"attributes\":{\"dimension\":1,\"plot\":{\"id\":\"141dc005-188f-4192-a2e4-8e019643450c\",\"subtype\":\"Chart\",\"type\":\"Plot\"},\"ticker\":{\"id\":\"5d724fe8-8492-4ed1-bd8b-e8661a6c9605\",\"type\":\"BasicTicker\"}},\"id\":\"91ce07e3-0c34-4715-81a4-4c139a74ae95\",\"type\":\"Grid\"},{\"attributes\":{\"fill_alpha\":{\"field\":\"fill_alpha\"},\"fill_color\":{\"field\":\"color\"},\"height\":{\"field\":\"height\",\"units\":\"data\"},\"line_color\":{\"field\":\"line_color\"},\"width\":{\"field\":\"width\",\"units\":\"data\"},\"x\":{\"field\":\"x\"},\"y\":{\"field\":\"y\"}},\"id\":\"13af4962-9ae8-4e9c-8f31-782a0992cf50\",\"type\":\"Rect\"},{\"attributes\":{\"callback\":null,\"column_names\":[\"height\",\"color\",\"width\",\"fill_alpha\",\"x\",\"y\",\"line_alpha\",\"line_color\",\"label\"],\"data\":{\"chart_index\":[\"(202.0, 216.0]\"],\"color\":[\"#00ad9c\"],\"fill_alpha\":[0.6],\"height\":[5.0],\"label\":[\"(202.0, 216.0]\"],\"line_alpha\":[1.0],\"line_color\":[\"black\"],\"width\":[14.0],\"x\":[\"209.0\"],\"y\":[2.5]}},\"id\":\"adfa1dd3-49f0-4293-b3d9-103d8cdefa8d\",\"type\":\"ColumnDataSource\"},{\"attributes\":{\"callback\":null,\"column_names\":[\"height\",\"color\",\"width\",\"fill_alpha\",\"x\",\"y\",\"line_alpha\",\"line_color\",\"label\"],\"data\":{\"chart_index\":[\"(52.3, 58.5]\"],\"color\":[\"#5ab738\"],\"fill_alpha\":[0.6],\"height\":[5.0],\"label\":[\"(52.3, 58.5]\"],\"line_alpha\":[1.0],\"line_color\":[\"black\"],\"width\":[6.272727272727273],\"x\":[\"55.4\"],\"y\":[2.5]}},\"id\":\"11715bd7-6958-4269-ad8a-a8c8e6dd3f0f\",\"type\":\"ColumnDataSource\"},{\"attributes\":{\"fill_alpha\":{\"field\":\"fill_alpha\"},\"fill_color\":{\"field\":\"color\"},\"height\":{\"field\":\"height\",\"units\":\"data\"},\"line_color\":{\"field\":\"line_color\"},\"width\":{\"field\":\"width\",\"units\":\"data\"},\"x\":{\"field\":\"x\"},\"y\":{\"field\":\"y\"}},\"id\":\"ff491672-9c00-47aa-bfe7-e9cbc6ac6ab1\",\"type\":\"Rect\"},{\"attributes\":{\"plot\":{\"id\":\"141dc005-188f-4192-a2e4-8e019643450c\",\"subtype\":\"Chart\",\"type\":\"Plot\"}},\"id\":\"38c94de7-6aae-4659-ae7c-43719cbd60d9\",\"type\":\"HelpTool\"},{\"attributes\":{\"fill_alpha\":{\"field\":\"fill_alpha\"},\"fill_color\":{\"field\":\"color\"},\"height\":{\"field\":\"height\",\"units\":\"data\"},\"line_color\":{\"field\":\"line_color\"},\"width\":{\"field\":\"width\",\"units\":\"data\"},\"x\":{\"field\":\"x\"},\"y\":{\"field\":\"y\"}},\"id\":\"60dbbef7-79df-4f4e-bf7b-5a0416549e56\",\"type\":\"Rect\"},{\"attributes\":{\"fill_alpha\":{\"field\":\"fill_alpha\"},\"fill_color\":{\"field\":\"color\"},\"height\":{\"field\":\"height\",\"units\":\"data\"},\"line_color\":{\"field\":\"line_color\"},\"width\":{\"field\":\"width\",\"units\":\"data\"},\"x\":{\"field\":\"x\"},\"y\":{\"field\":\"y\"}},\"id\":\"8b9efe60-f51b-4b9e-a1e2-ea1811486b53\",\"type\":\"Rect\"},{\"attributes\":{\"plot\":{\"id\":\"141dc005-188f-4192-a2e4-8e019643450c\",\"subtype\":\"Chart\",\"type\":\"Plot\"}},\"id\":\"d92a4f8e-2213-4b34-9a40-8fa97c15e3b7\",\"type\":\"SaveTool\"},{\"attributes\":{\"data_source\":{\"id\":\"9c7d2c33-31d4-48b3-9bf8-edba1ae99473\",\"type\":\"ColumnDataSource\"},\"glyph\":{\"id\":\"9251e84f-1f66-477e-bdcd-6f5e9cdd8093\",\"type\":\"Rect\"},\"hover_glyph\":null,\"nonselection_glyph\":null,\"selection_glyph\":null},\"id\":\"bf5c0e55-9fdc-47fd-a683-dec2cff7a6bd\",\"type\":\"GlyphRenderer\"},{\"attributes\":{\"fill_alpha\":{\"field\":\"fill_alpha\"},\"fill_color\":{\"field\":\"color\"},\"height\":{\"field\":\"height\",\"units\":\"data\"},\"line_color\":{\"field\":\"line_color\"},\"width\":{\"field\":\"width\",\"units\":\"data\"},\"x\":{\"field\":\"x\"},\"y\":{\"field\":\"y\"}},\"id\":\"fc1d261c-2d8e-47eb-b69e-11ff52977176\",\"type\":\"Rect\"},{\"attributes\":{\"fill_alpha\":{\"field\":\"fill_alpha\"},\"fill_color\":{\"field\":\"color\"},\"height\":{\"field\":\"height\",\"units\":\"data\"},\"line_color\":{\"field\":\"line_color\"},\"width\":{\"field\":\"width\",\"units\":\"data\"},\"x\":{\"field\":\"x\"},\"y\":{\"field\":\"y\"}},\"id\":\"cba1789e-8757-4f25-8064-d561967ba017\",\"type\":\"Rect\"},{\"attributes\":{\"callback\":null,\"column_names\":[\"height\",\"color\",\"width\",\"fill_alpha\",\"x\",\"y\",\"line_alpha\",\"line_color\",\"label\"],\"data\":{\"chart_index\":[\"(160.0, 174.0]\"],\"color\":[\"#00ad9c\"],\"fill_alpha\":[0.6],\"height\":[11.0],\"label\":[\"(160.0, 174.0]\"],\"line_alpha\":[1.0],\"line_color\":[\"black\"],\"width\":[14.0],\"x\":[\"167.0\"],\"y\":[5.5]}},\"id\":\"64560498-a074-4b75-8398-a13571622ae0\",\"type\":\"ColumnDataSource\"},{\"attributes\":{\"callback\":null,\"column_names\":[\"height\",\"color\",\"width\",\"fill_alpha\",\"x\",\"y\",\"line_alpha\",\"line_color\",\"label\"],\"data\":{\"chart_index\":[\"(102.5, 108.7]\"],\"color\":[\"#5ab738\"],\"fill_alpha\":[0.6],\"height\":[2.0],\"label\":[\"(102.5, 108.7]\"],\"line_alpha\":[1.0],\"line_color\":[\"black\"],\"width\":[6.272727272727266],\"x\":[\"105.6\"],\"y\":[1.0]}},\"id\":\"05d94a10-2de3-45b1-909c-9ec62db0d51d\",\"type\":\"ColumnDataSource\"},{\"attributes\":{\"fill_alpha\":{\"field\":\"fill_alpha\"},\"fill_color\":{\"field\":\"color\"},\"height\":{\"field\":\"height\",\"units\":\"data\"},\"line_color\":{\"field\":\"line_color\"},\"width\":{\"field\":\"width\",\"units\":\"data\"},\"x\":{\"field\":\"x\"},\"y\":{\"field\":\"y\"}},\"id\":\"1e71831a-ab74-483f-8d19-31462084da96\",\"type\":\"Rect\"},{\"attributes\":{\"overlay\":{\"id\":\"5059a1f9-02ce-4323-8fa5-5a6913f1d5d2\",\"type\":\"BoxAnnotation\"},\"plot\":{\"id\":\"141dc005-188f-4192-a2e4-8e019643450c\",\"subtype\":\"Chart\",\"type\":\"Plot\"}},\"id\":\"b0dddb08-6c67-4215-aa5e-3d202ad174ff\",\"type\":\"BoxZoomTool\"},{\"attributes\":{\"fill_alpha\":{\"field\":\"fill_alpha\"},\"fill_color\":{\"field\":\"color\"},\"height\":{\"field\":\"height\",\"units\":\"data\"},\"line_color\":{\"field\":\"line_color\"},\"width\":{\"field\":\"width\",\"units\":\"data\"},\"x\":{\"field\":\"x\"},\"y\":{\"field\":\"y\"}},\"id\":\"5d715d25-063f-4d2e-bb3e-d3564069923b\",\"type\":\"Rect\"},{\"attributes\":{},\"id\":\"5d724fe8-8492-4ed1-bd8b-e8661a6c9605\",\"type\":\"BasicTicker\"},{\"attributes\":{\"fill_alpha\":{\"field\":\"fill_alpha\"},\"fill_color\":{\"field\":\"color\"},\"height\":{\"field\":\"height\",\"units\":\"data\"},\"line_color\":{\"field\":\"line_color\"},\"width\":{\"field\":\"width\",\"units\":\"data\"},\"x\":{\"field\":\"x\"},\"y\":{\"field\":\"y\"}},\"id\":\"044156c3-2a9c-4fe0-aed6-b422d72f2d4f\",\"type\":\"Rect\"},{\"attributes\":{},\"id\":\"b9f7dfb5-da7b-4970-ac3b-43e1473b5077\",\"type\":\"BasicTickFormatter\"}],\"root_ids\":[\"141dc005-188f-4192-a2e4-8e019643450c\"]},\"title\":\"Bokeh Application\",\"version\":\"0.12.1\"}};\n",
       "            var render_items = [{\"docid\":\"0ae96a45-60c8-4873-98e0-e65086ea8134\",\"elementid\":\"6d632823-fd22-46af-b1f1-c3819d60a490\",\"modelid\":\"141dc005-188f-4192-a2e4-8e019643450c\",\"notebook_comms_target\":\"3eee2a23-b9b4-4f86-9138-1fbba206ca55\"}];\n",
       "            \n",
       "            Bokeh.embed.embed_items(docs_json, render_items);\n",
       "        });\n",
       "      },\n",
       "      function(Bokeh) {\n",
       "      }\n",
       "    ];\n",
       "  \n",
       "    function run_inline_js() {\n",
       "      for (var i = 0; i < inline_js.length; i++) {\n",
       "        inline_js[i](window.Bokeh);\n",
       "      }\n",
       "    }\n",
       "  \n",
       "    if (window._bokeh_is_loading === 0) {\n",
       "      console.log(\"Bokeh: BokehJS loaded, going straight to plotting\");\n",
       "      run_inline_js();\n",
       "    } else {\n",
       "      load_libs(js_urls, function() {\n",
       "        console.log(\"Bokeh: BokehJS plotting callback run at\", now());\n",
       "        run_inline_js();\n",
       "      });\n",
       "    }\n",
       "  }(this));\n",
       "</script>"
      ]
     },
     "metadata": {},
     "output_type": "execute_result"
    },
    {
     "data": {
      "text/html": [
       "<p><code>&lt;Bokeh Notebook handle for <strong>In[33]</strong>&gt;</code></p>"
      ],
      "text/plain": [
       "<bokeh.io._CommsHandle at 0x15d909b0>"
      ]
     },
     "execution_count": 33,
     "metadata": {},
     "output_type": "execute_result"
    }
   ],
   "source": [
    "from bokeh.charts import Histogram, output_file, show\n",
    "from bokeh.sampledata.autompg import autompg as df\n",
    "import bokeh.plotting as bk\n",
    "\n",
    "hist = Histogram(df, values='hp', color='cyl',\n",
    "                 title=\"HP Distribution by Cylinder Count\", legend='top_right')\n",
    "\n",
    "# output_file(\"histogram_single.html\", title=\"histogram_single.py example\")\n",
    "# hist = \n",
    "# show(hist)"
   ]
  },
  {
   "cell_type": "code",
   "execution_count": 34,
   "metadata": {
    "collapsed": false
   },
   "outputs": [
    {
     "ename": "NameError",
     "evalue": "name 'hist_map' is not defined",
     "traceback": [
      "\u001b[1;31m---------------------------------------------------------------------------\u001b[0m",
      "\u001b[1;31mNameError\u001b[0m                                 Traceback (most recent call last)",
      "\u001b[1;32m<ipython-input-34-4e568d85a225>\u001b[0m in \u001b[0;36m<module>\u001b[1;34m()\u001b[0m\n\u001b[1;32m----> 1\u001b[1;33m \u001b[0mh\u001b[0m \u001b[1;33m=\u001b[0m \u001b[0mchart\u001b[0m\u001b[1;33m.\u001b[0m\u001b[0mHistogram\u001b[0m\u001b[1;33m(\u001b[0m\u001b[0mlatest\u001b[0m\u001b[1;33m.\u001b[0m\u001b[0mcase_action\u001b[0m\u001b[1;33m.\u001b[0m\u001b[0mmap\u001b[0m\u001b[1;33m(\u001b[0m\u001b[0mhist_map\u001b[0m\u001b[1;33m)\u001b[0m\u001b[1;33m,\u001b[0m \u001b[0mbins\u001b[0m \u001b[1;33m=\u001b[0m \u001b[1;36m2\u001b[0m\u001b[1;33m*\u001b[0m\u001b[0mlen\u001b[0m\u001b[1;33m(\u001b[0m\u001b[0mhist_map\u001b[0m\u001b[1;33m)\u001b[0m\u001b[1;33m)\u001b[0m\u001b[1;33m\u001b[0m\u001b[0m\n\u001b[0m\u001b[0;32m      2\u001b[0m \u001b[0mh\u001b[0m\u001b[1;33m.\u001b[0m\u001b[0mxaxis\u001b[0m\u001b[1;33m[\u001b[0m\u001b[1;36m0\u001b[0m\u001b[1;33m]\u001b[0m\u001b[1;33m.\u001b[0m\u001b[0mformatter\u001b[0m \u001b[1;33m=\u001b[0m \u001b[0mFixedTickFormatter\u001b[0m\u001b[1;33m(\u001b[0m\u001b[0mlabels\u001b[0m\u001b[1;33m=\u001b[0m\u001b[0minv_map\u001b[0m\u001b[1;33m)\u001b[0m\u001b[1;33m\u001b[0m\u001b[0m\n\u001b[0;32m      3\u001b[0m \u001b[0mshow\u001b[0m\u001b[1;33m(\u001b[0m\u001b[0mh\u001b[0m\u001b[1;33m)\u001b[0m\u001b[1;33m\u001b[0m\u001b[0m\n",
      "\u001b[1;31mNameError\u001b[0m: name 'hist_map' is not defined"
     ],
     "output_type": "error"
    }
   ],
   "source": [
    "h = chart.Histogram(latest.case_action.map(hist_map), bins = 2*len(hist_map))\n",
    "h.xaxis[0].formatter = FixedTickFormatter(labels=inv_map)\n",
    "show(h)"
   ]
  },
  {
   "cell_type": "code",
   "execution_count": 80,
   "metadata": {
    "collapsed": false
   },
   "outputs": [],
   "source": [
    "pf_metrics = metrics.df[(metrics.df.numeric_status !=3) & metrics.this_month]"
   ]
  },
  {
   "cell_type": "code",
   "execution_count": 59,
   "metadata": {
    "collapsed": false
   },
   "outputs": [
    {
     "data": {
      "text/plain": [
       "case_id\n",
       "026-016-0006    0.000000\n",
       "031-004-0001    0.000000\n",
       "160-004-0001    0.000000\n",
       "160-001-0007    0.000000\n",
       "161-006-0001    0.333333\n",
       "004-011-0004    0.333333\n",
       "001-004-0001    0.480000\n",
       "026-001-0004    0.500000\n",
       "026-001-0005    0.500000\n",
       "160-002-0001    0.552632\n",
       "Name: numeric_status, dtype: float64"
      ]
     },
     "execution_count": 59,
     "metadata": {},
     "output_type": "execute_result"
    }
   ],
   "source": [
    "caseidgroup = pf_metrics.groupby('case_id')\n",
    "ssorted = caseidgroup.numeric_status.mean()\n",
    "ssorted.sort_values()[:10]"
   ]
  },
  {
   "cell_type": "code",
   "execution_count": 88,
   "metadata": {
    "collapsed": true
   },
   "outputs": [],
   "source": [
    "har = metrics.df.groupby('case_id')"
   ]
  },
  {
   "cell_type": "code",
   "execution_count": 89,
   "metadata": {
    "collapsed": true
   },
   "outputs": [],
   "source": [
    "ssorted = har.numeric_status.mean()"
   ]
  },
  {
   "cell_type": "code",
   "execution_count": 95,
   "metadata": {
    "collapsed": false
   },
   "outputs": [
    {
     "data": {
      "text/plain": [
       "Index(['999-999-9999', '008-006-0037', '008-006-0038', '008-006-0039',\n",
       "       '008-006-0040', '008-007-0005', '008-007-0006', '008-007-0007',\n",
       "       '008-007-0008', '008-007-0009',\n",
       "       ...\n",
       "       '001-002-0003', '004-019-0002', '010-005-0005', '003-001-0005',\n",
       "       '017-001-0008', '010-038-0002', '017-024-0002', '017-025-0002',\n",
       "       '001-002-0004', '003-006-0003'],\n",
       "      dtype='object', name='case_id', length=1919)"
      ]
     },
     "execution_count": 95,
     "metadata": {},
     "output_type": "execute_result"
    }
   ],
   "source": [
    "ssorted.sort_values().index"
   ]
  },
  {
   "cell_type": "code",
   "execution_count": null,
   "metadata": {
    "collapsed": true
   },
   "outputs": [],
   "source": [
    ""
   ]
  },
  {
   "cell_type": "code",
   "execution_count": 53,
   "metadata": {
    "collapsed": true
   },
   "outputs": [],
   "source": [
    "def highest_failures_by_groupby_count(groupby_df, count):\n",
    "    mean_status = groupby_df.numeric_status.mean()\n",
    "    worst = mean_status.sort_values()[:count]\n",
    "    return worst"
   ]
  },
  {
   "cell_type": "code",
   "execution_count": 21,
   "metadata": {
    "collapsed": false
   },
   "outputs": [],
   "source": [
    "def highest_failures_by_groupby_stdev(groupby_df, sigma=0):\n",
    "    vals = groupby_df.numeric_status.mean()\n",
    "    normed_vals = vals[~_data.return_in_norm_series(vals, sigma)]\n",
    "    not_pass_fail_100 = normed_vals[(normed_vals <= 0.95) & (normed_vals != 0)]\n",
    "    print(type(not_pass_fail_100))\n",
    "    return not_pass_fail_100"
   ]
  },
  {
   "cell_type": "code",
   "execution_count": 22,
   "metadata": {
    "collapsed": false
   },
   "outputs": [],
   "source": [
    "def bar_plot_w_numeric_status(groupby_df, sigma=0):\n",
    "    fig, ax = plt.subplots(figsize=(20,10))\n",
    "    not_pass_fail_100 = highest_failures_by_groupby(groupby_df, sigma)\n",
    "    ax.bar(np.arange(len(not_pass_fail_100)), not_pass_fail_100)\n",
    "    ax.set_xticks(np.arange(len(not_pass_fail_100))+0.5)\n",
    "    ax.set_xticklabels(not_pass_fail_100.keys(), rotation=80)\n",
    "    return fig, ax, not_pass_fail_100.keys()"
   ]
  },
  {
   "cell_type": "code",
   "execution_count": 26,
   "metadata": {
    "collapsed": false,
    "scrolled": false
   },
   "outputs": [
    {
     "name": "stdout",
     "output_type": "stream",
     "text": [
      "<class 'pandas.core.series.Series'>\n"
     ]
    },
    {
     "data": {
      "text/plain": [
       "<matplotlib.text.Text at 0x2df607b8>"
      ]
     },
     "execution_count": 26,
     "metadata": {},
     "output_type": "execute_result"
    },
    {
     "data": {
      "image/png": "[encoded data removed]",
      "text/plain": [
       "<matplotlib.figure.Figure at 0x2e1e14a8>"
      ]
     },
     "metadata": {},
     "output_type": "display_data"
    }
   ],
   "source": [
    "fig, ax, list_keys = bar_plot_w_numeric_status(pf_metrics.groupby('case_id'), 1.8)\n",
    "ax.set_title('Highest % of Failures by Test ID')"
   ]
  },
  {
   "cell_type": "code",
   "execution_count": 28,
   "metadata": {
    "collapsed": false
   },
   "outputs": [
    {
     "data": {
      "text/html": [
       "\n",
       "    <div class=\"bk-root\">\n",
       "        <a href=\"http://bokeh.pydata.org\" target=\"_blank\" class=\"bk-logo bk-logo-small bk-logo-notebook\"></a>\n",
       "        <span id=\"81c066fc-8ad4-4dad-a3e4-2a248bf03f68\">Loading BokehJS ...</span>\n",
       "    </div>"
      ]
     },
     "metadata": {},
     "output_type": "execute_result"
    },
    {
     "data": {},
     "metadata": {},
     "output_type": "display_data"
    }
   ],
   "source": [
    "output_notebook()"
   ]
  },
  {
   "cell_type": "code",
   "execution_count": 29,
   "metadata": {
    "collapsed": false,
    "scrolled": true
   },
   "outputs": [],
   "source": [
    "hardy = pf_metrics[(pf_metrics.numeric_status == 0) | (pf_metrics.numeric_status == 1)].groupby('case_id').numeric_status.mean()"
   ]
  },
  {
   "cell_type": "code",
   "execution_count": 58,
   "metadata": {
    "collapsed": false
   },
   "outputs": [
    {
     "data": {
      "text/plain": [
       "case_id\n",
       "999-999-9999    0.0\n",
       "008-006-0037    0.0\n",
       "008-006-0038    0.0\n",
       "008-006-0039    0.0\n",
       "008-006-0040    0.0\n",
       "008-007-0005    0.0\n",
       "008-007-0006    0.0\n",
       "008-007-0007    0.0\n",
       "008-007-0008    0.0\n",
       "008-007-0009    0.0\n",
       "008-007-0010    0.0\n",
       "008-007-0011    0.0\n",
       "008-006-0036    0.0\n",
       "008-007-0012    0.0\n",
       "008-007-0014    0.0\n",
       "Name: numeric_status, dtype: float64"
      ]
     },
     "execution_count": 58,
     "metadata": {},
     "output_type": "execute_result"
    }
   ],
   "source": [
    "highest_failures_by_groupby_count(metrics.df.groupby('case_id'), 15)"
   ]
  },
  {
   "cell_type": "markdown",
   "metadata": {},
   "source": [
    "## These passing rate case ids need a filter on them -- if a test was just run a few times compared to the others, it may not be an accurate representation of the data"
   ]
  },
  {
   "cell_type": "code",
   "execution_count": 84,
   "metadata": {
    "collapsed": false
   },
   "outputs": [],
   "source": [
    "p = Bar(highest_failures_by_groupby_count(metrics.df.groupby('case_id'), 20), plot_width=800, plot_height=500, legend=None, \n",
    "        title='Lowest 20 Passing Rate Case Ids for Current Month', ylabel='Pass Rate')"
   ]
  },
  {
   "cell_type": "code",
   "execution_count": 87,
   "metadata": {
    "collapsed": false,
    "scrolled": false
   },
   "outputs": [
    {
     "data": {
      "text/plain": [
       "case_id\n",
       "999-999-9999    0.0\n",
       "008-006-0037    0.0\n",
       "008-006-0038    0.0\n",
       "008-006-0039    0.0\n",
       "008-006-0040    0.0\n",
       "008-007-0005    0.0\n",
       "008-007-0006    0.0\n",
       "008-007-0007    0.0\n",
       "008-007-0008    0.0\n",
       "008-007-0009    0.0\n",
       "008-007-0010    0.0\n",
       "008-007-0011    0.0\n",
       "008-006-0036    0.0\n",
       "008-007-0012    0.0\n",
       "008-007-0014    0.0\n",
       "008-007-0015    0.0\n",
       "008-007-0016    0.0\n",
       "008-007-0021    0.0\n",
       "008-007-0022    0.0\n",
       "008-007-0023    0.0\n",
       "Name: numeric_status, dtype: float64"
      ]
     },
     "execution_count": 87,
     "metadata": {},
     "output_type": "execute_result"
    }
   ],
   "source": [
    "highest_failures_by_groupby_count(metrics.df.groupby('case_id'), 20)"
   ]
  },
  {
   "cell_type": "code",
   "execution_count": 36,
   "metadata": {
    "collapsed": false
   },
   "outputs": [
    {
     "name": "stdout",
     "output_type": "stream",
     "text": [
      "<class 'pandas.core.series.Series'>\n"
     ]
    },
    {
     "data": {
      "text/html": [
       "\n",
       "\n",
       "    <div class=\"bk-root\">\n",
       "        <div class=\"plotdiv\" id=\"2d92742c-8c89-4689-bbe7-0eaf0279612d\"></div>\n",
       "    </div>\n",
       "<script type=\"text/javascript\">\n",
       "  \n",
       "  (function(global) {\n",
       "    function now() {\n",
       "      return new Date();\n",
       "    }\n",
       "  \n",
       "    var force = \"\";\n",
       "  \n",
       "    if (typeof (window._bokeh_onload_callbacks) === \"undefined\" || force !== \"\") {\n",
       "      window._bokeh_onload_callbacks = [];\n",
       "      window._bokeh_is_loading = undefined;\n",
       "    }\n",
       "  \n",
       "    function run_callbacks() {\n",
       "      window._bokeh_onload_callbacks.forEach(function(callback) { callback() });\n",
       "      delete window._bokeh_onload_callbacks\n",
       "      console.info(\"Bokeh: all callbacks have finished\");\n",
       "    }\n",
       "  \n",
       "    function load_libs(js_urls, callback) {\n",
       "      window._bokeh_onload_callbacks.push(callback);\n",
       "      if (window._bokeh_is_loading > 0) {\n",
       "        console.log(\"Bokeh: BokehJS is being loaded, scheduling callback at\", now());\n",
       "        return null;\n",
       "      }\n",
       "      if (js_urls == null || js_urls.length === 0) {\n",
       "        run_callbacks();\n",
       "        return null;\n",
       "      }\n",
       "      console.log(\"Bokeh: BokehJS not loaded, scheduling load and callback at\", now());\n",
       "      window._bokeh_is_loading = js_urls.length;\n",
       "      for (var i = 0; i < js_urls.length; i++) {\n",
       "        var url = js_urls[i];\n",
       "        var s = document.createElement('script');\n",
       "        s.src = url;\n",
       "        s.async = false;\n",
       "        s.onreadystatechange = s.onload = function() {\n",
       "          window._bokeh_is_loading--;\n",
       "          if (window._bokeh_is_loading === 0) {\n",
       "            console.log(\"Bokeh: all BokehJS libraries loaded\");\n",
       "            run_callbacks()\n",
       "          }\n",
       "        };\n",
       "        s.onerror = function() {\n",
       "          console.warn(\"failed to load library \" + url);\n",
       "        };\n",
       "        console.log(\"Bokeh: injecting script tag for BokehJS library: \", url);\n",
       "        document.getElementsByTagName(\"head\")[0].appendChild(s);\n",
       "      }\n",
       "    };var element = document.getElementById(\"2d92742c-8c89-4689-bbe7-0eaf0279612d\");\n",
       "    if (element == null) {\n",
       "      console.log(\"Bokeh: ERROR: autoload.js configured with elementid '2d92742c-8c89-4689-bbe7-0eaf0279612d' but no matching script tag was found. \")\n",
       "      return false;\n",
       "    }\n",
       "  \n",
       "    var js_urls = [];\n",
       "  \n",
       "    var inline_js = [\n",
       "      function(Bokeh) {\n",
       "        Bokeh.$(function() {\n",
       "            var docs_json = {\"3edcd890-fc89-4bde-818e-0251747c92fe\":{\"roots\":{\"references\":[{\"attributes\":{\"fill_alpha\":{\"field\":\"fill_alpha\"},\"fill_color\":{\"field\":\"color\"},\"height\":{\"field\":\"height\",\"units\":\"data\"},\"line_color\":{\"field\":\"line_color\"},\"width\":{\"field\":\"width\",\"units\":\"data\"},\"x\":{\"field\":\"x\"},\"y\":{\"field\":\"y\"}},\"id\":\"4d498c13-7660-4f10-b793-195496f6d0ac\",\"type\":\"Rect\"},{\"attributes\":{\"callback\":null,\"column_names\":[\"fill_alpha\",\"label\",\"x\",\"line_color\",\"y\",\"line_alpha\",\"height\",\"width\",\"color\"],\"data\":{\"chart_index\":[{\"index\":\"026-007-0004\"}],\"color\":[\"#f22c40\"],\"fill_alpha\":[0.8],\"height\":[0.625],\"index\":[\"026-007-0004\"],\"label\":[{\"index\":\"026-007-0004\"}],\"line_alpha\":[1.0],\"line_color\":[\"white\"],\"width\":[0.8],\"x\":[\"026-007-0004\"],\"y\":[0.3125]}},\"id\":\"35a6a7a6-e079-4265-bb9c-3bb86b40a631\",\"type\":\"ColumnDataSource\"},{\"attributes\":{\"data_source\":{\"id\":\"a6914f42-5b9d-4482-83bf-8066d80cd8d1\",\"type\":\"ColumnDataSource\"},\"glyph\":{\"id\":\"f70667ed-2b6c-4684-8c7e-5edfea91e3ae\",\"type\":\"Rect\"},\"hover_glyph\":null,\"nonselection_glyph\":null,\"selection_glyph\":null},\"id\":\"cc1c6536-3718-457a-900a-08bd42db603c\",\"type\":\"GlyphRenderer\"},{\"attributes\":{\"callback\":null,\"column_names\":[\"fill_alpha\",\"label\",\"x\",\"line_color\",\"y\",\"line_alpha\",\"height\",\"width\",\"color\"],\"data\":{\"chart_index\":[{\"index\":\"026-016-0005\"}],\"color\":[\"#f22c40\"],\"fill_alpha\":[0.8],\"height\":[0.6666666666666666],\"index\":[\"026-016-0005\"],\"label\":[{\"index\":\"026-016-0005\"}],\"line_alpha\":[1.0],\"line_color\":[\"white\"],\"width\":[0.8],\"x\":[\"026-016-0005\"],\"y\":[0.3333333333333333]}},\"id\":\"59bb185c-8cee-454a-b7be-8fcabc61f682\",\"type\":\"ColumnDataSource\"},{\"attributes\":{\"active_drag\":\"auto\",\"active_scroll\":\"auto\",\"active_tap\":\"auto\",\"tools\":[{\"id\":\"f053f3ba-a167-4ac6-929d-f29eb8bc8109\",\"type\":\"PanTool\"},{\"id\":\"1d48c47d-5211-4f5a-aed8-2b2a750f95d8\",\"type\":\"WheelZoomTool\"},{\"id\":\"f8efc820-708e-4d96-8b5f-bd65f5daa733\",\"type\":\"BoxZoomTool\"},{\"id\":\"1ebe6f08-a210-4eb9-8c7a-5a4488051120\",\"type\":\"SaveTool\"},{\"id\":\"0f726b60-1278-4abc-ac5f-3b015c896bd8\",\"type\":\"ResetTool\"},{\"id\":\"cbdffbc8-165a-4fc4-b562-557b982e9c43\",\"type\":\"HelpTool\"}]},\"id\":\"c3e2e56f-6a63-42f6-8b82-ad88bc38009d\",\"type\":\"Toolbar\"},{\"attributes\":{\"fill_alpha\":{\"field\":\"fill_alpha\"},\"fill_color\":{\"field\":\"color\"},\"height\":{\"field\":\"height\",\"units\":\"data\"},\"line_color\":{\"field\":\"line_color\"},\"width\":{\"field\":\"width\",\"units\":\"data\"},\"x\":{\"field\":\"x\"},\"y\":{\"field\":\"y\"}},\"id\":\"2a390af6-104b-4c62-954b-b18e48a1a57b\",\"type\":\"Rect\"},{\"attributes\":{\"fill_alpha\":{\"field\":\"fill_alpha\"},\"fill_color\":{\"field\":\"color\"},\"height\":{\"field\":\"height\",\"units\":\"data\"},\"line_color\":{\"field\":\"line_color\"},\"width\":{\"field\":\"width\",\"units\":\"data\"},\"x\":{\"field\":\"x\"},\"y\":{\"field\":\"y\"}},\"id\":\"48ac9094-0134-4979-9cca-3f185869ff2a\",\"type\":\"Rect\"},{\"attributes\":{\"fill_alpha\":{\"field\":\"fill_alpha\"},\"fill_color\":{\"field\":\"color\"},\"height\":{\"field\":\"height\",\"units\":\"data\"},\"line_color\":{\"field\":\"line_color\"},\"width\":{\"field\":\"width\",\"units\":\"data\"},\"x\":{\"field\":\"x\"},\"y\":{\"field\":\"y\"}},\"id\":\"6fd93088-d4fa-4254-9a07-5825e80e4d7c\",\"type\":\"Rect\"},{\"attributes\":{\"data_source\":{\"id\":\"44916270-02e8-4cca-ad36-3050a55f199a\",\"type\":\"ColumnDataSource\"},\"glyph\":{\"id\":\"2a390af6-104b-4c62-954b-b18e48a1a57b\",\"type\":\"Rect\"},\"hover_glyph\":null,\"nonselection_glyph\":null,\"selection_glyph\":null},\"id\":\"46d8f81b-5642-4b3f-bda6-0bbc81e7d72a\",\"type\":\"GlyphRenderer\"},{\"attributes\":{\"fill_alpha\":{\"field\":\"fill_alpha\"},\"fill_color\":{\"field\":\"color\"},\"height\":{\"field\":\"height\",\"units\":\"data\"},\"line_color\":{\"field\":\"line_color\"},\"width\":{\"field\":\"width\",\"units\":\"data\"},\"x\":{\"field\":\"x\"},\"y\":{\"field\":\"y\"}},\"id\":\"043ca487-fbc5-4e86-a1a0-c4deff2c8956\",\"type\":\"Rect\"},{\"attributes\":{\"data_source\":{\"id\":\"5456928d-f185-44f4-a8d0-2f5bcad3b1bc\",\"type\":\"ColumnDataSource\"},\"glyph\":{\"id\":\"c7607686-1190-48da-8417-ccbe2dddced8\",\"type\":\"Rect\"},\"hover_glyph\":null,\"nonselection_glyph\":null,\"selection_glyph\":null},\"id\":\"1901d446-bcfd-47a4-bd10-87c269b3ee38\",\"type\":\"GlyphRenderer\"},{\"attributes\":{\"data_source\":{\"id\":\"8a40b1cd-9454-44c7-a0f0-0a814fc896db\",\"type\":\"ColumnDataSource\"},\"glyph\":{\"id\":\"4e2125e4-e65c-4479-b380-a07b4a8b4d5c\",\"type\":\"Rect\"},\"hover_glyph\":null,\"nonselection_glyph\":null,\"selection_glyph\":null},\"id\":\"6a66a2ef-7691-4421-9105-8d066d9ea70d\",\"type\":\"GlyphRenderer\"},{\"attributes\":{\"data_source\":{\"id\":\"2a812f12-8c17-48d2-bb01-2879549636dd\",\"type\":\"ColumnDataSource\"},\"glyph\":{\"id\":\"ba030f30-8974-4adc-9b51-f2a09067c114\",\"type\":\"Rect\"},\"hover_glyph\":null,\"nonselection_glyph\":null,\"selection_glyph\":null},\"id\":\"297ac234-d9c7-4d41-ae35-0e127276bfc5\",\"type\":\"GlyphRenderer\"},{\"attributes\":{\"callback\":null,\"column_names\":[\"fill_alpha\",\"label\",\"x\",\"line_color\",\"y\",\"line_alpha\",\"height\",\"width\",\"color\"],\"data\":{\"chart_index\":[{\"index\":\"026-012-0004\"}],\"color\":[\"#f22c40\"],\"fill_alpha\":[0.8],\"height\":[0.625],\"index\":[\"026-012-0004\"],\"label\":[{\"index\":\"026-012-0004\"}],\"line_alpha\":[1.0],\"line_color\":[\"white\"],\"width\":[0.8],\"x\":[\"026-012-0004\"],\"y\":[0.3125]}},\"id\":\"7351d9ab-9be5-4d23-a3e3-8ae396b325e3\",\"type\":\"ColumnDataSource\"},{\"attributes\":{\"fill_alpha\":{\"field\":\"fill_alpha\"},\"fill_color\":{\"field\":\"color\"},\"height\":{\"field\":\"height\",\"units\":\"data\"},\"line_color\":{\"field\":\"line_color\"},\"width\":{\"field\":\"width\",\"units\":\"data\"},\"x\":{\"field\":\"x\"},\"y\":{\"field\":\"y\"}},\"id\":\"74915cb5-a7ee-413d-aa24-6f0e8a31a9e4\",\"type\":\"Rect\"},{\"attributes\":{\"fill_alpha\":{\"field\":\"fill_alpha\"},\"fill_color\":{\"field\":\"color\"},\"height\":{\"field\":\"height\",\"units\":\"data\"},\"line_color\":{\"field\":\"line_color\"},\"width\":{\"field\":\"width\",\"units\":\"data\"},\"x\":{\"field\":\"x\"},\"y\":{\"field\":\"y\"}},\"id\":\"ef043769-764a-42a6-ab40-414be0f837c5\",\"type\":\"Rect\"},{\"attributes\":{\"fill_alpha\":{\"field\":\"fill_alpha\"},\"fill_color\":{\"field\":\"color\"},\"height\":{\"field\":\"height\",\"units\":\"data\"},\"line_color\":{\"field\":\"line_color\"},\"width\":{\"field\":\"width\",\"units\":\"data\"},\"x\":{\"field\":\"x\"},\"y\":{\"field\":\"y\"}},\"id\":\"85036b31-2941-4c98-9a38-43b592f41daf\",\"type\":\"Rect\"},{\"attributes\":{\"fill_alpha\":{\"field\":\"fill_alpha\"},\"fill_color\":{\"field\":\"color\"},\"height\":{\"field\":\"height\",\"units\":\"data\"},\"line_color\":{\"field\":\"line_color\"},\"width\":{\"field\":\"width\",\"units\":\"data\"},\"x\":{\"field\":\"x\"},\"y\":{\"field\":\"y\"}},\"id\":\"22e3840f-d35c-44cd-9a16-eb59ca90421b\",\"type\":\"Rect\"},{\"attributes\":{\"callback\":null,\"column_names\":[\"fill_alpha\",\"label\",\"x\",\"line_color\",\"y\",\"line_alpha\",\"height\",\"width\",\"color\"],\"data\":{\"chart_index\":[{\"index\":\"026-002-0005\"}],\"color\":[\"#f22c40\"],\"fill_alpha\":[0.8],\"height\":[0.625],\"index\":[\"026-002-0005\"],\"label\":[{\"index\":\"026-002-0005\"}],\"line_alpha\":[1.0],\"line_color\":[\"white\"],\"width\":[0.8],\"x\":[\"026-002-0005\"],\"y\":[0.3125]}},\"id\":\"a7d6191f-4fed-4596-a9c4-0e4cc6a86a90\",\"type\":\"ColumnDataSource\"},{\"attributes\":{\"data_source\":{\"id\":\"812eb2a2-5f0f-411a-8344-396a6ae2975d\",\"type\":\"ColumnDataSource\"},\"glyph\":{\"id\":\"8e4699f9-a99b-47a8-9454-fff1cb31f213\",\"type\":\"Rect\"},\"hover_glyph\":null,\"nonselection_glyph\":null,\"selection_glyph\":null},\"id\":\"24bb49f8-72f7-4ee5-9c93-49e1a887e2f4\",\"type\":\"GlyphRenderer\"},{\"attributes\":{\"fill_alpha\":{\"field\":\"fill_alpha\"},\"fill_color\":{\"field\":\"color\"},\"height\":{\"field\":\"height\",\"units\":\"data\"},\"line_color\":{\"field\":\"line_color\"},\"width\":{\"field\":\"width\",\"units\":\"data\"},\"x\":{\"field\":\"x\"},\"y\":{\"field\":\"y\"}},\"id\":\"ba030f30-8974-4adc-9b51-f2a09067c114\",\"type\":\"Rect\"},{\"attributes\":{\"callback\":null,\"column_names\":[\"fill_alpha\",\"label\",\"x\",\"line_color\",\"y\",\"line_alpha\",\"height\",\"width\",\"color\"],\"data\":{\"chart_index\":[{\"index\":\"161-006-0001\"}],\"color\":[\"#f22c40\"],\"fill_alpha\":[0.8],\"height\":[0.3333333333333333],\"index\":[\"161-006-0001\"],\"label\":[{\"index\":\"161-006-0001\"}],\"line_alpha\":[1.0],\"line_color\":[\"white\"],\"width\":[0.8],\"x\":[\"161-006-0001\"],\"y\":[0.16666666666666666]}},\"id\":\"ee0a6cc0-6c52-4c56-8ae8-36f9cc34118d\",\"type\":\"ColumnDataSource\"},{\"attributes\":{\"fill_alpha\":{\"field\":\"fill_alpha\"},\"fill_color\":{\"field\":\"color\"},\"height\":{\"field\":\"height\",\"units\":\"data\"},\"line_color\":{\"field\":\"line_color\"},\"width\":{\"field\":\"width\",\"units\":\"data\"},\"x\":{\"field\":\"x\"},\"y\":{\"field\":\"y\"}},\"id\":\"f319ea17-4a5e-4655-93f9-11a47ad832c5\",\"type\":\"Rect\"},{\"attributes\":{\"fill_alpha\":{\"field\":\"fill_alpha\"},\"fill_color\":{\"field\":\"color\"},\"height\":{\"field\":\"height\",\"units\":\"data\"},\"line_color\":{\"field\":\"line_color\"},\"width\":{\"field\":\"width\",\"units\":\"data\"},\"x\":{\"field\":\"x\"},\"y\":{\"field\":\"y\"}},\"id\":\"f3d68563-516d-4357-9a48-38487158aeae\",\"type\":\"Rect\"},{\"attributes\":{\"callback\":null,\"column_names\":[\"fill_alpha\",\"label\",\"x\",\"line_color\",\"y\",\"line_alpha\",\"height\",\"width\",\"color\"],\"data\":{\"chart_index\":[{\"index\":\"001-004-0001\"}],\"color\":[\"#f22c40\"],\"fill_alpha\":[0.8],\"height\":[0.48],\"index\":[\"001-004-0001\"],\"label\":[{\"index\":\"001-004-0001\"}],\"line_alpha\":[1.0],\"line_color\":[\"white\"],\"width\":[0.8],\"x\":[\"001-004-0001\"],\"y\":[0.24]}},\"id\":\"90b7ffb8-06ae-40dd-9d26-358f30d1ea4a\",\"type\":\"ColumnDataSource\"},{\"attributes\":{\"callback\":null,\"column_names\":[\"fill_alpha\",\"label\",\"x\",\"line_color\",\"y\",\"line_alpha\",\"height\",\"width\",\"color\"],\"data\":{\"chart_index\":[{\"index\":\"026-010-0005\"}],\"color\":[\"#f22c40\"],\"fill_alpha\":[0.8],\"height\":[0.625],\"index\":[\"026-010-0005\"],\"label\":[{\"index\":\"026-010-0005\"}],\"line_alpha\":[1.0],\"line_color\":[\"white\"],\"width\":[0.8],\"x\":[\"026-010-0005\"],\"y\":[0.3125]}},\"id\":\"a6914f42-5b9d-4482-83bf-8066d80cd8d1\",\"type\":\"ColumnDataSource\"},{\"attributes\":{\"data_source\":{\"id\":\"32c01a0f-6678-4086-bec4-0195fddd7252\",\"type\":\"ColumnDataSource\"},\"glyph\":{\"id\":\"77a2a7c4-5672-440a-8674-9310355f721f\",\"type\":\"Rect\"},\"hover_glyph\":null,\"nonselection_glyph\":null,\"selection_glyph\":null},\"id\":\"f9f80f40-fd5b-47cf-b70c-90c57567440f\",\"type\":\"GlyphRenderer\"},{\"attributes\":{\"plot\":{\"id\":\"eec133b4-84dd-4bbb-8919-b86b3edbab56\",\"subtype\":\"Chart\",\"type\":\"Plot\"}},\"id\":\"cbdffbc8-165a-4fc4-b562-557b982e9c43\",\"type\":\"HelpTool\"},{\"attributes\":{},\"id\":\"fbd9fc7a-49dc-4113-8bfb-534b372de496\",\"type\":\"ToolEvents\"},{\"attributes\":{\"data_source\":{\"id\":\"7d61baa8-0294-4197-b465-990e27c0ca41\",\"type\":\"ColumnDataSource\"},\"glyph\":{\"id\":\"4102260c-4c41-4041-bbe9-b512d3418d97\",\"type\":\"Rect\"},\"hover_glyph\":null,\"nonselection_glyph\":null,\"selection_glyph\":null},\"id\":\"4fbec8b4-1aee-49e9-b0b7-8c3f2eaccf5d\",\"type\":\"GlyphRenderer\"},{\"attributes\":{\"fill_alpha\":{\"field\":\"fill_alpha\"},\"fill_color\":{\"field\":\"color\"},\"height\":{\"field\":\"height\",\"units\":\"data\"},\"line_color\":{\"field\":\"line_color\"},\"width\":{\"field\":\"width\",\"units\":\"data\"},\"x\":{\"field\":\"x\"},\"y\":{\"field\":\"y\"}},\"id\":\"1a559c63-fe97-4b71-9666-5d47f363ed8c\",\"type\":\"Rect\"},{\"attributes\":{\"data_source\":{\"id\":\"231445f6-d931-4a9f-a8c9-ce3cb4ef7a8e\",\"type\":\"ColumnDataSource\"},\"glyph\":{\"id\":\"4d498c13-7660-4f10-b793-195496f6d0ac\",\"type\":\"Rect\"},\"hover_glyph\":null,\"nonselection_glyph\":null,\"selection_glyph\":null},\"id\":\"cd4b9dfc-a87a-4fab-806c-5b91fb8e5aef\",\"type\":\"GlyphRenderer\"},{\"attributes\":{\"fill_alpha\":{\"field\":\"fill_alpha\"},\"fill_color\":{\"field\":\"color\"},\"height\":{\"field\":\"height\",\"units\":\"data\"},\"line_color\":{\"field\":\"line_color\"},\"width\":{\"field\":\"width\",\"units\":\"data\"},\"x\":{\"field\":\"x\"},\"y\":{\"field\":\"y\"}},\"id\":\"77a2a7c4-5672-440a-8674-9310355f721f\",\"type\":\"Rect\"},{\"attributes\":{\"data_source\":{\"id\":\"81d5dfc1-ef6d-4843-a367-d430f9a232fe\",\"type\":\"ColumnDataSource\"},\"glyph\":{\"id\":\"f3d68563-516d-4357-9a48-38487158aeae\",\"type\":\"Rect\"},\"hover_glyph\":null,\"nonselection_glyph\":null,\"selection_glyph\":null},\"id\":\"5c0383bf-4b6b-42b5-9ff5-f5edff27ae9e\",\"type\":\"GlyphRenderer\"},{\"attributes\":{\"bottom_units\":\"screen\",\"fill_alpha\":{\"value\":0.5},\"fill_color\":{\"value\":\"lightgrey\"},\"left_units\":\"screen\",\"level\":\"overlay\",\"line_alpha\":{\"value\":1.0},\"line_color\":{\"value\":\"black\"},\"line_dash\":[4,4],\"line_width\":{\"value\":2},\"plot\":null,\"render_mode\":\"css\",\"right_units\":\"screen\",\"top_units\":\"screen\"},\"id\":\"c70741dd-2cf4-45ac-af60-e1d02ef606b3\",\"type\":\"BoxAnnotation\"},{\"attributes\":{\"callback\":null,\"column_names\":[\"fill_alpha\",\"label\",\"x\",\"line_color\",\"y\",\"line_alpha\",\"height\",\"width\",\"color\"],\"data\":{\"chart_index\":[{\"index\":\"164-001-0001\"}],\"color\":[\"#f22c40\"],\"fill_alpha\":[0.8],\"height\":[0.6382978723404256],\"index\":[\"164-001-0001\"],\"label\":[{\"index\":\"164-001-0001\"}],\"line_alpha\":[1.0],\"line_color\":[\"white\"],\"width\":[0.8],\"x\":[\"164-001-0001\"],\"y\":[0.3191489361702128]}},\"id\":\"44916270-02e8-4cca-ad36-3050a55f199a\",\"type\":\"ColumnDataSource\"},{\"attributes\":{\"data_source\":{\"id\":\"d122e0b5-8569-41ba-b4e6-9d7066afbfdf\",\"type\":\"ColumnDataSource\"},\"glyph\":{\"id\":\"b7ebf340-84f3-4888-955d-eb8da300ed73\",\"type\":\"Rect\"},\"hover_glyph\":null,\"nonselection_glyph\":null,\"selection_glyph\":null},\"id\":\"d1697525-d168-4c0c-bafd-ea4142ae48c1\",\"type\":\"GlyphRenderer\"},{\"attributes\":{\"callback\":null,\"column_names\":[\"fill_alpha\",\"label\",\"x\",\"line_color\",\"y\",\"line_alpha\",\"height\",\"width\",\"color\"],\"data\":{\"chart_index\":[{\"index\":\"026-013-0004\"}],\"color\":[\"#f22c40\"],\"fill_alpha\":[0.8],\"height\":[0.625],\"index\":[\"026-013-0004\"],\"label\":[{\"index\":\"026-013-0004\"}],\"line_alpha\":[1.0],\"line_color\":[\"white\"],\"width\":[0.8],\"x\":[\"026-013-0004\"],\"y\":[0.3125]}},\"id\":\"92890415-32d3-4ffc-b320-92464443dc4b\",\"type\":\"ColumnDataSource\"},{\"attributes\":{\"callback\":null,\"column_names\":[\"fill_alpha\",\"label\",\"x\",\"line_color\",\"y\",\"line_alpha\",\"height\",\"width\",\"color\"],\"data\":{\"chart_index\":[{\"index\":\"026-001-0004\"}],\"color\":[\"#f22c40\"],\"fill_alpha\":[0.8],\"height\":[0.5],\"index\":[\"026-001-0004\"],\"label\":[{\"index\":\"026-001-0004\"}],\"line_alpha\":[1.0],\"line_color\":[\"white\"],\"width\":[0.8],\"x\":[\"026-001-0004\"],\"y\":[0.25]}},\"id\":\"5ccf486b-03fb-4074-a896-52015dba4e6a\",\"type\":\"ColumnDataSource\"},{\"attributes\":{\"fill_alpha\":{\"field\":\"fill_alpha\"},\"fill_color\":{\"field\":\"color\"},\"height\":{\"field\":\"height\",\"units\":\"data\"},\"line_color\":{\"field\":\"line_color\"},\"width\":{\"field\":\"width\",\"units\":\"data\"},\"x\":{\"field\":\"x\"},\"y\":{\"field\":\"y\"}},\"id\":\"36b924ae-ecba-4b48-8f0f-ed8518ca545f\",\"type\":\"Rect\"},{\"attributes\":{\"fill_alpha\":{\"field\":\"fill_alpha\"},\"fill_color\":{\"field\":\"color\"},\"height\":{\"field\":\"height\",\"units\":\"data\"},\"line_color\":{\"field\":\"line_color\"},\"width\":{\"field\":\"width\",\"units\":\"data\"},\"x\":{\"field\":\"x\"},\"y\":{\"field\":\"y\"}},\"id\":\"7179d88d-62a2-47df-8df1-af68cbfebf97\",\"type\":\"Rect\"},{\"attributes\":{\"fill_alpha\":{\"field\":\"fill_alpha\"},\"fill_color\":{\"field\":\"color\"},\"height\":{\"field\":\"height\",\"units\":\"data\"},\"line_color\":{\"field\":\"line_color\"},\"width\":{\"field\":\"width\",\"units\":\"data\"},\"x\":{\"field\":\"x\"},\"y\":{\"field\":\"y\"}},\"id\":\"cfa16c47-27f0-4afb-8d41-76eeac8b15b3\",\"type\":\"Rect\"},{\"attributes\":{\"data_source\":{\"id\":\"35a6a7a6-e079-4265-bb9c-3bb86b40a631\",\"type\":\"ColumnDataSource\"},\"glyph\":{\"id\":\"a236ae8b-28d2-425b-8b94-5b719520e43e\",\"type\":\"Rect\"},\"hover_glyph\":null,\"nonselection_glyph\":null,\"selection_glyph\":null},\"id\":\"a7af4ea2-0ffd-4615-8642-dc7b79993421\",\"type\":\"GlyphRenderer\"},{\"attributes\":{\"plot\":null,\"text\":null},\"id\":\"713a2c69-3e0f-4331-846c-7099971afbc1\",\"type\":\"Title\"},{\"attributes\":{\"data_source\":{\"id\":\"4b018d2f-ff90-41a8-9384-e134f7356263\",\"type\":\"ColumnDataSource\"},\"glyph\":{\"id\":\"0e8f4688-8098-4c61-98ee-c39d0818d75d\",\"type\":\"Rect\"},\"hover_glyph\":null,\"nonselection_glyph\":null,\"selection_glyph\":null},\"id\":\"570ee779-c79d-4109-a6f6-80822e52e0c5\",\"type\":\"GlyphRenderer\"},{\"attributes\":{\"data_source\":{\"id\":\"51311879-7b62-48ce-b250-53468589d292\",\"type\":\"ColumnDataSource\"},\"glyph\":{\"id\":\"9916f9ce-eb5c-4adb-8dc3-ee1f3668937e\",\"type\":\"Rect\"},\"hover_glyph\":null,\"nonselection_glyph\":null,\"selection_glyph\":null},\"id\":\"593fed55-e74a-4f76-aa95-8ce8b2567520\",\"type\":\"GlyphRenderer\"},{\"attributes\":{\"callback\":null,\"column_names\":[\"fill_alpha\",\"label\",\"x\",\"line_color\",\"y\",\"line_alpha\",\"height\",\"width\",\"color\"],\"data\":{\"chart_index\":[{\"index\":\"160-003-0001\"}],\"color\":[\"#f22c40\"],\"fill_alpha\":[0.8],\"height\":[0.5526315789473685],\"index\":[\"160-003-0001\"],\"label\":[{\"index\":\"160-003-0001\"}],\"line_alpha\":[1.0],\"line_color\":[\"white\"],\"width\":[0.8],\"x\":[\"160-003-0001\"],\"y\":[0.27631578947368424]}},\"id\":\"7d61baa8-0294-4197-b465-990e27c0ca41\",\"type\":\"ColumnDataSource\"},{\"attributes\":{\"callback\":null,\"column_names\":[\"fill_alpha\",\"label\",\"x\",\"line_color\",\"y\",\"line_alpha\",\"height\",\"width\",\"color\"],\"data\":{\"chart_index\":[{\"index\":\"026-005-0004\"}],\"color\":[\"#f22c40\"],\"fill_alpha\":[0.8],\"height\":[0.625],\"index\":[\"026-005-0004\"],\"label\":[{\"index\":\"026-005-0004\"}],\"line_alpha\":[1.0],\"line_color\":[\"white\"],\"width\":[0.8],\"x\":[\"026-005-0004\"],\"y\":[0.3125]}},\"id\":\"8a40b1cd-9454-44c7-a0f0-0a814fc896db\",\"type\":\"ColumnDataSource\"},{\"attributes\":{\"plot\":{\"id\":\"eec133b4-84dd-4bbb-8919-b86b3edbab56\",\"subtype\":\"Chart\",\"type\":\"Plot\"}},\"id\":\"1d48c47d-5211-4f5a-aed8-2b2a750f95d8\",\"type\":\"WheelZoomTool\"},{\"attributes\":{\"callback\":null,\"column_names\":[\"fill_alpha\",\"label\",\"x\",\"line_color\",\"y\",\"line_alpha\",\"height\",\"width\",\"color\"],\"data\":{\"chart_index\":[{\"index\":\"026-003-0005\"}],\"color\":[\"#f22c40\"],\"fill_alpha\":[0.8],\"height\":[0.625],\"index\":[\"026-003-0005\"],\"label\":[{\"index\":\"026-003-0005\"}],\"line_alpha\":[1.0],\"line_color\":[\"white\"],\"width\":[0.8],\"x\":[\"026-003-0005\"],\"y\":[0.3125]}},\"id\":\"5c2a602a-792e-4646-b3b9-65698f729457\",\"type\":\"ColumnDataSource\"},{\"attributes\":{\"plot\":{\"id\":\"eec133b4-84dd-4bbb-8919-b86b3edbab56\",\"subtype\":\"Chart\",\"type\":\"Plot\"}},\"id\":\"f053f3ba-a167-4ac6-929d-f29eb8bc8109\",\"type\":\"PanTool\"},{\"attributes\":{\"dimension\":1,\"plot\":{\"id\":\"eec133b4-84dd-4bbb-8919-b86b3edbab56\",\"subtype\":\"Chart\",\"type\":\"Plot\"},\"ticker\":{\"id\":\"3fc36f59-914f-4c4a-9d34-a8988b062bb7\",\"type\":\"BasicTicker\"}},\"id\":\"5310a07c-588a-4f55-9467-311c7c647885\",\"type\":\"Grid\"},{\"attributes\":{\"legends\":[[\"001-004-0001\",[{\"id\":\"98e4ea8a-61ee-451f-8159-11019a916ea2\",\"type\":\"GlyphRenderer\"}]],[\"004-011-0004\",[{\"id\":\"734cd7a5-4b74-485f-a85d-46f5e911d3c8\",\"type\":\"GlyphRenderer\"}]],[\"008-021-0010\",[{\"id\":\"7fe36df2-8f90-4f11-a006-3486185e5503\",\"type\":\"GlyphRenderer\"}]],[\"026-001-0004\",[{\"id\":\"4dc05013-b2df-4fdd-a5a2-7f744b7873e8\",\"type\":\"GlyphRenderer\"}]],[\"026-001-0005\",[{\"id\":\"84a591f4-9691-4013-8e0a-6925d4f694c9\",\"type\":\"GlyphRenderer\"}]],[\"026-002-0004\",[{\"id\":\"2b580414-0b90-44df-8584-dd78f19362ba\",\"type\":\"GlyphRenderer\"}]],[\"026-002-0005\",[{\"id\":\"40b2d159-a641-4b28-9bff-bd6b37a7567a\",\"type\":\"GlyphRenderer\"}]],[\"026-003-0004\",[{\"id\":\"79d5af53-6514-41ab-bf5a-3ad1dcc8f1a8\",\"type\":\"GlyphRenderer\"}]],[\"026-003-0005\",[{\"id\":\"1a761c21-6eed-4186-975d-6e67756373d2\",\"type\":\"GlyphRenderer\"}]],[\"026-004-0004\",[{\"id\":\"0707b5b3-fc39-4b6d-b0db-3345ec55c0ff\",\"type\":\"GlyphRenderer\"}]],[\"026-004-0005\",[{\"id\":\"4e06df4f-d994-4892-868c-5d54eb1bfe6b\",\"type\":\"GlyphRenderer\"}]],[\"026-005-0004\",[{\"id\":\"6a66a2ef-7691-4421-9105-8d066d9ea70d\",\"type\":\"GlyphRenderer\"}]],[\"026-005-0005\",[{\"id\":\"527dc77f-eae3-4a5f-be5b-c142928feb55\",\"type\":\"GlyphRenderer\"}]],[\"026-006-0004\",[{\"id\":\"9649e6bb-a2ad-4512-9a9b-d8bc0853e9d9\",\"type\":\"GlyphRenderer\"}]],[\"026-006-0005\",[{\"id\":\"6196034e-0161-46bc-8edd-374c008429ee\",\"type\":\"GlyphRenderer\"}]],[\"026-007-0004\",[{\"id\":\"a7af4ea2-0ffd-4615-8642-dc7b79993421\",\"type\":\"GlyphRenderer\"}]],[\"026-007-0005\",[{\"id\":\"dedbe099-fff6-4ceb-86dd-02fcb07a5c72\",\"type\":\"GlyphRenderer\"}]],[\"026-008-0004\",[{\"id\":\"5c0383bf-4b6b-42b5-9ff5-f5edff27ae9e\",\"type\":\"GlyphRenderer\"}]],[\"026-008-0005\",[{\"id\":\"1662cd9a-a56e-41bf-bc43-134156ca2cac\",\"type\":\"GlyphRenderer\"}]],[\"026-009-0004\",[{\"id\":\"24bb49f8-72f7-4ee5-9c93-49e1a887e2f4\",\"type\":\"GlyphRenderer\"}]],[\"026-009-0005\",[{\"id\":\"b596e3ef-b933-4b07-b424-58e5af5550ab\",\"type\":\"GlyphRenderer\"}]],[\"026-010-0004\",[{\"id\":\"86760d9c-a306-4ce7-802f-5e1a9bd86ad2\",\"type\":\"GlyphRenderer\"}]],[\"026-010-0005\",[{\"id\":\"cc1c6536-3718-457a-900a-08bd42db603c\",\"type\":\"GlyphRenderer\"}]],[\"026-011-0004\",[{\"id\":\"d125c898-8f9d-47e4-b1af-393654fedde8\",\"type\":\"GlyphRenderer\"}]],[\"026-011-0005\",[{\"id\":\"2659448d-d226-4a83-88b3-bbc95d7ce937\",\"type\":\"GlyphRenderer\"}]],[\"026-012-0004\",[{\"id\":\"f6d5794b-6c65-43ae-8fea-598994b10ed5\",\"type\":\"GlyphRenderer\"}]],[\"026-012-0005\",[{\"id\":\"d1697525-d168-4c0c-bafd-ea4142ae48c1\",\"type\":\"GlyphRenderer\"}]],[\"026-013-0004\",[{\"id\":\"c959967c-10cd-4915-be2f-24504edd322a\",\"type\":\"GlyphRenderer\"}]],[\"026-013-0005\",[{\"id\":\"387b67c7-14d1-4d6c-b20e-cae5324c0bce\",\"type\":\"GlyphRenderer\"}]],[\"026-014-0004\",[{\"id\":\"d77963ed-aecf-44be-b6fa-0341ee3904eb\",\"type\":\"GlyphRenderer\"}]],[\"026-014-0005\",[{\"id\":\"297ac234-d9c7-4d41-ae35-0e127276bfc5\",\"type\":\"GlyphRenderer\"}]],[\"026-015-0004\",[{\"id\":\"593fed55-e74a-4f76-aa95-8ce8b2567520\",\"type\":\"GlyphRenderer\"}]],[\"026-015-0005\",[{\"id\":\"570ee779-c79d-4109-a6f6-80822e52e0c5\",\"type\":\"GlyphRenderer\"}]],[\"026-016-0004\",[{\"id\":\"29122557-a851-4a26-b337-7173c54fbadc\",\"type\":\"GlyphRenderer\"}]],[\"026-016-0005\",[{\"id\":\"3afd05ee-fd28-4299-ab4f-a206fc1b0064\",\"type\":\"GlyphRenderer\"}]],[\"026-017-0001\",[{\"id\":\"aba73ab2-b4bb-48e1-88fa-b86b9d7a9fb5\",\"type\":\"GlyphRenderer\"}]],[\"026-018-0001\",[{\"id\":\"f9f80f40-fd5b-47cf-b70c-90c57567440f\",\"type\":\"GlyphRenderer\"}]],[\"160-001-0001\",[{\"id\":\"98c11e04-7fe7-46a7-a4e1-74682dd23a32\",\"type\":\"GlyphRenderer\"}]],[\"160-002-0001\",[{\"id\":\"1901d446-bcfd-47a4-bd10-87c269b3ee38\",\"type\":\"GlyphRenderer\"}]],[\"160-003-0001\",[{\"id\":\"4fbec8b4-1aee-49e9-b0b7-8c3f2eaccf5d\",\"type\":\"GlyphRenderer\"}]],[\"161-006-0001\",[{\"id\":\"de7e86cd-efa5-40b5-89b1-bc4bce183546\",\"type\":\"GlyphRenderer\"}]],[\"162-001-0001\",[{\"id\":\"cd4b9dfc-a87a-4fab-806c-5b91fb8e5aef\",\"type\":\"GlyphRenderer\"}]],[\"163-001-0001\",[{\"id\":\"98587d93-a0d7-42f6-9df5-f8701de1708d\",\"type\":\"GlyphRenderer\"}]],[\"164-001-0001\",[{\"id\":\"46d8f81b-5642-4b3f-bda6-0bbc81e7d72a\",\"type\":\"GlyphRenderer\"}]]],\"location\":\"top_left\",\"plot\":{\"id\":\"eec133b4-84dd-4bbb-8919-b86b3edbab56\",\"subtype\":\"Chart\",\"type\":\"Plot\"}},\"id\":\"8953abfc-a21b-4891-9ce8-a5e3a10ce973\",\"type\":\"Legend\"},{\"attributes\":{\"callback\":null,\"column_names\":[\"fill_alpha\",\"label\",\"x\",\"line_color\",\"y\",\"line_alpha\",\"height\",\"width\",\"color\"],\"data\":{\"chart_index\":[{\"index\":\"163-001-0001\"}],\"color\":[\"#f22c40\"],\"fill_alpha\":[0.8],\"height\":[0.6382978723404256],\"index\":[\"163-001-0001\"],\"label\":[{\"index\":\"163-001-0001\"}],\"line_alpha\":[1.0],\"line_color\":[\"white\"],\"width\":[0.8],\"x\":[\"163-001-0001\"],\"y\":[0.3191489361702128]}},\"id\":\"95e8cc87-408e-4c09-8960-b3899e451472\",\"type\":\"ColumnDataSource\"},{\"attributes\":{\"data_source\":{\"id\":\"947fe49a-4f88-44a1-a839-13f1f7d69e84\",\"type\":\"ColumnDataSource\"},\"glyph\":{\"id\":\"cddfc239-77e4-4065-9633-7069f829bf4c\",\"type\":\"Rect\"},\"hover_glyph\":null,\"nonselection_glyph\":null,\"selection_glyph\":null},\"id\":\"734cd7a5-4b74-485f-a85d-46f5e911d3c8\",\"type\":\"GlyphRenderer\"},{\"attributes\":{\"below\":[{\"id\":\"eeebee21-e186-40da-8975-8f59b03edefd\",\"type\":\"CategoricalAxis\"}],\"left\":[{\"id\":\"f19acfb7-b039-4e4e-9f87-1e0ad0ac77ff\",\"type\":\"LinearAxis\"}],\"renderers\":[{\"id\":\"c70741dd-2cf4-45ac-af60-e1d02ef606b3\",\"type\":\"BoxAnnotation\"},{\"id\":\"98e4ea8a-61ee-451f-8159-11019a916ea2\",\"type\":\"GlyphRenderer\"},{\"id\":\"734cd7a5-4b74-485f-a85d-46f5e911d3c8\",\"type\":\"GlyphRenderer\"},{\"id\":\"7fe36df2-8f90-4f11-a006-3486185e5503\",\"type\":\"GlyphRenderer\"},{\"id\":\"4dc05013-b2df-4fdd-a5a2-7f744b7873e8\",\"type\":\"GlyphRenderer\"},{\"id\":\"84a591f4-9691-4013-8e0a-6925d4f694c9\",\"type\":\"GlyphRenderer\"},{\"id\":\"2b580414-0b90-44df-8584-dd78f19362ba\",\"type\":\"GlyphRenderer\"},{\"id\":\"40b2d159-a641-4b28-9bff-bd6b37a7567a\",\"type\":\"GlyphRenderer\"},{\"id\":\"79d5af53-6514-41ab-bf5a-3ad1dcc8f1a8\",\"type\":\"GlyphRenderer\"},{\"id\":\"1a761c21-6eed-4186-975d-6e67756373d2\",\"type\":\"GlyphRenderer\"},{\"id\":\"0707b5b3-fc39-4b6d-b0db-3345ec55c0ff\",\"type\":\"GlyphRenderer\"},{\"id\":\"4e06df4f-d994-4892-868c-5d54eb1bfe6b\",\"type\":\"GlyphRenderer\"},{\"id\":\"6a66a2ef-7691-4421-9105-8d066d9ea70d\",\"type\":\"GlyphRenderer\"},{\"id\":\"527dc77f-eae3-4a5f-be5b-c142928feb55\",\"type\":\"GlyphRenderer\"},{\"id\":\"9649e6bb-a2ad-4512-9a9b-d8bc0853e9d9\",\"type\":\"GlyphRenderer\"},{\"id\":\"6196034e-0161-46bc-8edd-374c008429ee\",\"type\":\"GlyphRenderer\"},{\"id\":\"a7af4ea2-0ffd-4615-8642-dc7b79993421\",\"type\":\"GlyphRenderer\"},{\"id\":\"dedbe099-fff6-4ceb-86dd-02fcb07a5c72\",\"type\":\"GlyphRenderer\"},{\"id\":\"5c0383bf-4b6b-42b5-9ff5-f5edff27ae9e\",\"type\":\"GlyphRenderer\"},{\"id\":\"1662cd9a-a56e-41bf-bc43-134156ca2cac\",\"type\":\"GlyphRenderer\"},{\"id\":\"24bb49f8-72f7-4ee5-9c93-49e1a887e2f4\",\"type\":\"GlyphRenderer\"},{\"id\":\"b596e3ef-b933-4b07-b424-58e5af5550ab\",\"type\":\"GlyphRenderer\"},{\"id\":\"86760d9c-a306-4ce7-802f-5e1a9bd86ad2\",\"type\":\"GlyphRenderer\"},{\"id\":\"cc1c6536-3718-457a-900a-08bd42db603c\",\"type\":\"GlyphRenderer\"},{\"id\":\"d125c898-8f9d-47e4-b1af-393654fedde8\",\"type\":\"GlyphRenderer\"},{\"id\":\"2659448d-d226-4a83-88b3-bbc95d7ce937\",\"type\":\"GlyphRenderer\"},{\"id\":\"f6d5794b-6c65-43ae-8fea-598994b10ed5\",\"type\":\"GlyphRenderer\"},{\"id\":\"d1697525-d168-4c0c-bafd-ea4142ae48c1\",\"type\":\"GlyphRenderer\"},{\"id\":\"c959967c-10cd-4915-be2f-24504edd322a\",\"type\":\"GlyphRenderer\"},{\"id\":\"387b67c7-14d1-4d6c-b20e-cae5324c0bce\",\"type\":\"GlyphRenderer\"},{\"id\":\"d77963ed-aecf-44be-b6fa-0341ee3904eb\",\"type\":\"GlyphRenderer\"},{\"id\":\"297ac234-d9c7-4d41-ae35-0e127276bfc5\",\"type\":\"GlyphRenderer\"},{\"id\":\"593fed55-e74a-4f76-aa95-8ce8b2567520\",\"type\":\"GlyphRenderer\"},{\"id\":\"570ee779-c79d-4109-a6f6-80822e52e0c5\",\"type\":\"GlyphRenderer\"},{\"id\":\"29122557-a851-4a26-b337-7173c54fbadc\",\"type\":\"GlyphRenderer\"},{\"id\":\"3afd05ee-fd28-4299-ab4f-a206fc1b0064\",\"type\":\"GlyphRenderer\"},{\"id\":\"aba73ab2-b4bb-48e1-88fa-b86b9d7a9fb5\",\"type\":\"GlyphRenderer\"},{\"id\":\"f9f80f40-fd5b-47cf-b70c-90c57567440f\",\"type\":\"GlyphRenderer\"},{\"id\":\"98c11e04-7fe7-46a7-a4e1-74682dd23a32\",\"type\":\"GlyphRenderer\"},{\"id\":\"1901d446-bcfd-47a4-bd10-87c269b3ee38\",\"type\":\"GlyphRenderer\"},{\"id\":\"4fbec8b4-1aee-49e9-b0b7-8c3f2eaccf5d\",\"type\":\"GlyphRenderer\"},{\"id\":\"de7e86cd-efa5-40b5-89b1-bc4bce183546\",\"type\":\"GlyphRenderer\"},{\"id\":\"cd4b9dfc-a87a-4fab-806c-5b91fb8e5aef\",\"type\":\"GlyphRenderer\"},{\"id\":\"98587d93-a0d7-42f6-9df5-f8701de1708d\",\"type\":\"GlyphRenderer\"},{\"id\":\"46d8f81b-5642-4b3f-bda6-0bbc81e7d72a\",\"type\":\"GlyphRenderer\"},{\"id\":\"8953abfc-a21b-4891-9ce8-a5e3a10ce973\",\"type\":\"Legend\"},{\"id\":\"eeebee21-e186-40da-8975-8f59b03edefd\",\"type\":\"CategoricalAxis\"},{\"id\":\"f19acfb7-b039-4e4e-9f87-1e0ad0ac77ff\",\"type\":\"LinearAxis\"},{\"id\":\"5310a07c-588a-4f55-9467-311c7c647885\",\"type\":\"Grid\"}],\"title\":{\"id\":\"713a2c69-3e0f-4331-846c-7099971afbc1\",\"type\":\"Title\"},\"tool_events\":{\"id\":\"fbd9fc7a-49dc-4113-8bfb-534b372de496\",\"type\":\"ToolEvents\"},\"toolbar\":{\"id\":\"c3e2e56f-6a63-42f6-8b82-ad88bc38009d\",\"type\":\"Toolbar\"},\"x_mapper_type\":\"auto\",\"x_range\":{\"id\":\"512422db-9b27-4efa-a58a-6efa0d050673\",\"type\":\"FactorRange\"},\"y_mapper_type\":\"auto\",\"y_range\":{\"id\":\"699807d4-7c6f-42dd-be31-765077bc0e03\",\"type\":\"Range1d\"}},\"id\":\"eec133b4-84dd-4bbb-8919-b86b3edbab56\",\"subtype\":\"Chart\",\"type\":\"Plot\"},{\"attributes\":{\"fill_alpha\":{\"field\":\"fill_alpha\"},\"fill_color\":{\"field\":\"color\"},\"height\":{\"field\":\"height\",\"units\":\"data\"},\"line_color\":{\"field\":\"line_color\"},\"width\":{\"field\":\"width\",\"units\":\"data\"},\"x\":{\"field\":\"x\"},\"y\":{\"field\":\"y\"}},\"id\":\"c7607686-1190-48da-8417-ccbe2dddced8\",\"type\":\"Rect\"},{\"attributes\":{\"fill_alpha\":{\"field\":\"fill_alpha\"},\"fill_color\":{\"field\":\"color\"},\"height\":{\"field\":\"height\",\"units\":\"data\"},\"line_color\":{\"field\":\"line_color\"},\"width\":{\"field\":\"width\",\"units\":\"data\"},\"x\":{\"field\":\"x\"},\"y\":{\"field\":\"y\"}},\"id\":\"eb60f918-1007-4748-b9c5-c9aa0ec9382d\",\"type\":\"Rect\"},{\"attributes\":{\"callback\":null,\"column_names\":[\"fill_alpha\",\"label\",\"x\",\"line_color\",\"y\",\"line_alpha\",\"height\",\"width\",\"color\"],\"data\":{\"chart_index\":[{\"index\":\"026-006-0005\"}],\"color\":[\"#f22c40\"],\"fill_alpha\":[0.8],\"height\":[0.625],\"index\":[\"026-006-0005\"],\"label\":[{\"index\":\"026-006-0005\"}],\"line_alpha\":[1.0],\"line_color\":[\"white\"],\"width\":[0.8],\"x\":[\"026-006-0005\"],\"y\":[0.3125]}},\"id\":\"506ec092-6dd7-4104-af00-26bf8bddf66f\",\"type\":\"ColumnDataSource\"},{\"attributes\":{\"callback\":null,\"column_names\":[\"fill_alpha\",\"label\",\"x\",\"line_color\",\"y\",\"line_alpha\",\"height\",\"width\",\"color\"],\"data\":{\"chart_index\":[{\"index\":\"160-001-0001\"}],\"color\":[\"#f22c40\"],\"fill_alpha\":[0.8],\"height\":[0.5531914893617021],\"index\":[\"160-001-0001\"],\"label\":[{\"index\":\"160-001-0001\"}],\"line_alpha\":[1.0],\"line_color\":[\"white\"],\"width\":[0.8],\"x\":[\"160-001-0001\"],\"y\":[0.2765957446808511]}},\"id\":\"40cc7925-9186-448e-a59b-f55fd22e3440\",\"type\":\"ColumnDataSource\"},{\"attributes\":{\"fill_alpha\":{\"field\":\"fill_alpha\"},\"fill_color\":{\"field\":\"color\"},\"height\":{\"field\":\"height\",\"units\":\"data\"},\"line_color\":{\"field\":\"line_color\"},\"width\":{\"field\":\"width\",\"units\":\"data\"},\"x\":{\"field\":\"x\"},\"y\":{\"field\":\"y\"}},\"id\":\"b391452c-ed38-4438-a46b-d73d9ac6dba1\",\"type\":\"Rect\"},{\"attributes\":{\"callback\":null,\"column_names\":[\"fill_alpha\",\"label\",\"x\",\"line_color\",\"y\",\"line_alpha\",\"height\",\"width\",\"color\"],\"data\":{\"chart_index\":[{\"index\":\"026-004-0005\"}],\"color\":[\"#f22c40\"],\"fill_alpha\":[0.8],\"height\":[0.625],\"index\":[\"026-004-0005\"],\"label\":[{\"index\":\"026-004-0005\"}],\"line_alpha\":[1.0],\"line_color\":[\"white\"],\"width\":[0.8],\"x\":[\"026-004-0005\"],\"y\":[0.3125]}},\"id\":\"a6993ac3-b8cc-4b2e-96db-6bcbe6aca5dc\",\"type\":\"ColumnDataSource\"},{\"attributes\":{\"fill_alpha\":{\"field\":\"fill_alpha\"},\"fill_color\":{\"field\":\"color\"},\"height\":{\"field\":\"height\",\"units\":\"data\"},\"line_color\":{\"field\":\"line_color\"},\"width\":{\"field\":\"width\",\"units\":\"data\"},\"x\":{\"field\":\"x\"},\"y\":{\"field\":\"y\"}},\"id\":\"44f5b632-8792-47ec-b83f-3526ff7c8190\",\"type\":\"Rect\"},{\"attributes\":{\"data_source\":{\"id\":\"76233ecf-d1d5-4b33-b6cc-de2c5e0ca5c0\",\"type\":\"ColumnDataSource\"},\"glyph\":{\"id\":\"6fd93088-d4fa-4254-9a07-5825e80e4d7c\",\"type\":\"Rect\"},\"hover_glyph\":null,\"nonselection_glyph\":null,\"selection_glyph\":null},\"id\":\"2b580414-0b90-44df-8584-dd78f19362ba\",\"type\":\"GlyphRenderer\"},{\"attributes\":{\"overlay\":{\"id\":\"c70741dd-2cf4-45ac-af60-e1d02ef606b3\",\"type\":\"BoxAnnotation\"},\"plot\":{\"id\":\"eec133b4-84dd-4bbb-8919-b86b3edbab56\",\"subtype\":\"Chart\",\"type\":\"Plot\"}},\"id\":\"f8efc820-708e-4d96-8b5f-bd65f5daa733\",\"type\":\"BoxZoomTool\"},{\"attributes\":{\"callback\":null,\"factors\":[\"001-004-0001\",\"004-011-0004\",\"008-021-0010\",\"026-001-0004\",\"026-001-0005\",\"026-002-0004\",\"026-002-0005\",\"026-003-0004\",\"026-003-0005\",\"026-004-0004\",\"026-004-0005\",\"026-005-0004\",\"026-005-0005\",\"026-006-0004\",\"026-006-0005\",\"026-007-0004\",\"026-007-0005\",\"026-008-0004\",\"026-008-0005\",\"026-009-0004\",\"026-009-0005\",\"026-010-0004\",\"026-010-0005\",\"026-011-0004\",\"026-011-0005\",\"026-012-0004\",\"026-012-0005\",\"026-013-0004\",\"026-013-0005\",\"026-014-0004\",\"026-014-0005\",\"026-015-0004\",\"026-015-0005\",\"026-016-0004\",\"026-016-0005\",\"026-017-0001\",\"026-018-0001\",\"160-001-0001\",\"160-002-0001\",\"160-003-0001\",\"161-006-0001\",\"162-001-0001\",\"163-001-0001\",\"164-001-0001\"]},\"id\":\"512422db-9b27-4efa-a58a-6efa0d050673\",\"type\":\"FactorRange\"},{\"attributes\":{\"callback\":null,\"column_names\":[\"fill_alpha\",\"label\",\"x\",\"line_color\",\"y\",\"line_alpha\",\"height\",\"width\",\"color\"],\"data\":{\"chart_index\":[{\"index\":\"026-013-0005\"}],\"color\":[\"#f22c40\"],\"fill_alpha\":[0.8],\"height\":[0.625],\"index\":[\"026-013-0005\"],\"label\":[{\"index\":\"026-013-0005\"}],\"line_alpha\":[1.0],\"line_color\":[\"white\"],\"width\":[0.8],\"x\":[\"026-013-0005\"],\"y\":[0.3125]}},\"id\":\"4c98aec5-6a04-4b2d-9779-9b92a4eccd05\",\"type\":\"ColumnDataSource\"},{\"attributes\":{\"callback\":null,\"column_names\":[\"fill_alpha\",\"label\",\"x\",\"line_color\",\"y\",\"line_alpha\",\"height\",\"width\",\"color\"],\"data\":{\"chart_index\":[{\"index\":\"026-016-0004\"}],\"color\":[\"#f22c40\"],\"fill_alpha\":[0.8],\"height\":[0.6666666666666666],\"index\":[\"026-016-0004\"],\"label\":[{\"index\":\"026-016-0004\"}],\"line_alpha\":[1.0],\"line_color\":[\"white\"],\"width\":[0.8],\"x\":[\"026-016-0004\"],\"y\":[0.3333333333333333]}},\"id\":\"9880935f-637c-44fb-8c23-33c45215e8b3\",\"type\":\"ColumnDataSource\"},{\"attributes\":{\"callback\":null,\"column_names\":[\"fill_alpha\",\"label\",\"x\",\"line_color\",\"y\",\"line_alpha\",\"height\",\"width\",\"color\"],\"data\":{\"chart_index\":[{\"index\":\"026-009-0004\"}],\"color\":[\"#f22c40\"],\"fill_alpha\":[0.8],\"height\":[0.625],\"index\":[\"026-009-0004\"],\"label\":[{\"index\":\"026-009-0004\"}],\"line_alpha\":[1.0],\"line_color\":[\"white\"],\"width\":[0.8],\"x\":[\"026-009-0004\"],\"y\":[0.3125]}},\"id\":\"812eb2a2-5f0f-411a-8344-396a6ae2975d\",\"type\":\"ColumnDataSource\"},{\"attributes\":{\"callback\":null,\"column_names\":[\"fill_alpha\",\"label\",\"x\",\"line_color\",\"y\",\"line_alpha\",\"height\",\"width\",\"color\"],\"data\":{\"chart_index\":[{\"index\":\"026-009-0005\"}],\"color\":[\"#f22c40\"],\"fill_alpha\":[0.8],\"height\":[0.625],\"index\":[\"026-009-0005\"],\"label\":[{\"index\":\"026-009-0005\"}],\"line_alpha\":[1.0],\"line_color\":[\"white\"],\"width\":[0.8],\"x\":[\"026-009-0005\"],\"y\":[0.3125]}},\"id\":\"0783f02b-6856-49fc-8d65-a5c64bda5fb4\",\"type\":\"ColumnDataSource\"},{\"attributes\":{\"fill_alpha\":{\"field\":\"fill_alpha\"},\"fill_color\":{\"field\":\"color\"},\"height\":{\"field\":\"height\",\"units\":\"data\"},\"line_color\":{\"field\":\"line_color\"},\"width\":{\"field\":\"width\",\"units\":\"data\"},\"x\":{\"field\":\"x\"},\"y\":{\"field\":\"y\"}},\"id\":\"79c38f39-4497-4e75-9e1c-53032cdee8ac\",\"type\":\"Rect\"},{\"attributes\":{},\"id\":\"80d2dadf-b202-4fcf-b5b5-2126597a6c22\",\"type\":\"CategoricalTickFormatter\"},{\"attributes\":{\"callback\":null,\"column_names\":[\"fill_alpha\",\"label\",\"x\",\"line_color\",\"y\",\"line_alpha\",\"height\",\"width\",\"color\"],\"data\":{\"chart_index\":[{\"index\":\"026-017-0001\"}],\"color\":[\"#f22c40\"],\"fill_alpha\":[0.8],\"height\":[0.6666666666666666],\"index\":[\"026-017-0001\"],\"label\":[{\"index\":\"026-017-0001\"}],\"line_alpha\":[1.0],\"line_color\":[\"white\"],\"width\":[0.8],\"x\":[\"026-017-0001\"],\"y\":[0.3333333333333333]}},\"id\":\"4d015611-6410-41d0-81ba-df0e643fe73f\",\"type\":\"ColumnDataSource\"},{\"attributes\":{\"data_source\":{\"id\":\"40cc7925-9186-448e-a59b-f55fd22e3440\",\"type\":\"ColumnDataSource\"},\"glyph\":{\"id\":\"85036b31-2941-4c98-9a38-43b592f41daf\",\"type\":\"Rect\"},\"hover_glyph\":null,\"nonselection_glyph\":null,\"selection_glyph\":null},\"id\":\"98c11e04-7fe7-46a7-a4e1-74682dd23a32\",\"type\":\"GlyphRenderer\"},{\"attributes\":{\"data_source\":{\"id\":\"ee0a6cc0-6c52-4c56-8ae8-36f9cc34118d\",\"type\":\"ColumnDataSource\"},\"glyph\":{\"id\":\"1a559c63-fe97-4b71-9666-5d47f363ed8c\",\"type\":\"Rect\"},\"hover_glyph\":null,\"nonselection_glyph\":null,\"selection_glyph\":null},\"id\":\"de7e86cd-efa5-40b5-89b1-bc4bce183546\",\"type\":\"GlyphRenderer\"},{\"attributes\":{\"data_source\":{\"id\":\"5ccf486b-03fb-4074-a896-52015dba4e6a\",\"type\":\"ColumnDataSource\"},\"glyph\":{\"id\":\"2aa4fa34-3f83-42b2-9d8f-e722b31948e1\",\"type\":\"Rect\"},\"hover_glyph\":null,\"nonselection_glyph\":null,\"selection_glyph\":null},\"id\":\"4dc05013-b2df-4fdd-a5a2-7f744b7873e8\",\"type\":\"GlyphRenderer\"},{\"attributes\":{\"fill_alpha\":{\"field\":\"fill_alpha\"},\"fill_color\":{\"field\":\"color\"},\"height\":{\"field\":\"height\",\"units\":\"data\"},\"line_color\":{\"field\":\"line_color\"},\"width\":{\"field\":\"width\",\"units\":\"data\"},\"x\":{\"field\":\"x\"},\"y\":{\"field\":\"y\"}},\"id\":\"2aa4fa34-3f83-42b2-9d8f-e722b31948e1\",\"type\":\"Rect\"},{\"attributes\":{\"axis_label\":\"Sum( Numeric_Status )\",\"formatter\":{\"id\":\"50377507-ae68-43bf-a913-aa142e582770\",\"type\":\"BasicTickFormatter\"},\"plot\":{\"id\":\"eec133b4-84dd-4bbb-8919-b86b3edbab56\",\"subtype\":\"Chart\",\"type\":\"Plot\"},\"ticker\":{\"id\":\"3fc36f59-914f-4c4a-9d34-a8988b062bb7\",\"type\":\"BasicTicker\"}},\"id\":\"f19acfb7-b039-4e4e-9f87-1e0ad0ac77ff\",\"type\":\"LinearAxis\"},{\"attributes\":{\"data_source\":{\"id\":\"2095766d-2a74-4214-b8b4-f50e71387587\",\"type\":\"ColumnDataSource\"},\"glyph\":{\"id\":\"48ac9094-0134-4979-9cca-3f185869ff2a\",\"type\":\"Rect\"},\"hover_glyph\":null,\"nonselection_glyph\":null,\"selection_glyph\":null},\"id\":\"9649e6bb-a2ad-4512-9a9b-d8bc0853e9d9\",\"type\":\"GlyphRenderer\"},{\"attributes\":{\"data_source\":{\"id\":\"9880935f-637c-44fb-8c23-33c45215e8b3\",\"type\":\"ColumnDataSource\"},\"glyph\":{\"id\":\"3833d989-1345-42ce-b9a1-8d9531bc2cb0\",\"type\":\"Rect\"},\"hover_glyph\":null,\"nonselection_glyph\":null,\"selection_glyph\":null},\"id\":\"29122557-a851-4a26-b337-7173c54fbadc\",\"type\":\"GlyphRenderer\"},{\"attributes\":{\"plot\":{\"id\":\"eec133b4-84dd-4bbb-8919-b86b3edbab56\",\"subtype\":\"Chart\",\"type\":\"Plot\"}},\"id\":\"1ebe6f08-a210-4eb9-8c7a-5a4488051120\",\"type\":\"SaveTool\"},{\"attributes\":{\"fill_alpha\":{\"field\":\"fill_alpha\"},\"fill_color\":{\"field\":\"color\"},\"height\":{\"field\":\"height\",\"units\":\"data\"},\"line_color\":{\"field\":\"line_color\"},\"width\":{\"field\":\"width\",\"units\":\"data\"},\"x\":{\"field\":\"x\"},\"y\":{\"field\":\"y\"}},\"id\":\"8e4699f9-a99b-47a8-9454-fff1cb31f213\",\"type\":\"Rect\"},{\"attributes\":{\"data_source\":{\"id\":\"95e8cc87-408e-4c09-8960-b3899e451472\",\"type\":\"ColumnDataSource\"},\"glyph\":{\"id\":\"eb60f918-1007-4748-b9c5-c9aa0ec9382d\",\"type\":\"Rect\"},\"hover_glyph\":null,\"nonselection_glyph\":null,\"selection_glyph\":null},\"id\":\"98587d93-a0d7-42f6-9df5-f8701de1708d\",\"type\":\"GlyphRenderer\"},{\"attributes\":{\"fill_alpha\":{\"field\":\"fill_alpha\"},\"fill_color\":{\"field\":\"color\"},\"height\":{\"field\":\"height\",\"units\":\"data\"},\"line_color\":{\"field\":\"line_color\"},\"width\":{\"field\":\"width\",\"units\":\"data\"},\"x\":{\"field\":\"x\"},\"y\":{\"field\":\"y\"}},\"id\":\"e0a715f7-f88e-45c4-9f45-b3a26fb803cd\",\"type\":\"Rect\"},{\"attributes\":{\"data_source\":{\"id\":\"90b7ffb8-06ae-40dd-9d26-358f30d1ea4a\",\"type\":\"ColumnDataSource\"},\"glyph\":{\"id\":\"9bd73cb9-ebf0-44d3-82ba-c424037ac0f8\",\"type\":\"Rect\"},\"hover_glyph\":null,\"nonselection_glyph\":null,\"selection_glyph\":null},\"id\":\"98e4ea8a-61ee-451f-8159-11019a916ea2\",\"type\":\"GlyphRenderer\"},{\"attributes\":{\"data_source\":{\"id\":\"10073e24-df55-4e19-b7bb-786ee0d54382\",\"type\":\"ColumnDataSource\"},\"glyph\":{\"id\":\"39391bcf-3eaf-42e1-8c58-fa71945557a8\",\"type\":\"Rect\"},\"hover_glyph\":null,\"nonselection_glyph\":null,\"selection_glyph\":null},\"id\":\"dedbe099-fff6-4ceb-86dd-02fcb07a5c72\",\"type\":\"GlyphRenderer\"},{\"attributes\":{\"fill_alpha\":{\"field\":\"fill_alpha\"},\"fill_color\":{\"field\":\"color\"},\"height\":{\"field\":\"height\",\"units\":\"data\"},\"line_color\":{\"field\":\"line_color\"},\"width\":{\"field\":\"width\",\"units\":\"data\"},\"x\":{\"field\":\"x\"},\"y\":{\"field\":\"y\"}},\"id\":\"61621dfe-8e39-41fd-a00a-ad1d45acec0d\",\"type\":\"Rect\"},{\"attributes\":{\"callback\":null,\"column_names\":[\"fill_alpha\",\"label\",\"x\",\"line_color\",\"y\",\"line_alpha\",\"height\",\"width\",\"color\"],\"data\":{\"chart_index\":[{\"index\":\"026-002-0004\"}],\"color\":[\"#f22c40\"],\"fill_alpha\":[0.8],\"height\":[0.625],\"index\":[\"026-002-0004\"],\"label\":[{\"index\":\"026-002-0004\"}],\"line_alpha\":[1.0],\"line_color\":[\"white\"],\"width\":[0.8],\"x\":[\"026-002-0004\"],\"y\":[0.3125]}},\"id\":\"76233ecf-d1d5-4b33-b6cc-de2c5e0ca5c0\",\"type\":\"ColumnDataSource\"},{\"attributes\":{\"callback\":null,\"column_names\":[\"fill_alpha\",\"label\",\"x\",\"line_color\",\"y\",\"line_alpha\",\"height\",\"width\",\"color\"],\"data\":{\"chart_index\":[{\"index\":\"026-005-0005\"}],\"color\":[\"#f22c40\"],\"fill_alpha\":[0.8],\"height\":[0.625],\"index\":[\"026-005-0005\"],\"label\":[{\"index\":\"026-005-0005\"}],\"line_alpha\":[1.0],\"line_color\":[\"white\"],\"width\":[0.8],\"x\":[\"026-005-0005\"],\"y\":[0.3125]}},\"id\":\"e0735c33-0798-4d0d-9232-00c215cbdbe7\",\"type\":\"ColumnDataSource\"},{\"attributes\":{\"data_source\":{\"id\":\"fe8f2a4f-f08a-409b-8ec8-f4f958247bb1\",\"type\":\"ColumnDataSource\"},\"glyph\":{\"id\":\"f319ea17-4a5e-4655-93f9-11a47ad832c5\",\"type\":\"Rect\"},\"hover_glyph\":null,\"nonselection_glyph\":null,\"selection_glyph\":null},\"id\":\"84a591f4-9691-4013-8e0a-6925d4f694c9\",\"type\":\"GlyphRenderer\"},{\"attributes\":{\"callback\":null,\"column_names\":[\"fill_alpha\",\"label\",\"x\",\"line_color\",\"y\",\"line_alpha\",\"height\",\"width\",\"color\"],\"data\":{\"chart_index\":[{\"index\":\"026-015-0004\"}],\"color\":[\"#f22c40\"],\"fill_alpha\":[0.8],\"height\":[0.625],\"index\":[\"026-015-0004\"],\"label\":[{\"index\":\"026-015-0004\"}],\"line_alpha\":[1.0],\"line_color\":[\"white\"],\"width\":[0.8],\"x\":[\"026-015-0004\"],\"y\":[0.3125]}},\"id\":\"51311879-7b62-48ce-b250-53468589d292\",\"type\":\"ColumnDataSource\"},{\"attributes\":{\"callback\":null,\"column_names\":[\"fill_alpha\",\"label\",\"x\",\"line_color\",\"y\",\"line_alpha\",\"height\",\"width\",\"color\"],\"data\":{\"chart_index\":[{\"index\":\"026-003-0004\"}],\"color\":[\"#f22c40\"],\"fill_alpha\":[0.8],\"height\":[0.625],\"index\":[\"026-003-0004\"],\"label\":[{\"index\":\"026-003-0004\"}],\"line_alpha\":[1.0],\"line_color\":[\"white\"],\"width\":[0.8],\"x\":[\"026-003-0004\"],\"y\":[0.3125]}},\"id\":\"6f631fad-1064-4bbd-9f4f-8a750627c718\",\"type\":\"ColumnDataSource\"},{\"attributes\":{\"data_source\":{\"id\":\"6f631fad-1064-4bbd-9f4f-8a750627c718\",\"type\":\"ColumnDataSource\"},\"glyph\":{\"id\":\"8c7c4cf4-047d-4c6b-a895-314c9cbac503\",\"type\":\"Rect\"},\"hover_glyph\":null,\"nonselection_glyph\":null,\"selection_glyph\":null},\"id\":\"79d5af53-6514-41ab-bf5a-3ad1dcc8f1a8\",\"type\":\"GlyphRenderer\"},{\"attributes\":{\"fill_alpha\":{\"field\":\"fill_alpha\"},\"fill_color\":{\"field\":\"color\"},\"height\":{\"field\":\"height\",\"units\":\"data\"},\"line_color\":{\"field\":\"line_color\"},\"width\":{\"field\":\"width\",\"units\":\"data\"},\"x\":{\"field\":\"x\"},\"y\":{\"field\":\"y\"}},\"id\":\"c9870d50-f377-4d3f-af2c-3a5196c9ff98\",\"type\":\"Rect\"},{\"attributes\":{\"callback\":null,\"column_names\":[\"fill_alpha\",\"label\",\"x\",\"line_color\",\"y\",\"line_alpha\",\"height\",\"width\",\"color\"],\"data\":{\"chart_index\":[{\"index\":\"026-001-0005\"}],\"color\":[\"#f22c40\"],\"fill_alpha\":[0.8],\"height\":[0.5],\"index\":[\"026-001-0005\"],\"label\":[{\"index\":\"026-001-0005\"}],\"line_alpha\":[1.0],\"line_color\":[\"white\"],\"width\":[0.8],\"x\":[\"026-001-0005\"],\"y\":[0.25]}},\"id\":\"fe8f2a4f-f08a-409b-8ec8-f4f958247bb1\",\"type\":\"ColumnDataSource\"},{\"attributes\":{\"data_source\":{\"id\":\"a7d6191f-4fed-4596-a9c4-0e4cc6a86a90\",\"type\":\"ColumnDataSource\"},\"glyph\":{\"id\":\"b391452c-ed38-4438-a46b-d73d9ac6dba1\",\"type\":\"Rect\"},\"hover_glyph\":null,\"nonselection_glyph\":null,\"selection_glyph\":null},\"id\":\"40b2d159-a641-4b28-9bff-bd6b37a7567a\",\"type\":\"GlyphRenderer\"},{\"attributes\":{\"callback\":null,\"column_names\":[\"fill_alpha\",\"label\",\"x\",\"line_color\",\"y\",\"line_alpha\",\"height\",\"width\",\"color\"],\"data\":{\"chart_index\":[{\"index\":\"162-001-0001\"}],\"color\":[\"#f22c40\"],\"fill_alpha\":[0.8],\"height\":[0.5625],\"index\":[\"162-001-0001\"],\"label\":[{\"index\":\"162-001-0001\"}],\"line_alpha\":[1.0],\"line_color\":[\"white\"],\"width\":[0.8],\"x\":[\"162-001-0001\"],\"y\":[0.28125]}},\"id\":\"231445f6-d931-4a9f-a8c9-ce3cb4ef7a8e\",\"type\":\"ColumnDataSource\"},{\"attributes\":{\"callback\":null,\"column_names\":[\"fill_alpha\",\"label\",\"x\",\"line_color\",\"y\",\"line_alpha\",\"height\",\"width\",\"color\"],\"data\":{\"chart_index\":[{\"index\":\"026-014-0005\"}],\"color\":[\"#f22c40\"],\"fill_alpha\":[0.8],\"height\":[0.625],\"index\":[\"026-014-0005\"],\"label\":[{\"index\":\"026-014-0005\"}],\"line_alpha\":[1.0],\"line_color\":[\"white\"],\"width\":[0.8],\"x\":[\"026-014-0005\"],\"y\":[0.3125]}},\"id\":\"2a812f12-8c17-48d2-bb01-2879549636dd\",\"type\":\"ColumnDataSource\"},{\"attributes\":{\"data_source\":{\"id\":\"a3f625b2-72ed-4071-8bc2-a284511da58b\",\"type\":\"ColumnDataSource\"},\"glyph\":{\"id\":\"44f5b632-8792-47ec-b83f-3526ff7c8190\",\"type\":\"Rect\"},\"hover_glyph\":null,\"nonselection_glyph\":null,\"selection_glyph\":null},\"id\":\"86760d9c-a306-4ce7-802f-5e1a9bd86ad2\",\"type\":\"GlyphRenderer\"},{\"attributes\":{\"fill_alpha\":{\"field\":\"fill_alpha\"},\"fill_color\":{\"field\":\"color\"},\"height\":{\"field\":\"height\",\"units\":\"data\"},\"line_color\":{\"field\":\"line_color\"},\"width\":{\"field\":\"width\",\"units\":\"data\"},\"x\":{\"field\":\"x\"},\"y\":{\"field\":\"y\"}},\"id\":\"3f1d2467-d60b-4f96-8b2c-30aef6daeaec\",\"type\":\"Rect\"},{\"attributes\":{\"callback\":null,\"column_names\":[\"fill_alpha\",\"label\",\"x\",\"line_color\",\"y\",\"line_alpha\",\"height\",\"width\",\"color\"],\"data\":{\"chart_index\":[{\"index\":\"160-002-0001\"}],\"color\":[\"#f22c40\"],\"fill_alpha\":[0.8],\"height\":[0.5526315789473685],\"index\":[\"160-002-0001\"],\"label\":[{\"index\":\"160-002-0001\"}],\"line_alpha\":[1.0],\"line_color\":[\"white\"],\"width\":[0.8],\"x\":[\"160-002-0001\"],\"y\":[0.27631578947368424]}},\"id\":\"5456928d-f185-44f4-a8d0-2f5bcad3b1bc\",\"type\":\"ColumnDataSource\"},{\"attributes\":{\"fill_alpha\":{\"field\":\"fill_alpha\"},\"fill_color\":{\"field\":\"color\"},\"height\":{\"field\":\"height\",\"units\":\"data\"},\"line_color\":{\"field\":\"line_color\"},\"width\":{\"field\":\"width\",\"units\":\"data\"},\"x\":{\"field\":\"x\"},\"y\":{\"field\":\"y\"}},\"id\":\"3833d989-1345-42ce-b9a1-8d9531bc2cb0\",\"type\":\"Rect\"},{\"attributes\":{\"plot\":{\"id\":\"eec133b4-84dd-4bbb-8919-b86b3edbab56\",\"subtype\":\"Chart\",\"type\":\"Plot\"}},\"id\":\"0f726b60-1278-4abc-ac5f-3b015c896bd8\",\"type\":\"ResetTool\"},{\"attributes\":{\"callback\":null,\"column_names\":[\"fill_alpha\",\"label\",\"x\",\"line_color\",\"y\",\"line_alpha\",\"height\",\"width\",\"color\"],\"data\":{\"chart_index\":[{\"index\":\"026-014-0004\"}],\"color\":[\"#f22c40\"],\"fill_alpha\":[0.8],\"height\":[0.625],\"index\":[\"026-014-0004\"],\"label\":[{\"index\":\"026-014-0004\"}],\"line_alpha\":[1.0],\"line_color\":[\"white\"],\"width\":[0.8],\"x\":[\"026-014-0004\"],\"y\":[0.3125]}},\"id\":\"b805c8e6-21b1-472b-8947-2c080ba09450\",\"type\":\"ColumnDataSource\"},{\"attributes\":{\"callback\":null,\"column_names\":[\"fill_alpha\",\"label\",\"x\",\"line_color\",\"y\",\"line_alpha\",\"height\",\"width\",\"color\"],\"data\":{\"chart_index\":[{\"index\":\"026-010-0004\"}],\"color\":[\"#f22c40\"],\"fill_alpha\":[0.8],\"height\":[0.625],\"index\":[\"026-010-0004\"],\"label\":[{\"index\":\"026-010-0004\"}],\"line_alpha\":[1.0],\"line_color\":[\"white\"],\"width\":[0.8],\"x\":[\"026-010-0004\"],\"y\":[0.3125]}},\"id\":\"a3f625b2-72ed-4071-8bc2-a284511da58b\",\"type\":\"ColumnDataSource\"},{\"attributes\":{\"callback\":null,\"column_names\":[\"fill_alpha\",\"label\",\"x\",\"line_color\",\"y\",\"line_alpha\",\"height\",\"width\",\"color\"],\"data\":{\"chart_index\":[{\"index\":\"026-008-0005\"}],\"color\":[\"#f22c40\"],\"fill_alpha\":[0.8],\"height\":[0.625],\"index\":[\"026-008-0005\"],\"label\":[{\"index\":\"026-008-0005\"}],\"line_alpha\":[1.0],\"line_color\":[\"white\"],\"width\":[0.8],\"x\":[\"026-008-0005\"],\"y\":[0.3125]}},\"id\":\"3fa21137-298d-4a12-bb37-b1430f7dc607\",\"type\":\"ColumnDataSource\"},{\"attributes\":{\"data_source\":{\"id\":\"5c2a602a-792e-4646-b3b9-65698f729457\",\"type\":\"ColumnDataSource\"},\"glyph\":{\"id\":\"22e3840f-d35c-44cd-9a16-eb59ca90421b\",\"type\":\"Rect\"},\"hover_glyph\":null,\"nonselection_glyph\":null,\"selection_glyph\":null},\"id\":\"1a761c21-6eed-4186-975d-6e67756373d2\",\"type\":\"GlyphRenderer\"},{\"attributes\":{},\"id\":\"50377507-ae68-43bf-a913-aa142e582770\",\"type\":\"BasicTickFormatter\"},{\"attributes\":{\"data_source\":{\"id\":\"fc3c8e86-8633-4939-9337-6deda34b076e\",\"type\":\"ColumnDataSource\"},\"glyph\":{\"id\":\"043ca487-fbc5-4e86-a1a0-c4deff2c8956\",\"type\":\"Rect\"},\"hover_glyph\":null,\"nonselection_glyph\":null,\"selection_glyph\":null},\"id\":\"7fe36df2-8f90-4f11-a006-3486185e5503\",\"type\":\"GlyphRenderer\"},{\"attributes\":{\"fill_alpha\":{\"field\":\"fill_alpha\"},\"fill_color\":{\"field\":\"color\"},\"height\":{\"field\":\"height\",\"units\":\"data\"},\"line_color\":{\"field\":\"line_color\"},\"width\":{\"field\":\"width\",\"units\":\"data\"},\"x\":{\"field\":\"x\"},\"y\":{\"field\":\"y\"}},\"id\":\"c8793a37-fa87-469e-ad83-c4d6531b8a2e\",\"type\":\"Rect\"},{\"attributes\":{\"callback\":null,\"column_names\":[\"fill_alpha\",\"label\",\"x\",\"line_color\",\"y\",\"line_alpha\",\"height\",\"width\",\"color\"],\"data\":{\"chart_index\":[{\"index\":\"026-004-0004\"}],\"color\":[\"#f22c40\"],\"fill_alpha\":[0.8],\"height\":[0.625],\"index\":[\"026-004-0004\"],\"label\":[{\"index\":\"026-004-0004\"}],\"line_alpha\":[1.0],\"line_color\":[\"white\"],\"width\":[0.8],\"x\":[\"026-004-0004\"],\"y\":[0.3125]}},\"id\":\"fe4d50a8-c16e-4a16-9ed0-befc8e42a7a8\",\"type\":\"ColumnDataSource\"},{\"attributes\":{\"callback\":null,\"end\":0.7},\"id\":\"699807d4-7c6f-42dd-be31-765077bc0e03\",\"type\":\"Range1d\"},{\"attributes\":{},\"id\":\"fdf746fb-95c7-4240-9dc1-fcc687d2be76\",\"type\":\"CategoricalTicker\"},{\"attributes\":{\"fill_alpha\":{\"field\":\"fill_alpha\"},\"fill_color\":{\"field\":\"color\"},\"height\":{\"field\":\"height\",\"units\":\"data\"},\"line_color\":{\"field\":\"line_color\"},\"width\":{\"field\":\"width\",\"units\":\"data\"},\"x\":{\"field\":\"x\"},\"y\":{\"field\":\"y\"}},\"id\":\"4e2125e4-e65c-4479-b380-a07b4a8b4d5c\",\"type\":\"Rect\"},{\"attributes\":{\"data_source\":{\"id\":\"506ec092-6dd7-4104-af00-26bf8bddf66f\",\"type\":\"ColumnDataSource\"},\"glyph\":{\"id\":\"3f1d2467-d60b-4f96-8b2c-30aef6daeaec\",\"type\":\"Rect\"},\"hover_glyph\":null,\"nonselection_glyph\":null,\"selection_glyph\":null},\"id\":\"6196034e-0161-46bc-8edd-374c008429ee\",\"type\":\"GlyphRenderer\"},{\"attributes\":{\"data_source\":{\"id\":\"4d015611-6410-41d0-81ba-df0e643fe73f\",\"type\":\"ColumnDataSource\"},\"glyph\":{\"id\":\"f2e21a8b-a1ff-4cc6-a411-f0f513695dea\",\"type\":\"Rect\"},\"hover_glyph\":null,\"nonselection_glyph\":null,\"selection_glyph\":null},\"id\":\"aba73ab2-b4bb-48e1-88fa-b86b9d7a9fb5\",\"type\":\"GlyphRenderer\"},{\"attributes\":{\"fill_alpha\":{\"field\":\"fill_alpha\"},\"fill_color\":{\"field\":\"color\"},\"height\":{\"field\":\"height\",\"units\":\"data\"},\"line_color\":{\"field\":\"line_color\"},\"width\":{\"field\":\"width\",\"units\":\"data\"},\"x\":{\"field\":\"x\"},\"y\":{\"field\":\"y\"}},\"id\":\"b7ebf340-84f3-4888-955d-eb8da300ed73\",\"type\":\"Rect\"},{\"attributes\":{\"callback\":null,\"column_names\":[\"fill_alpha\",\"label\",\"x\",\"line_color\",\"y\",\"line_alpha\",\"height\",\"width\",\"color\"],\"data\":{\"chart_index\":[{\"index\":\"008-021-0010\"}],\"color\":[\"#f22c40\"],\"fill_alpha\":[0.8],\"height\":[0.5555555555555556],\"index\":[\"008-021-0010\"],\"label\":[{\"index\":\"008-021-0010\"}],\"line_alpha\":[1.0],\"line_color\":[\"white\"],\"width\":[0.8],\"x\":[\"008-021-0010\"],\"y\":[0.2777777777777778]}},\"id\":\"fc3c8e86-8633-4939-9337-6deda34b076e\",\"type\":\"ColumnDataSource\"},{\"attributes\":{\"callback\":null,\"column_names\":[\"fill_alpha\",\"label\",\"x\",\"line_color\",\"y\",\"line_alpha\",\"height\",\"width\",\"color\"],\"data\":{\"chart_index\":[{\"index\":\"026-011-0005\"}],\"color\":[\"#f22c40\"],\"fill_alpha\":[0.8],\"height\":[0.625],\"index\":[\"026-011-0005\"],\"label\":[{\"index\":\"026-011-0005\"}],\"line_alpha\":[1.0],\"line_color\":[\"white\"],\"width\":[0.8],\"x\":[\"026-011-0005\"],\"y\":[0.3125]}},\"id\":\"594205ee-6e0b-4391-a346-f98f8828d38b\",\"type\":\"ColumnDataSource\"},{\"attributes\":{\"fill_alpha\":{\"field\":\"fill_alpha\"},\"fill_color\":{\"field\":\"color\"},\"height\":{\"field\":\"height\",\"units\":\"data\"},\"line_color\":{\"field\":\"line_color\"},\"width\":{\"field\":\"width\",\"units\":\"data\"},\"x\":{\"field\":\"x\"},\"y\":{\"field\":\"y\"}},\"id\":\"f2e21a8b-a1ff-4cc6-a411-f0f513695dea\",\"type\":\"Rect\"},{\"attributes\":{\"fill_alpha\":{\"field\":\"fill_alpha\"},\"fill_color\":{\"field\":\"color\"},\"height\":{\"field\":\"height\",\"units\":\"data\"},\"line_color\":{\"field\":\"line_color\"},\"width\":{\"field\":\"width\",\"units\":\"data\"},\"x\":{\"field\":\"x\"},\"y\":{\"field\":\"y\"}},\"id\":\"9916f9ce-eb5c-4adb-8dc3-ee1f3668937e\",\"type\":\"Rect\"},{\"attributes\":{\"data_source\":{\"id\":\"a6993ac3-b8cc-4b2e-96db-6bcbe6aca5dc\",\"type\":\"ColumnDataSource\"},\"glyph\":{\"id\":\"61621dfe-8e39-41fd-a00a-ad1d45acec0d\",\"type\":\"Rect\"},\"hover_glyph\":null,\"nonselection_glyph\":null,\"selection_glyph\":null},\"id\":\"4e06df4f-d994-4892-868c-5d54eb1bfe6b\",\"type\":\"GlyphRenderer\"},{\"attributes\":{\"fill_alpha\":{\"field\":\"fill_alpha\"},\"fill_color\":{\"field\":\"color\"},\"height\":{\"field\":\"height\",\"units\":\"data\"},\"line_color\":{\"field\":\"line_color\"},\"width\":{\"field\":\"width\",\"units\":\"data\"},\"x\":{\"field\":\"x\"},\"y\":{\"field\":\"y\"}},\"id\":\"cddfc239-77e4-4065-9633-7069f829bf4c\",\"type\":\"Rect\"},{\"attributes\":{},\"id\":\"3fc36f59-914f-4c4a-9d34-a8988b062bb7\",\"type\":\"BasicTicker\"},{\"attributes\":{\"formatter\":{\"id\":\"80d2dadf-b202-4fcf-b5b5-2126597a6c22\",\"type\":\"CategoricalTickFormatter\"},\"major_label_orientation\":0.7853981633974483,\"plot\":{\"id\":\"eec133b4-84dd-4bbb-8919-b86b3edbab56\",\"subtype\":\"Chart\",\"type\":\"Plot\"},\"ticker\":{\"id\":\"fdf746fb-95c7-4240-9dc1-fcc687d2be76\",\"type\":\"CategoricalTicker\"}},\"id\":\"eeebee21-e186-40da-8975-8f59b03edefd\",\"type\":\"CategoricalAxis\"},{\"attributes\":{\"data_source\":{\"id\":\"b805c8e6-21b1-472b-8947-2c080ba09450\",\"type\":\"ColumnDataSource\"},\"glyph\":{\"id\":\"c9870d50-f377-4d3f-af2c-3a5196c9ff98\",\"type\":\"Rect\"},\"hover_glyph\":null,\"nonselection_glyph\":null,\"selection_glyph\":null},\"id\":\"d77963ed-aecf-44be-b6fa-0341ee3904eb\",\"type\":\"GlyphRenderer\"},{\"attributes\":{\"callback\":null,\"column_names\":[\"fill_alpha\",\"label\",\"x\",\"line_color\",\"y\",\"line_alpha\",\"height\",\"width\",\"color\"],\"data\":{\"chart_index\":[{\"index\":\"026-008-0004\"}],\"color\":[\"#f22c40\"],\"fill_alpha\":[0.8],\"height\":[0.625],\"index\":[\"026-008-0004\"],\"label\":[{\"index\":\"026-008-0004\"}],\"line_alpha\":[1.0],\"line_color\":[\"white\"],\"width\":[0.8],\"x\":[\"026-008-0004\"],\"y\":[0.3125]}},\"id\":\"81d5dfc1-ef6d-4843-a367-d430f9a232fe\",\"type\":\"ColumnDataSource\"},{\"attributes\":{\"data_source\":{\"id\":\"59bb185c-8cee-454a-b7be-8fcabc61f682\",\"type\":\"ColumnDataSource\"},\"glyph\":{\"id\":\"c8793a37-fa87-469e-ad83-c4d6531b8a2e\",\"type\":\"Rect\"},\"hover_glyph\":null,\"nonselection_glyph\":null,\"selection_glyph\":null},\"id\":\"3afd05ee-fd28-4299-ab4f-a206fc1b0064\",\"type\":\"GlyphRenderer\"},{\"attributes\":{\"data_source\":{\"id\":\"4c98aec5-6a04-4b2d-9779-9b92a4eccd05\",\"type\":\"ColumnDataSource\"},\"glyph\":{\"id\":\"e0a715f7-f88e-45c4-9f45-b3a26fb803cd\",\"type\":\"Rect\"},\"hover_glyph\":null,\"nonselection_glyph\":null,\"selection_glyph\":null},\"id\":\"387b67c7-14d1-4d6c-b20e-cae5324c0bce\",\"type\":\"GlyphRenderer\"},{\"attributes\":{\"data_source\":{\"id\":\"594205ee-6e0b-4391-a346-f98f8828d38b\",\"type\":\"ColumnDataSource\"},\"glyph\":{\"id\":\"79c38f39-4497-4e75-9e1c-53032cdee8ac\",\"type\":\"Rect\"},\"hover_glyph\":null,\"nonselection_glyph\":null,\"selection_glyph\":null},\"id\":\"2659448d-d226-4a83-88b3-bbc95d7ce937\",\"type\":\"GlyphRenderer\"},{\"attributes\":{\"data_source\":{\"id\":\"e0735c33-0798-4d0d-9232-00c215cbdbe7\",\"type\":\"ColumnDataSource\"},\"glyph\":{\"id\":\"36b924ae-ecba-4b48-8f0f-ed8518ca545f\",\"type\":\"Rect\"},\"hover_glyph\":null,\"nonselection_glyph\":null,\"selection_glyph\":null},\"id\":\"527dc77f-eae3-4a5f-be5b-c142928feb55\",\"type\":\"GlyphRenderer\"},{\"attributes\":{\"fill_alpha\":{\"field\":\"fill_alpha\"},\"fill_color\":{\"field\":\"color\"},\"height\":{\"field\":\"height\",\"units\":\"data\"},\"line_color\":{\"field\":\"line_color\"},\"width\":{\"field\":\"width\",\"units\":\"data\"},\"x\":{\"field\":\"x\"},\"y\":{\"field\":\"y\"}},\"id\":\"9bd73cb9-ebf0-44d3-82ba-c424037ac0f8\",\"type\":\"Rect\"},{\"attributes\":{\"callback\":null,\"column_names\":[\"fill_alpha\",\"label\",\"x\",\"line_color\",\"y\",\"line_alpha\",\"height\",\"width\",\"color\"],\"data\":{\"chart_index\":[{\"index\":\"026-011-0004\"}],\"color\":[\"#f22c40\"],\"fill_alpha\":[0.8],\"height\":[0.625],\"index\":[\"026-011-0004\"],\"label\":[{\"index\":\"026-011-0004\"}],\"line_alpha\":[1.0],\"line_color\":[\"white\"],\"width\":[0.8],\"x\":[\"026-011-0004\"],\"y\":[0.3125]}},\"id\":\"389f367e-3d2d-4a6c-b1e9-74265c7fffaa\",\"type\":\"ColumnDataSource\"},{\"attributes\":{\"data_source\":{\"id\":\"3fa21137-298d-4a12-bb37-b1430f7dc607\",\"type\":\"ColumnDataSource\"},\"glyph\":{\"id\":\"6b991b44-b456-490d-830f-2a1b8e09926f\",\"type\":\"Rect\"},\"hover_glyph\":null,\"nonselection_glyph\":null,\"selection_glyph\":null},\"id\":\"1662cd9a-a56e-41bf-bc43-134156ca2cac\",\"type\":\"GlyphRenderer\"},{\"attributes\":{\"callback\":null,\"column_names\":[\"fill_alpha\",\"label\",\"x\",\"line_color\",\"y\",\"line_alpha\",\"height\",\"width\",\"color\"],\"data\":{\"chart_index\":[{\"index\":\"026-006-0004\"}],\"color\":[\"#f22c40\"],\"fill_alpha\":[0.8],\"height\":[0.625],\"index\":[\"026-006-0004\"],\"label\":[{\"index\":\"026-006-0004\"}],\"line_alpha\":[1.0],\"line_color\":[\"white\"],\"width\":[0.8],\"x\":[\"026-006-0004\"],\"y\":[0.3125]}},\"id\":\"2095766d-2a74-4214-b8b4-f50e71387587\",\"type\":\"ColumnDataSource\"},{\"attributes\":{\"fill_alpha\":{\"field\":\"fill_alpha\"},\"fill_color\":{\"field\":\"color\"},\"height\":{\"field\":\"height\",\"units\":\"data\"},\"line_color\":{\"field\":\"line_color\"},\"width\":{\"field\":\"width\",\"units\":\"data\"},\"x\":{\"field\":\"x\"},\"y\":{\"field\":\"y\"}},\"id\":\"39391bcf-3eaf-42e1-8c58-fa71945557a8\",\"type\":\"Rect\"},{\"attributes\":{\"callback\":null,\"column_names\":[\"fill_alpha\",\"label\",\"x\",\"line_color\",\"y\",\"line_alpha\",\"height\",\"width\",\"color\"],\"data\":{\"chart_index\":[{\"index\":\"004-011-0004\"}],\"color\":[\"#f22c40\"],\"fill_alpha\":[0.8],\"height\":[0.3333333333333333],\"index\":[\"004-011-0004\"],\"label\":[{\"index\":\"004-011-0004\"}],\"line_alpha\":[1.0],\"line_color\":[\"white\"],\"width\":[0.8],\"x\":[\"004-011-0004\"],\"y\":[0.16666666666666666]}},\"id\":\"947fe49a-4f88-44a1-a839-13f1f7d69e84\",\"type\":\"ColumnDataSource\"},{\"attributes\":{\"data_source\":{\"id\":\"0783f02b-6856-49fc-8d65-a5c64bda5fb4\",\"type\":\"ColumnDataSource\"},\"glyph\":{\"id\":\"ef043769-764a-42a6-ab40-414be0f837c5\",\"type\":\"Rect\"},\"hover_glyph\":null,\"nonselection_glyph\":null,\"selection_glyph\":null},\"id\":\"b596e3ef-b933-4b07-b424-58e5af5550ab\",\"type\":\"GlyphRenderer\"},{\"attributes\":{\"data_source\":{\"id\":\"fe4d50a8-c16e-4a16-9ed0-befc8e42a7a8\",\"type\":\"ColumnDataSource\"},\"glyph\":{\"id\":\"7179d88d-62a2-47df-8df1-af68cbfebf97\",\"type\":\"Rect\"},\"hover_glyph\":null,\"nonselection_glyph\":null,\"selection_glyph\":null},\"id\":\"0707b5b3-fc39-4b6d-b0db-3345ec55c0ff\",\"type\":\"GlyphRenderer\"},{\"attributes\":{\"fill_alpha\":{\"field\":\"fill_alpha\"},\"fill_color\":{\"field\":\"color\"},\"height\":{\"field\":\"height\",\"units\":\"data\"},\"line_color\":{\"field\":\"line_color\"},\"width\":{\"field\":\"width\",\"units\":\"data\"},\"x\":{\"field\":\"x\"},\"y\":{\"field\":\"y\"}},\"id\":\"d6d06ea2-9b41-4f6e-9aa2-cd5aa8d681d7\",\"type\":\"Rect\"},{\"attributes\":{\"fill_alpha\":{\"field\":\"fill_alpha\"},\"fill_color\":{\"field\":\"color\"},\"height\":{\"field\":\"height\",\"units\":\"data\"},\"line_color\":{\"field\":\"line_color\"},\"width\":{\"field\":\"width\",\"units\":\"data\"},\"x\":{\"field\":\"x\"},\"y\":{\"field\":\"y\"}},\"id\":\"a236ae8b-28d2-425b-8b94-5b719520e43e\",\"type\":\"Rect\"},{\"attributes\":{\"data_source\":{\"id\":\"7351d9ab-9be5-4d23-a3e3-8ae396b325e3\",\"type\":\"ColumnDataSource\"},\"glyph\":{\"id\":\"74915cb5-a7ee-413d-aa24-6f0e8a31a9e4\",\"type\":\"Rect\"},\"hover_glyph\":null,\"nonselection_glyph\":null,\"selection_glyph\":null},\"id\":\"f6d5794b-6c65-43ae-8fea-598994b10ed5\",\"type\":\"GlyphRenderer\"},{\"attributes\":{\"fill_alpha\":{\"field\":\"fill_alpha\"},\"fill_color\":{\"field\":\"color\"},\"height\":{\"field\":\"height\",\"units\":\"data\"},\"line_color\":{\"field\":\"line_color\"},\"width\":{\"field\":\"width\",\"units\":\"data\"},\"x\":{\"field\":\"x\"},\"y\":{\"field\":\"y\"}},\"id\":\"0e8f4688-8098-4c61-98ee-c39d0818d75d\",\"type\":\"Rect\"},{\"attributes\":{\"fill_alpha\":{\"field\":\"fill_alpha\"},\"fill_color\":{\"field\":\"color\"},\"height\":{\"field\":\"height\",\"units\":\"data\"},\"line_color\":{\"field\":\"line_color\"},\"width\":{\"field\":\"width\",\"units\":\"data\"},\"x\":{\"field\":\"x\"},\"y\":{\"field\":\"y\"}},\"id\":\"6b991b44-b456-490d-830f-2a1b8e09926f\",\"type\":\"Rect\"},{\"attributes\":{\"data_source\":{\"id\":\"389f367e-3d2d-4a6c-b1e9-74265c7fffaa\",\"type\":\"ColumnDataSource\"},\"glyph\":{\"id\":\"d6d06ea2-9b41-4f6e-9aa2-cd5aa8d681d7\",\"type\":\"Rect\"},\"hover_glyph\":null,\"nonselection_glyph\":null,\"selection_glyph\":null},\"id\":\"d125c898-8f9d-47e4-b1af-393654fedde8\",\"type\":\"GlyphRenderer\"},{\"attributes\":{\"callback\":null,\"column_names\":[\"fill_alpha\",\"label\",\"x\",\"line_color\",\"y\",\"line_alpha\",\"height\",\"width\",\"color\"],\"data\":{\"chart_index\":[{\"index\":\"026-007-0005\"}],\"color\":[\"#f22c40\"],\"fill_alpha\":[0.8],\"height\":[0.625],\"index\":[\"026-007-0005\"],\"label\":[{\"index\":\"026-007-0005\"}],\"line_alpha\":[1.0],\"line_color\":[\"white\"],\"width\":[0.8],\"x\":[\"026-007-0005\"],\"y\":[0.3125]}},\"id\":\"10073e24-df55-4e19-b7bb-786ee0d54382\",\"type\":\"ColumnDataSource\"},{\"attributes\":{\"callback\":null,\"column_names\":[\"fill_alpha\",\"label\",\"x\",\"line_color\",\"y\",\"line_alpha\",\"height\",\"width\",\"color\"],\"data\":{\"chart_index\":[{\"index\":\"026-015-0005\"}],\"color\":[\"#f22c40\"],\"fill_alpha\":[0.8],\"height\":[0.625],\"index\":[\"026-015-0005\"],\"label\":[{\"index\":\"026-015-0005\"}],\"line_alpha\":[1.0],\"line_color\":[\"white\"],\"width\":[0.8],\"x\":[\"026-015-0005\"],\"y\":[0.3125]}},\"id\":\"4b018d2f-ff90-41a8-9384-e134f7356263\",\"type\":\"ColumnDataSource\"},{\"attributes\":{\"callback\":null,\"column_names\":[\"fill_alpha\",\"label\",\"x\",\"line_color\",\"y\",\"line_alpha\",\"height\",\"width\",\"color\"],\"data\":{\"chart_index\":[{\"index\":\"026-018-0001\"}],\"color\":[\"#f22c40\"],\"fill_alpha\":[0.8],\"height\":[0.6666666666666666],\"index\":[\"026-018-0001\"],\"label\":[{\"index\":\"026-018-0001\"}],\"line_alpha\":[1.0],\"line_color\":[\"white\"],\"width\":[0.8],\"x\":[\"026-018-0001\"],\"y\":[0.3333333333333333]}},\"id\":\"32c01a0f-6678-4086-bec4-0195fddd7252\",\"type\":\"ColumnDataSource\"},{\"attributes\":{\"fill_alpha\":{\"field\":\"fill_alpha\"},\"fill_color\":{\"field\":\"color\"},\"height\":{\"field\":\"height\",\"units\":\"data\"},\"line_color\":{\"field\":\"line_color\"},\"width\":{\"field\":\"width\",\"units\":\"data\"},\"x\":{\"field\":\"x\"},\"y\":{\"field\":\"y\"}},\"id\":\"4102260c-4c41-4041-bbe9-b512d3418d97\",\"type\":\"Rect\"},{\"attributes\":{\"fill_alpha\":{\"field\":\"fill_alpha\"},\"fill_color\":{\"field\":\"color\"},\"height\":{\"field\":\"height\",\"units\":\"data\"},\"line_color\":{\"field\":\"line_color\"},\"width\":{\"field\":\"width\",\"units\":\"data\"},\"x\":{\"field\":\"x\"},\"y\":{\"field\":\"y\"}},\"id\":\"f70667ed-2b6c-4684-8c7e-5edfea91e3ae\",\"type\":\"Rect\"},{\"attributes\":{\"callback\":null,\"column_names\":[\"fill_alpha\",\"label\",\"x\",\"line_color\",\"y\",\"line_alpha\",\"height\",\"width\",\"color\"],\"data\":{\"chart_index\":[{\"index\":\"026-012-0005\"}],\"color\":[\"#f22c40\"],\"fill_alpha\":[0.8],\"height\":[0.625],\"index\":[\"026-012-0005\"],\"label\":[{\"index\":\"026-012-0005\"}],\"line_alpha\":[1.0],\"line_color\":[\"white\"],\"width\":[0.8],\"x\":[\"026-012-0005\"],\"y\":[0.3125]}},\"id\":\"d122e0b5-8569-41ba-b4e6-9d7066afbfdf\",\"type\":\"ColumnDataSource\"},{\"attributes\":{\"data_source\":{\"id\":\"92890415-32d3-4ffc-b320-92464443dc4b\",\"type\":\"ColumnDataSource\"},\"glyph\":{\"id\":\"cfa16c47-27f0-4afb-8d41-76eeac8b15b3\",\"type\":\"Rect\"},\"hover_glyph\":null,\"nonselection_glyph\":null,\"selection_glyph\":null},\"id\":\"c959967c-10cd-4915-be2f-24504edd322a\",\"type\":\"GlyphRenderer\"},{\"attributes\":{\"fill_alpha\":{\"field\":\"fill_alpha\"},\"fill_color\":{\"field\":\"color\"},\"height\":{\"field\":\"height\",\"units\":\"data\"},\"line_color\":{\"field\":\"line_color\"},\"width\":{\"field\":\"width\",\"units\":\"data\"},\"x\":{\"field\":\"x\"},\"y\":{\"field\":\"y\"}},\"id\":\"8c7c4cf4-047d-4c6b-a895-314c9cbac503\",\"type\":\"Rect\"}],\"root_ids\":[\"eec133b4-84dd-4bbb-8919-b86b3edbab56\"]},\"title\":\"Bokeh Application\",\"version\":\"0.12.1\"}};\n",
       "            var render_items = [{\"docid\":\"3edcd890-fc89-4bde-818e-0251747c92fe\",\"elementid\":\"2d92742c-8c89-4689-bbe7-0eaf0279612d\",\"modelid\":\"eec133b4-84dd-4bbb-8919-b86b3edbab56\",\"notebook_comms_target\":\"a8ab9cf8-9245-4ae4-96da-d97e9cf4c4ef\"}];\n",
       "            \n",
       "            Bokeh.embed.embed_items(docs_json, render_items);\n",
       "        });\n",
       "      },\n",
       "      function(Bokeh) {\n",
       "      }\n",
       "    ];\n",
       "  \n",
       "    function run_inline_js() {\n",
       "      for (var i = 0; i < inline_js.length; i++) {\n",
       "        inline_js[i](window.Bokeh);\n",
       "      }\n",
       "    }\n",
       "  \n",
       "    if (window._bokeh_is_loading === 0) {\n",
       "      console.log(\"Bokeh: BokehJS loaded, going straight to plotting\");\n",
       "      run_inline_js();\n",
       "    } else {\n",
       "      load_libs(js_urls, function() {\n",
       "        console.log(\"Bokeh: BokehJS plotting callback run at\", now());\n",
       "        run_inline_js();\n",
       "      });\n",
       "    }\n",
       "  }(this));\n",
       "</script>"
      ]
     },
     "metadata": {},
     "output_type": "execute_result"
    },
    {
     "data": {
      "text/html": [
       "<p><code>&lt;Bokeh Notebook handle for <strong>In[36]</strong>&gt;</code></p>"
      ],
      "text/plain": [
       "<bokeh.io._CommsHandle at 0x2d563898>"
      ]
     },
     "execution_count": 36,
     "metadata": {},
     "output_type": "execute_result"
    }
   ],
   "source": [
    "p = Bar(highest_failures_by_groupby(pf_metrics.groupby('case_id'), 1.5))\n",
    "show(p)"
   ]
  },
  {
   "cell_type": "code",
   "execution_count": 74,
   "metadata": {
    "collapsed": false
   },
   "outputs": [],
   "source": [
    "a = 'Service call queryAdCvd. \\n\\t\\t\\tCC 10.05.2015 added flags for send to customs and return AE records.\\n\\t\\t\\tflags have no affect.'\n",
    "b = [c.strip() for c in a.splitlines()]"
   ]
  },
  {
   "cell_type": "code",
   "execution_count": 77,
   "metadata": {
    "collapsed": false
   },
   "outputs": [
    {
     "data": {
      "text/plain": [
       "'Service call queryAdCvd. CC 10.05.2015 added flags for send to customs and return AE records. flags have no affect.'"
      ]
     },
     "execution_count": 77,
     "metadata": {},
     "output_type": "execute_result"
    }
   ],
   "source": [
    "' '.join(b)"
   ]
  },
  {
   "cell_type": "code",
   "execution_count": 72,
   "metadata": {
    "collapsed": false
   },
   "outputs": [
    {
     "data": {
      "text/plain": [
       "array([ 'Service call queryAdCvd. \\n\\t\\t\\tCC 10.05.2015 added flags for send to customs and return AE records.\\n\\t\\t\\tflags have no affect.',\n",
       "       \"Bug 362 - use TEST instead of a 4-digit number in A Header record. \\n\\t\\tTest processAC service call.  should return version and 'false' for hasConfirms, hasErrors and hasMessages.\",\n",
       "       'eBond service call createBond request/response valid request with a single line. \\n\\t\\t\\t\\tResponse should have no messages or errors. No event created in cfit since the cfit file \\n\\t\\t\\t\\tdoes not exist.  host was - devcombo023.dr1.ei:8121',\n",
       "       ...,\n",
       "       'Switch back to first invoice so that when saving, the bad hs data will validate.',\n",
       "       'Save on first invoice, validations on second invoice should come back.',\n",
       "       'Finding the previously created declaration using search and verifying if all the required attributes are found.\\n\\t\\t'], dtype=object)"
      ]
     },
     "execution_count": 72,
     "metadata": {},
     "output_type": "execute_result"
    }
   ],
   "source": [
    "metrics.df.case_description.unique()"
   ]
  },
  {
   "cell_type": "code",
   "execution_count": 95,
   "metadata": {
    "collapsed": false
   },
   "outputs": [
    {
     "name": "stdout",
     "output_type": "stream",
     "text": [
      "<class 'pandas.core.series.Series'>\n"
     ]
    }
   ],
   "source": [
    "boop = highest_failures_by_groupby(pf_metrics.groupby('case_id'), 1.5)"
   ]
  },
  {
   "cell_type": "code",
   "execution_count": 96,
   "metadata": {
    "collapsed": false
   },
   "outputs": [
    {
     "data": {
      "text/html": [
       "\n",
       "\n",
       "    <div class=\"bk-root\">\n",
       "        <div class=\"plotdiv\" id=\"e711a160-890d-4147-ae75-82eb51f85b7a\"></div>\n",
       "    </div>\n",
       "<script type=\"text/javascript\">\n",
       "  \n",
       "  (function(global) {\n",
       "    function now() {\n",
       "      return new Date();\n",
       "    }\n",
       "  \n",
       "    var force = \"\";\n",
       "  \n",
       "    if (typeof (window._bokeh_onload_callbacks) === \"undefined\" || force !== \"\") {\n",
       "      window._bokeh_onload_callbacks = [];\n",
       "      window._bokeh_is_loading = undefined;\n",
       "    }\n",
       "  \n",
       "    function run_callbacks() {\n",
       "      window._bokeh_onload_callbacks.forEach(function(callback) { callback() });\n",
       "      delete window._bokeh_onload_callbacks\n",
       "      console.info(\"Bokeh: all callbacks have finished\");\n",
       "    }\n",
       "  \n",
       "    function load_libs(js_urls, callback) {\n",
       "      window._bokeh_onload_callbacks.push(callback);\n",
       "      if (window._bokeh_is_loading > 0) {\n",
       "        console.log(\"Bokeh: BokehJS is being loaded, scheduling callback at\", now());\n",
       "        return null;\n",
       "      }\n",
       "      if (js_urls == null || js_urls.length === 0) {\n",
       "        run_callbacks();\n",
       "        return null;\n",
       "      }\n",
       "      console.log(\"Bokeh: BokehJS not loaded, scheduling load and callback at\", now());\n",
       "      window._bokeh_is_loading = js_urls.length;\n",
       "      for (var i = 0; i < js_urls.length; i++) {\n",
       "        var url = js_urls[i];\n",
       "        var s = document.createElement('script');\n",
       "        s.src = url;\n",
       "        s.async = false;\n",
       "        s.onreadystatechange = s.onload = function() {\n",
       "          window._bokeh_is_loading--;\n",
       "          if (window._bokeh_is_loading === 0) {\n",
       "            console.log(\"Bokeh: all BokehJS libraries loaded\");\n",
       "            run_callbacks()\n",
       "          }\n",
       "        };\n",
       "        s.onerror = function() {\n",
       "          console.warn(\"failed to load library \" + url);\n",
       "        };\n",
       "        console.log(\"Bokeh: injecting script tag for BokehJS library: \", url);\n",
       "        document.getElementsByTagName(\"head\")[0].appendChild(s);\n",
       "      }\n",
       "    };var element = document.getElementById(\"e711a160-890d-4147-ae75-82eb51f85b7a\");\n",
       "    if (element == null) {\n",
       "      console.log(\"Bokeh: ERROR: autoload.js configured with elementid 'e711a160-890d-4147-ae75-82eb51f85b7a' but no matching script tag was found. \")\n",
       "      return false;\n",
       "    }\n",
       "  \n",
       "    var js_urls = [];\n",
       "  \n",
       "    var inline_js = [\n",
       "      function(Bokeh) {\n",
       "        Bokeh.$(function() {\n",
       "            var docs_json = {\"20dd833d-7d27-4124-8dc6-9e8b9358cb3a\":{\"roots\":{\"references\":[{\"attributes\":{\"data_source\":{\"id\":\"6102ba3b-c6ec-499e-bb32-7f71dc3d4365\",\"type\":\"ColumnDataSource\"},\"glyph\":{\"id\":\"35729717-5271-4b6e-8741-417e970a9f14\",\"type\":\"Rect\"},\"hover_glyph\":null,\"nonselection_glyph\":null,\"selection_glyph\":null},\"id\":\"5165ffc1-007e-4837-8137-97f567acbe2a\",\"type\":\"GlyphRenderer\"},{\"attributes\":{\"fill_alpha\":{\"field\":\"fill_alpha\"},\"fill_color\":{\"field\":\"color\"},\"height\":{\"field\":\"height\",\"units\":\"data\"},\"line_color\":{\"field\":\"line_color\"},\"width\":{\"field\":\"width\",\"units\":\"data\"},\"x\":{\"field\":\"x\"},\"y\":{\"field\":\"y\"}},\"id\":\"e1fa5d5e-a6ba-459f-8d34-1a500e5311a4\",\"type\":\"Rect\"},{\"attributes\":{\"data_source\":{\"id\":\"d80b4ec9-b35d-43d9-9c05-f279f59acce0\",\"type\":\"ColumnDataSource\"},\"glyph\":{\"id\":\"dff5a4ac-0fce-46e0-96c7-f867b2ad5408\",\"type\":\"Rect\"},\"hover_glyph\":null,\"nonselection_glyph\":null,\"selection_glyph\":null},\"id\":\"9be488e4-5d12-4e8c-9bd7-437b4d24e6ac\",\"type\":\"GlyphRenderer\"},{\"attributes\":{\"data_source\":{\"id\":\"c46ca7d0-b104-4e18-860f-ca0ef9a9f3fd\",\"type\":\"ColumnDataSource\"},\"glyph\":{\"id\":\"5d9345a6-4820-4cab-a730-a18f98b4fed7\",\"type\":\"Rect\"},\"hover_glyph\":null,\"nonselection_glyph\":null,\"selection_glyph\":null},\"id\":\"79bc9a85-9b69-423b-941a-8e55081bd85d\",\"type\":\"GlyphRenderer\"},{\"attributes\":{\"callback\":null,\"column_names\":[\"height\",\"color\",\"width\",\"fill_alpha\",\"x\",\"y\",\"line_alpha\",\"line_color\",\"label\"],\"data\":{\"chart_index\":[{\"index\":\"026-005-0005\"}],\"color\":[\"#f22c40\"],\"fill_alpha\":[0.8],\"height\":[0.625],\"index\":[\"026-005-0005\"],\"label\":[{\"index\":\"026-005-0005\"}],\"line_alpha\":[1.0],\"line_color\":[\"white\"],\"width\":[0.8],\"x\":[\"026-005-0005\"],\"y\":[0.3125]}},\"id\":\"2e24aae1-d734-43f4-b85c-475fb76831b5\",\"type\":\"ColumnDataSource\"},{\"attributes\":{\"formatter\":{\"id\":\"94f450b1-27bb-4bc4-b220-9744bce65f10\",\"type\":\"CategoricalTickFormatter\"},\"major_label_orientation\":0.7853981633974483,\"plot\":{\"id\":\"ab95eb2e-c80c-4781-830d-cedb1401be36\",\"subtype\":\"Chart\",\"type\":\"Plot\"},\"ticker\":{\"id\":\"3a5737be-ddd1-4689-be6c-bcddecd1c952\",\"type\":\"CategoricalTicker\"}},\"id\":\"739be9e0-b9c6-4c73-b182-a93df6aee35b\",\"type\":\"CategoricalAxis\"},{\"attributes\":{},\"id\":\"417313ec-e8f1-4a71-ad9d-2bb072568c26\",\"type\":\"BasicTicker\"},{\"attributes\":{\"callback\":null,\"column_names\":[\"height\",\"color\",\"width\",\"fill_alpha\",\"x\",\"y\",\"line_alpha\",\"line_color\",\"label\"],\"data\":{\"chart_index\":[{\"index\":\"163-001-0001\"}],\"color\":[\"#f22c40\"],\"fill_alpha\":[0.8],\"height\":[0.6382978723404256],\"index\":[\"163-001-0001\"],\"label\":[{\"index\":\"163-001-0001\"}],\"line_alpha\":[1.0],\"line_color\":[\"white\"],\"width\":[0.8],\"x\":[\"163-001-0001\"],\"y\":[0.3191489361702128]}},\"id\":\"d80b4ec9-b35d-43d9-9c05-f279f59acce0\",\"type\":\"ColumnDataSource\"},{\"attributes\":{\"fill_alpha\":{\"field\":\"fill_alpha\"},\"fill_color\":{\"field\":\"color\"},\"height\":{\"field\":\"height\",\"units\":\"data\"},\"line_color\":{\"field\":\"line_color\"},\"width\":{\"field\":\"width\",\"units\":\"data\"},\"x\":{\"field\":\"x\"},\"y\":{\"field\":\"y\"}},\"id\":\"3dfc7a85-4e8e-4b8c-a3d0-11145b11202f\",\"type\":\"Rect\"},{\"attributes\":{\"callback\":null,\"column_names\":[\"height\",\"color\",\"width\",\"fill_alpha\",\"x\",\"y\",\"line_alpha\",\"line_color\",\"label\"],\"data\":{\"chart_index\":[{\"index\":\"160-002-0001\"}],\"color\":[\"#f22c40\"],\"fill_alpha\":[0.8],\"height\":[0.5526315789473685],\"index\":[\"160-002-0001\"],\"label\":[{\"index\":\"160-002-0001\"}],\"line_alpha\":[1.0],\"line_color\":[\"white\"],\"width\":[0.8],\"x\":[\"160-002-0001\"],\"y\":[0.27631578947368424]}},\"id\":\"14664505-a5d3-4412-a14e-039546d8f8b5\",\"type\":\"ColumnDataSource\"},{\"attributes\":{\"callback\":null,\"column_names\":[\"height\",\"color\",\"width\",\"fill_alpha\",\"x\",\"y\",\"line_alpha\",\"line_color\",\"label\"],\"data\":{\"chart_index\":[{\"index\":\"026-007-0005\"}],\"color\":[\"#f22c40\"],\"fill_alpha\":[0.8],\"height\":[0.625],\"index\":[\"026-007-0005\"],\"label\":[{\"index\":\"026-007-0005\"}],\"line_alpha\":[1.0],\"line_color\":[\"white\"],\"width\":[0.8],\"x\":[\"026-007-0005\"],\"y\":[0.3125]}},\"id\":\"034627b3-f710-4569-a615-b65ee7596a19\",\"type\":\"ColumnDataSource\"},{\"attributes\":{\"data_source\":{\"id\":\"1bd15ac1-3203-435b-9ee9-d1ad68f5d56d\",\"type\":\"ColumnDataSource\"},\"glyph\":{\"id\":\"04e6bfc8-6370-4f1a-a69a-e08034b201fb\",\"type\":\"Rect\"},\"hover_glyph\":null,\"nonselection_glyph\":null,\"selection_glyph\":null},\"id\":\"10a7a8d8-23fc-49d7-b24f-98a14abb09ec\",\"type\":\"GlyphRenderer\"},{\"attributes\":{\"data_source\":{\"id\":\"7aa06486-a5ea-4330-9866-cbbad28774e5\",\"type\":\"ColumnDataSource\"},\"glyph\":{\"id\":\"416c74c2-14d9-4eb6-be06-1c5b599831d4\",\"type\":\"Rect\"},\"hover_glyph\":null,\"nonselection_glyph\":null,\"selection_glyph\":null},\"id\":\"d4cfdb6d-87ec-499c-bdbc-78f74278fca9\",\"type\":\"GlyphRenderer\"},{\"attributes\":{\"data_source\":{\"id\":\"341539e6-ceaf-4ea8-82f3-cf17afb244af\",\"type\":\"ColumnDataSource\"},\"glyph\":{\"id\":\"1af97c29-1d22-41b3-a3a2-257012c5b3b4\",\"type\":\"Rect\"},\"hover_glyph\":null,\"nonselection_glyph\":null,\"selection_glyph\":null},\"id\":\"fded0aee-7a79-42fd-a5aa-d971638b58a7\",\"type\":\"GlyphRenderer\"},{\"attributes\":{\"data_source\":{\"id\":\"e5305740-598a-4f58-abf2-c6285bd8e207\",\"type\":\"ColumnDataSource\"},\"glyph\":{\"id\":\"7082bd31-c755-437e-9c34-fc8d6ae2b73f\",\"type\":\"Rect\"},\"hover_glyph\":null,\"nonselection_glyph\":null,\"selection_glyph\":null},\"id\":\"472d7185-c1c4-435c-8263-8284fd2390b6\",\"type\":\"GlyphRenderer\"},{\"attributes\":{\"data_source\":{\"id\":\"c16e81da-e6cc-4f9f-9d1d-99488aa29bf2\",\"type\":\"ColumnDataSource\"},\"glyph\":{\"id\":\"0e8656e5-083c-4792-943e-78fb353f987c\",\"type\":\"Rect\"},\"hover_glyph\":null,\"nonselection_glyph\":null,\"selection_glyph\":null},\"id\":\"c5539857-5860-4ef8-9611-4801a33e484a\",\"type\":\"GlyphRenderer\"},{\"attributes\":{\"callback\":null,\"column_names\":[\"height\",\"color\",\"width\",\"fill_alpha\",\"x\",\"y\",\"line_alpha\",\"line_color\",\"label\"],\"data\":{\"chart_index\":[{\"index\":\"026-002-0004\"}],\"color\":[\"#f22c40\"],\"fill_alpha\":[0.8],\"height\":[0.625],\"index\":[\"026-002-0004\"],\"label\":[{\"index\":\"026-002-0004\"}],\"line_alpha\":[1.0],\"line_color\":[\"white\"],\"width\":[0.8],\"x\":[\"026-002-0004\"],\"y\":[0.3125]}},\"id\":\"c16e81da-e6cc-4f9f-9d1d-99488aa29bf2\",\"type\":\"ColumnDataSource\"},{\"attributes\":{\"fill_alpha\":{\"field\":\"fill_alpha\"},\"fill_color\":{\"field\":\"color\"},\"height\":{\"field\":\"height\",\"units\":\"data\"},\"line_color\":{\"field\":\"line_color\"},\"width\":{\"field\":\"width\",\"units\":\"data\"},\"x\":{\"field\":\"x\"},\"y\":{\"field\":\"y\"}},\"id\":\"b950e796-0cd2-49ff-a685-bf208cac787d\",\"type\":\"Rect\"},{\"attributes\":{\"fill_alpha\":{\"field\":\"fill_alpha\"},\"fill_color\":{\"field\":\"color\"},\"height\":{\"field\":\"height\",\"units\":\"data\"},\"line_color\":{\"field\":\"line_color\"},\"width\":{\"field\":\"width\",\"units\":\"data\"},\"x\":{\"field\":\"x\"},\"y\":{\"field\":\"y\"}},\"id\":\"70c9182b-9de7-49fb-8cde-34d94bae750f\",\"type\":\"Rect\"},{\"attributes\":{\"data_source\":{\"id\":\"7d7bf4b8-a227-4382-8539-f68e309a9b09\",\"type\":\"ColumnDataSource\"},\"glyph\":{\"id\":\"73375b78-38a0-47d5-a927-77160d4a3fcf\",\"type\":\"Rect\"},\"hover_glyph\":null,\"nonselection_glyph\":null,\"selection_glyph\":null},\"id\":\"bce18ce3-7876-47a4-98cf-ee29d7746da9\",\"type\":\"GlyphRenderer\"},{\"attributes\":{\"fill_alpha\":{\"field\":\"fill_alpha\"},\"fill_color\":{\"field\":\"color\"},\"height\":{\"field\":\"height\",\"units\":\"data\"},\"line_color\":{\"field\":\"line_color\"},\"width\":{\"field\":\"width\",\"units\":\"data\"},\"x\":{\"field\":\"x\"},\"y\":{\"field\":\"y\"}},\"id\":\"164f8b46-acc0-4732-9163-4fdd51c84ad9\",\"type\":\"Rect\"},{\"attributes\":{\"data_source\":{\"id\":\"907f4e4d-71ef-47d0-8e92-c09c7686bbd1\",\"type\":\"ColumnDataSource\"},\"glyph\":{\"id\":\"b8fac3c2-026f-4d92-af13-f8dc09a830b8\",\"type\":\"Rect\"},\"hover_glyph\":null,\"nonselection_glyph\":null,\"selection_glyph\":null},\"id\":\"a4608fbe-392f-420d-acfe-12d4c78e1af6\",\"type\":\"GlyphRenderer\"},{\"attributes\":{\"fill_alpha\":{\"field\":\"fill_alpha\"},\"fill_color\":{\"field\":\"color\"},\"height\":{\"field\":\"height\",\"units\":\"data\"},\"line_color\":{\"field\":\"line_color\"},\"width\":{\"field\":\"width\",\"units\":\"data\"},\"x\":{\"field\":\"x\"},\"y\":{\"field\":\"y\"}},\"id\":\"bdce77e7-9c2d-4219-b094-4d6d3d31a322\",\"type\":\"Rect\"},{\"attributes\":{\"callback\":null,\"column_names\":[\"height\",\"color\",\"width\",\"fill_alpha\",\"x\",\"y\",\"line_alpha\",\"line_color\",\"label\"],\"data\":{\"chart_index\":[{\"index\":\"026-015-0004\"}],\"color\":[\"#f22c40\"],\"fill_alpha\":[0.8],\"height\":[0.625],\"index\":[\"026-015-0004\"],\"label\":[{\"index\":\"026-015-0004\"}],\"line_alpha\":[1.0],\"line_color\":[\"white\"],\"width\":[0.8],\"x\":[\"026-015-0004\"],\"y\":[0.3125]}},\"id\":\"98881ec1-81fd-4b9f-9a2e-f2fb54777df2\",\"type\":\"ColumnDataSource\"},{\"attributes\":{\"callback\":null,\"column_names\":[\"height\",\"color\",\"width\",\"fill_alpha\",\"x\",\"y\",\"line_alpha\",\"line_color\",\"label\"],\"data\":{\"chart_index\":[{\"index\":\"026-004-0005\"}],\"color\":[\"#f22c40\"],\"fill_alpha\":[0.8],\"height\":[0.625],\"index\":[\"026-004-0005\"],\"label\":[{\"index\":\"026-004-0005\"}],\"line_alpha\":[1.0],\"line_color\":[\"white\"],\"width\":[0.8],\"x\":[\"026-004-0005\"],\"y\":[0.3125]}},\"id\":\"6102ba3b-c6ec-499e-bb32-7f71dc3d4365\",\"type\":\"ColumnDataSource\"},{\"attributes\":{\"callback\":null,\"column_names\":[\"height\",\"color\",\"width\",\"fill_alpha\",\"x\",\"y\",\"line_alpha\",\"line_color\",\"label\"],\"data\":{\"chart_index\":[{\"index\":\"026-006-0005\"}],\"color\":[\"#f22c40\"],\"fill_alpha\":[0.8],\"height\":[0.625],\"index\":[\"026-006-0005\"],\"label\":[{\"index\":\"026-006-0005\"}],\"line_alpha\":[1.0],\"line_color\":[\"white\"],\"width\":[0.8],\"x\":[\"026-006-0005\"],\"y\":[0.3125]}},\"id\":\"21e7f1ab-b05c-4a1c-99e4-c5307419bbd3\",\"type\":\"ColumnDataSource\"},{\"attributes\":{\"fill_alpha\":{\"field\":\"fill_alpha\"},\"fill_color\":{\"field\":\"color\"},\"height\":{\"field\":\"height\",\"units\":\"data\"},\"line_color\":{\"field\":\"line_color\"},\"width\":{\"field\":\"width\",\"units\":\"data\"},\"x\":{\"field\":\"x\"},\"y\":{\"field\":\"y\"}},\"id\":\"33b7c8c9-fb84-48ad-b838-371244f48187\",\"type\":\"Rect\"},{\"attributes\":{\"callback\":null,\"column_names\":[\"height\",\"color\",\"width\",\"fill_alpha\",\"x\",\"y\",\"line_alpha\",\"line_color\",\"label\"],\"data\":{\"chart_index\":[{\"index\":\"026-003-0005\"}],\"color\":[\"#f22c40\"],\"fill_alpha\":[0.8],\"height\":[0.625],\"index\":[\"026-003-0005\"],\"label\":[{\"index\":\"026-003-0005\"}],\"line_alpha\":[1.0],\"line_color\":[\"white\"],\"width\":[0.8],\"x\":[\"026-003-0005\"],\"y\":[0.3125]}},\"id\":\"dc78d60f-354a-432a-8c15-41bd52c5ad13\",\"type\":\"ColumnDataSource\"},{\"attributes\":{\"callback\":null,\"column_names\":[\"height\",\"color\",\"width\",\"fill_alpha\",\"x\",\"y\",\"line_alpha\",\"line_color\",\"label\"],\"data\":{\"chart_index\":[{\"index\":\"026-014-0005\"}],\"color\":[\"#f22c40\"],\"fill_alpha\":[0.8],\"height\":[0.625],\"index\":[\"026-014-0005\"],\"label\":[{\"index\":\"026-014-0005\"}],\"line_alpha\":[1.0],\"line_color\":[\"white\"],\"width\":[0.8],\"x\":[\"026-014-0005\"],\"y\":[0.3125]}},\"id\":\"1b2f624b-2c8e-4df3-b7dd-b063471b8f33\",\"type\":\"ColumnDataSource\"},{\"attributes\":{\"fill_alpha\":{\"field\":\"fill_alpha\"},\"fill_color\":{\"field\":\"color\"},\"height\":{\"field\":\"height\",\"units\":\"data\"},\"line_color\":{\"field\":\"line_color\"},\"width\":{\"field\":\"width\",\"units\":\"data\"},\"x\":{\"field\":\"x\"},\"y\":{\"field\":\"y\"}},\"id\":\"9e1030ae-47ec-4d92-98a7-58afb3d5b5d6\",\"type\":\"Rect\"},{\"attributes\":{\"fill_alpha\":{\"field\":\"fill_alpha\"},\"fill_color\":{\"field\":\"color\"},\"height\":{\"field\":\"height\",\"units\":\"data\"},\"line_color\":{\"field\":\"line_color\"},\"width\":{\"field\":\"width\",\"units\":\"data\"},\"x\":{\"field\":\"x\"},\"y\":{\"field\":\"y\"}},\"id\":\"6a066f81-4cd0-4664-8e77-314ad386285e\",\"type\":\"Rect\"},{\"attributes\":{\"fill_alpha\":{\"field\":\"fill_alpha\"},\"fill_color\":{\"field\":\"color\"},\"height\":{\"field\":\"height\",\"units\":\"data\"},\"line_color\":{\"field\":\"line_color\"},\"width\":{\"field\":\"width\",\"units\":\"data\"},\"x\":{\"field\":\"x\"},\"y\":{\"field\":\"y\"}},\"id\":\"7082bd31-c755-437e-9c34-fc8d6ae2b73f\",\"type\":\"Rect\"},{\"attributes\":{\"callback\":null,\"column_names\":[\"height\",\"color\",\"width\",\"fill_alpha\",\"x\",\"y\",\"line_alpha\",\"line_color\",\"label\"],\"data\":{\"chart_index\":[{\"index\":\"026-001-0004\"}],\"color\":[\"#f22c40\"],\"fill_alpha\":[0.8],\"height\":[0.5],\"index\":[\"026-001-0004\"],\"label\":[{\"index\":\"026-001-0004\"}],\"line_alpha\":[1.0],\"line_color\":[\"white\"],\"width\":[0.8],\"x\":[\"026-001-0004\"],\"y\":[0.25]}},\"id\":\"e5305740-598a-4f58-abf2-c6285bd8e207\",\"type\":\"ColumnDataSource\"},{\"attributes\":{\"fill_alpha\":{\"field\":\"fill_alpha\"},\"fill_color\":{\"field\":\"color\"},\"height\":{\"field\":\"height\",\"units\":\"data\"},\"line_color\":{\"field\":\"line_color\"},\"width\":{\"field\":\"width\",\"units\":\"data\"},\"x\":{\"field\":\"x\"},\"y\":{\"field\":\"y\"}},\"id\":\"d66df1a1-4e1a-4798-82eb-5e09ac7ac5cc\",\"type\":\"Rect\"},{\"attributes\":{\"callback\":null,\"column_names\":[\"height\",\"color\",\"width\",\"fill_alpha\",\"x\",\"y\",\"line_alpha\",\"line_color\",\"label\"],\"data\":{\"chart_index\":[{\"index\":\"026-006-0004\"}],\"color\":[\"#f22c40\"],\"fill_alpha\":[0.8],\"height\":[0.625],\"index\":[\"026-006-0004\"],\"label\":[{\"index\":\"026-006-0004\"}],\"line_alpha\":[1.0],\"line_color\":[\"white\"],\"width\":[0.8],\"x\":[\"026-006-0004\"],\"y\":[0.3125]}},\"id\":\"1bd15ac1-3203-435b-9ee9-d1ad68f5d56d\",\"type\":\"ColumnDataSource\"},{\"attributes\":{\"callback\":null,\"column_names\":[\"height\",\"color\",\"width\",\"fill_alpha\",\"x\",\"y\",\"line_alpha\",\"line_color\",\"label\"],\"data\":{\"chart_index\":[{\"index\":\"026-002-0005\"}],\"color\":[\"#f22c40\"],\"fill_alpha\":[0.8],\"height\":[0.625],\"index\":[\"026-002-0005\"],\"label\":[{\"index\":\"026-002-0005\"}],\"line_alpha\":[1.0],\"line_color\":[\"white\"],\"width\":[0.8],\"x\":[\"026-002-0005\"],\"y\":[0.3125]}},\"id\":\"7d12907a-e98d-40fd-9921-c7576110f7f3\",\"type\":\"ColumnDataSource\"},{\"attributes\":{\"callback\":null,\"column_names\":[\"height\",\"color\",\"width\",\"fill_alpha\",\"x\",\"y\",\"line_alpha\",\"line_color\",\"label\"],\"data\":{\"chart_index\":[{\"index\":\"026-016-0004\"}],\"color\":[\"#f22c40\"],\"fill_alpha\":[0.8],\"height\":[0.6666666666666666],\"index\":[\"026-016-0004\"],\"label\":[{\"index\":\"026-016-0004\"}],\"line_alpha\":[1.0],\"line_color\":[\"white\"],\"width\":[0.8],\"x\":[\"026-016-0004\"],\"y\":[0.3333333333333333]}},\"id\":\"6f878f05-a1c4-4427-8e62-fc637cc9d053\",\"type\":\"ColumnDataSource\"},{\"attributes\":{\"plot\":{\"id\":\"ab95eb2e-c80c-4781-830d-cedb1401be36\",\"subtype\":\"Chart\",\"type\":\"Plot\"}},\"id\":\"ae31c48d-65dd-42e9-b127-2f6fead80dfa\",\"type\":\"WheelZoomTool\"},{\"attributes\":{\"plot\":{\"id\":\"ab95eb2e-c80c-4781-830d-cedb1401be36\",\"subtype\":\"Chart\",\"type\":\"Plot\"}},\"id\":\"c8052003-bb83-4604-8384-d522fa200c50\",\"type\":\"SaveTool\"},{\"attributes\":{\"callback\":null,\"column_names\":[\"height\",\"color\",\"width\",\"fill_alpha\",\"x\",\"y\",\"line_alpha\",\"line_color\",\"label\"],\"data\":{\"chart_index\":[{\"index\":\"026-005-0004\"}],\"color\":[\"#f22c40\"],\"fill_alpha\":[0.8],\"height\":[0.625],\"index\":[\"026-005-0004\"],\"label\":[{\"index\":\"026-005-0004\"}],\"line_alpha\":[1.0],\"line_color\":[\"white\"],\"width\":[0.8],\"x\":[\"026-005-0004\"],\"y\":[0.3125]}},\"id\":\"1e5fa245-9da6-40a6-a13b-c576e4ad4ec5\",\"type\":\"ColumnDataSource\"},{\"attributes\":{\"callback\":null,\"end\":0.7},\"id\":\"a4d136b2-1178-4dac-af9f-26724e870b6c\",\"type\":\"Range1d\"},{\"attributes\":{\"fill_alpha\":{\"field\":\"fill_alpha\"},\"fill_color\":{\"field\":\"color\"},\"height\":{\"field\":\"height\",\"units\":\"data\"},\"line_color\":{\"field\":\"line_color\"},\"width\":{\"field\":\"width\",\"units\":\"data\"},\"x\":{\"field\":\"x\"},\"y\":{\"field\":\"y\"}},\"id\":\"d83d0b64-1459-4725-b0e4-990d4318246c\",\"type\":\"Rect\"},{\"attributes\":{\"callback\":null,\"factors\":[\"001-004-0001\",\"004-011-0004\",\"008-021-0010\",\"026-001-0004\",\"026-001-0005\",\"026-002-0004\",\"026-002-0005\",\"026-003-0004\",\"026-003-0005\",\"026-004-0004\",\"026-004-0005\",\"026-005-0004\",\"026-005-0005\",\"026-006-0004\",\"026-006-0005\",\"026-007-0004\",\"026-007-0005\",\"026-008-0004\",\"026-008-0005\",\"026-009-0004\",\"026-009-0005\",\"026-010-0004\",\"026-010-0005\",\"026-011-0004\",\"026-011-0005\",\"026-012-0004\",\"026-012-0005\",\"026-013-0004\",\"026-013-0005\",\"026-014-0004\",\"026-014-0005\",\"026-015-0004\",\"026-015-0005\",\"026-016-0004\",\"026-016-0005\",\"026-017-0001\",\"026-018-0001\",\"160-001-0001\",\"160-002-0001\",\"160-003-0001\",\"161-006-0001\",\"162-001-0001\",\"163-001-0001\",\"164-001-0001\"]},\"id\":\"d188a7c4-402c-4a91-b54f-6ee5d11f1609\",\"type\":\"FactorRange\"},{\"attributes\":{\"active_drag\":\"auto\",\"active_scroll\":\"auto\",\"active_tap\":\"auto\",\"tools\":[{\"id\":\"5195772f-814e-4480-b947-bedc593538be\",\"type\":\"PanTool\"},{\"id\":\"ae31c48d-65dd-42e9-b127-2f6fead80dfa\",\"type\":\"WheelZoomTool\"},{\"id\":\"749fd6cd-a025-4fda-82a4-aa860a5167ea\",\"type\":\"BoxZoomTool\"},{\"id\":\"c8052003-bb83-4604-8384-d522fa200c50\",\"type\":\"SaveTool\"},{\"id\":\"28a83170-2a5b-47f4-988a-3a1a0cb87641\",\"type\":\"ResetTool\"},{\"id\":\"58f092bc-baf1-4bab-9efb-b603fdce6790\",\"type\":\"HelpTool\"}]},\"id\":\"d980fb17-bb8d-481b-8b43-78a5498b3b2a\",\"type\":\"Toolbar\"},{\"attributes\":{\"callback\":null,\"column_names\":[\"height\",\"color\",\"width\",\"fill_alpha\",\"x\",\"y\",\"line_alpha\",\"line_color\",\"label\"],\"data\":{\"chart_index\":[{\"index\":\"164-001-0001\"}],\"color\":[\"#f22c40\"],\"fill_alpha\":[0.8],\"height\":[0.6382978723404256],\"index\":[\"164-001-0001\"],\"label\":[{\"index\":\"164-001-0001\"}],\"line_alpha\":[1.0],\"line_color\":[\"white\"],\"width\":[0.8],\"x\":[\"164-001-0001\"],\"y\":[0.3191489361702128]}},\"id\":\"42fe38a0-9b0c-461c-b35b-6f28e925adaf\",\"type\":\"ColumnDataSource\"},{\"attributes\":{\"data_source\":{\"id\":\"9d2d0d5b-8e56-4e79-8f81-c07e5dd3fe74\",\"type\":\"ColumnDataSource\"},\"glyph\":{\"id\":\"e1fa5d5e-a6ba-459f-8d34-1a500e5311a4\",\"type\":\"Rect\"},\"hover_glyph\":null,\"nonselection_glyph\":null,\"selection_glyph\":null},\"id\":\"216dd70d-9df4-4296-98c7-9c8e27511e5f\",\"type\":\"GlyphRenderer\"},{\"attributes\":{\"fill_alpha\":{\"field\":\"fill_alpha\"},\"fill_color\":{\"field\":\"color\"},\"height\":{\"field\":\"height\",\"units\":\"data\"},\"line_color\":{\"field\":\"line_color\"},\"width\":{\"field\":\"width\",\"units\":\"data\"},\"x\":{\"field\":\"x\"},\"y\":{\"field\":\"y\"}},\"id\":\"b3d03a7d-f5bf-4711-8d4c-043ddcaaca02\",\"type\":\"Rect\"},{\"attributes\":{\"data_source\":{\"id\":\"bf906fa5-5724-43e2-933e-4f82ff114b95\",\"type\":\"ColumnDataSource\"},\"glyph\":{\"id\":\"fe33e9fa-d669-489d-a71d-fcfdd5f0bba4\",\"type\":\"Rect\"},\"hover_glyph\":null,\"nonselection_glyph\":null,\"selection_glyph\":null},\"id\":\"af7d8e64-ea8d-4f81-879d-552acec0b5cb\",\"type\":\"GlyphRenderer\"},{\"attributes\":{\"overlay\":{\"id\":\"a3268d8d-8c02-4327-a8eb-a84b5b52b801\",\"type\":\"BoxAnnotation\"},\"plot\":{\"id\":\"ab95eb2e-c80c-4781-830d-cedb1401be36\",\"subtype\":\"Chart\",\"type\":\"Plot\"}},\"id\":\"749fd6cd-a025-4fda-82a4-aa860a5167ea\",\"type\":\"BoxZoomTool\"},{\"attributes\":{\"fill_alpha\":{\"field\":\"fill_alpha\"},\"fill_color\":{\"field\":\"color\"},\"height\":{\"field\":\"height\",\"units\":\"data\"},\"line_color\":{\"field\":\"line_color\"},\"width\":{\"field\":\"width\",\"units\":\"data\"},\"x\":{\"field\":\"x\"},\"y\":{\"field\":\"y\"}},\"id\":\"f2d14b84-76a2-4421-b6ad-47e7fb6e946b\",\"type\":\"Rect\"},{\"attributes\":{\"callback\":null,\"column_names\":[\"height\",\"color\",\"width\",\"fill_alpha\",\"x\",\"y\",\"line_alpha\",\"line_color\",\"label\"],\"data\":{\"chart_index\":[{\"index\":\"026-008-0004\"}],\"color\":[\"#f22c40\"],\"fill_alpha\":[0.8],\"height\":[0.625],\"index\":[\"026-008-0004\"],\"label\":[{\"index\":\"026-008-0004\"}],\"line_alpha\":[1.0],\"line_color\":[\"white\"],\"width\":[0.8],\"x\":[\"026-008-0004\"],\"y\":[0.3125]}},\"id\":\"6400dcb2-79c1-4770-9817-4a665582ddb6\",\"type\":\"ColumnDataSource\"},{\"attributes\":{\"fill_alpha\":{\"field\":\"fill_alpha\"},\"fill_color\":{\"field\":\"color\"},\"height\":{\"field\":\"height\",\"units\":\"data\"},\"line_color\":{\"field\":\"line_color\"},\"width\":{\"field\":\"width\",\"units\":\"data\"},\"x\":{\"field\":\"x\"},\"y\":{\"field\":\"y\"}},\"id\":\"366f292f-9eb3-497c-acc7-74c9b118798b\",\"type\":\"Rect\"},{\"attributes\":{\"fill_alpha\":{\"field\":\"fill_alpha\"},\"fill_color\":{\"field\":\"color\"},\"height\":{\"field\":\"height\",\"units\":\"data\"},\"line_color\":{\"field\":\"line_color\"},\"width\":{\"field\":\"width\",\"units\":\"data\"},\"x\":{\"field\":\"x\"},\"y\":{\"field\":\"y\"}},\"id\":\"7b23975d-b83d-4c35-8b1f-ba5ed5afb904\",\"type\":\"Rect\"},{\"attributes\":{\"data_source\":{\"id\":\"e14fe971-5292-4f9d-8837-7fb7904013f6\",\"type\":\"ColumnDataSource\"},\"glyph\":{\"id\":\"ec304b2f-4666-4d37-a7e6-56495bd9e4dd\",\"type\":\"Rect\"},\"hover_glyph\":null,\"nonselection_glyph\":null,\"selection_glyph\":null},\"id\":\"9832767b-c45d-443d-9fdd-99aec5bc2875\",\"type\":\"GlyphRenderer\"},{\"attributes\":{\"fill_alpha\":{\"field\":\"fill_alpha\"},\"fill_color\":{\"field\":\"color\"},\"height\":{\"field\":\"height\",\"units\":\"data\"},\"line_color\":{\"field\":\"line_color\"},\"width\":{\"field\":\"width\",\"units\":\"data\"},\"x\":{\"field\":\"x\"},\"y\":{\"field\":\"y\"}},\"id\":\"aa4d6058-41f7-4c3c-bce4-2fe8bb74a2f7\",\"type\":\"Rect\"},{\"attributes\":{\"fill_alpha\":{\"field\":\"fill_alpha\"},\"fill_color\":{\"field\":\"color\"},\"height\":{\"field\":\"height\",\"units\":\"data\"},\"line_color\":{\"field\":\"line_color\"},\"width\":{\"field\":\"width\",\"units\":\"data\"},\"x\":{\"field\":\"x\"},\"y\":{\"field\":\"y\"}},\"id\":\"6d83be63-2297-4dc0-9ce0-d70e2adf5d5d\",\"type\":\"Rect\"},{\"attributes\":{\"data_source\":{\"id\":\"229dce0e-c461-44a3-8256-9a28522a5fa0\",\"type\":\"ColumnDataSource\"},\"glyph\":{\"id\":\"d66df1a1-4e1a-4798-82eb-5e09ac7ac5cc\",\"type\":\"Rect\"},\"hover_glyph\":null,\"nonselection_glyph\":null,\"selection_glyph\":null},\"id\":\"ecb18935-671e-4331-957e-1fe2b71c81f6\",\"type\":\"GlyphRenderer\"},{\"attributes\":{\"fill_alpha\":{\"field\":\"fill_alpha\"},\"fill_color\":{\"field\":\"color\"},\"height\":{\"field\":\"height\",\"units\":\"data\"},\"line_color\":{\"field\":\"line_color\"},\"width\":{\"field\":\"width\",\"units\":\"data\"},\"x\":{\"field\":\"x\"},\"y\":{\"field\":\"y\"}},\"id\":\"b7b58b5a-dc63-4a14-bb0d-a9052bf2db02\",\"type\":\"Rect\"},{\"attributes\":{\"fill_alpha\":{\"field\":\"fill_alpha\"},\"fill_color\":{\"field\":\"color\"},\"height\":{\"field\":\"height\",\"units\":\"data\"},\"line_color\":{\"field\":\"line_color\"},\"width\":{\"field\":\"width\",\"units\":\"data\"},\"x\":{\"field\":\"x\"},\"y\":{\"field\":\"y\"}},\"id\":\"5d9345a6-4820-4cab-a730-a18f98b4fed7\",\"type\":\"Rect\"},{\"attributes\":{\"data_source\":{\"id\":\"248b019e-81b8-467f-b0c1-a4a78a2c2547\",\"type\":\"ColumnDataSource\"},\"glyph\":{\"id\":\"f68b9646-34f1-4e31-a956-93207710e2ca\",\"type\":\"Rect\"},\"hover_glyph\":null,\"nonselection_glyph\":null,\"selection_glyph\":null},\"id\":\"c69496dd-708e-452e-8399-4ec880c2c9b1\",\"type\":\"GlyphRenderer\"},{\"attributes\":{\"fill_alpha\":{\"field\":\"fill_alpha\"},\"fill_color\":{\"field\":\"color\"},\"height\":{\"field\":\"height\",\"units\":\"data\"},\"line_color\":{\"field\":\"line_color\"},\"width\":{\"field\":\"width\",\"units\":\"data\"},\"x\":{\"field\":\"x\"},\"y\":{\"field\":\"y\"}},\"id\":\"2e0641b9-de35-47f7-8761-07e1b6346fc3\",\"type\":\"Rect\"},{\"attributes\":{\"callback\":null,\"column_names\":[\"height\",\"color\",\"width\",\"fill_alpha\",\"x\",\"y\",\"line_alpha\",\"line_color\",\"label\"],\"data\":{\"chart_index\":[{\"index\":\"004-011-0004\"}],\"color\":[\"#f22c40\"],\"fill_alpha\":[0.8],\"height\":[0.3333333333333333],\"index\":[\"004-011-0004\"],\"label\":[{\"index\":\"004-011-0004\"}],\"line_alpha\":[1.0],\"line_color\":[\"white\"],\"width\":[0.8],\"x\":[\"004-011-0004\"],\"y\":[0.16666666666666666]}},\"id\":\"9a74b4a6-f236-4e7a-b105-2a901a238ee4\",\"type\":\"ColumnDataSource\"},{\"attributes\":{\"fill_alpha\":{\"field\":\"fill_alpha\"},\"fill_color\":{\"field\":\"color\"},\"height\":{\"field\":\"height\",\"units\":\"data\"},\"line_color\":{\"field\":\"line_color\"},\"width\":{\"field\":\"width\",\"units\":\"data\"},\"x\":{\"field\":\"x\"},\"y\":{\"field\":\"y\"}},\"id\":\"35729717-5271-4b6e-8741-417e970a9f14\",\"type\":\"Rect\"},{\"attributes\":{\"fill_alpha\":{\"field\":\"fill_alpha\"},\"fill_color\":{\"field\":\"color\"},\"height\":{\"field\":\"height\",\"units\":\"data\"},\"line_color\":{\"field\":\"line_color\"},\"width\":{\"field\":\"width\",\"units\":\"data\"},\"x\":{\"field\":\"x\"},\"y\":{\"field\":\"y\"}},\"id\":\"416c74c2-14d9-4eb6-be06-1c5b599831d4\",\"type\":\"Rect\"},{\"attributes\":{\"data_source\":{\"id\":\"6400dcb2-79c1-4770-9817-4a665582ddb6\",\"type\":\"ColumnDataSource\"},\"glyph\":{\"id\":\"b7b58b5a-dc63-4a14-bb0d-a9052bf2db02\",\"type\":\"Rect\"},\"hover_glyph\":null,\"nonselection_glyph\":null,\"selection_glyph\":null},\"id\":\"776e7eb7-680a-46ab-930a-376650bd4c42\",\"type\":\"GlyphRenderer\"},{\"attributes\":{\"fill_alpha\":{\"field\":\"fill_alpha\"},\"fill_color\":{\"field\":\"color\"},\"height\":{\"field\":\"height\",\"units\":\"data\"},\"line_color\":{\"field\":\"line_color\"},\"width\":{\"field\":\"width\",\"units\":\"data\"},\"x\":{\"field\":\"x\"},\"y\":{\"field\":\"y\"}},\"id\":\"ff0dbb53-a18b-4cc4-bd3c-e1c94222508f\",\"type\":\"Rect\"},{\"attributes\":{\"axis_label\":\"Sum( Numeric_Status )\",\"formatter\":{\"id\":\"cdb8cda0-6180-4ea1-9cc0-285a346a9872\",\"type\":\"BasicTickFormatter\"},\"plot\":{\"id\":\"ab95eb2e-c80c-4781-830d-cedb1401be36\",\"subtype\":\"Chart\",\"type\":\"Plot\"},\"ticker\":{\"id\":\"417313ec-e8f1-4a71-ad9d-2bb072568c26\",\"type\":\"BasicTicker\"}},\"id\":\"a3336492-1802-4910-bffa-0fdd00bb7e37\",\"type\":\"LinearAxis\"},{\"attributes\":{\"fill_alpha\":{\"field\":\"fill_alpha\"},\"fill_color\":{\"field\":\"color\"},\"height\":{\"field\":\"height\",\"units\":\"data\"},\"line_color\":{\"field\":\"line_color\"},\"width\":{\"field\":\"width\",\"units\":\"data\"},\"x\":{\"field\":\"x\"},\"y\":{\"field\":\"y\"}},\"id\":\"35ece205-62fd-40f4-b4d9-f482e497d03f\",\"type\":\"Rect\"},{\"attributes\":{\"data_source\":{\"id\":\"ba5e3b0d-c856-4082-bb79-6123d14336db\",\"type\":\"ColumnDataSource\"},\"glyph\":{\"id\":\"a7546132-252e-47aa-8c12-e2485f770586\",\"type\":\"Rect\"},\"hover_glyph\":null,\"nonselection_glyph\":null,\"selection_glyph\":null},\"id\":\"0f3f5aab-1980-4afc-a7bc-8d73257987f7\",\"type\":\"GlyphRenderer\"},{\"attributes\":{\"callback\":null,\"column_names\":[\"height\",\"color\",\"width\",\"fill_alpha\",\"x\",\"y\",\"line_alpha\",\"line_color\",\"label\"],\"data\":{\"chart_index\":[{\"index\":\"026-008-0005\"}],\"color\":[\"#f22c40\"],\"fill_alpha\":[0.8],\"height\":[0.625],\"index\":[\"026-008-0005\"],\"label\":[{\"index\":\"026-008-0005\"}],\"line_alpha\":[1.0],\"line_color\":[\"white\"],\"width\":[0.8],\"x\":[\"026-008-0005\"],\"y\":[0.3125]}},\"id\":\"f0f5fbca-d66f-4c4c-801b-6c72a229772e\",\"type\":\"ColumnDataSource\"},{\"attributes\":{\"data_source\":{\"id\":\"1b2f624b-2c8e-4df3-b7dd-b063471b8f33\",\"type\":\"ColumnDataSource\"},\"glyph\":{\"id\":\"d83d0b64-1459-4725-b0e4-990d4318246c\",\"type\":\"Rect\"},\"hover_glyph\":null,\"nonselection_glyph\":null,\"selection_glyph\":null},\"id\":\"9a3803c3-0d5c-48f2-8043-91412c3654b0\",\"type\":\"GlyphRenderer\"},{\"attributes\":{\"data_source\":{\"id\":\"21e7f1ab-b05c-4a1c-99e4-c5307419bbd3\",\"type\":\"ColumnDataSource\"},\"glyph\":{\"id\":\"86da4ce9-baee-438a-b852-f7cc649528f7\",\"type\":\"Rect\"},\"hover_glyph\":null,\"nonselection_glyph\":null,\"selection_glyph\":null},\"id\":\"a9488df9-8ef3-4d6b-a0ab-dfbb5809c071\",\"type\":\"GlyphRenderer\"},{\"attributes\":{\"fill_alpha\":{\"field\":\"fill_alpha\"},\"fill_color\":{\"field\":\"color\"},\"height\":{\"field\":\"height\",\"units\":\"data\"},\"line_color\":{\"field\":\"line_color\"},\"width\":{\"field\":\"width\",\"units\":\"data\"},\"x\":{\"field\":\"x\"},\"y\":{\"field\":\"y\"}},\"id\":\"86da4ce9-baee-438a-b852-f7cc649528f7\",\"type\":\"Rect\"},{\"attributes\":{\"callback\":null,\"column_names\":[\"height\",\"color\",\"width\",\"fill_alpha\",\"x\",\"y\",\"line_alpha\",\"line_color\",\"label\"],\"data\":{\"chart_index\":[{\"index\":\"008-021-0010\"}],\"color\":[\"#f22c40\"],\"fill_alpha\":[0.8],\"height\":[0.5555555555555556],\"index\":[\"008-021-0010\"],\"label\":[{\"index\":\"008-021-0010\"}],\"line_alpha\":[1.0],\"line_color\":[\"white\"],\"width\":[0.8],\"x\":[\"008-021-0010\"],\"y\":[0.2777777777777778]}},\"id\":\"54c0bf0c-f05a-4f06-898c-88e7164758ae\",\"type\":\"ColumnDataSource\"},{\"attributes\":{\"plot\":{\"id\":\"ab95eb2e-c80c-4781-830d-cedb1401be36\",\"subtype\":\"Chart\",\"type\":\"Plot\"}},\"id\":\"58f092bc-baf1-4bab-9efb-b603fdce6790\",\"type\":\"HelpTool\"},{\"attributes\":{\"callback\":null,\"column_names\":[\"height\",\"color\",\"width\",\"fill_alpha\",\"x\",\"y\",\"line_alpha\",\"line_color\",\"label\"],\"data\":{\"chart_index\":[{\"index\":\"026-014-0004\"}],\"color\":[\"#f22c40\"],\"fill_alpha\":[0.8],\"height\":[0.625],\"index\":[\"026-014-0004\"],\"label\":[{\"index\":\"026-014-0004\"}],\"line_alpha\":[1.0],\"line_color\":[\"white\"],\"width\":[0.8],\"x\":[\"026-014-0004\"],\"y\":[0.3125]}},\"id\":\"ba5e3b0d-c856-4082-bb79-6123d14336db\",\"type\":\"ColumnDataSource\"},{\"attributes\":{\"data_source\":{\"id\":\"14664505-a5d3-4412-a14e-039546d8f8b5\",\"type\":\"ColumnDataSource\"},\"glyph\":{\"id\":\"054dcf73-65c9-4fb3-8665-4d993fbd80b0\",\"type\":\"Rect\"},\"hover_glyph\":null,\"nonselection_glyph\":null,\"selection_glyph\":null},\"id\":\"e08a63ac-97fa-4212-866e-2edff7e96f45\",\"type\":\"GlyphRenderer\"},{\"attributes\":{\"fill_alpha\":{\"field\":\"fill_alpha\"},\"fill_color\":{\"field\":\"color\"},\"height\":{\"field\":\"height\",\"units\":\"data\"},\"line_color\":{\"field\":\"line_color\"},\"width\":{\"field\":\"width\",\"units\":\"data\"},\"x\":{\"field\":\"x\"},\"y\":{\"field\":\"y\"}},\"id\":\"fe33e9fa-d669-489d-a71d-fcfdd5f0bba4\",\"type\":\"Rect\"},{\"attributes\":{\"below\":[{\"id\":\"739be9e0-b9c6-4c73-b182-a93df6aee35b\",\"type\":\"CategoricalAxis\"}],\"left\":[{\"id\":\"a3336492-1802-4910-bffa-0fdd00bb7e37\",\"type\":\"LinearAxis\"}],\"renderers\":[{\"id\":\"a3268d8d-8c02-4327-a8eb-a84b5b52b801\",\"type\":\"BoxAnnotation\"},{\"id\":\"964185db-f5f0-4c2e-ac5f-c9d8caf6abc4\",\"type\":\"GlyphRenderer\"},{\"id\":\"535ebc28-4c86-49fc-957a-1dfb0538274f\",\"type\":\"GlyphRenderer\"},{\"id\":\"8bab8a1b-3533-432c-92f5-008fdd862ab0\",\"type\":\"GlyphRenderer\"},{\"id\":\"472d7185-c1c4-435c-8263-8284fd2390b6\",\"type\":\"GlyphRenderer\"},{\"id\":\"0fad8ef3-ff5f-433a-8f7a-5b6b74b4401e\",\"type\":\"GlyphRenderer\"},{\"id\":\"c5539857-5860-4ef8-9611-4801a33e484a\",\"type\":\"GlyphRenderer\"},{\"id\":\"bc6182b0-ea95-4527-91cc-36a1893163dc\",\"type\":\"GlyphRenderer\"},{\"id\":\"bce18ce3-7876-47a4-98cf-ee29d7746da9\",\"type\":\"GlyphRenderer\"},{\"id\":\"8fc9ea69-2eb7-4066-8d2a-da6cf99eb650\",\"type\":\"GlyphRenderer\"},{\"id\":\"c96e25ae-ba5e-417f-af40-27e27722b17c\",\"type\":\"GlyphRenderer\"},{\"id\":\"5165ffc1-007e-4837-8137-97f567acbe2a\",\"type\":\"GlyphRenderer\"},{\"id\":\"dba48916-3077-463a-b180-072aefde605d\",\"type\":\"GlyphRenderer\"},{\"id\":\"80808059-dca5-48c9-97a9-0f424ae66732\",\"type\":\"GlyphRenderer\"},{\"id\":\"10a7a8d8-23fc-49d7-b24f-98a14abb09ec\",\"type\":\"GlyphRenderer\"},{\"id\":\"a9488df9-8ef3-4d6b-a0ab-dfbb5809c071\",\"type\":\"GlyphRenderer\"},{\"id\":\"d4cfdb6d-87ec-499c-bdbc-78f74278fca9\",\"type\":\"GlyphRenderer\"},{\"id\":\"40a72c29-e2f1-433c-9684-24b6e6da3237\",\"type\":\"GlyphRenderer\"},{\"id\":\"776e7eb7-680a-46ab-930a-376650bd4c42\",\"type\":\"GlyphRenderer\"},{\"id\":\"9b919753-dafb-4e9d-ab19-6d93ea649d94\",\"type\":\"GlyphRenderer\"},{\"id\":\"216dd70d-9df4-4296-98c7-9c8e27511e5f\",\"type\":\"GlyphRenderer\"},{\"id\":\"c69496dd-708e-452e-8399-4ec880c2c9b1\",\"type\":\"GlyphRenderer\"},{\"id\":\"af7d8e64-ea8d-4f81-879d-552acec0b5cb\",\"type\":\"GlyphRenderer\"},{\"id\":\"70fcb6e5-cabc-4f92-a478-0ccbddfb5ffe\",\"type\":\"GlyphRenderer\"},{\"id\":\"71b3ab46-df70-43f2-ae4a-985b691e25b2\",\"type\":\"GlyphRenderer\"},{\"id\":\"9c2ed72c-af75-4a9a-ae3b-cfb309d39eef\",\"type\":\"GlyphRenderer\"},{\"id\":\"1ad03821-6f12-4141-914f-566076f49d59\",\"type\":\"GlyphRenderer\"},{\"id\":\"c3864cd3-8f8f-4b5b-8de5-a7e33f756c79\",\"type\":\"GlyphRenderer\"},{\"id\":\"88ee21d4-8bf0-4464-b42f-00734f1d5a5c\",\"type\":\"GlyphRenderer\"},{\"id\":\"6f8cb6f9-c3ba-4d39-bb39-62b7bc7141ee\",\"type\":\"GlyphRenderer\"},{\"id\":\"0f3f5aab-1980-4afc-a7bc-8d73257987f7\",\"type\":\"GlyphRenderer\"},{\"id\":\"9a3803c3-0d5c-48f2-8043-91412c3654b0\",\"type\":\"GlyphRenderer\"},{\"id\":\"57d03dec-d3ec-440a-b776-3d71a94523c6\",\"type\":\"GlyphRenderer\"},{\"id\":\"fded0aee-7a79-42fd-a5aa-d971638b58a7\",\"type\":\"GlyphRenderer\"},{\"id\":\"6d87ae54-9e5e-4f2f-bc71-bf0de63aadaf\",\"type\":\"GlyphRenderer\"},{\"id\":\"0cc8dc9c-9899-400b-9d75-558cb29dc422\",\"type\":\"GlyphRenderer\"},{\"id\":\"ecb18935-671e-4331-957e-1fe2b71c81f6\",\"type\":\"GlyphRenderer\"},{\"id\":\"a4608fbe-392f-420d-acfe-12d4c78e1af6\",\"type\":\"GlyphRenderer\"},{\"id\":\"a83b16ce-e6f2-43ac-8228-8ea58076e61a\",\"type\":\"GlyphRenderer\"},{\"id\":\"e08a63ac-97fa-4212-866e-2edff7e96f45\",\"type\":\"GlyphRenderer\"},{\"id\":\"c5bf1f4f-2579-4619-a4bb-7df825858038\",\"type\":\"GlyphRenderer\"},{\"id\":\"79bc9a85-9b69-423b-941a-8e55081bd85d\",\"type\":\"GlyphRenderer\"},{\"id\":\"9832767b-c45d-443d-9fdd-99aec5bc2875\",\"type\":\"GlyphRenderer\"},{\"id\":\"9be488e4-5d12-4e8c-9bd7-437b4d24e6ac\",\"type\":\"GlyphRenderer\"},{\"id\":\"6245f03e-ba80-4cba-9b4c-f19f90b1b705\",\"type\":\"GlyphRenderer\"},{\"id\":\"739be9e0-b9c6-4c73-b182-a93df6aee35b\",\"type\":\"CategoricalAxis\"},{\"id\":\"a3336492-1802-4910-bffa-0fdd00bb7e37\",\"type\":\"LinearAxis\"},{\"id\":\"971d4f2b-d8a2-413b-a198-9ca9d7b0c4f5\",\"type\":\"Grid\"}],\"title\":{\"id\":\"4b00e106-3693-4f74-9631-ccc7558e5f6c\",\"type\":\"Title\"},\"tool_events\":{\"id\":\"4be6252b-f839-45eb-bb5b-2a5b2145ccc2\",\"type\":\"ToolEvents\"},\"toolbar\":{\"id\":\"d980fb17-bb8d-481b-8b43-78a5498b3b2a\",\"type\":\"Toolbar\"},\"x_mapper_type\":\"auto\",\"x_range\":{\"id\":\"d188a7c4-402c-4a91-b54f-6ee5d11f1609\",\"type\":\"FactorRange\"},\"y_mapper_type\":\"auto\",\"y_range\":{\"id\":\"a4d136b2-1178-4dac-af9f-26724e870b6c\",\"type\":\"Range1d\"}},\"id\":\"ab95eb2e-c80c-4781-830d-cedb1401be36\",\"subtype\":\"Chart\",\"type\":\"Plot\"},{\"attributes\":{\"data_source\":{\"id\":\"6f878f05-a1c4-4427-8e62-fc637cc9d053\",\"type\":\"ColumnDataSource\"},\"glyph\":{\"id\":\"70c9182b-9de7-49fb-8cde-34d94bae750f\",\"type\":\"Rect\"},\"hover_glyph\":null,\"nonselection_glyph\":null,\"selection_glyph\":null},\"id\":\"6d87ae54-9e5e-4f2f-bc71-bf0de63aadaf\",\"type\":\"GlyphRenderer\"},{\"attributes\":{\"fill_alpha\":{\"field\":\"fill_alpha\"},\"fill_color\":{\"field\":\"color\"},\"height\":{\"field\":\"height\",\"units\":\"data\"},\"line_color\":{\"field\":\"line_color\"},\"width\":{\"field\":\"width\",\"units\":\"data\"},\"x\":{\"field\":\"x\"},\"y\":{\"field\":\"y\"}},\"id\":\"73375b78-38a0-47d5-a927-77160d4a3fcf\",\"type\":\"Rect\"},{\"attributes\":{\"data_source\":{\"id\":\"9b5f94bd-fe72-45ef-a98f-3a53211bebf6\",\"type\":\"ColumnDataSource\"},\"glyph\":{\"id\":\"2ec23558-7510-4a30-b02f-d4cad9519623\",\"type\":\"Rect\"},\"hover_glyph\":null,\"nonselection_glyph\":null,\"selection_glyph\":null},\"id\":\"71b3ab46-df70-43f2-ae4a-985b691e25b2\",\"type\":\"GlyphRenderer\"},{\"attributes\":{\"fill_alpha\":{\"field\":\"fill_alpha\"},\"fill_color\":{\"field\":\"color\"},\"height\":{\"field\":\"height\",\"units\":\"data\"},\"line_color\":{\"field\":\"line_color\"},\"width\":{\"field\":\"width\",\"units\":\"data\"},\"x\":{\"field\":\"x\"},\"y\":{\"field\":\"y\"}},\"id\":\"fb50f842-9692-4925-bb87-f31349008395\",\"type\":\"Rect\"},{\"attributes\":{\"callback\":null,\"column_names\":[\"height\",\"color\",\"width\",\"fill_alpha\",\"x\",\"y\",\"line_alpha\",\"line_color\",\"label\"],\"data\":{\"chart_index\":[{\"index\":\"026-011-0005\"}],\"color\":[\"#f22c40\"],\"fill_alpha\":[0.8],\"height\":[0.625],\"index\":[\"026-011-0005\"],\"label\":[{\"index\":\"026-011-0005\"}],\"line_alpha\":[1.0],\"line_color\":[\"white\"],\"width\":[0.8],\"x\":[\"026-011-0005\"],\"y\":[0.3125]}},\"id\":\"f74d99e8-0f4e-4438-b1cb-0d956eec06f2\",\"type\":\"ColumnDataSource\"},{\"attributes\":{\"fill_alpha\":{\"field\":\"fill_alpha\"},\"fill_color\":{\"field\":\"color\"},\"height\":{\"field\":\"height\",\"units\":\"data\"},\"line_color\":{\"field\":\"line_color\"},\"width\":{\"field\":\"width\",\"units\":\"data\"},\"x\":{\"field\":\"x\"},\"y\":{\"field\":\"y\"}},\"id\":\"f68b9646-34f1-4e31-a956-93207710e2ca\",\"type\":\"Rect\"},{\"attributes\":{\"data_source\":{\"id\":\"7d12907a-e98d-40fd-9921-c7576110f7f3\",\"type\":\"ColumnDataSource\"},\"glyph\":{\"id\":\"bdce77e7-9c2d-4219-b094-4d6d3d31a322\",\"type\":\"Rect\"},\"hover_glyph\":null,\"nonselection_glyph\":null,\"selection_glyph\":null},\"id\":\"bc6182b0-ea95-4527-91cc-36a1893163dc\",\"type\":\"GlyphRenderer\"},{\"attributes\":{\"plot\":{\"id\":\"ab95eb2e-c80c-4781-830d-cedb1401be36\",\"subtype\":\"Chart\",\"type\":\"Plot\"}},\"id\":\"28a83170-2a5b-47f4-988a-3a1a0cb87641\",\"type\":\"ResetTool\"},{\"attributes\":{\"data_source\":{\"id\":\"37c63d36-d7a3-48c5-bf5d-48c1068ec4c9\",\"type\":\"ColumnDataSource\"},\"glyph\":{\"id\":\"6a066f81-4cd0-4664-8e77-314ad386285e\",\"type\":\"Rect\"},\"hover_glyph\":null,\"nonselection_glyph\":null,\"selection_glyph\":null},\"id\":\"70fcb6e5-cabc-4f92-a478-0ccbddfb5ffe\",\"type\":\"GlyphRenderer\"},{\"attributes\":{\"data_source\":{\"id\":\"29eee14a-8404-4a76-854a-f8787d2c9a73\",\"type\":\"ColumnDataSource\"},\"glyph\":{\"id\":\"fb50f842-9692-4925-bb87-f31349008395\",\"type\":\"Rect\"},\"hover_glyph\":null,\"nonselection_glyph\":null,\"selection_glyph\":null},\"id\":\"0cc8dc9c-9899-400b-9d75-558cb29dc422\",\"type\":\"GlyphRenderer\"},{\"attributes\":{\"callback\":null,\"column_names\":[\"height\",\"color\",\"width\",\"fill_alpha\",\"x\",\"y\",\"line_alpha\",\"line_color\",\"label\"],\"data\":{\"chart_index\":[{\"index\":\"026-007-0004\"}],\"color\":[\"#f22c40\"],\"fill_alpha\":[0.8],\"height\":[0.625],\"index\":[\"026-007-0004\"],\"label\":[{\"index\":\"026-007-0004\"}],\"line_alpha\":[1.0],\"line_color\":[\"white\"],\"width\":[0.8],\"x\":[\"026-007-0004\"],\"y\":[0.3125]}},\"id\":\"7aa06486-a5ea-4330-9866-cbbad28774e5\",\"type\":\"ColumnDataSource\"},{\"attributes\":{\"fill_alpha\":{\"field\":\"fill_alpha\"},\"fill_color\":{\"field\":\"color\"},\"height\":{\"field\":\"height\",\"units\":\"data\"},\"line_color\":{\"field\":\"line_color\"},\"width\":{\"field\":\"width\",\"units\":\"data\"},\"x\":{\"field\":\"x\"},\"y\":{\"field\":\"y\"}},\"id\":\"1af97c29-1d22-41b3-a3a2-257012c5b3b4\",\"type\":\"Rect\"},{\"attributes\":{\"data_source\":{\"id\":\"034627b3-f710-4569-a615-b65ee7596a19\",\"type\":\"ColumnDataSource\"},\"glyph\":{\"id\":\"332f3a7d-5fab-4249-bf46-5c1d4cfcbefe\",\"type\":\"Rect\"},\"hover_glyph\":null,\"nonselection_glyph\":null,\"selection_glyph\":null},\"id\":\"40a72c29-e2f1-433c-9684-24b6e6da3237\",\"type\":\"GlyphRenderer\"},{\"attributes\":{\"data_source\":{\"id\":\"dc78d60f-354a-432a-8c15-41bd52c5ad13\",\"type\":\"ColumnDataSource\"},\"glyph\":{\"id\":\"93808c5d-5197-4572-b158-1c4949dea323\",\"type\":\"Rect\"},\"hover_glyph\":null,\"nonselection_glyph\":null,\"selection_glyph\":null},\"id\":\"8fc9ea69-2eb7-4066-8d2a-da6cf99eb650\",\"type\":\"GlyphRenderer\"},{\"attributes\":{\"data_source\":{\"id\":\"95b30e8e-c8d1-426b-8fbd-a2ca8d470f9a\",\"type\":\"ColumnDataSource\"},\"glyph\":{\"id\":\"164f8b46-acc0-4732-9163-4fdd51c84ad9\",\"type\":\"Rect\"},\"hover_glyph\":null,\"nonselection_glyph\":null,\"selection_glyph\":null},\"id\":\"c5bf1f4f-2579-4619-a4bb-7df825858038\",\"type\":\"GlyphRenderer\"},{\"attributes\":{\"fill_alpha\":{\"field\":\"fill_alpha\"},\"fill_color\":{\"field\":\"color\"},\"height\":{\"field\":\"height\",\"units\":\"data\"},\"line_color\":{\"field\":\"line_color\"},\"width\":{\"field\":\"width\",\"units\":\"data\"},\"x\":{\"field\":\"x\"},\"y\":{\"field\":\"y\"}},\"id\":\"93808c5d-5197-4572-b158-1c4949dea323\",\"type\":\"Rect\"},{\"attributes\":{\"fill_alpha\":{\"field\":\"fill_alpha\"},\"fill_color\":{\"field\":\"color\"},\"height\":{\"field\":\"height\",\"units\":\"data\"},\"line_color\":{\"field\":\"line_color\"},\"width\":{\"field\":\"width\",\"units\":\"data\"},\"x\":{\"field\":\"x\"},\"y\":{\"field\":\"y\"}},\"id\":\"9dcb2d87-f91e-4fce-b7a9-c3c4d5ead5a9\",\"type\":\"Rect\"},{\"attributes\":{},\"id\":\"4be6252b-f839-45eb-bb5b-2a5b2145ccc2\",\"type\":\"ToolEvents\"},{\"attributes\":{\"callback\":null,\"column_names\":[\"height\",\"color\",\"width\",\"fill_alpha\",\"x\",\"y\",\"line_alpha\",\"line_color\",\"label\"],\"data\":{\"chart_index\":[{\"index\":\"026-015-0005\"}],\"color\":[\"#f22c40\"],\"fill_alpha\":[0.8],\"height\":[0.625],\"index\":[\"026-015-0005\"],\"label\":[{\"index\":\"026-015-0005\"}],\"line_alpha\":[1.0],\"line_color\":[\"white\"],\"width\":[0.8],\"x\":[\"026-015-0005\"],\"y\":[0.3125]}},\"id\":\"341539e6-ceaf-4ea8-82f3-cf17afb244af\",\"type\":\"ColumnDataSource\"},{\"attributes\":{\"callback\":null,\"column_names\":[\"height\",\"color\",\"width\",\"fill_alpha\",\"x\",\"y\",\"line_alpha\",\"line_color\",\"label\"],\"data\":{\"chart_index\":[{\"index\":\"026-013-0004\"}],\"color\":[\"#f22c40\"],\"fill_alpha\":[0.8],\"height\":[0.625],\"index\":[\"026-013-0004\"],\"label\":[{\"index\":\"026-013-0004\"}],\"line_alpha\":[1.0],\"line_color\":[\"white\"],\"width\":[0.8],\"x\":[\"026-013-0004\"],\"y\":[0.3125]}},\"id\":\"1c3f9752-4726-45b6-8814-2b2fa5bd4235\",\"type\":\"ColumnDataSource\"},{\"attributes\":{\"callback\":null,\"column_names\":[\"height\",\"color\",\"width\",\"fill_alpha\",\"x\",\"y\",\"line_alpha\",\"line_color\",\"label\"],\"data\":{\"chart_index\":[{\"index\":\"026-012-0005\"}],\"color\":[\"#f22c40\"],\"fill_alpha\":[0.8],\"height\":[0.625],\"index\":[\"026-012-0005\"],\"label\":[{\"index\":\"026-012-0005\"}],\"line_alpha\":[1.0],\"line_color\":[\"white\"],\"width\":[0.8],\"x\":[\"026-012-0005\"],\"y\":[0.3125]}},\"id\":\"86cce3b1-8756-40c6-a461-bbf9d7ddcfaf\",\"type\":\"ColumnDataSource\"},{\"attributes\":{},\"id\":\"cdb8cda0-6180-4ea1-9cc0-285a346a9872\",\"type\":\"BasicTickFormatter\"},{\"attributes\":{\"fill_alpha\":{\"field\":\"fill_alpha\"},\"fill_color\":{\"field\":\"color\"},\"height\":{\"field\":\"height\",\"units\":\"data\"},\"line_color\":{\"field\":\"line_color\"},\"width\":{\"field\":\"width\",\"units\":\"data\"},\"x\":{\"field\":\"x\"},\"y\":{\"field\":\"y\"}},\"id\":\"054dcf73-65c9-4fb3-8665-4d993fbd80b0\",\"type\":\"Rect\"},{\"attributes\":{\"fill_alpha\":{\"field\":\"fill_alpha\"},\"fill_color\":{\"field\":\"color\"},\"height\":{\"field\":\"height\",\"units\":\"data\"},\"line_color\":{\"field\":\"line_color\"},\"width\":{\"field\":\"width\",\"units\":\"data\"},\"x\":{\"field\":\"x\"},\"y\":{\"field\":\"y\"}},\"id\":\"dff5a4ac-0fce-46e0-96c7-f867b2ad5408\",\"type\":\"Rect\"},{\"attributes\":{\"data_source\":{\"id\":\"f74d99e8-0f4e-4438-b1cb-0d956eec06f2\",\"type\":\"ColumnDataSource\"},\"glyph\":{\"id\":\"ff0dbb53-a18b-4cc4-bd3c-e1c94222508f\",\"type\":\"Rect\"},\"hover_glyph\":null,\"nonselection_glyph\":null,\"selection_glyph\":null},\"id\":\"9c2ed72c-af75-4a9a-ae3b-cfb309d39eef\",\"type\":\"GlyphRenderer\"},{\"attributes\":{\"plot\":null,\"text\":\"Lowest Pass Rate by Test ID\"},\"id\":\"4b00e106-3693-4f74-9631-ccc7558e5f6c\",\"type\":\"Title\"},{\"attributes\":{\"callback\":null,\"column_names\":[\"height\",\"color\",\"width\",\"fill_alpha\",\"x\",\"y\",\"line_alpha\",\"line_color\",\"label\"],\"data\":{\"chart_index\":[{\"index\":\"162-001-0001\"}],\"color\":[\"#f22c40\"],\"fill_alpha\":[0.8],\"height\":[0.5625],\"index\":[\"162-001-0001\"],\"label\":[{\"index\":\"162-001-0001\"}],\"line_alpha\":[1.0],\"line_color\":[\"white\"],\"width\":[0.8],\"x\":[\"162-001-0001\"],\"y\":[0.28125]}},\"id\":\"e14fe971-5292-4f9d-8837-7fb7904013f6\",\"type\":\"ColumnDataSource\"},{\"attributes\":{\"callback\":null,\"column_names\":[\"height\",\"color\",\"width\",\"fill_alpha\",\"x\",\"y\",\"line_alpha\",\"line_color\",\"label\"],\"data\":{\"chart_index\":[{\"index\":\"026-009-0005\"}],\"color\":[\"#f22c40\"],\"fill_alpha\":[0.8],\"height\":[0.625],\"index\":[\"026-009-0005\"],\"label\":[{\"index\":\"026-009-0005\"}],\"line_alpha\":[1.0],\"line_color\":[\"white\"],\"width\":[0.8],\"x\":[\"026-009-0005\"],\"y\":[0.3125]}},\"id\":\"248b019e-81b8-467f-b0c1-a4a78a2c2547\",\"type\":\"ColumnDataSource\"},{\"attributes\":{\"fill_alpha\":{\"field\":\"fill_alpha\"},\"fill_color\":{\"field\":\"color\"},\"height\":{\"field\":\"height\",\"units\":\"data\"},\"line_color\":{\"field\":\"line_color\"},\"width\":{\"field\":\"width\",\"units\":\"data\"},\"x\":{\"field\":\"x\"},\"y\":{\"field\":\"y\"}},\"id\":\"04e6bfc8-6370-4f1a-a69a-e08034b201fb\",\"type\":\"Rect\"},{\"attributes\":{\"dimension\":1,\"plot\":{\"id\":\"ab95eb2e-c80c-4781-830d-cedb1401be36\",\"subtype\":\"Chart\",\"type\":\"Plot\"},\"ticker\":{\"id\":\"417313ec-e8f1-4a71-ad9d-2bb072568c26\",\"type\":\"BasicTicker\"}},\"id\":\"971d4f2b-d8a2-413b-a198-9ca9d7b0c4f5\",\"type\":\"Grid\"},{\"attributes\":{\"callback\":null,\"column_names\":[\"height\",\"color\",\"width\",\"fill_alpha\",\"x\",\"y\",\"line_alpha\",\"line_color\",\"label\"],\"data\":{\"chart_index\":[{\"index\":\"026-004-0004\"}],\"color\":[\"#f22c40\"],\"fill_alpha\":[0.8],\"height\":[0.625],\"index\":[\"026-004-0004\"],\"label\":[{\"index\":\"026-004-0004\"}],\"line_alpha\":[1.0],\"line_color\":[\"white\"],\"width\":[0.8],\"x\":[\"026-004-0004\"],\"y\":[0.3125]}},\"id\":\"110b4ac4-6e21-4603-8382-f6ef6b2ee960\",\"type\":\"ColumnDataSource\"},{\"attributes\":{\"fill_alpha\":{\"field\":\"fill_alpha\"},\"fill_color\":{\"field\":\"color\"},\"height\":{\"field\":\"height\",\"units\":\"data\"},\"line_color\":{\"field\":\"line_color\"},\"width\":{\"field\":\"width\",\"units\":\"data\"},\"x\":{\"field\":\"x\"},\"y\":{\"field\":\"y\"}},\"id\":\"2ec23558-7510-4a30-b02f-d4cad9519623\",\"type\":\"Rect\"},{\"attributes\":{\"callback\":null,\"column_names\":[\"height\",\"color\",\"width\",\"fill_alpha\",\"x\",\"y\",\"line_alpha\",\"line_color\",\"label\"],\"data\":{\"chart_index\":[{\"index\":\"161-006-0001\"}],\"color\":[\"#f22c40\"],\"fill_alpha\":[0.8],\"height\":[0.3333333333333333],\"index\":[\"161-006-0001\"],\"label\":[{\"index\":\"161-006-0001\"}],\"line_alpha\":[1.0],\"line_color\":[\"white\"],\"width\":[0.8],\"x\":[\"161-006-0001\"],\"y\":[0.16666666666666666]}},\"id\":\"c46ca7d0-b104-4e18-860f-ca0ef9a9f3fd\",\"type\":\"ColumnDataSource\"},{\"attributes\":{\"callback\":null,\"column_names\":[\"height\",\"color\",\"width\",\"fill_alpha\",\"x\",\"y\",\"line_alpha\",\"line_color\",\"label\"],\"data\":{\"chart_index\":[{\"index\":\"026-016-0005\"}],\"color\":[\"#f22c40\"],\"fill_alpha\":[0.8],\"height\":[0.6666666666666666],\"index\":[\"026-016-0005\"],\"label\":[{\"index\":\"026-016-0005\"}],\"line_alpha\":[1.0],\"line_color\":[\"white\"],\"width\":[0.8],\"x\":[\"026-016-0005\"],\"y\":[0.3333333333333333]}},\"id\":\"29eee14a-8404-4a76-854a-f8787d2c9a73\",\"type\":\"ColumnDataSource\"},{\"attributes\":{\"callback\":null,\"column_names\":[\"height\",\"color\",\"width\",\"fill_alpha\",\"x\",\"y\",\"line_alpha\",\"line_color\",\"label\"],\"data\":{\"chart_index\":[{\"index\":\"026-011-0004\"}],\"color\":[\"#f22c40\"],\"fill_alpha\":[0.8],\"height\":[0.625],\"index\":[\"026-011-0004\"],\"label\":[{\"index\":\"026-011-0004\"}],\"line_alpha\":[1.0],\"line_color\":[\"white\"],\"width\":[0.8],\"x\":[\"026-011-0004\"],\"y\":[0.3125]}},\"id\":\"9b5f94bd-fe72-45ef-a98f-3a53211bebf6\",\"type\":\"ColumnDataSource\"},{\"attributes\":{\"data_source\":{\"id\":\"f0f5fbca-d66f-4c4c-801b-6c72a229772e\",\"type\":\"ColumnDataSource\"},\"glyph\":{\"id\":\"b3d03a7d-f5bf-4711-8d4c-043ddcaaca02\",\"type\":\"Rect\"},\"hover_glyph\":null,\"nonselection_glyph\":null,\"selection_glyph\":null},\"id\":\"9b919753-dafb-4e9d-ab19-6d93ea649d94\",\"type\":\"GlyphRenderer\"},{\"attributes\":{\"data_source\":{\"id\":\"1c3f9752-4726-45b6-8814-2b2fa5bd4235\",\"type\":\"ColumnDataSource\"},\"glyph\":{\"id\":\"2e0641b9-de35-47f7-8761-07e1b6346fc3\",\"type\":\"Rect\"},\"hover_glyph\":null,\"nonselection_glyph\":null,\"selection_glyph\":null},\"id\":\"88ee21d4-8bf0-4464-b42f-00734f1d5a5c\",\"type\":\"GlyphRenderer\"},{\"attributes\":{\"callback\":null,\"column_names\":[\"height\",\"color\",\"width\",\"fill_alpha\",\"x\",\"y\",\"line_alpha\",\"line_color\",\"label\"],\"data\":{\"chart_index\":[{\"index\":\"026-001-0005\"}],\"color\":[\"#f22c40\"],\"fill_alpha\":[0.8],\"height\":[0.5],\"index\":[\"026-001-0005\"],\"label\":[{\"index\":\"026-001-0005\"}],\"line_alpha\":[1.0],\"line_color\":[\"white\"],\"width\":[0.8],\"x\":[\"026-001-0005\"],\"y\":[0.25]}},\"id\":\"eb6abfa7-7361-4acd-b439-861c265f8e77\",\"type\":\"ColumnDataSource\"},{\"attributes\":{\"fill_alpha\":{\"field\":\"fill_alpha\"},\"fill_color\":{\"field\":\"color\"},\"height\":{\"field\":\"height\",\"units\":\"data\"},\"line_color\":{\"field\":\"line_color\"},\"width\":{\"field\":\"width\",\"units\":\"data\"},\"x\":{\"field\":\"x\"},\"y\":{\"field\":\"y\"}},\"id\":\"3e845e2b-66f0-4be8-a27c-2cc754fef066\",\"type\":\"Rect\"},{\"attributes\":{\"fill_alpha\":{\"field\":\"fill_alpha\"},\"fill_color\":{\"field\":\"color\"},\"height\":{\"field\":\"height\",\"units\":\"data\"},\"line_color\":{\"field\":\"line_color\"},\"width\":{\"field\":\"width\",\"units\":\"data\"},\"x\":{\"field\":\"x\"},\"y\":{\"field\":\"y\"}},\"id\":\"332f3a7d-5fab-4249-bf46-5c1d4cfcbefe\",\"type\":\"Rect\"},{\"attributes\":{\"data_source\":{\"id\":\"42fe38a0-9b0c-461c-b35b-6f28e925adaf\",\"type\":\"ColumnDataSource\"},\"glyph\":{\"id\":\"33b7c8c9-fb84-48ad-b838-371244f48187\",\"type\":\"Rect\"},\"hover_glyph\":null,\"nonselection_glyph\":null,\"selection_glyph\":null},\"id\":\"6245f03e-ba80-4cba-9b4c-f19f90b1b705\",\"type\":\"GlyphRenderer\"},{\"attributes\":{\"fill_alpha\":{\"field\":\"fill_alpha\"},\"fill_color\":{\"field\":\"color\"},\"height\":{\"field\":\"height\",\"units\":\"data\"},\"line_color\":{\"field\":\"line_color\"},\"width\":{\"field\":\"width\",\"units\":\"data\"},\"x\":{\"field\":\"x\"},\"y\":{\"field\":\"y\"}},\"id\":\"b8fac3c2-026f-4d92-af13-f8dc09a830b8\",\"type\":\"Rect\"},{\"attributes\":{\"data_source\":{\"id\":\"2e24aae1-d734-43f4-b85c-475fb76831b5\",\"type\":\"ColumnDataSource\"},\"glyph\":{\"id\":\"3dfc7a85-4e8e-4b8c-a3d0-11145b11202f\",\"type\":\"Rect\"},\"hover_glyph\":null,\"nonselection_glyph\":null,\"selection_glyph\":null},\"id\":\"80808059-dca5-48c9-97a9-0f424ae66732\",\"type\":\"GlyphRenderer\"},{\"attributes\":{\"callback\":null,\"column_names\":[\"height\",\"color\",\"width\",\"fill_alpha\",\"x\",\"y\",\"line_alpha\",\"line_color\",\"label\"],\"data\":{\"chart_index\":[{\"index\":\"026-013-0005\"}],\"color\":[\"#f22c40\"],\"fill_alpha\":[0.8],\"height\":[0.625],\"index\":[\"026-013-0005\"],\"label\":[{\"index\":\"026-013-0005\"}],\"line_alpha\":[1.0],\"line_color\":[\"white\"],\"width\":[0.8],\"x\":[\"026-013-0005\"],\"y\":[0.3125]}},\"id\":\"cd08dd73-e9b5-440b-933b-15054f268164\",\"type\":\"ColumnDataSource\"},{\"attributes\":{\"fill_alpha\":{\"field\":\"fill_alpha\"},\"fill_color\":{\"field\":\"color\"},\"height\":{\"field\":\"height\",\"units\":\"data\"},\"line_color\":{\"field\":\"line_color\"},\"width\":{\"field\":\"width\",\"units\":\"data\"},\"x\":{\"field\":\"x\"},\"y\":{\"field\":\"y\"}},\"id\":\"9394e6ad-4cc7-43ad-b048-80c24d3b57f9\",\"type\":\"Rect\"},{\"attributes\":{\"data_source\":{\"id\":\"f20a258d-49d2-450a-8f26-35c7988d9d99\",\"type\":\"ColumnDataSource\"},\"glyph\":{\"id\":\"366f292f-9eb3-497c-acc7-74c9b118798b\",\"type\":\"Rect\"},\"hover_glyph\":null,\"nonselection_glyph\":null,\"selection_glyph\":null},\"id\":\"a83b16ce-e6f2-43ac-8228-8ea58076e61a\",\"type\":\"GlyphRenderer\"},{\"attributes\":{\"data_source\":{\"id\":\"110b4ac4-6e21-4603-8382-f6ef6b2ee960\",\"type\":\"ColumnDataSource\"},\"glyph\":{\"id\":\"f2d14b84-76a2-4421-b6ad-47e7fb6e946b\",\"type\":\"Rect\"},\"hover_glyph\":null,\"nonselection_glyph\":null,\"selection_glyph\":null},\"id\":\"c96e25ae-ba5e-417f-af40-27e27722b17c\",\"type\":\"GlyphRenderer\"},{\"attributes\":{\"callback\":null,\"column_names\":[\"height\",\"color\",\"width\",\"fill_alpha\",\"x\",\"y\",\"line_alpha\",\"line_color\",\"label\"],\"data\":{\"chart_index\":[{\"index\":\"160-001-0001\"}],\"color\":[\"#f22c40\"],\"fill_alpha\":[0.8],\"height\":[0.5531914893617021],\"index\":[\"160-001-0001\"],\"label\":[{\"index\":\"160-001-0001\"}],\"line_alpha\":[1.0],\"line_color\":[\"white\"],\"width\":[0.8],\"x\":[\"160-001-0001\"],\"y\":[0.2765957446808511]}},\"id\":\"f20a258d-49d2-450a-8f26-35c7988d9d99\",\"type\":\"ColumnDataSource\"},{\"attributes\":{\"callback\":null,\"column_names\":[\"height\",\"color\",\"width\",\"fill_alpha\",\"x\",\"y\",\"line_alpha\",\"line_color\",\"label\"],\"data\":{\"chart_index\":[{\"index\":\"160-003-0001\"}],\"color\":[\"#f22c40\"],\"fill_alpha\":[0.8],\"height\":[0.5526315789473685],\"index\":[\"160-003-0001\"],\"label\":[{\"index\":\"160-003-0001\"}],\"line_alpha\":[1.0],\"line_color\":[\"white\"],\"width\":[0.8],\"x\":[\"160-003-0001\"],\"y\":[0.27631578947368424]}},\"id\":\"95b30e8e-c8d1-426b-8fbd-a2ca8d470f9a\",\"type\":\"ColumnDataSource\"},{\"attributes\":{\"data_source\":{\"id\":\"98881ec1-81fd-4b9f-9a2e-f2fb54777df2\",\"type\":\"ColumnDataSource\"},\"glyph\":{\"id\":\"aa4d6058-41f7-4c3c-bce4-2fe8bb74a2f7\",\"type\":\"Rect\"},\"hover_glyph\":null,\"nonselection_glyph\":null,\"selection_glyph\":null},\"id\":\"57d03dec-d3ec-440a-b776-3d71a94523c6\",\"type\":\"GlyphRenderer\"},{\"attributes\":{\"callback\":null,\"column_names\":[\"height\",\"color\",\"width\",\"fill_alpha\",\"x\",\"y\",\"line_alpha\",\"line_color\",\"label\"],\"data\":{\"chart_index\":[{\"index\":\"026-010-0005\"}],\"color\":[\"#f22c40\"],\"fill_alpha\":[0.8],\"height\":[0.625],\"index\":[\"026-010-0005\"],\"label\":[{\"index\":\"026-010-0005\"}],\"line_alpha\":[1.0],\"line_color\":[\"white\"],\"width\":[0.8],\"x\":[\"026-010-0005\"],\"y\":[0.3125]}},\"id\":\"37c63d36-d7a3-48c5-bf5d-48c1068ec4c9\",\"type\":\"ColumnDataSource\"},{\"attributes\":{\"fill_alpha\":{\"field\":\"fill_alpha\"},\"fill_color\":{\"field\":\"color\"},\"height\":{\"field\":\"height\",\"units\":\"data\"},\"line_color\":{\"field\":\"line_color\"},\"width\":{\"field\":\"width\",\"units\":\"data\"},\"x\":{\"field\":\"x\"},\"y\":{\"field\":\"y\"}},\"id\":\"a7546132-252e-47aa-8c12-e2485f770586\",\"type\":\"Rect\"},{\"attributes\":{},\"id\":\"94f450b1-27bb-4bc4-b220-9744bce65f10\",\"type\":\"CategoricalTickFormatter\"},{\"attributes\":{\"callback\":null,\"column_names\":[\"height\",\"color\",\"width\",\"fill_alpha\",\"x\",\"y\",\"line_alpha\",\"line_color\",\"label\"],\"data\":{\"chart_index\":[{\"index\":\"026-009-0004\"}],\"color\":[\"#f22c40\"],\"fill_alpha\":[0.8],\"height\":[0.625],\"index\":[\"026-009-0004\"],\"label\":[{\"index\":\"026-009-0004\"}],\"line_alpha\":[1.0],\"line_color\":[\"white\"],\"width\":[0.8],\"x\":[\"026-009-0004\"],\"y\":[0.3125]}},\"id\":\"9d2d0d5b-8e56-4e79-8f81-c07e5dd3fe74\",\"type\":\"ColumnDataSource\"},{\"attributes\":{\"callback\":null,\"column_names\":[\"height\",\"color\",\"width\",\"fill_alpha\",\"x\",\"y\",\"line_alpha\",\"line_color\",\"label\"],\"data\":{\"chart_index\":[{\"index\":\"001-004-0001\"}],\"color\":[\"#f22c40\"],\"fill_alpha\":[0.8],\"height\":[0.48],\"index\":[\"001-004-0001\"],\"label\":[{\"index\":\"001-004-0001\"}],\"line_alpha\":[1.0],\"line_color\":[\"white\"],\"width\":[0.8],\"x\":[\"001-004-0001\"],\"y\":[0.24]}},\"id\":\"723ed422-7395-4013-806a-63fcce08d949\",\"type\":\"ColumnDataSource\"},{\"attributes\":{\"data_source\":{\"id\":\"9a74b4a6-f236-4e7a-b105-2a901a238ee4\",\"type\":\"ColumnDataSource\"},\"glyph\":{\"id\":\"9e1030ae-47ec-4d92-98a7-58afb3d5b5d6\",\"type\":\"Rect\"},\"hover_glyph\":null,\"nonselection_glyph\":null,\"selection_glyph\":null},\"id\":\"535ebc28-4c86-49fc-957a-1dfb0538274f\",\"type\":\"GlyphRenderer\"},{\"attributes\":{\"data_source\":{\"id\":\"86cce3b1-8756-40c6-a461-bbf9d7ddcfaf\",\"type\":\"ColumnDataSource\"},\"glyph\":{\"id\":\"7b23975d-b83d-4c35-8b1f-ba5ed5afb904\",\"type\":\"Rect\"},\"hover_glyph\":null,\"nonselection_glyph\":null,\"selection_glyph\":null},\"id\":\"c3864cd3-8f8f-4b5b-8de5-a7e33f756c79\",\"type\":\"GlyphRenderer\"},{\"attributes\":{\"fill_alpha\":{\"field\":\"fill_alpha\"},\"fill_color\":{\"field\":\"color\"},\"height\":{\"field\":\"height\",\"units\":\"data\"},\"line_color\":{\"field\":\"line_color\"},\"width\":{\"field\":\"width\",\"units\":\"data\"},\"x\":{\"field\":\"x\"},\"y\":{\"field\":\"y\"}},\"id\":\"ec304b2f-4666-4d37-a7e6-56495bd9e4dd\",\"type\":\"Rect\"},{\"attributes\":{\"data_source\":{\"id\":\"1e5fa245-9da6-40a6-a13b-c576e4ad4ec5\",\"type\":\"ColumnDataSource\"},\"glyph\":{\"id\":\"6d83be63-2297-4dc0-9ce0-d70e2adf5d5d\",\"type\":\"Rect\"},\"hover_glyph\":null,\"nonselection_glyph\":null,\"selection_glyph\":null},\"id\":\"dba48916-3077-463a-b180-072aefde605d\",\"type\":\"GlyphRenderer\"},{\"attributes\":{\"data_source\":{\"id\":\"eb6abfa7-7361-4acd-b439-861c265f8e77\",\"type\":\"ColumnDataSource\"},\"glyph\":{\"id\":\"9dcb2d87-f91e-4fce-b7a9-c3c4d5ead5a9\",\"type\":\"Rect\"},\"hover_glyph\":null,\"nonselection_glyph\":null,\"selection_glyph\":null},\"id\":\"0fad8ef3-ff5f-433a-8f7a-5b6b74b4401e\",\"type\":\"GlyphRenderer\"},{\"attributes\":{},\"id\":\"3a5737be-ddd1-4689-be6c-bcddecd1c952\",\"type\":\"CategoricalTicker\"},{\"attributes\":{\"data_source\":{\"id\":\"cd08dd73-e9b5-440b-933b-15054f268164\",\"type\":\"ColumnDataSource\"},\"glyph\":{\"id\":\"9394e6ad-4cc7-43ad-b048-80c24d3b57f9\",\"type\":\"Rect\"},\"hover_glyph\":null,\"nonselection_glyph\":null,\"selection_glyph\":null},\"id\":\"6f8cb6f9-c3ba-4d39-bb39-62b7bc7141ee\",\"type\":\"GlyphRenderer\"},{\"attributes\":{\"callback\":null,\"column_names\":[\"height\",\"color\",\"width\",\"fill_alpha\",\"x\",\"y\",\"line_alpha\",\"line_color\",\"label\"],\"data\":{\"chart_index\":[{\"index\":\"026-018-0001\"}],\"color\":[\"#f22c40\"],\"fill_alpha\":[0.8],\"height\":[0.6666666666666666],\"index\":[\"026-018-0001\"],\"label\":[{\"index\":\"026-018-0001\"}],\"line_alpha\":[1.0],\"line_color\":[\"white\"],\"width\":[0.8],\"x\":[\"026-018-0001\"],\"y\":[0.3333333333333333]}},\"id\":\"907f4e4d-71ef-47d0-8e92-c09c7686bbd1\",\"type\":\"ColumnDataSource\"},{\"attributes\":{\"data_source\":{\"id\":\"54c0bf0c-f05a-4f06-898c-88e7164758ae\",\"type\":\"ColumnDataSource\"},\"glyph\":{\"id\":\"35ece205-62fd-40f4-b4d9-f482e497d03f\",\"type\":\"Rect\"},\"hover_glyph\":null,\"nonselection_glyph\":null,\"selection_glyph\":null},\"id\":\"8bab8a1b-3533-432c-92f5-008fdd862ab0\",\"type\":\"GlyphRenderer\"},{\"attributes\":{\"plot\":{\"id\":\"ab95eb2e-c80c-4781-830d-cedb1401be36\",\"subtype\":\"Chart\",\"type\":\"Plot\"}},\"id\":\"5195772f-814e-4480-b947-bedc593538be\",\"type\":\"PanTool\"},{\"attributes\":{\"fill_alpha\":{\"field\":\"fill_alpha\"},\"fill_color\":{\"field\":\"color\"},\"height\":{\"field\":\"height\",\"units\":\"data\"},\"line_color\":{\"field\":\"line_color\"},\"width\":{\"field\":\"width\",\"units\":\"data\"},\"x\":{\"field\":\"x\"},\"y\":{\"field\":\"y\"}},\"id\":\"0e8656e5-083c-4792-943e-78fb353f987c\",\"type\":\"Rect\"},{\"attributes\":{\"callback\":null,\"column_names\":[\"height\",\"color\",\"width\",\"fill_alpha\",\"x\",\"y\",\"line_alpha\",\"line_color\",\"label\"],\"data\":{\"chart_index\":[{\"index\":\"026-017-0001\"}],\"color\":[\"#f22c40\"],\"fill_alpha\":[0.8],\"height\":[0.6666666666666666],\"index\":[\"026-017-0001\"],\"label\":[{\"index\":\"026-017-0001\"}],\"line_alpha\":[1.0],\"line_color\":[\"white\"],\"width\":[0.8],\"x\":[\"026-017-0001\"],\"y\":[0.3333333333333333]}},\"id\":\"229dce0e-c461-44a3-8256-9a28522a5fa0\",\"type\":\"ColumnDataSource\"},{\"attributes\":{\"callback\":null,\"column_names\":[\"height\",\"color\",\"width\",\"fill_alpha\",\"x\",\"y\",\"line_alpha\",\"line_color\",\"label\"],\"data\":{\"chart_index\":[{\"index\":\"026-012-0004\"}],\"color\":[\"#f22c40\"],\"fill_alpha\":[0.8],\"height\":[0.625],\"index\":[\"026-012-0004\"],\"label\":[{\"index\":\"026-012-0004\"}],\"line_alpha\":[1.0],\"line_color\":[\"white\"],\"width\":[0.8],\"x\":[\"026-012-0004\"],\"y\":[0.3125]}},\"id\":\"f62a85d7-0f9a-43c0-aea3-3a84bfd0d535\",\"type\":\"ColumnDataSource\"},{\"attributes\":{\"data_source\":{\"id\":\"723ed422-7395-4013-806a-63fcce08d949\",\"type\":\"ColumnDataSource\"},\"glyph\":{\"id\":\"b950e796-0cd2-49ff-a685-bf208cac787d\",\"type\":\"Rect\"},\"hover_glyph\":null,\"nonselection_glyph\":null,\"selection_glyph\":null},\"id\":\"964185db-f5f0-4c2e-ac5f-c9d8caf6abc4\",\"type\":\"GlyphRenderer\"},{\"attributes\":{\"data_source\":{\"id\":\"f62a85d7-0f9a-43c0-aea3-3a84bfd0d535\",\"type\":\"ColumnDataSource\"},\"glyph\":{\"id\":\"3e845e2b-66f0-4be8-a27c-2cc754fef066\",\"type\":\"Rect\"},\"hover_glyph\":null,\"nonselection_glyph\":null,\"selection_glyph\":null},\"id\":\"1ad03821-6f12-4141-914f-566076f49d59\",\"type\":\"GlyphRenderer\"},{\"attributes\":{\"callback\":null,\"column_names\":[\"height\",\"color\",\"width\",\"fill_alpha\",\"x\",\"y\",\"line_alpha\",\"line_color\",\"label\"],\"data\":{\"chart_index\":[{\"index\":\"026-003-0004\"}],\"color\":[\"#f22c40\"],\"fill_alpha\":[0.8],\"height\":[0.625],\"index\":[\"026-003-0004\"],\"label\":[{\"index\":\"026-003-0004\"}],\"line_alpha\":[1.0],\"line_color\":[\"white\"],\"width\":[0.8],\"x\":[\"026-003-0004\"],\"y\":[0.3125]}},\"id\":\"7d7bf4b8-a227-4382-8539-f68e309a9b09\",\"type\":\"ColumnDataSource\"},{\"attributes\":{\"callback\":null,\"column_names\":[\"height\",\"color\",\"width\",\"fill_alpha\",\"x\",\"y\",\"line_alpha\",\"line_color\",\"label\"],\"data\":{\"chart_index\":[{\"index\":\"026-010-0004\"}],\"color\":[\"#f22c40\"],\"fill_alpha\":[0.8],\"height\":[0.625],\"index\":[\"026-010-0004\"],\"label\":[{\"index\":\"026-010-0004\"}],\"line_alpha\":[1.0],\"line_color\":[\"white\"],\"width\":[0.8],\"x\":[\"026-010-0004\"],\"y\":[0.3125]}},\"id\":\"bf906fa5-5724-43e2-933e-4f82ff114b95\",\"type\":\"ColumnDataSource\"},{\"attributes\":{\"bottom_units\":\"screen\",\"fill_alpha\":{\"value\":0.5},\"fill_color\":{\"value\":\"lightgrey\"},\"left_units\":\"screen\",\"level\":\"overlay\",\"line_alpha\":{\"value\":1.0},\"line_color\":{\"value\":\"black\"},\"line_dash\":[4,4],\"line_width\":{\"value\":2},\"plot\":null,\"render_mode\":\"css\",\"right_units\":\"screen\",\"top_units\":\"screen\"},\"id\":\"a3268d8d-8c02-4327-a8eb-a84b5b52b801\",\"type\":\"BoxAnnotation\"}],\"root_ids\":[\"ab95eb2e-c80c-4781-830d-cedb1401be36\"]},\"title\":\"Bokeh Application\",\"version\":\"0.12.1\"}};\n",
       "            var render_items = [{\"docid\":\"20dd833d-7d27-4124-8dc6-9e8b9358cb3a\",\"elementid\":\"e711a160-890d-4147-ae75-82eb51f85b7a\",\"modelid\":\"ab95eb2e-c80c-4781-830d-cedb1401be36\",\"notebook_comms_target\":\"d9458bc5-51e2-471d-b902-c7e7dc6b5496\"}];\n",
       "            \n",
       "            Bokeh.embed.embed_items(docs_json, render_items);\n",
       "        });\n",
       "      },\n",
       "      function(Bokeh) {\n",
       "      }\n",
       "    ];\n",
       "  \n",
       "    function run_inline_js() {\n",
       "      for (var i = 0; i < inline_js.length; i++) {\n",
       "        inline_js[i](window.Bokeh);\n",
       "      }\n",
       "    }\n",
       "  \n",
       "    if (window._bokeh_is_loading === 0) {\n",
       "      console.log(\"Bokeh: BokehJS loaded, going straight to plotting\");\n",
       "      run_inline_js();\n",
       "    } else {\n",
       "      load_libs(js_urls, function() {\n",
       "        console.log(\"Bokeh: BokehJS plotting callback run at\", now());\n",
       "        run_inline_js();\n",
       "      });\n",
       "    }\n",
       "  }(this));\n",
       "</script>"
      ]
     },
     "metadata": {},
     "output_type": "execute_result"
    },
    {
     "data": {
      "text/html": [
       "<p><code>&lt;Bokeh Notebook handle for <strong>In[96]</strong>&gt;</code></p>"
      ],
      "text/plain": [
       "<bokeh.io._CommsHandle at 0x314da160>"
      ]
     },
     "execution_count": 96,
     "metadata": {},
     "output_type": "execute_result"
    }
   ],
   "source": [
    "p = Bar(boop, title=\"Lowest Pass Rate by Test ID\", legend=False)\n",
    "show(p)"
   ]
  },
  {
   "cell_type": "code",
   "execution_count": null,
   "metadata": {
    "collapsed": false
   },
   "outputs": [],
   "source": [
    "from bokeh.sampledata.autompg import autompg as df\n",
    "df.head()"
   ]
  },
  {
   "cell_type": "code",
   "execution_count": null,
   "metadata": {
    "collapsed": true
   },
   "outputs": [],
   "source": [
    "groupby_id = metrics.df.groupby('case_id')"
   ]
  },
  {
   "cell_type": "code",
   "execution_count": null,
   "metadata": {
    "collapsed": false
   },
   "outputs": [],
   "source": [
    "groupby_id.agg([np.mean, np.std]).case_duration.max()"
   ]
  },
  {
   "cell_type": "code",
   "execution_count": null,
   "metadata": {
    "collapsed": true
   },
   "outputs": [],
   "source": [
    "aggregation = {\n",
    "    'case_duration' : {\n",
    "        'mean_duration': 'mean',\n",
    "        'std_dev': 'std'\n",
    "    }\n",
    "}"
   ]
  },
  {
   "cell_type": "code",
   "execution_count": null,
   "metadata": {
    "collapsed": false
   },
   "outputs": [],
   "source": [
    "groupby_id = metrics.df.groupby('case_id')\n",
    "mean_duration_df = groupby_id.agg(aggregation).dropna()"
   ]
  },
  {
   "cell_type": "code",
   "execution_count": null,
   "metadata": {
    "collapsed": false
   },
   "outputs": [],
   "source": [
    "max_duration= mean_duration_df[(mean_duration_df.case_duration.mean_duration == \n",
    "                                                   mean_duration_df.case_duration.mean_duration.max())]"
   ]
  },
  {
   "cell_type": "code",
   "execution_count": null,
   "metadata": {
    "collapsed": false
   },
   "outputs": [],
   "source": [
    "max_duration_over_time = _data.return_specific_case_over_time(metrics.df, max_duration.index.values[0])"
   ]
  },
  {
   "cell_type": "code",
   "execution_count": null,
   "metadata": {
    "collapsed": false
   },
   "outputs": [],
   "source": [
    "max_duration_over_time.head()"
   ]
  },
  {
   "cell_type": "code",
   "execution_count": null,
   "metadata": {
    "collapsed": false
   },
   "outputs": [],
   "source": [
    "# new_cmap = rand_cmap(100, type='bright', first_color_black=True, last_color_black=False, verbose=True)\n",
    "# plt.register_cmap(name='forplot', data=new_cmap)\n",
    "# type(new_cmap)"
   ]
  },
  {
   "cell_type": "code",
   "execution_count": null,
   "metadata": {
    "collapsed": false
   },
   "outputs": [],
   "source": [
    "def plot(df, fig, ax):\n",
    "    if df.case_client_ip.unique() == 1:\n",
    "        case_client_ip = df.case_client_ip.unique()[0]\n",
    "        try:\n",
    "            hostname = get_hostname(case_client_ip)\n",
    "        except:\n",
    "            hostname = case_client_ip\n",
    "    else:\n",
    "        hostname = None\n",
    "    df.plot('date_int', 'case_duration', kind='scatter', ax=ax, color=np.random.rand(3,1), label=hostname)\n",
    "#     xtick_range = (over_time.dropna().date_int.max() - over_time.dropna().date_int.min()) / 10\n",
    "#     current_xticks = [a.get_text() for a in ax.get_xticklabels()]\n",
    "    d = list(map(lambda x: pd.to_datetime(x).strftime('%m-%d-%Y'), ax.get_xticks()))\n",
    "    ax.set_xticklabels(d, rotation=70)\n",
    "    ax.set_title('.'.join(df.case_id.unique()))"
   ]
  },
  {
   "cell_type": "code",
   "execution_count": null,
   "metadata": {
    "collapsed": false
   },
   "outputs": [],
   "source": [
    "metrics.df.case_client_ip.unique()"
   ]
  },
  {
   "cell_type": "code",
   "execution_count": null,
   "metadata": {
    "collapsed": false,
    "scrolled": true
   },
   "outputs": [],
   "source": [
    "fig, ax = plt.subplots(figsize=(20,10))\n",
    "plot(_data.return_longest_case_over_time(metrics.df[(metrics.df.case_endpoint.str.contains('localhost')) & \n",
    "                                            (metrics.df.case_client_ip == '10.1.178.183') & (metrics.df.passed == 1)],\n",
    "                                   aggregation), fig, ax)"
   ]
  },
  {
   "cell_type": "code",
   "execution_count": null,
   "metadata": {
    "collapsed": false
   },
   "outputs": [],
   "source": [
    "# fig, ax = plt.subplots(figsize=(20,10))\n",
    "a = _data.return_longest_case_over_time(metrics.df[metrics.df.case_endpoint.str.contains('qacombo016')], aggregation)\n",
    "b = _data.return_in_norm_df(a, 'case_duration', 1)\n",
    "len(a[b])\n",
    "a = cm.get_cmap('nipy_spectral')"
   ]
  },
  {
   "cell_type": "code",
   "execution_count": null,
   "metadata": {
    "collapsed": false,
    "scrolled": true
   },
   "outputs": [],
   "source": [
    "fig, ax = plt.subplots(figsize=(20,10))\n",
    "t = 0\n",
    "for ip in metrics.df.case_client_ip.unique():\n",
    "    if ip:\n",
    "#         print(ip)\n",
    "        plot(_data.return_longest_case_over_time(metrics.df[(metrics.df.case_endpoint.str.contains('localhost')) & \n",
    "                                                    (metrics.df.case_client_ip == ip) & (metrics.df.passed == 1)], aggregation), fig, ax)\n",
    "        t+=1"
   ]
  },
  {
   "cell_type": "code",
   "execution_count": null,
   "metadata": {
    "collapsed": false
   },
   "outputs": [],
   "source": [
    "plt.scatter(metrics.df.date_int, metrics.df.case_duration, cmap='Blues', c=range(len(metrics.df.date_int)))"
   ]
  },
  {
   "cell_type": "code",
   "execution_count": null,
   "metadata": {
    "collapsed": false
   },
   "outputs": [],
   "source": [
    "def return_mean_duration_over_time(df):\n",
    "    mean_time_v_endpoint = df.groupby('case_endpoint')\n",
    "    mean_v_endpoint = mean_duration_v_case_endpoint.agg(aggregation)"
   ]
  },
  {
   "cell_type": "code",
   "execution_count": null,
   "metadata": {
    "collapsed": false
   },
   "outputs": [],
   "source": [
    "mean_time_v_endpoint = metrics.df.groupby('case_endpoint')\n",
    "mean_v_endpoint = mean_time_v_endpoint.agg(aggregation)\n",
    "mean_v_endpoint['ticks'] = pd.Series(range(len(mean_v_endpoint.index.values)), index=mean_v_endpoint.index)"
   ]
  },
  {
   "cell_type": "code",
   "execution_count": null,
   "metadata": {
    "collapsed": false
   },
   "outputs": [],
   "source": [
    "mean_v_endpoint"
   ]
  },
  {
   "cell_type": "code",
   "execution_count": null,
   "metadata": {
    "collapsed": false,
    "scrolled": false
   },
   "outputs": [],
   "source": [
    "# mean_v_endpoint.plot('index', 'mean_duration')\n",
    "fig, ax = plt.subplots(figsize=(20,10))\n",
    "plt.scatter(range(len(mean_v_endpoint.index.values)), mean_v_endpoint.case_duration.mean_duration)\n",
    "ax.set_xticks(_graphs.create_uniform_tcks(mean_v_endpoint.index.values))\n",
    "ax.set_xticklabels(mean_v_endpoint.index.values, rotation = 70)"
   ]
  },
  {
   "cell_type": "code",
   "execution_count": null,
   "metadata": {
    "collapsed": false
   },
   "outputs": [],
   "source": [
    "len(metrics.df[metrics.df.case_client_ip == '10.1.178.201'])"
   ]
  },
  {
   "cell_type": "code",
   "execution_count": null,
   "metadata": {
    "collapsed": false
   },
   "outputs": [],
   "source": [
    "(len(metrics.df) - len(metrics.df[metrics.df.case_timestamp.isnull()])) / len(metrics.df)"
   ]
  },
  {
   "cell_type": "code",
   "execution_count": null,
   "metadata": {
    "collapsed": false
   },
   "outputs": [],
   "source": [
    "metrics.df.columns"
   ]
  },
  {
   "cell_type": "code",
   "execution_count": null,
   "metadata": {
    "collapsed": false
   },
   "outputs": [],
   "source": [
    "metrics.df.case_service_name.unique()"
   ]
  },
  {
   "cell_type": "code",
   "execution_count": null,
   "metadata": {
    "collapsed": true
   },
   "outputs": [],
   "source": [
    "count_agg = {\n",
    "    'scenario_uuid' : {\n",
    "        'count': 'count'\n",
    "    }\n",
    "}"
   ]
  },
  {
   "cell_type": "markdown",
   "metadata": {},
   "source": [
    " ### USE THIS!  \n",
    "``index.get_level_values('index_name')``"
   ]
  },
  {
   "cell_type": "code",
   "execution_count": null,
   "metadata": {
    "collapsed": true
   },
   "outputs": [],
   "source": [
    "def _get_case_count_by_service(df):\n",
    "    service_names = df.case_service_name.unique()\n",
    "    count_frame = df.groupby(['case_service_name', 'group_uuid']).agg({'scenario_uuid' : {'count': 'count'}})\n",
    "    service_v_count = {}\n",
    "    for service in service_names:\n",
    "        serv_frame = count_frame.loc[service]\n",
    "        max_scenario_uuid = serv_frame.scenario_uuid.max()\n",
    "        largest_guiid = serv_frame.scenario_uuid[serv_frame.scenario_uuid == max_scenario_uuid].dropna().index.values\n",
    "        largest_run = df[df.group_uuid ==  largest_guiid[0]]\n",
    "        full_name = largest_run.case_service_name.str.cat(largest_run.case_id, sep='_')\n",
    "        case_count = len(full_name.unique())\n",
    "        service_v_count[service] = case_count\n",
    "    return service_v_count"
   ]
  },
  {
   "cell_type": "markdown",
   "metadata": {},
   "source": [
    " use ``get_case_list_by_group``, then ``str.cat`` on service_name + case_id, then can use  ``.isin(group_case_list[group])`` to get defs by group"
   ]
  },
  {
   "cell_type": "code",
   "execution_count": null,
   "metadata": {
    "collapsed": false
   },
   "outputs": [],
   "source": [
    "def get_case_list_by_group(config):\n",
    "#     Identity = namedtuple('Identity', ['service', 'id'])\n",
    "    groups = config.get('groups')\n",
    "    full_case_lists = {}\n",
    "    for group_name, group in groups.items():\n",
    "        cases = group['cases']\n",
    "        if group.get('dependencies'):\n",
    "            for dep in group.get('dependencies'):\n",
    "                dependencies_tests = groups.get(dep).get('cases')\n",
    "                cases +=  dependencies_tests\n",
    "        full_case_lists[group_name] = cases\n",
    "    return full_case_lists"
   ]
  },
  {
   "cell_type": "code",
   "execution_count": null,
   "metadata": {
    "collapsed": true
   },
   "outputs": [],
   "source": [
    "import json\n",
    "with open('config.json', 'rb') as in_file:\n",
    "    config = json.loads(in_file.read().decode())"
   ]
  },
  {
   "cell_type": "code",
   "execution_count": null,
   "metadata": {
    "collapsed": false
   },
   "outputs": [],
   "source": [
    "# def get_case_count_by_config(df, config):\n",
    "#     group_case_list = get_case_list_by_group(config)\n",
    "    # this may not be necessary as the you could just do\n",
    "    #a .isin(group_case_list[group]) to get what you need. (and a .str.cat on service_name + case_id)"
   ]
  },
  {
   "cell_type": "code",
   "execution_count": null,
   "metadata": {
    "collapsed": false
   },
   "outputs": [],
   "source": [
    "_get_case_count_by_service(metrics.df)"
   ]
  },
  {
   "cell_type": "code",
   "execution_count": null,
   "metadata": {
    "collapsed": false
   },
   "outputs": [],
   "source": [
    "count_frame = metrics.df.groupby(['case_service_name', 'group_uuid']).agg(count_agg)"
   ]
  },
  {
   "cell_type": "code",
   "execution_count": null,
   "metadata": {
    "collapsed": false
   },
   "outputs": [],
   "source": [
    "bolt = count_frame.loc['BOLTServicesBranch']"
   ]
  },
  {
   "cell_type": "code",
   "execution_count": null,
   "metadata": {
    "collapsed": false,
    "scrolled": true
   },
   "outputs": [],
   "source": [
    "biggest_guiid = bolt.scenario_uuid[bolt.scenario_uuid == bolt.scenario_uuid.max()].dropna().index[0]"
   ]
  },
  {
   "cell_type": "code",
   "execution_count": null,
   "metadata": {
    "collapsed": false
   },
   "outputs": [],
   "source": [
    "metrics.df[metrics.df.group_uuid == biggest_guiid].case_id.unique()"
   ]
  },
  {
   "cell_type": "code",
   "execution_count": null,
   "metadata": {
    "collapsed": false
   },
   "outputs": [],
   "source": [
    "count_frame.loc['BOLTServicesBranch'].scenario_uuid.describe().max().values"
   ]
  },
  {
   "cell_type": "code",
   "execution_count": null,
   "metadata": {
    "collapsed": false
   },
   "outputs": [],
   "source": [
    "count_frame.loc['BOLTServicesBranch'].scenario_uuid.max()"
   ]
  },
  {
   "cell_type": "code",
   "execution_count": null,
   "metadata": {
    "collapsed": false
   },
   "outputs": [],
   "source": [
    "count_frame.loc['BOLTServicesBranch'].scenario_uuid[count_frame.loc['BOLTServicesBranch'].scenario_uuid ==6276].dropna().index.values"
   ]
  },
  {
   "cell_type": "code",
   "execution_count": 17,
   "metadata": {
    "collapsed": false
   },
   "outputs": [
    {
     "data": {
      "text/plain": [
       "<function expd_analytics._data.this_month>"
      ]
     },
     "execution_count": 17,
     "metadata": {},
     "output_type": "execute_result"
    }
   ],
   "source": [
    "_data.this_month"
   ]
  },
  {
   "cell_type": "code",
   "execution_count": 23,
   "metadata": {
    "collapsed": false
   },
   "outputs": [
    {
     "ename": "AttributeError",
     "evalue": "'TestResult' object has no attribute 'this_month'",
     "traceback": [
      "\u001b[1;31m---------------------------------------------------------------------------\u001b[0m",
      "\u001b[1;31mAttributeError\u001b[0m                            Traceback (most recent call last)",
      "\u001b[1;32m<ipython-input-23-e76f219ba7bb>\u001b[0m in \u001b[0;36m<module>\u001b[1;34m()\u001b[0m\n\u001b[1;32m----> 1\u001b[1;33m \u001b[0mmetrics\u001b[0m\u001b[1;33m.\u001b[0m\u001b[0mthis_month\u001b[0m\u001b[1;33m\u001b[0m\u001b[0m\n\u001b[0m",
      "\u001b[1;31mAttributeError\u001b[0m: 'TestResult' object has no attribute 'this_month'"
     ],
     "output_type": "error"
    }
   ],
   "source": [
    ""
   ]
  },
  {
   "cell_type": "code",
   "execution_count": null,
   "metadata": {
    "collapsed": true
   },
   "outputs": [],
   "source": [
    ""
   ]
  }
 ],
 "metadata": {
  "kernelspec": {
   "display_name": "Python 3",
   "language": "python",
   "name": "python3"
  },
  "language_info": {
   "codemirror_mode": {
    "name": "ipython",
    "version": 3.0
   },
   "file_extension": ".py",
   "mimetype": "text/x-python",
   "name": "python",
   "nbconvert_exporter": "python",
   "pygments_lexer": "ipython3",
   "version": "3.5.1"
  }
 },
 "nbformat": 4,
 "nbformat_minor": 0
}